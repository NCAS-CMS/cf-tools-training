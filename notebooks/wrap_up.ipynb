{
 "cells": [
  {
   "cell_type": "markdown",
   "metadata": {},
   "source": [
    "# Wrap up"
   ]
  },
  {
   "cell_type": "markdown",
   "metadata": {},
   "source": [
    "## Other Python packages you might be interested in:\n",
    "\n",
    "\n",
    "## CIS - Community Intercomparison suite\n",
    "\n",
    "## Iris - Met Office Python library for Meteorology and Climatology\n",
    "\n",
    "## matplotlib - Python plotting package\n",
    "\n",
    "## cartopy - map transform library\n",
    "\n",
    "## numpy - the fundamental package for scientific computing with Python\n",
    "\n",
    "## Pandas -  makes working with “relational” or “labeled” data both easy and intuitive\n",
    "\n",
    "## scipy -  user-friendly and efficient numerical routines \n",
    "\n",
    "## xarray - N-D labeled arrays and datasets in Python\n",
    "\n",
    "\n",
    "\n",
    "\n",
    "\n",
    "\n"
   ]
  },
  {
   "cell_type": "code",
   "execution_count": null,
   "metadata": {
    "collapsed": true
   },
   "outputs": [],
   "source": [
    "\n"
   ]
  },
  {
   "cell_type": "markdown",
   "metadata": {},
   "source": [
    "# Running and installing"
   ]
  },
  {
   "cell_type": "markdown",
   "metadata": {
    "collapsed": true
   },
   "source": [
    "\n",
    "\n",
    "\n",
    "# Jasmin\n",
    "## export PATH=/home/users/ajh/anaconda3/bin:$PATH"
   ]
  },
  {
   "cell_type": "code",
   "execution_count": null,
   "metadata": {},
   "outputs": [],
   "source": []
  },
  {
   "cell_type": "markdown",
   "metadata": {},
   "source": [
    "\n",
    "\n",
    "\n",
    "\n",
    "# Archer\n",
    "\n",
    "## export PATH=/home/n02/n02/ajh/anaconda3/bin:$PATH"
   ]
  },
  {
   "cell_type": "code",
   "execution_count": null,
   "metadata": {},
   "outputs": [],
   "source": []
  },
  {
   "cell_type": "markdown",
   "metadata": {},
   "source": [
    "\n",
    "\n",
    "\n",
    "# Reading Academic Computing Cluster - cluster.act.rdg.ac.uk.\n",
    "## module load ncas_anaconda3"
   ]
  },
  {
   "cell_type": "code",
   "execution_count": null,
   "metadata": {
    "collapsed": true
   },
   "outputs": [],
   "source": []
  },
  {
   "cell_type": "markdown",
   "metadata": {},
   "source": [
    "\n",
    "\n",
    "# On your Linux or Mac laptop: \n",
    "# Download and install miniconda 3.7\n",
    "## On the command line type:\n",
    "## conda install -c ncas -c conda-forge cf-python cf-plot udunits2\n",
    "## conda install -c conda-forge mpich esmpy"
   ]
  },
  {
   "cell_type": "code",
   "execution_count": null,
   "metadata": {
    "collapsed": true
   },
   "outputs": [],
   "source": []
  },
  {
   "cell_type": "markdown",
   "metadata": {},
   "source": [
    "\n",
    "\n",
    "\n",
    "\n",
    "# Windows\n",
    "## Install the Microsoft Windows Subsystem for Linux (WSL)\n",
    "## Once this is working install cf-python and cf-plot as per the Linux/Mac instructions above.\n",
    "\n"
   ]
  },
  {
   "cell_type": "code",
   "execution_count": null,
   "metadata": {
    "collapsed": true
   },
   "outputs": [],
   "source": [
    "\n",
    "\n",
    "\n",
    "\n"
   ]
  },
  {
   "cell_type": "markdown",
   "metadata": {},
   "source": [
    "# Any questions to:\n",
    "\n",
    "# cf-python: David Hassell david.hassell@ncas.ac.uk\n",
    "\n",
    "# regridding: Sadie Bartholomew sadie.bartholomew@ncas.ac.uk\n",
    "\n",
    "# cf-plot: Andy Heaps andy.heaps@ncas.ac.uk"
   ]
  },
  {
   "cell_type": "code",
   "execution_count": null,
   "metadata": {
    "collapsed": true
   },
   "outputs": [],
   "source": []
  }
 ],
 "metadata": {
  "anaconda-cloud": {},
  "kernelspec": {
   "display_name": "Python 3",
   "language": "python",
   "name": "python3"
  },
  "language_info": {
   "codemirror_mode": {
    "name": "ipython",
    "version": 3
   },
   "file_extension": ".py",
   "mimetype": "text/x-python",
   "name": "python",
   "nbconvert_exporter": "python",
   "pygments_lexer": "ipython3",
   "version": "3.7.4"
  }
 },
 "nbformat": 4,
 "nbformat_minor": 1
}
