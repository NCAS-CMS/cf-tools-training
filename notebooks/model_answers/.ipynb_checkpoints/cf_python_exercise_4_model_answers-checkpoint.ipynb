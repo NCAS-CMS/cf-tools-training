{
 "cells": [
  {
   "cell_type": "markdown",
   "metadata": {},
   "source": [
    "# cf-python exercises 4\n",
    "----\n",
    "\n",
    "## Assignment by condition\n",
    "https://ncas-cms.github.io/cf-python/tutorial.html#assignment-by-condition"
   ]
  },
  {
   "cell_type": "code",
   "execution_count": null,
   "metadata": {},
   "outputs": [],
   "source": [
    "# import the cf package\n",
    "import cf"
   ]
  },
  {
   "cell_type": "code",
   "execution_count": null,
   "metadata": {},
   "outputs": [],
   "source": [
    "# Read the field from file ncas_data/IPSL-CM5A-LR_r1i1p1_tas_n96_rcp45_mnth.nc\n",
    "f = cf.read('ncas_data/IPSL-CM5A-LR_r1i1p1_tas_n96_rcp45_mnth.nc')[0]\n",
    "f"
   ]
  },
  {
   "cell_type": "code",
   "execution_count": null,
   "metadata": {},
   "outputs": [],
   "source": [
    "# Find the units of the field\n",
    "# (use the field's \"units\" attribute)\n",
    "print(f.units)"
   ]
  },
  {
   "cell_type": "markdown",
   "metadata": {},
   "source": [
    "https://ncas-cms.github.io/cf-python/method/cf.Field.where.html\n",
    "\n",
    "https://ncas-cms.github.io/cf-python/constant.html"
   ]
  },
  {
   "cell_type": "code",
   "execution_count": null,
   "metadata": {},
   "outputs": [],
   "source": [
    "# Mask the field where it's values are less than 273.15 Kelvin\n",
    "# (use the field's \"where\" method, with a condition defined by a\n",
    "#  cf.lt query, and choose set missing values by specifying cf.masked for\n",
    "#  the second argument)\n",
    "g = f.where(cf.lt(273.15), cf.masked)"
   ]
  },
  {
   "cell_type": "markdown",
   "metadata": {},
   "source": [
    "https://ncas-cms.github.io/cf-python/method/cf.Field.count.html"
   ]
  },
  {
   "cell_type": "code",
   "execution_count": null,
   "metadata": {},
   "outputs": [],
   "source": [
    "# Find the number of un-masked points in the original and masked fields\n",
    "# (use the \"count\" method of the fields)\n",
    "print(f.count())\n",
    "print(g.count())"
   ]
  },
  {
   "cell_type": "code",
   "execution_count": null,
   "metadata": {},
   "outputs": [],
   "source": [
    "# Set up inline images and import cf-plot \n",
    "%matplotlib inline\n",
    "\n",
    "import cfplot as cfp"
   ]
  },
  {
   "cell_type": "code",
   "execution_count": null,
   "metadata": {
    "scrolled": true
   },
   "outputs": [],
   "source": [
    "# Plot the first timeslice of the original and masked fields\n",
    "# (use cfp.con)\n",
    "cfp.con(f[0])\n",
    "cfp.con(g[0])"
   ]
  },
  {
   "cell_type": "markdown",
   "metadata": {},
   "source": [
    "https://ncas-cms.github.io/cf-python/method/cf.Field.copy.html"
   ]
  },
  {
   "cell_type": "code",
   "execution_count": null,
   "metadata": {},
   "outputs": [],
   "source": [
    "# Copy the original field and convert its units to degrees Celcius\n",
    "# Use the field's \"copy\" method)\n",
    "c = f.copy()\n",
    "c.units = 'degC'"
   ]
  },
  {
   "cell_type": "code",
   "execution_count": null,
   "metadata": {},
   "outputs": [],
   "source": [
    "# Mask the original field where the \"celcius\" field is less than zero\n",
    "# (define the condition of the \"where\" method as c<0, where c is the celcius field created above)\n",
    "h = f.where(c<0, cf.masked)"
   ]
  },
  {
   "cell_type": "code",
   "execution_count": null,
   "metadata": {},
   "outputs": [],
   "source": [
    "# Check that the two methods of masking give the same result\n",
    "# (use the field's \"equals\" method)\n",
    "h.equals(g)"
   ]
  },
  {
   "cell_type": "markdown",
   "metadata": {},
   "source": [
    "https://ncas-cms.github.io/cf-python/function/cf.wo.html"
   ]
  },
  {
   "cell_type": "code",
   "execution_count": null,
   "metadata": {},
   "outputs": [],
   "source": [
    "# Create the same masked field using the \"where\" method\n",
    "# (use the \"construct\" keyword to the field's \"where\" method to indicate that the condition\n",
    "#  is to be applied to particular coordinates rather than the field's array values)\n",
    "h = f.where(cf.wo(-30, 30), cf.masked, construct='latitude')\n",
    "print(h)\n",
    "cfp.con(h[0])"
   ]
  },
  {
   "cell_type": "markdown",
   "metadata": {},
   "source": [
    "https://ncas-cms.github.io/cf-python/method/cf.Field.indices.html"
   ]
  },
  {
   "cell_type": "code",
   "execution_count": null,
   "metadata": {},
   "outputs": [],
   "source": [
    "# Create the same masked field without using the \"where \"method:\n",
    "# Mask the original field at all points outside of the tropics by finding the data indices to mask and \n",
    "# assigning them to missing data.\n",
    "# Find the required indices with the field's \"indices\" method and the \"cf.wo\" function to find locations\n",
    "# without (i.e. outside of) a range. Then use indexed assignment to those indices.\n",
    "indices = f.indices(latitude=cf.wo(-30, 30))\n",
    "print(indices)\n",
    "g = f.copy()\n",
    "g[indices] = cf.masked\n",
    "cfp.con(g[0])"
   ]
  },
  {
   "cell_type": "markdown",
   "metadata": {},
   "source": [
    "https://ncas-cms.github.io/cf-python/method/cf.Field.equals.html"
   ]
  },
  {
   "cell_type": "code",
   "execution_count": null,
   "metadata": {},
   "outputs": [],
   "source": [
    "# Check that the two methods give the same result\n",
    "# (use the \"equals\" method)\n",
    "h.equals(g)"
   ]
  },
  {
   "cell_type": "code",
   "execution_count": null,
   "metadata": {},
   "outputs": [],
   "source": [
    "# Plot the field that is masked outside of the tropics\n",
    "cfp.con(g[0])"
   ]
  },
  {
   "cell_type": "code",
   "execution_count": null,
   "metadata": {},
   "outputs": [],
   "source": [
    "# Mask the original data where it is less than its time average\n",
    "# (use the python < comparison operator between two fields to create a condition\n",
    "#  describing where the field is less than its mean)\n",
    "t_mean = f.collapse('T: mean')\n",
    "g = f.where(f<t_mean, cf.masked)\n",
    "print(g)"
   ]
  },
  {
   "cell_type": "code",
   "execution_count": null,
   "metadata": {
    "scrolled": true
   },
   "outputs": [],
   "source": [
    "# Plot where the last timeslice is less than the temporal average\n",
    "# (use cfp.con)\n",
    "cfp.con(g.subspace[-1])"
   ]
  }
 ],
 "metadata": {
  "anaconda-cloud": {},
  "kernelspec": {
   "display_name": "Python 3",
   "language": "python",
   "name": "python3"
  },
  "language_info": {
   "codemirror_mode": {
    "name": "ipython",
    "version": 3
   },
   "file_extension": ".py",
   "mimetype": "text/x-python",
   "name": "python",
   "nbconvert_exporter": "python",
   "pygments_lexer": "ipython3",
   "version": "3.7.4"
  }
 },
 "nbformat": 4,
 "nbformat_minor": 2
}
