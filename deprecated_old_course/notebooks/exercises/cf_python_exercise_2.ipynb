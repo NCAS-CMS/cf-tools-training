{
 "cells": [
  {
   "cell_type": "markdown",
   "metadata": {},
   "source": [
    "# cf-python exercises 2\n",
    "----\n",
    "## Subspaces and coordinates"
   ]
  },
  {
   "cell_type": "code",
   "execution_count": null,
   "metadata": {},
   "outputs": [],
   "source": [
    "# import the cf package\n"
   ]
  },
  {
   "cell_type": "markdown",
   "metadata": {},
   "source": [
    "https://ncas-cms.github.io/cf-python/function/cf.read.html"
   ]
  },
  {
   "cell_type": "code",
   "execution_count": null,
   "metadata": {},
   "outputs": [],
   "source": [
    "# Read the field from file ncas_data/IPSL-CM5A-LR_r1i1p1_tas_n96_rcp45_mnth.nc\n"
   ]
  },
  {
   "cell_type": "markdown",
   "metadata": {},
   "source": [
    "## Subspace by indices\n",
    "https://ncas-cms.github.io/cf-python/tutorial.html#subspacing-by-index"
   ]
  },
  {
   "cell_type": "code",
   "execution_count": null,
   "metadata": {},
   "outputs": [],
   "source": [
    "# Create a new field containing the X-Y field for just the first time\n",
    "# (use the field's \"subspace\" method with square brackets and put\n",
    "#  index 0 in the time axis position)\n"
   ]
  },
  {
   "cell_type": "code",
   "execution_count": null,
   "metadata": {},
   "outputs": [],
   "source": [
    "# Set up in-line images and import cf-plot\n"
   ]
  },
  {
   "cell_type": "code",
   "execution_count": null,
   "metadata": {},
   "outputs": [],
   "source": [
    "# Plot the 2-d X-Y field\n",
    "# (use the cfp.con function of cfplot)\n"
   ]
  },
  {
   "cell_type": "code",
   "execution_count": null,
   "metadata": {},
   "outputs": [],
   "source": [
    "# Create a new field containing the X-Y field for just the last time\n",
    "# (use the index -1 in the time axis position)\n"
   ]
  },
  {
   "cell_type": "code",
   "execution_count": null,
   "metadata": {},
   "outputs": [],
   "source": [
    "# Create a new field containing with the first 10 latitude rows\n",
    "# (use the index : in the time position and the index 0:10 the latitude axis position)\n"
   ]
  },
  {
   "cell_type": "code",
   "execution_count": null,
   "metadata": {},
   "outputs": [],
   "source": [
    "# Create a new field omitting the first time\n",
    "# (use the index 1: in the time axis position)\n"
   ]
  },
  {
   "cell_type": "markdown",
   "metadata": {},
   "source": [
    "## Subspace by date-time\n",
    "https://ncas-cms.github.io/cf-python/tutorial.html#susbaces-in-time\n",
    "\n",
    "https://ncas-cms.github.io/cf-python/function/cf.month.html"
   ]
  },
  {
   "cell_type": "code",
   "execution_count": null,
   "metadata": {},
   "outputs": [],
   "source": [
    "# Create a new field containing just the months of February\n",
    "# (use field's \"subspace\" method with round brackets and use the cf.month function\n",
    "#  to define February as month 2)\n"
   ]
  },
  {
   "cell_type": "markdown",
   "metadata": {},
   "source": [
    "https://ncas-cms.github.io/cf-python/method/cf.Field.coordinate.html"
   ]
  },
  {
   "cell_type": "code",
   "execution_count": null,
   "metadata": {},
   "outputs": [],
   "source": [
    "# Get the coordinates of the new field and print the coordinate object\n",
    "# (pass the string 'T' to the field's \"coordinate\" method and display the result)\n"
   ]
  },
  {
   "cell_type": "markdown",
   "metadata": {},
   "source": [
    "https://ncas-cms.github.io/cf-python/attribute/cf.DimensionCoordinate.units.html\n",
    "\n",
    "https://ncas-cms.github.io/cf-python/attribute/cf.DimensionCoordinate.array.html"
   ]
  },
  {
   "cell_type": "code",
   "execution_count": null,
   "metadata": {},
   "outputs": [],
   "source": [
    "# Print the time coordinate values and their units\n",
    "# (use the coordinate object's \"units\" and \"array\" attributes)\n"
   ]
  },
  {
   "cell_type": "markdown",
   "metadata": {},
   "source": [
    "https://ncas-cms.github.io/cf-python/attribute/cf.DimensionCoordinate.datetime_array.html"
   ]
  },
  {
   "cell_type": "code",
   "execution_count": null,
   "metadata": {},
   "outputs": [],
   "source": [
    "# Print the time coordinate values as date-times, rather than days since a reference time\n",
    "# (use the coordinate object's \"datetime_array\" attribute)\n"
   ]
  },
  {
   "cell_type": "markdown",
   "metadata": {},
   "source": [
    "https://ncas-cms.github.io/cf-python/attribute/cf.DimensionCoordinate.bounds.html"
   ]
  },
  {
   "cell_type": "code",
   "execution_count": null,
   "metadata": {},
   "outputs": [],
   "source": [
    "# Print the time coordinates' cell bounds\n",
    "# (uget the bounds from the coordinate object's \"bounds\" attribute, and\n",
    "#  print the \"datetime_array\" attribute of the bounds)\n"
   ]
  },
  {
   "cell_type": "code",
   "execution_count": null,
   "metadata": {},
   "outputs": [],
   "source": [
    "# Create a new field that containing the months of February to April\n",
    "# (use the cf.wi function to define a range of months (2 to 4) and pass this as the\n",
    "#  argument to the cf.month function)\n"
   ]
  },
  {
   "cell_type": "code",
   "execution_count": null,
   "metadata": {},
   "outputs": [],
   "source": [
    "# Check its time coordinate values\n"
   ]
  },
  {
   "cell_type": "code",
   "execution_count": null,
   "metadata": {},
   "outputs": [],
   "source": [
    "# Print the time coordinates of a new field that containing only the months of February and November\n",
    "# (connect two cf.month calls with |, the python \"bitwise or\" character)\n"
   ]
  },
  {
   "cell_type": "markdown",
   "metadata": {},
   "source": [
    "https://ncas-cms.github.io/cf-python/function/cf.dt.html"
   ]
  },
  {
   "cell_type": "code",
   "execution_count": null,
   "metadata": {},
   "outputs": [],
   "source": [
    "# Create a new field that containing only the time 1965-12-16 12:00\n",
    "# (use the cf.dt function to define the required date-time)\n"
   ]
  },
  {
   "cell_type": "markdown",
   "metadata": {},
   "source": [
    "https://ncas-cms.github.io/cf-python/function/cf.ge.html"
   ]
  },
  {
   "cell_type": "code",
   "execution_count": null,
   "metadata": {},
   "outputs": [],
   "source": [
    "# Create a new field that containing only all times after or including 1965-12-1\n",
    "# (use the cf.dt function inside the cf.ge function)\n"
   ]
  },
  {
   "cell_type": "markdown",
   "metadata": {},
   "source": [
    "https://ncas-cms.github.io/cf-python/attribute/cf.DimensionCoordinate.year.html"
   ]
  },
  {
   "cell_type": "code",
   "execution_count": null,
   "metadata": {},
   "outputs": [],
   "source": [
    "# Find years of each time coordinate value \n",
    "# (print the \"array\" of the coordinate object's \"year\" attribute)\n"
   ]
  },
  {
   "cell_type": "markdown",
   "metadata": {},
   "source": [
    "https://ncas-cms.github.io/cf-python/attribute/cf.DimensionCoordinate.day.html"
   ]
  },
  {
   "cell_type": "code",
   "execution_count": null,
   "metadata": {},
   "outputs": [],
   "source": [
    "# Find all of the days of the month of each time coordinate\n",
    "# (print the array of the coordinate object's \"day\" attribute)\n"
   ]
  }
 ],
 "metadata": {
  "anaconda-cloud": {},
  "kernelspec": {
   "display_name": "Python 3",
   "language": "python",
   "name": "python3"
  },
  "language_info": {
   "codemirror_mode": {
    "name": "ipython",
    "version": 3
   },
   "file_extension": ".py",
   "mimetype": "text/x-python",
   "name": "python",
   "nbconvert_exporter": "python",
   "pygments_lexer": "ipython3",
   "version": "3.7.4"
  }
 },
 "nbformat": 4,
 "nbformat_minor": 2
}
