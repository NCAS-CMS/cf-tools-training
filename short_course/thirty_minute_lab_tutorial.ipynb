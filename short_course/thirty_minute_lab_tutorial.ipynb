{
 "cells": [
  {
   "cell_type": "markdown",
   "metadata": {},
   "source": [
    "# CF-netCDF with cfdm, cf-python & cf-plot: lab tutorial\n",
    "\n",
    "Presented at the 2020 *ESiWACE Summer School on Effective HPC for Climate and Weather* (*Storage* -> *Input/Output and Middleware* session)\n",
    "\n",
    "----"
   ]
  },
  {
   "cell_type": "markdown",
   "metadata": {},
   "source": [
    "## A ~30 minute demonstration of the application to CF-netCDF of three inter-related Python libraries underpinned by [the CF data model](https://gmd.copernicus.org/articles/10/4619/2017/): [cfdm](https://ncas-cms.github.io/cfdm/), [cf-python](https://ncas-cms.github.io/cf-python/) & [cf-plot](http://ajheaps.github.io/cf-plot/).\n",
    "\n",
    "\n",
    "#### Note that this tutorial:\n",
    "\n",
    "* #### is *complementary* to the material covered in the 'one-hour summary' Notebook. There is some necessary overlap (reading in files, basic plotting, etc.) but for the most part this tutorial covers new ground, demonstrating further functionalities of the toolset;\n",
    "* #### is *self-contained*, so can productively be completed without having seen the 'one-hour summary', but *ideally* this tutorial should be attempted *after* covering the 'one-hour summary', which is more detailed; &\n",
    "* #### covers *only* use of the data tools with *netCDF (`.nc`) datasets*, when these tools are also capable of processing other data formats."
   ]
  },
  {
   "cell_type": "markdown",
   "metadata": {},
   "source": [
    "## Learning objectives:\n",
    "\n",
    "### Four segments (~5-10 minutes each) demonstrating many (but by no means all!) capabilities of the tools:\n",
    "\n",
    "1. **Creating & plotting masked data**: conditional modification of data & visualising data with a mask created by condition.\n",
    "2. **Further statistical collapses**: grouped collapses & multi-step collapses on climatological time.\n",
    "3. **Further sub-spacing**: sub-spacing by index & by datetime.\n",
    "4. **Manual construct creation & further regridding**: regridding with constructed coordinates."
   ]
  },
  {
   "cell_type": "markdown",
   "metadata": {},
   "source": [
    "----\n",
    "\n",
    "## 0. Setup"
   ]
  },
  {
   "cell_type": "code",
   "execution_count": null,
   "metadata": {},
   "outputs": [],
   "source": []
  },
  {
   "cell_type": "markdown",
   "metadata": {},
   "source": [
    "text"
   ]
  },
  {
   "cell_type": "code",
   "execution_count": null,
   "metadata": {},
   "outputs": [],
   "source": []
  },
  {
   "cell_type": "markdown",
   "metadata": {},
   "source": [
    "text"
   ]
  },
  {
   "cell_type": "code",
   "execution_count": null,
   "metadata": {},
   "outputs": [],
   "source": []
  },
  {
   "cell_type": "markdown",
   "metadata": {},
   "source": [
    "text"
   ]
  },
  {
   "cell_type": "markdown",
   "metadata": {},
   "source": [
    "----\n",
    "\n",
    "## 1. Creating & plotting masked data\n",
    "\n",
    "### Conditional modification of data & visualising data with a mask created by condition"
   ]
  },
  {
   "cell_type": "code",
   "execution_count": null,
   "metadata": {},
   "outputs": [],
   "source": []
  },
  {
   "cell_type": "markdown",
   "metadata": {},
   "source": [
    "text"
   ]
  },
  {
   "cell_type": "code",
   "execution_count": null,
   "metadata": {},
   "outputs": [],
   "source": []
  },
  {
   "cell_type": "markdown",
   "metadata": {},
   "source": [
    "text"
   ]
  },
  {
   "cell_type": "code",
   "execution_count": null,
   "metadata": {},
   "outputs": [],
   "source": []
  },
  {
   "cell_type": "markdown",
   "metadata": {},
   "source": [
    "text"
   ]
  },
  {
   "cell_type": "markdown",
   "metadata": {},
   "source": [
    "----\n",
    "\n",
    "## 2. Further statistical collapses\n",
    "\n",
    "### Grouped collapses & multi-step collapses on climatological time"
   ]
  },
  {
   "cell_type": "code",
   "execution_count": null,
   "metadata": {},
   "outputs": [],
   "source": []
  },
  {
   "cell_type": "markdown",
   "metadata": {},
   "source": [
    "text"
   ]
  },
  {
   "cell_type": "code",
   "execution_count": null,
   "metadata": {},
   "outputs": [],
   "source": []
  },
  {
   "cell_type": "markdown",
   "metadata": {},
   "source": [
    "text"
   ]
  },
  {
   "cell_type": "code",
   "execution_count": null,
   "metadata": {},
   "outputs": [],
   "source": []
  },
  {
   "cell_type": "markdown",
   "metadata": {},
   "source": [
    "text"
   ]
  },
  {
   "cell_type": "markdown",
   "metadata": {},
   "source": [
    "----\n",
    "\n",
    "## 3. Further sub-spacing\n",
    "\n",
    "### Sub-spacing by index & by datetime"
   ]
  },
  {
   "cell_type": "code",
   "execution_count": null,
   "metadata": {},
   "outputs": [],
   "source": []
  },
  {
   "cell_type": "markdown",
   "metadata": {},
   "source": [
    "text"
   ]
  },
  {
   "cell_type": "code",
   "execution_count": null,
   "metadata": {},
   "outputs": [],
   "source": []
  },
  {
   "cell_type": "markdown",
   "metadata": {},
   "source": [
    "text"
   ]
  },
  {
   "cell_type": "code",
   "execution_count": null,
   "metadata": {},
   "outputs": [],
   "source": []
  },
  {
   "cell_type": "markdown",
   "metadata": {},
   "source": [
    "text"
   ]
  },
  {
   "cell_type": "markdown",
   "metadata": {},
   "source": [
    "----\n",
    "\n",
    "## 4. Manual construct creation & further regridding\n",
    "\n",
    "### Regridding with constructed coordinates"
   ]
  },
  {
   "cell_type": "code",
   "execution_count": null,
   "metadata": {},
   "outputs": [],
   "source": []
  },
  {
   "cell_type": "markdown",
   "metadata": {},
   "source": [
    "text"
   ]
  },
  {
   "cell_type": "code",
   "execution_count": null,
   "metadata": {},
   "outputs": [],
   "source": []
  },
  {
   "cell_type": "markdown",
   "metadata": {},
   "source": [
    "text"
   ]
  },
  {
   "cell_type": "code",
   "execution_count": null,
   "metadata": {},
   "outputs": [],
   "source": []
  },
  {
   "cell_type": "markdown",
   "metadata": {},
   "source": [
    "text"
   ]
  },
  {
   "cell_type": "markdown",
   "metadata": {},
   "source": [
    "----\n",
    "\n",
    "## Further study, resources & support\n",
    "\n",
    "### There are various sources of further material to work through, should you like to explore further:\n",
    "\n",
    "* our **full (day-long) training course material, including exercises with model answers**: under the `full_course` directory of https://github.com/NCAS-CMS/cf-training; please first read through the guidance in the README (at the foot of the repository, as linked) explaining setup requirements and the best order to work through the material;\n",
    "* a **one-hour summary Jupyter Notebook** (exactly as used for the walk-through in the academic talk session of the 2020 ESiWACE Summer School on Effective HPC for Climate and Weather): https://github.com/NCAS-CMS/cf-training/blob/master/short_course/one_hour_summary.ipynb;\n",
    "* **extensive tutorial for cfdm** in the documentation: https://ncas-cms.github.io/cfdm/tutorial.html;\n",
    "* **extensive tutorial for cf-python** in the documentation: https://ncas-cms.github.io/cf-python/tutorial.html.\n",
    "\n",
    "\n",
    "### For further information and resources, please consult the documentation*:\n",
    "\n",
    "\\*also hyperlinked on the library names at the top of the Notebook\n",
    "\n",
    "* cfdm (`cfdm`): https://ncas-cms.github.io/cfdm/;\n",
    "* cf-python (`cf`): https://ncas-cms.github.io/cf-python/;\n",
    "* cf-plot: http://ajheaps.github.io/cf-plot/.\n",
    "\n",
    "\n",
    "### Otherwise, for questions, or advice on potential bugs or feature requests etc., please email sadie.bartholomew@ncas.ac.uk. Thanks!\n",
    "\n",
    "----"
   ]
  }
 ],
 "metadata": {
  "kernelspec": {
   "display_name": "Python 3",
   "language": "python",
   "name": "python3"
  },
  "language_info": {
   "codemirror_mode": {
    "name": "ipython",
    "version": 3
   },
   "file_extension": ".py",
   "mimetype": "text/x-python",
   "name": "python",
   "nbconvert_exporter": "python",
   "pygments_lexer": "ipython3",
   "version": "3.7.6"
  }
 },
 "nbformat": 4,
 "nbformat_minor": 4
}
