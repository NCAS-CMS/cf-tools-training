{
 "cells": [
  {
   "cell_type": "markdown",
   "metadata": {},
   "source": [
    "# CF-netCDF with cfdm, cf-python and cf-plot: a one-hour summary\n",
    "\n",
    "----"
   ]
  },
  {
   "cell_type": "markdown",
   "metadata": {},
   "source": [
    "## A ~1 hour illustration of the basic functionality of three inter-related Python libraries\\* underpinned by [the CF data model](https://gmd.copernicus.org/articles/10/4619/2017/) for working with CF-netCDF.\n",
    "\n",
    "\\* these data tools are developed & maintained by the [CMS team](https://www.ncas.ac.uk/en/cms) of the National Centre for Atmospheric Science (NCAS)\n",
    "\n",
    "A recap of the data tools and their respective scopes are:\n",
    "\n",
    "* #### [cfdm](https://ncas-cms.github.io/cfdm/) (`cfdm` module): reference implementation of the CF data model with mostly only the functionality required to read and write datasets, and to create, modify and inspect field constructs in memory;\n",
    "* #### [cf-python](https://ncas-cms.github.io/cf-python/) (`cf`): CF-compliant geoscientific data analysis library which builds upon `cfdm` to provide much higher-level functionality, for example statistical operations, collapsing, subspacing, and regridding;\n",
    "* #### [cf-plot](http://ajheaps.github.io/cf-plot/) (`cfplot`): set of Python functions for making common visualisations such as contour, vector and line plots that are used often by geoscientists.\n",
    "\n",
    "*Note*: this summary focuses on use of these tools *with netCDF (`.nc`) datasets only*, however cfdm and cf-python can recognise and map to field constructs other formats, namely CDL (`.cdl`) of netCDF and (for cf-python only) PP (`.pp`) and UM fields files (`.ff`), and cf-plot also accepts pure NumPy arrays as input."
   ]
  },
  {
   "cell_type": "markdown",
   "metadata": {},
   "source": [
    "## Learning objectives:\n",
    "\n",
    "### ~5-10 minutes for each of six segments demonstrating many (but not all!) capabilities of the toolset:\n",
    "\n",
    "1. **Reading, inspecting & writing netCDF**: read in netCDF files, modify the metadata of one and then write out the modified file.\n",
    "2. **Working with field constructs**: sorting and selecting from a field list, then introspection of the metadata and data in the chosen field construct.\n",
    "3. **Basic metadata manipulation**: getting, setting and deleting global attributes, CF metadata constructs, and CF properties.\n",
    "4. **Basic data analysis, with plotting of results**: plot the data before and after applying a statistical collapse, conditional masking and subspacing.\n",
    "5. **Regridding domains, with plotting of results**: comparing results produced by different regridding methods on spherical coordinate systems.\n",
    "6. **Manipulating hierarchical groups**: inspect the group structure of a netCDF-4 file, then flatten it.\n",
    "\n",
    "#### Other functionality there is not time to cover include (see the documentation as linked above for full functionality listings for each module):\n",
    "\n",
    "* creating new field constructs in memory;\n",
    "* use of metadata stored in external files;\n",
    "* working with data compressed by convention (i.e. ragged or gathered arrays) with a view of the data in its uncompressed form;\n",
    "* advanced data analyses, e.g. performing histogram, percentile and binning operations on, applying convolution filters to, and calculating derivatives of, field constructs;\n",
    "* reading, writing, and creating coordinates defined by geometry cells;\n",
    "* further plot types available using cf-plot;\n",
    "* customisation of cf-plot plots."
   ]
  },
  {
   "cell_type": "markdown",
   "metadata": {},
   "source": [
    "----\n",
    "\n",
    "## 0. Setup"
   ]
  },
  {
   "cell_type": "markdown",
   "metadata": {},
   "source": [
    "First let's setup the Notebook environment:"
   ]
  },
  {
   "cell_type": "code",
   "execution_count": 1,
   "metadata": {},
   "outputs": [],
   "source": [
    "# Setup for nice outputs in this Jupyter Notebook (not required in interactive Python or a script)\n",
    "%matplotlib inline\n",
    "\n",
    "import warnings\n",
    "warnings.filterwarnings('ignore')"
   ]
  },
  {
   "cell_type": "markdown",
   "metadata": {},
   "source": [
    "Throughout this walk-through we will be working on some sample datasets, contained in `ncas_data`. Let's check what we have to work with, with a shell command:"
   ]
  },
  {
   "cell_type": "code",
   "execution_count": 2,
   "metadata": {},
   "outputs": [
    {
     "name": "stdout",
     "output_type": "stream",
     "text": [
      "aaaaoa.pmh8dec.pp\r\n",
      "alpine_precip_DJF_means.nc\r\n",
      "data1.nc\r\n",
      "data2.nc\r\n",
      "data3.nc\r\n",
      "data5.nc\r\n",
      "IPSL-CM5A-LR_r1i1p1_tas_n96_rcp45_mnth.nc\r\n",
      "land.nc\r\n",
      "model_precip_DJF_means_low_res.nc\r\n",
      "model_precip_DJF_means.nc\r\n",
      "precip_1D_monthly.nc\r\n",
      "precip_1D_yearly.nc\r\n",
      "precip_2010.nc\r\n",
      "precip_DJF_means.nc\r\n",
      "qbo.nc\r\n",
      "regions.nc\r\n",
      "ta.nc\r\n",
      "tripolar.nc\r\n",
      "ua.nc\r\n",
      "u_n216.nc\r\n",
      "u_n96.nc\r\n",
      "vaAMIPlcd_DJF.nc\r\n",
      "va.nc\r\n",
      "wapAMIPlcd_DJF.nc\r\n"
     ]
    }
   ],
   "source": [
    "# Note that in IPython ! preceeeds a shell command\n",
    "!ls -1 ../ncas_data/"
   ]
  },
  {
   "cell_type": "markdown",
   "metadata": {},
   "source": [
    "So there are plenty of netCDF files to work with. Note there is a mixture of \"classic\" netCDF-3 and netCDF-4, as some futher shell commands illustrate:"
   ]
  },
  {
   "cell_type": "code",
   "execution_count": 3,
   "metadata": {},
   "outputs": [
    {
     "name": "stdout",
     "output_type": "stream",
     "text": [
      "netCDF-4\n",
      "classic\n"
     ]
    }
   ],
   "source": [
    "# Note that in IPython ! preceeeds a shell command\n",
    "!ncdump -k ../ncas_data/data1.nc\n",
    "!ncdump -k ../ncas_data/data2.nc"
   ]
  },
  {
   "cell_type": "markdown",
   "metadata": {},
   "source": [
    "Let's start, naturally, by importing the CF data tools modules. Note the standard alias used for `cfplot` e.g. within the module documentation:"
   ]
  },
  {
   "cell_type": "code",
   "execution_count": 4,
   "metadata": {},
   "outputs": [],
   "source": [
    "import cfdm\n",
    "import cf\n",
    "import cfplot as cfp"
   ]
  },
  {
   "cell_type": "markdown",
   "metadata": {},
   "source": [
    "Great. We are now all ready to go using these modules on the netCDF datasets!"
   ]
  },
  {
   "cell_type": "markdown",
   "metadata": {},
   "source": [
    "----\n",
    "\n",
    "## 1. Reading, inspecting & writing netCDF\n",
    "\n",
    "### Read in netCDF files, modify the metadata of one and then write out the modified file"
   ]
  },
  {
   "cell_type": "markdown",
   "metadata": {},
   "source": [
    "Text"
   ]
  },
  {
   "cell_type": "markdown",
   "metadata": {},
   "source": [
    "Text"
   ]
  },
  {
   "cell_type": "markdown",
   "metadata": {},
   "source": [
    "----\n",
    "\n",
    "## 2. Working with field constructs\n",
    "\n",
    "### Sorting and selecting from a field list, then introspection of the metadata and data in the chosen field construct"
   ]
  },
  {
   "cell_type": "markdown",
   "metadata": {},
   "source": [
    "Text"
   ]
  },
  {
   "cell_type": "markdown",
   "metadata": {},
   "source": [
    "Text"
   ]
  },
  {
   "cell_type": "markdown",
   "metadata": {},
   "source": [
    "----\n",
    "\n",
    "## 3. Basic metadata manipulation\n",
    "\n",
    "### Getting, setting and deleting global attributes, CF metadata constructs, and CF properties"
   ]
  },
  {
   "cell_type": "markdown",
   "metadata": {},
   "source": [
    "Text"
   ]
  },
  {
   "cell_type": "markdown",
   "metadata": {},
   "source": [
    "Text"
   ]
  },
  {
   "cell_type": "markdown",
   "metadata": {},
   "source": [
    "----\n",
    "\n",
    "## 4. Basic data analysis, with plotting of results\n",
    "\n",
    "### Plot the data before and after applying a statistical collapse, conditional masking and subspacing"
   ]
  },
  {
   "cell_type": "markdown",
   "metadata": {},
   "source": [
    "Text"
   ]
  },
  {
   "cell_type": "markdown",
   "metadata": {},
   "source": [
    "Text"
   ]
  },
  {
   "cell_type": "markdown",
   "metadata": {},
   "source": [
    "----\n",
    "\n",
    "## 5. Regridding domains, with plotting of results\n",
    "\n",
    "### Plot the data before and after regridding across spherical and cartesian coordinate systems"
   ]
  },
  {
   "cell_type": "markdown",
   "metadata": {},
   "source": [
    "Text"
   ]
  },
  {
   "cell_type": "markdown",
   "metadata": {},
   "source": [
    "Text"
   ]
  },
  {
   "cell_type": "markdown",
   "metadata": {},
   "source": [
    "----\n",
    "\n",
    "## 6. Manipulating hierarchical groups\n",
    "\n",
    "### Inspect the group structure of a netCDF-4 file, then flatten it"
   ]
  },
  {
   "cell_type": "markdown",
   "metadata": {},
   "source": [
    "Text"
   ]
  },
  {
   "cell_type": "markdown",
   "metadata": {},
   "source": [
    "Text"
   ]
  },
  {
   "cell_type": "markdown",
   "metadata": {},
   "source": [
    "----"
   ]
  }
 ],
 "metadata": {
  "kernelspec": {
   "display_name": "Python 3",
   "language": "python",
   "name": "python3"
  },
  "language_info": {
   "codemirror_mode": {
    "name": "ipython",
    "version": 3
   },
   "file_extension": ".py",
   "mimetype": "text/x-python",
   "name": "python",
   "nbconvert_exporter": "python",
   "pygments_lexer": "ipython3",
   "version": "3.7.6"
  }
 },
 "nbformat": 4,
 "nbformat_minor": 4
}
