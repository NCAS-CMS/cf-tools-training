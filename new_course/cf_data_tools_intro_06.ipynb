{
 "cells": [
  {
   "cell_type": "markdown",
   "id": "0cd6019e-c5b3-4dc6-bf86-6fcf10b06851",
   "metadata": {},
   "source": [
    "# T6. Changing the underlying grid of data through regridding\n",
    "\n",
    "## Teaching Notebook 6 (of 6) for *Intro to the NCAS CF Data Tools, cf-python and cf-plot*\n",
    "\n",
    "**In this section we demonstrate how to change the underlying grid of the data to another grid which could be a higher- or lower- resolution one, or a completely different grid, which is called regridding or interpolation, and indicate various options cf-python supports for doing this.**"
   ]
  },
  {
   "cell_type": "markdown",
   "id": "1c3beb87-7b0d-44ad-9da3-fa32494b795c",
   "metadata": {},
   "source": [
    "***"
   ]
  },
  {
   "cell_type": "markdown",
   "id": "3ec71f6b-d60d-4ee5-b22a-ea9cb60875ba",
   "metadata": {},
   "source": [
    "## Setting up\n",
    "\n",
    "**In this short prelude we set up this Notebook, import the libraries and check the data we will work with, ready to use the libraries and the data (exactly as per the first Notebook setup but in one cell only for quick execution).**"
   ]
  },
  {
   "cell_type": "code",
   "execution_count": null,
   "id": "a26475c6-56b9-4666-b2f1-563c5849f8cd",
   "metadata": {},
   "outputs": [],
   "source": [
    "# Set up for inline plots - only needed inside a Notebook environment - and to ignore some repeating warnings\n",
    "%matplotlib inline\n",
    "\n",
    "import warnings\n",
    "warnings.filterwarnings(\"ignore\")\n",
    "\n",
    "# Import the two CF Data Tools libraries and inspect the versions\n",
    "import cfplot as cfp\n",
    "import cf\n",
    "print(\"--- Version report: ---\")\n",
    "print(\"cf-python version is:\", cf.__version__)\n",
    "print(\"cf-plot version is:\", cfp.__version__)\n",
    "print(\"CF Conventions version is:\", cf.CF())\n",
    "\n",
    "# See what datasets we have to explore within the data directory we use throughout this course\n",
    "print(\"--- Datasets available from the path '../ncas_data': ---\")\n",
    "# Note that in a Jupyter Notebook, '!' precedes a shell command - so this is a command, not Python\n",
    "!ls ../ncas_data"
   ]
  },
  {
   "cell_type": "markdown",
   "id": "e7640cdb-0d6f-4933-86d7-e86e7b9acbe4",
   "metadata": {},
   "source": [
    "***"
   ]
  },
  {
   "cell_type": "markdown",
   "id": "2e4c72ef-8631-4749-b4fd-6c79c8d6e455",
   "metadata": {},
   "source": [
    "## 6. Changing the underlying grid of data through regridding"
   ]
  },
  {
   "cell_type": "markdown",
   "id": "854d7fd4-6d65-4827-b77c-4a89d42da6b0",
   "metadata": {},
   "source": [
    "### a) Getting a _source_ field ready to regrid"
   ]
  },
  {
   "cell_type": "markdown",
   "id": "7b387753-9fee-4105-8758-b79f63338423",
   "metadata": {},
   "source": [
    "We read in a precipitation field and inspect it:"
   ]
  },
  {
   "cell_type": "code",
   "execution_count": null,
   "id": "5f4bb94e-4531-4ef6-a7e7-fd46ea06b7fd",
   "metadata": {},
   "outputs": [],
   "source": [
    "higher_res_field = cf.read(\"../ncas_data/precip_2010.nc\")[0]\n",
    "print(higher_res_field)"
   ]
  },
  {
   "cell_type": "markdown",
   "id": "387322a6-ba11-4a31-8468-c277b6ab4bf5",
   "metadata": {},
   "source": [
    "To get a feel for the data we have, let's view a basic subspace as a contour plot. Note we use the `blockfill` argument set to `True` which changes the contour plot to plot the data on a cellular basis rather than filled as smoothed contours (whether or not the contour lines are set to be shown from the `lines` argument, in this case we turn those off too):"
   ]
  },
  {
   "cell_type": "code",
   "execution_count": null,
   "id": "67e544cd-44e0-48e8-8484-3fc9a6348801",
   "metadata": {},
   "outputs": [],
   "source": [
    "cfp.mapset()  # reset\n",
    "cfp.cscale(\"precip_11lev\")  # using a colour scale good for precipitation data\n",
    "cfp.con(higher_res_field[0], blockfill=True, lines=False)"
   ]
  },
  {
   "cell_type": "markdown",
   "id": "628e91df-76f0-485e-8288-19ee932a7fb6",
   "metadata": {},
   "source": [
    "### b) Getting the _destination_ field: another field in order to regrid the previous _onto its grid_"
   ]
  },
  {
   "cell_type": "markdown",
   "id": "6f5392a3-096a-4d0b-afe6-f4dcdbe29c22",
   "metadata": {},
   "source": [
    "Now we read in another precipitation field and inspect it. The key thing to note is that it is lower resolution than the previous one we read:"
   ]
  },
  {
   "cell_type": "code",
   "execution_count": null,
   "id": "0dd58b04-f3e6-4cfe-890b-204bd67a3878",
   "metadata": {},
   "outputs": [],
   "source": [
    "lower_res_field = cf.read(\"../ncas_data/model_precip_DJF_means_low_res.nc\")[0]\n",
    "print(lower_res_field)"
   ]
  },
  {
   "cell_type": "markdown",
   "id": "b398db6d-17c0-4940-ab85-2638b2648056",
   "metadata": {},
   "source": [
    "Again, get a feel for the data we have from a view of a basic subspace, to confirm that it is lower resolution (notice the larger cell blocks than before):"
   ]
  },
  {
   "cell_type": "code",
   "execution_count": null,
   "id": "f27a6f45-6212-4547-9a92-0337fdd0a6a6",
   "metadata": {},
   "outputs": [],
   "source": [
    "cfp.cscale(\"precip_11lev\")\n",
    "cfp.con(lower_res_field[0], blockfill=True, lines=False)"
   ]
  },
  {
   "cell_type": "markdown",
   "id": "dde6c34c-37a9-48c9-8e02-a70913411d7a",
   "metadata": {},
   "source": [
    "### c) Performing the regrid operation from the source to the destination fields"
   ]
  },
  {
   "cell_type": "markdown",
   "id": "2f799ab3-462f-4fa7-83ae-41649d65a3aa",
   "metadata": {},
   "source": [
    "Now the key step after the previous setup: regridding the first (*source*) field to the grid of the second (*destination*) field. We use the `regrids` method of cf-python to do this, where the `s` in the name stands for spherical for spherical regridding, as opposed to Cartesian regridding, also possible with cf-python.\n",
    "\n",
    "We are going to do two calls, demonstrating two different methods of interpolation, namely the `patch` and `conservative` methods. Assign these to variables so we can compare them next:"
   ]
  },
  {
   "cell_type": "code",
   "execution_count": null,
   "id": "1847882c-0c17-4857-8f92-2da66c11e945",
   "metadata": {},
   "outputs": [],
   "source": [
    "patch_regridded_field = higher_res_field.regrids(lower_res_field, method=\"patch\")\n",
    "conservative_regridded_field = higher_res_field.regrids(lower_res_field, method=\"conservative\")"
   ]
  },
  {
   "cell_type": "markdown",
   "id": "f6828e28-d06c-47cf-8bd9-8c7c868e86bf",
   "metadata": {},
   "source": [
    "These two methods do not give the same results!"
   ]
  },
  {
   "cell_type": "code",
   "execution_count": null,
   "id": "bbb865cc-415c-4e8f-80e9-d2f50e21beaa",
   "metadata": {},
   "outputs": [],
   "source": [
    "patch_regridded_field.equals(conservative_regridded_field)"
   ]
  },
  {
   "cell_type": "markdown",
   "id": "72802b45-73bc-4b3f-adc8-7eda851f01c1",
   "metadata": {},
   "source": [
    "Recall how to do field arithmetic. We use subtraction to indicate the difference between the two regridded outcomes which differ only by the interpolation method used to regrid:"
   ]
  },
  {
   "cell_type": "code",
   "execution_count": null,
   "id": "1db1455e-b266-4620-a1c4-ec746e03dbec",
   "metadata": {},
   "outputs": [],
   "source": [
    "difference_field = patch_regridded_field - conservative_regridded_field"
   ]
  },
  {
   "cell_type": "markdown",
   "id": "1286c96e-02f2-406e-a70d-914ae00389b5",
   "metadata": {},
   "source": [
    "### d) Finally, some more advanced cf-plot plotting to compare the source, destination, and regridded results"
   ]
  },
  {
   "cell_type": "markdown",
   "id": "182b8f55-78ad-41c2-ac59-a775f42750ed",
   "metadata": {},
   "source": [
    "As with the previous section, let's end by doing more advanced cf-plot plotting to show all of the relevant fields to help us to understand what the regridding did.\n",
    "\n",
    "Again we are using `gopen` and `gclose` wrapped around our calls to plot. This time we use `gpos` function calls which tell cf-plot exactly where we want to place each plot on the overall canvas. In this case, from our `x` and `y` extrema inputs `xmin`, `xmax`, `ymin` and `ymax`, we are building an effective 4 x 4 grid to place the four contour plots we will show.\n",
    "\n",
    "There is a lot to take in here, but the main thing is to understand that we use `con` to generate four contour plots corresponding to different stages of our regridding, telling cf-plot to place them at one of the four places in a 4 x 4 grid, with some customisation of colour scales and colour bar levels.\n",
    "\n",
    "Note here we are taking the [0] index subspace of all of the fields to plot, but we can use any other subspace of the data to view instead:"
   ]
  },
  {
   "cell_type": "code",
   "execution_count": null,
   "id": "2bc9fa76-96e6-4ae3-ac1d-95db3d76c95f",
   "metadata": {},
   "outputs": [],
   "source": [
    "cfp.cscale(\"viridis\")  # reset cmap to perceptually uniform scale\n",
    "cfp.gopen(rows=2, columns=2, figsize=[7, 15])  #, bottom=0.1, top=0.85)\n",
    "\n",
    "# Configure first three plots\n",
    "cfp.mapset()  # reset from previous plots in the notebook - standalone don't need this\n",
    "cfp.levs(min=0, max=500, step=50)\n",
    "\n",
    "# First three plots\n",
    "cfp.gpos(xmin=0.1, xmax=0.5, ymin=0.55, ymax=1.0)\n",
    "cfp.cscale(\"precip_11lev\")\n",
    "cfp.con(\n",
    "    higher_res_field[0], blockfill=True, lines=False,\n",
    "    title=\"Precipitation field\\nbefore regridding\",\n",
    ")\n",
    "cfp.gpos(xmin=0.55, xmax=0.95, ymin=0.55, ymax=1.0)\n",
    "cfp.con(\n",
    "    patch_regridded_field[0], blockfill=True, lines=False,\n",
    "    title=\"...and after regridding with\\nthe patch recovery method\",\n",
    ")\n",
    "cfp.gpos(xmin=0.1, xmax=0.5, ymin=0.1, ymax=0.55)\n",
    "cfp.con(\n",
    "    conservative_regridded_field[0], blockfill=True, lines=False,\n",
    "    title=\"...and after regridding with\\nthe conservative method\",\n",
    ")\n",
    "cfp.gpos(xmin=0.55, xmax=0.95, ymin=0.1, ymax=0.55)\n",
    "\n",
    "# This final plot is showing the diff so is a bit different, apply some cf-plot plotting configuration\n",
    "cfp.levs()\n",
    "cfp.cscale(\"BlueDarkRed18\")  # is a diff so use a diverging colour map\n",
    "cfp.con(\n",
    "    difference_field[0], blockfill=True, lines=False,\n",
    "    title=\"Difference between the two\\nregridding methods is:\",\n",
    ")\n",
    "cfp.gclose()"
   ]
  },
  {
   "cell_type": "markdown",
   "id": "f674f64e-b20e-4d7e-96b4-fac2c719a9ad",
   "metadata": {},
   "source": [
    "More generally, using regridding with cf-python you can convert from one grid to another very different grid, e.g. from a tripolar to a regular or rotated latitude-longitude grid or vice-versa, including to/from unstructured grids (UGRID grids)."
   ]
  },
  {
   "cell_type": "markdown",
   "id": "6e48ef2e-68bd-434d-99cb-a6c972f24132",
   "metadata": {},
   "source": [
    "***"
   ]
  },
  {
   "cell_type": "markdown",
   "id": "07c4f4f5-296c-42f1-9885-214577dccab8",
   "metadata": {},
   "source": [
    "## Conclusion and recap of learning objectives\n",
    "\n",
    "The NCAS CF Data Tools are a suite of Python libraries which are designed to facilitate working with data for research in the earth sciences and aligned domains. We learnt today about the cf-python (https://ncas-cms.github.io/cf-python/) and cf-plot (https://ncas-cms.github.io/cf-plot/build/). The 'cf' in the names of the NCAS CF Data Tools corresponds to the CF Conventions, a metadata standard becoming the de-facto convention across geoscience to cover the description of data so that sharing and intercomparison is simpler.\n",
    "\n",
    "Our **learning aim** was to be able to use the NCAS CF Data Tools Python libraries, namely cf-python and cf-plot to process, analyse and visualise netCDF and PP datasets, whilst appreciating the context and 'unique selling point' of the libraries as being built to use the CF Conventions, a metadata standard for earth science data, to make it simpler to do what you want to do with the datasets, by working on top of a Data Model for CF.\n",
    "\n",
    "For our **learning objectives**, we practiced using cf-python and cf-plot to:\n",
    "\n",
    "* read dataset(s) and view the (meta)data at different detail levels;\n",
    "* edit the (meta)data and write out the edited version to file;\n",
    "* reduce datasets by subspacing and collapsing;\n",
    "* visualise datasets as contour and vector plots;\n",
    "* analyse data: applying mathematical and statistical operations and plotting trends;\n",
    "* change the underlying grid of data through regridding."
   ]
  },
  {
   "cell_type": "markdown",
   "id": "8bcb9631-0732-43dd-9fe4-23f891f0d10c",
   "metadata": {},
   "source": [
    "***"
   ]
  }
 ],
 "metadata": {
  "kernelspec": {
   "display_name": "Python 3 (ipykernel)",
   "language": "python",
   "name": "python3"
  },
  "language_info": {
   "codemirror_mode": {
    "name": "ipython",
    "version": 3
   },
   "file_extension": ".py",
   "mimetype": "text/x-python",
   "name": "python",
   "nbconvert_exporter": "python",
   "pygments_lexer": "ipython3",
   "version": "3.12.0"
  }
 },
 "nbformat": 4,
 "nbformat_minor": 5
}
