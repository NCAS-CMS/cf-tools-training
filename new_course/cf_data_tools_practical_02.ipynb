{
 "cells": [
  {
   "cell_type": "markdown",
   "id": "0cd6019e-c5b3-4dc6-bf86-6fcf10b06851",
   "metadata": {},
   "source": [
    "# 2. Editing the (meta)data and writing out the edited version to file\n",
    "\n",
    "## Practical 2 (of 6) in 'Intro to the NCAS CF Data Tools, cf-python and cf-plot'\n",
    "\n",
    "**In this section we demonstrate how to change the data that has been read-in from file, both in terms of the data arrays and the metadata that describes it, and then how to write data back out to file with a chosen name, so that you can see how cf-python can be used to edit data or to make new data.**"
   ]
  },
  {
   "cell_type": "markdown",
   "id": "1c3beb87-7b0d-44ad-9da3-fa32494b795c",
   "metadata": {},
   "source": [
    "***"
   ]
  },
  {
   "cell_type": "markdown",
   "id": "df666543-52ee-402a-8fa4-cb4d8389f3a8",
   "metadata": {},
   "source": [
    "<div class=\"alert alert-block alert-success\">\n",
    "<i>Practical instructions:</i> run all of the cells in this section to do the set up.\n",
    "</div>"
   ]
  },
  {
   "cell_type": "markdown",
   "id": "196e9e0a-83d1-464c-b53c-a6fc2e0c19ff",
   "metadata": {
    "jp-MarkdownHeadingCollapsed": true
   },
   "source": [
    "## Setting up\n",
    "\n",
    "**In this section we set up this Notebook, import the libraries and check the data we will work with, ready to use the libraries within this notebook.**"
   ]
  },
  {
   "cell_type": "markdown",
   "id": "6cfa3e24-6400-4de0-b155-aab85f701441",
   "metadata": {},
   "source": [
    "Run some set up for nice outputs in this Jupyter Notebook (not required in interactive Python or a script):"
   ]
  },
  {
   "cell_type": "code",
   "execution_count": null,
   "id": "aadf1e3e-382f-47c5-aeee-b52f3cd2868d",
   "metadata": {},
   "outputs": [],
   "source": [
    "%matplotlib inline\n",
    "\n",
    "import warnings\n",
    "warnings.filterwarnings('ignore')"
   ]
  },
  {
   "cell_type": "markdown",
   "id": "d073760a-6734-4a1d-9832-a70a8e0dd089",
   "metadata": {},
   "source": [
    "Import cf-python and cf-plot:"
   ]
  },
  {
   "cell_type": "code",
   "execution_count": null,
   "id": "b4b0c984-1adc-4515-b192-19da265e1f9a",
   "metadata": {},
   "outputs": [],
   "source": [
    "import cfplot as cfp\n",
    "import cf"
   ]
  },
  {
   "cell_type": "markdown",
   "id": "7b00d47b-4497-4540-b1bd-6fa8fa8e3226",
   "metadata": {},
   "source": [
    "Inspect the versions of cf-python and cf-plot and the version of the CF Conventions those are matched to:"
   ]
  },
  {
   "cell_type": "code",
   "execution_count": null,
   "id": "ea75b1b6-ba78-428d-b9b2-ca29a8cf6f0d",
   "metadata": {},
   "outputs": [],
   "source": [
    "print(\"cf-python version is:\", cf.__version__)\n",
    "print(\"cf-plot version is:\", cfp.__version__)\n",
    "print(\"CF Conventions version is:\", cf.CF())"
   ]
  },
  {
   "cell_type": "markdown",
   "id": "628af6cc-24f1-4e85-bf8b-654268e72bd3",
   "metadata": {},
   "source": [
    "<div class=\"alert alert-block alert-info\">\n",
    "<i>Note:</i> you can work with data compliant by any other version of the CF Conventions, or without (much) compliance, but the CF Conventions version gives the maximum version that these versions of the tools understand the features of.\n",
    "</div>"
   ]
  },
  {
   "cell_type": "markdown",
   "id": "8135f5c6-3d3e-45b6-a84a-3dcea754372f",
   "metadata": {},
   "source": [
    "Finally, see what datasets we have to explore:"
   ]
  },
  {
   "cell_type": "markdown",
   "id": "cfab63fe-088d-4ca8-ab95-40f61f0c2fd3",
   "metadata": {},
   "source": [
    "<div class=\"alert alert-block alert-info\">\n",
    "<i>Note:</i> in a Jupyter Notebook, '!' preceeeds a shell command, so this is a terminal command and not Python\n",
    "</div>"
   ]
  },
  {
   "cell_type": "code",
   "execution_count": null,
   "id": "a45afce7-abd8-4edd-b14c-eb033566bd52",
   "metadata": {
    "scrolled": true
   },
   "outputs": [],
   "source": [
    "!ls ../ncas_data"
   ]
  },
  {
   "cell_type": "markdown",
   "id": "e7640cdb-0d6f-4933-86d7-e86e7b9acbe4",
   "metadata": {},
   "source": [
    "***"
   ]
  },
  {
   "cell_type": "markdown",
   "id": "ef80e6de-8e62-468b-93c8-b41ac768375a",
   "metadata": {},
   "source": [
    "<div class=\"alert alert-block alert-success\">\n",
    "<i>Practical instructions:</i> now we can start the practical. We will follow the same sectioning as in the teaching notebook, so please consult the notes there in the matching section for guidance and you can also consult the cf-python and cf-plot documentation linked above.\n",
    "</div>"
   ]
  },
  {
   "cell_type": "markdown",
   "id": "932d2d38-b8d7-46cc-848f-b6f50b877310",
   "metadata": {},
   "source": [
    "## 2. Editing the (meta)data and writing out the edited version to file"
   ]
  },
  {
   "cell_type": "markdown",
   "id": "bc7c654e-38e5-4b06-a7c0-01828701d92f",
   "metadata": {},
   "source": [
    "### a) Changing the underlying data"
   ]
  },
  {
   "cell_type": "markdown",
   "id": "1d6b6412-42b4-4d70-9df2-1fd6b0349a56",
   "metadata": {},
   "source": [
    "**2.a.1)** Access the data (*not* the data array of the data) of the full field and assign it to a variable called 'data'."
   ]
  },
  {
   "cell_type": "code",
   "execution_count": null,
   "id": "ad3da187-8515-4a84-95e4-a9c1190dd08d",
   "metadata": {},
   "outputs": [],
   "source": [
    "data = field.data"
   ]
  },
  {
   "cell_type": "markdown",
   "id": "b625ea77-a1db-4598-b1c4-6bba6319d1e0",
   "metadata": {},
   "source": [
    "**2.a.2)** Inspect the field data with medium detail use the `size` method on it to see its shape."
   ]
  },
  {
   "cell_type": "code",
   "execution_count": null,
   "id": "4b6e33da-fad2-49a8-86e2-e94331e7e8dd",
   "metadata": {},
   "outputs": [],
   "source": [
    "print(data)\n",
    "data.shape"
   ]
  },
  {
   "cell_type": "markdown",
   "id": "86474dfe-a2ac-4b52-a962-eda937b0f58d",
   "metadata": {},
   "source": [
    "**2.a.3)** Use the `size` method on it to see how many items (in this case, numbers) there are in it. Can you see how this relates to the `shape` above, and to the structure of the coordinates from the field inspection in (1.b.2)?"
   ]
  },
  {
   "cell_type": "code",
   "execution_count": null,
   "id": "caaf9db2-c33d-434b-a3fe-ad91e9fc681e",
   "metadata": {},
   "outputs": [],
   "source": [
    "data.size"
   ]
  },
  {
   "cell_type": "markdown",
   "id": "cf00a0cd-ab33-4c08-94d0-a7c25a2df606",
   "metadata": {},
   "source": [
    "**2.a.4)**"
   ]
  },
  {
   "cell_type": "code",
   "execution_count": null,
   "id": "394dc1e4-3e88-4370-b568-27f031fe1d5d",
   "metadata": {},
   "outputs": [],
   "source": [
    "first_time_subarray = data[0, :, :, :]\n",
    "first_time_subarray"
   ]
  },
  {
   "cell_type": "markdown",
   "id": "8a97f4ab-dfba-4879-ac78-9c0edb36cf2d",
   "metadata": {},
   "source": [
    "**2.a.5)** Change all of the values in the first time subarray to the value '-50.0'."
   ]
  },
  {
   "cell_type": "code",
   "execution_count": null,
   "id": "c167273d-16b2-4ea8-bc74-be8ac28d9820",
   "metadata": {},
   "outputs": [],
   "source": [
    "first_time_subarray[0] = -50\n",
    "first_time_subarray"
   ]
  },
  {
   "cell_type": "markdown",
   "id": "5693c393-4c96-4841-8e4c-f336f9bfebb6",
   "metadata": {},
   "source": [
    "**2.a.6)** Access the index item `[1, :, 0, 0]` of the full data array from (2.a.1) and assign it to a variable called 'a_subarray'. Then check what shape it is and try to understand the size that emerges for that sub-array given that specific index."
   ]
  },
  {
   "cell_type": "code",
   "execution_count": null,
   "id": "beb5f4b6-5b5e-4761-8c66-2096edc8bfde",
   "metadata": {},
   "outputs": [],
   "source": [
    "a_subarray = data[1, 0, :, 0]\n",
    "a_subarray.shape"
   ]
  },
  {
   "cell_type": "markdown",
   "id": "b9f9e1b8-1951-4545-94c1-9d567a0722d5",
   "metadata": {},
   "source": [
    "**2.a.7)** Change the values for this sub-array item to all ones i.e. `1.0`. Note to create an array populated all with the value one of the required shape to match the shape of the subarray from (2.a.6), you can use `numpy.ones(<desired shape>)` (you will need to import `numpy` first, and let's call the module `np` i.e. use `import numpy as np`)."
   ]
  },
  {
   "cell_type": "code",
   "execution_count": null,
   "id": "cd65f487-c6b0-45e0-b093-1ac39f11b2d7",
   "metadata": {},
   "outputs": [],
   "source": [
    "import numpy as np\n",
    "np.ones((1, 1, 2, 1))\n",
    "data[1, 0, :, 0] = np.ones((1, 1, 2, 1))"
   ]
  },
  {
   "cell_type": "markdown",
   "id": "fe2fe7a5-73b8-4021-8748-e88b3b0d6e5c",
   "metadata": {},
   "source": [
    "**2.a.8)** Inspect 'a_subarray' again to confirm it has been set with values of all one."
   ]
  },
  {
   "cell_type": "code",
   "execution_count": null,
   "id": "5629a7f3-5fd8-4bfd-a6d7-eb141951a2c7",
   "metadata": {},
   "outputs": [],
   "source": [
    "a_subarray"
   ]
  },
  {
   "cell_type": "markdown",
   "id": "0f2d2721-58c2-44d9-b422-3dd81ee8b333",
   "metadata": {},
   "source": [
    "### b) Changing some metadata"
   ]
  },
  {
   "cell_type": "markdown",
   "id": "ad17957e-9d70-4fcb-9954-e0ff331ac689",
   "metadata": {},
   "source": [
    "**2.b.1)** Take the 'pressure' variable coordinate we created in (1.c) and inspected in full detail in (1.c.4). Let's say we want to reverse the direction of this axes, so that the pressures increase in value along it (in order) rather than decreases. In `cf` we can do this using the `flip` method, which will adjust the data accordingly so that it is flipped in the corresponding way to match up to the new direction of the pressure axis.\n",
    "\n",
    "Reassign `pressure` to itself with the `flip` method applied (note you can, alternatively and equivalently, call the method `flip` with the argument `inplace=True` set without re-assignment because that argument tells `cf` to adjust the variable in-place)."
   ]
  },
  {
   "cell_type": "code",
   "execution_count": null,
   "id": "f08327b2-51a1-404b-97fa-e753255eb252",
   "metadata": {},
   "outputs": [],
   "source": [
    "pressure = pressure.flip()\n",
    "# Or: pressure.flip(inplace=True)"
   ]
  },
  {
   "cell_type": "markdown",
   "id": "f240a543-5676-439e-b53e-4384ee5d9171",
   "metadata": {},
   "source": [
    "**2.b.2)** Now full inspect the pressure coordinate again with full detail to confirm that the flip of axis direction happened."
   ]
  },
  {
   "cell_type": "code",
   "execution_count": null,
   "id": "d4311a56-3252-4b10-9b92-01f00c7e1cdb",
   "metadata": {},
   "outputs": [],
   "source": [
    "pressure.dump()"
   ]
  },
  {
   "cell_type": "markdown",
   "id": "20031178-9faa-4501-b00f-70b0d1c1ae64",
   "metadata": {},
   "source": [
    "**2.b.3)** Notice the `standard_name`, which is a CF attribute used to identify the physical quantity in question, that must be one from the thousands of controlled options available in the CF Standard Name table (see https://cfconventions.org/Data/cf-standard-names/current/build/cf-standard-name-table.html, you are encouraged to spend some minutes exploring this resource). At the moment the value in the field is not a valid standard name and it is also not specific enough to identify the variable well. \n",
    "\n",
    "Let's change it to the more descriptive valid CF Standard Name of 'air_pressure'. To do this, access the `standard_name` attribute of the pressure coordinate and re-set it to the string value desired."
   ]
  },
  {
   "cell_type": "code",
   "execution_count": null,
   "id": "a6bfddb6-223a-46b0-8adf-725361fe1c64",
   "metadata": {},
   "outputs": [],
   "source": [
    "pressure.standard_name = \"air_pressure\""
   ]
  },
  {
   "cell_type": "markdown",
   "id": "d0e0d297-4e71-4a73-a194-f9b151f7a4a3",
   "metadata": {},
   "source": [
    "**2.b.4)** Once again view the pressure coordinate with maximal detail to see the two changes we made in this section. Also view the overall field in medium detail to see that these changes propagate through to the field object by Python object rules."
   ]
  },
  {
   "cell_type": "code",
   "execution_count": null,
   "id": "155bf824-7ebc-4178-9377-7be91b03393f",
   "metadata": {},
   "outputs": [],
   "source": [
    "pressure.dump()"
   ]
  },
  {
   "cell_type": "markdown",
   "id": "cf7cf826-2d23-40cd-bfca-648de59fd02c",
   "metadata": {},
   "source": [
    "### c) Writing a (list of) fields out to a file"
   ]
  },
  {
   "cell_type": "markdown",
   "id": "f375ce40-ba55-45cd-83d2-9c5f58df3506",
   "metadata": {},
   "source": [
    "**2.c.1)** Let's write out a few fields to disk. We'll write our field from the previous sections as well as a new field all into the same file.\n",
    "\n",
    "First let's get a new field. We could read in another file to access some new fields, but let's use one of the cf-python ready-made 'example fields', which are designed for exploring cf-python capability without the need for real (and large/memory-intensive) data. Run `cf.example_field()` with any integer from 0 to 11 inclusive to get an example field, assigning it to the variable called 'new_field'."
   ]
  },
  {
   "cell_type": "code",
   "execution_count": null,
   "id": "5fb3f0c6-6638-4535-8729-b50d1f70fc29",
   "metadata": {},
   "outputs": [],
   "source": [
    "new_field = cf.example_field(1)  # Or: any integer from 0 to 11 works fine as the argument"
   ]
  },
  {
   "cell_type": "markdown",
   "id": "3e061bbd-836c-44fb-9614-358585b4c1bf",
   "metadata": {},
   "source": [
    "**2.c.2)** Inspect this new field with medium level of detail."
   ]
  },
  {
   "cell_type": "code",
   "execution_count": null,
   "id": "4b199ddb-00c6-456e-bb51-58117037c50b",
   "metadata": {},
   "outputs": [],
   "source": [
    "print(new_field)"
   ]
  },
  {
   "cell_type": "markdown",
   "id": "19c295d5-9e45-49a8-bc53-fd9a139aacf8",
   "metadata": {},
   "source": [
    "**2.c.3)** Create a two-field FieldList called 'new_fieldlist' containing the field from (1.a.3) that we have been exploring in the previous sections (1.a) and (1.b) along with this new 'new_field' from (2.c.2). You can use the `cf` function `cf.FieldList` with the fields it should contain in a normal Python list as an arugment to set this up."
   ]
  },
  {
   "cell_type": "code",
   "execution_count": null,
   "id": "a55c4a55-10bd-4269-a232-32e0d3737a94",
   "metadata": {},
   "outputs": [],
   "source": [
    "new_fieldlist = cf.FieldList([field, new_field])"
   ]
  },
  {
   "cell_type": "markdown",
   "id": "c155c131-5367-497f-8590-16bbfdc7c124",
   "metadata": {},
   "source": [
    "**2.c.4)** Call `print` with this new fieldlist as an argument to view it in medium detail."
   ]
  },
  {
   "cell_type": "code",
   "execution_count": null,
   "id": "d2c71af9-a032-458a-b091-39d776c11025",
   "metadata": {},
   "outputs": [],
   "source": [
    "print(new_fieldlist)"
   ]
  },
  {
   "cell_type": "markdown",
   "id": "aee0230d-681c-476e-800e-fa2f83b419ea",
   "metadata": {},
   "source": [
    "**2.c.4)** Now we have constructed our desired FieldList, we can write it out to file. Use `cf`'s `write` function to write it to a file called `two_fields.nc` in the `../ncas_data` directory."
   ]
  },
  {
   "cell_type": "code",
   "execution_count": null,
   "id": "c9775ffb-6830-4102-b3b0-eb11403ad806",
   "metadata": {},
   "outputs": [],
   "source": [
    "cf.write(new_fieldlist, \"../ncas_data/two_fields.nc\")"
   ]
  },
  {
   "cell_type": "markdown",
   "id": "fb5aabd2-6e6d-4e28-8e9f-3da1537d981a",
   "metadata": {},
   "source": [
    "**2.c.5)** Use the shell command `!ls ../ncas_data` to see the contents of that directory to confirm that the file was written there."
   ]
  },
  {
   "cell_type": "code",
   "execution_count": null,
   "id": "9f535282-e936-4254-9bc5-fc096bf69e6b",
   "metadata": {},
   "outputs": [],
   "source": [
    "!ls ../ncas_data"
   ]
  },
  {
   "cell_type": "markdown",
   "id": "24c67742-da88-4d3e-9cae-5f17409b6302",
   "metadata": {},
   "source": [
    "<div class=\"alert alert-block alert-success\">\n",
    "<i>Practical instructions:</i> this is the end of the section. Please check your work, review the material and then move on to Practical 3 (see the Notebook 'cf_data_tools_practical_03.ipynb').\n",
    "</div>"
   ]
  },
  {
   "cell_type": "markdown",
   "id": "08fa89e2-6c21-4118-9cf9-21958bdfa00e",
   "metadata": {},
   "source": [
    "***"
   ]
  }
 ],
 "metadata": {
  "kernelspec": {
   "display_name": "Python 3 (ipykernel)",
   "language": "python",
   "name": "python3"
  },
  "language_info": {
   "codemirror_mode": {
    "name": "ipython",
    "version": 3
   },
   "file_extension": ".py",
   "mimetype": "text/x-python",
   "name": "python",
   "nbconvert_exporter": "python",
   "pygments_lexer": "ipython3",
   "version": "3.12.0"
  }
 },
 "nbformat": 4,
 "nbformat_minor": 5
}
