{
 "cells": [
  {
   "cell_type": "markdown",
   "id": "0cd6019e-c5b3-4dc6-bf86-6fcf10b06851",
   "metadata": {},
   "source": [
    "# Introduction to the NCAS CF Data Tools, `cf-python` and `cf-plot`"
   ]
  },
  {
   "cell_type": "markdown",
   "id": "c4378ad0-8448-44ef-80e2-cd6e67346a1b",
   "metadata": {},
   "source": [
    "## Context and learning objectives\n",
    "\n",
    "What are the NCAS CF Data Tools and why do they all have 'cf' in the name?\n",
    "\n",
    "TODO\n",
    "\n",
    "What are the CF Conventions?\n",
    "\n",
    "TODO\n",
    "\n",
    "What are we going to learn in this session?\n",
    "\n",
    "TODO\n"
   ]
  },
  {
   "cell_type": "markdown",
   "id": "196e9e0a-83d1-464c-b53c-a6fc2e0c19ff",
   "metadata": {},
   "source": [
    "## Set up\n",
    "\n",
    "**In this section we set up this Notebook, import the libraries and check the data we will work with**"
   ]
  },
  {
   "cell_type": "markdown",
   "id": "6cfa3e24-6400-4de0-b155-aab85f701441",
   "metadata": {},
   "source": [
    "* Set up notebook for nice outputs in this Jupyter Notebook (not required in interactive Python or a script)"
   ]
  },
  {
   "cell_type": "code",
   "execution_count": 31,
   "id": "aadf1e3e-382f-47c5-aeee-b52f3cd2868d",
   "metadata": {},
   "outputs": [
    {
     "name": "stdout",
     "output_type": "stream",
     "text": [
      "The history saving thread hit an unexpected error (OperationalError('attempt to write a readonly database')).History will not be written to the database.\n"
     ]
    }
   ],
   "source": [
    "# \n",
    "%matplotlib inline\n",
    "\n",
    "import warnings\n",
    "warnings.filterwarnings('ignore')"
   ]
  },
  {
   "cell_type": "markdown",
   "id": "d073760a-6734-4a1d-9832-a70a8e0dd089",
   "metadata": {},
   "source": [
    "* Import cf-python and cf-plot and inspect the versions"
   ]
  },
  {
   "cell_type": "code",
   "execution_count": 32,
   "id": "b4b0c984-1adc-4515-b192-19da265e1f9a",
   "metadata": {},
   "outputs": [],
   "source": [
    "import cfplot as cfp\n",
    "import cf"
   ]
  },
  {
   "cell_type": "code",
   "execution_count": 33,
   "id": "ea75b1b6-ba78-428d-b9b2-ca29a8cf6f0d",
   "metadata": {},
   "outputs": [
    {
     "name": "stdout",
     "output_type": "stream",
     "text": [
      "cf-python version is 3.17.0\n",
      "cf-plot version is 3.3.0\n",
      "CF Conventions version is 1.11\n"
     ]
    }
   ],
   "source": [
    "print(\"cf-python version is\", cf.__version__)\n",
    "print(\"cf-plot version is\", cfp.__version__)\n",
    "print(\"CF Conventions version is\", cf.CF())"
   ]
  },
  {
   "cell_type": "markdown",
   "id": "d425b172-91ca-4a1c-bae8-9bd220217717",
   "metadata": {},
   "source": [
    "* Inspect the data directory so we can see what datasets we have to play around with"
   ]
  },
  {
   "cell_type": "code",
   "execution_count": 34,
   "id": "0a059d62-5dfd-46e8-a3b8-aff2740f61fd",
   "metadata": {},
   "outputs": [
    {
     "name": "stdout",
     "output_type": "stream",
     "text": [
      "aaaaoa.pmh8dec.pp\n",
      "alpine_precip_DJF_means.nc\n",
      "data1.nc\n",
      "data2.nc\n",
      "data3.nc\n",
      "data5.nc\n",
      "IPSL-CM5A-LR_r1i1p1_tas_n96_rcp45_mnth.nc\n",
      "land.nc\n",
      "model_precip_DJF_means_low_res.nc\n",
      "model_precip_DJF_means.nc\n",
      "precip_1D_monthly.nc\n",
      "precip_1D_yearly.nc\n",
      "precip_2010.nc\n",
      "precip_DJF_means.nc\n",
      "qbo.nc\n",
      "regions.nc\n",
      "ta.nc\n",
      "tripolar.nc\n",
      "ua.nc\n",
      "u_n216.nc\n",
      "u_n96.nc\n",
      "vaAMIPlcd_DJF.nc\n",
      "va.nc\n",
      "wapAMIPlcd_DJF.nc\n"
     ]
    }
   ],
   "source": [
    "# Note that in IPython ! preceeeds a shell command\n",
    "!ls -1 ../ncas_data/"
   ]
  },
  {
   "cell_type": "code",
   "execution_count": null,
   "id": "e746826f-e6e1-42c1-bf73-b3999fe259aa",
   "metadata": {},
   "outputs": [],
   "source": []
  }
 ],
 "metadata": {
  "kernelspec": {
   "display_name": "Python 3 (ipykernel)",
   "language": "python",
   "name": "python3"
  },
  "language_info": {
   "codemirror_mode": {
    "name": "ipython",
    "version": 3
   },
   "file_extension": ".py",
   "mimetype": "text/x-python",
   "name": "python",
   "nbconvert_exporter": "python",
   "pygments_lexer": "ipython3",
   "version": "3.12.0"
  }
 },
 "nbformat": 4,
 "nbformat_minor": 5
}
