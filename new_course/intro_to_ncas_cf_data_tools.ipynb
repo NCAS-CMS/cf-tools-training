{
 "cells": [
  {
   "cell_type": "markdown",
   "id": "0cd6019e-c5b3-4dc6-bf86-6fcf10b06851",
   "metadata": {},
   "source": [
    "# Introduction to the NCAS CF Data Tools, `cf-python` and `cf-plot`"
   ]
  },
  {
   "cell_type": "markdown",
   "id": "c4378ad0-8448-44ef-80e2-cd6e67346a1b",
   "metadata": {},
   "source": [
    "## Context and learning objectives\n",
    "\n",
    "What are the NCAS CF Data Tools and why do they all have 'cf' in the name?\n",
    "\n",
    "TODO\n",
    "\n",
    "What are the CF Conventions?\n",
    "\n",
    "TODO\n",
    "\n",
    "What are we going to learn in this session?\n",
    "\n",
    "TODO\n"
   ]
  },
  {
   "cell_type": "markdown",
   "id": "1c3beb87-7b0d-44ad-9da3-fa32494b795c",
   "metadata": {},
   "source": [
    "***"
   ]
  },
  {
   "cell_type": "markdown",
   "id": "196e9e0a-83d1-464c-b53c-a6fc2e0c19ff",
   "metadata": {},
   "source": [
    "## Setting up\n",
    "\n",
    "**In this section we set up this Notebook, import the libraries and check the data we will work with, ready to use the libraries within this notebook.**"
   ]
  },
  {
   "cell_type": "markdown",
   "id": "6cfa3e24-6400-4de0-b155-aab85f701441",
   "metadata": {},
   "source": [
    "* Set up notebook for nice outputs in this Jupyter Notebook (not required in interactive Python or a script)"
   ]
  },
  {
   "cell_type": "code",
   "execution_count": 10,
   "id": "aadf1e3e-382f-47c5-aeee-b52f3cd2868d",
   "metadata": {},
   "outputs": [],
   "source": [
    "# \n",
    "%matplotlib inline\n",
    "\n",
    "import warnings\n",
    "warnings.filterwarnings('ignore')"
   ]
  },
  {
   "cell_type": "markdown",
   "id": "d073760a-6734-4a1d-9832-a70a8e0dd089",
   "metadata": {},
   "source": [
    "* Import cf-python and cf-plot and inspect the versions"
   ]
  },
  {
   "cell_type": "code",
   "execution_count": 11,
   "id": "b4b0c984-1adc-4515-b192-19da265e1f9a",
   "metadata": {},
   "outputs": [],
   "source": [
    "import cfplot as cfp\n",
    "import cf"
   ]
  },
  {
   "cell_type": "code",
   "execution_count": 12,
   "id": "ea75b1b6-ba78-428d-b9b2-ca29a8cf6f0d",
   "metadata": {},
   "outputs": [
    {
     "name": "stdout",
     "output_type": "stream",
     "text": [
      "cf-python version is 3.17.0\n",
      "cf-plot version is 3.3.0\n",
      "CF Conventions version is 1.11\n"
     ]
    }
   ],
   "source": [
    "print(\"cf-python version is\", cf.__version__)\n",
    "print(\"cf-plot version is\", cfp.__version__)\n",
    "print(\"CF Conventions version is\", cf.CF())"
   ]
  },
  {
   "cell_type": "markdown",
   "id": "e7640cdb-0d6f-4933-86d7-e86e7b9acbe4",
   "metadata": {},
   "source": [
    "***"
   ]
  },
  {
   "cell_type": "markdown",
   "id": "ed62f50a-38d0-4709-9010-6358a99d6074",
   "metadata": {},
   "source": [
    "## Reducing datasets using cf-python (part 1): basic subspacing and collapsing\n",
    "\n",
    "**In this section we...**"
   ]
  },
  {
   "cell_type": "markdown",
   "id": "59b69a9d-a94c-464c-aa3c-482c699bc404",
   "metadata": {},
   "source": [
    "***"
   ]
  },
  {
   "cell_type": "markdown",
   "id": "80edfa76-7f87-42b9-8cef-058304ca902a",
   "metadata": {},
   "source": [
    "## Visualising datasets using cf-plot: contour and vector plots\n",
    "\n",
    "**In this section we...**"
   ]
  },
  {
   "cell_type": "markdown",
   "id": "b191c8b2-a038-4601-b046-997a4566c2f6",
   "metadata": {},
   "source": [
    "***"
   ]
  },
  {
   "cell_type": "markdown",
   "id": "72524bb7-a643-4753-ad8b-f419656883fa",
   "metadata": {},
   "source": [
    "## Data analysis using cf-python and cf-plot: arithmetic, statistics and plots of trends\n",
    "\n",
    "**In this section we...**"
   ]
  },
  {
   "cell_type": "markdown",
   "id": "74b85380-eb05-4131-92cb-7468d836fb51",
   "metadata": {},
   "source": [
    "***"
   ]
  },
  {
   "cell_type": "markdown",
   "id": "aba27538-1130-4a3d-be22-f6632e297892",
   "metadata": {},
   "source": [
    "## Reducing datasets using cf-python (part 2): more options for subspacing and collapsing\n",
    "\n",
    "**In this section we...**"
   ]
  },
  {
   "cell_type": "markdown",
   "id": "3b746f6b-ef82-4aa9-8d39-ca179f15db62",
   "metadata": {},
   "source": [
    "***"
   ]
  },
  {
   "cell_type": "markdown",
   "id": "2e4c72ef-8631-4749-b4fd-6c79c8d6e455",
   "metadata": {},
   "source": [
    "## Changing the underlying grid of data using cf-python: regridding\n",
    "\n",
    "**In this section we...**"
   ]
  },
  {
   "cell_type": "markdown",
   "id": "6e48ef2e-68bd-434d-99cb-a6c972f24132",
   "metadata": {},
   "source": [
    "***"
   ]
  },
  {
   "cell_type": "markdown",
   "id": "07c4f4f5-296c-42f1-9885-214577dccab8",
   "metadata": {},
   "source": [
    "## Conclusion and recap of learning objectives\n",
    "\n",
    "**TODO**"
   ]
  },
  {
   "cell_type": "markdown",
   "id": "8bcb9631-0732-43dd-9fe4-23f891f0d10c",
   "metadata": {},
   "source": [
    "***"
   ]
  },
  {
   "cell_type": "markdown",
   "id": "e2e0cfb4-8203-48d7-8029-7bfda9ce5be9",
   "metadata": {},
   "source": [
    "## Where to find more information and resources on the NCAS CF Data Tools\n",
    "\n",
    "**TODO**"
   ]
  },
  {
   "cell_type": "markdown",
   "id": "08fa89e2-6c21-4118-9cf9-21958bdfa00e",
   "metadata": {},
   "source": [
    "***"
   ]
  }
 ],
 "metadata": {
  "kernelspec": {
   "display_name": "Python 3 (ipykernel)",
   "language": "python",
   "name": "python3"
  },
  "language_info": {
   "codemirror_mode": {
    "name": "ipython",
    "version": 3
   },
   "file_extension": ".py",
   "mimetype": "text/x-python",
   "name": "python",
   "nbconvert_exporter": "python",
   "pygments_lexer": "ipython3",
   "version": "3.12.0"
  }
 },
 "nbformat": 4,
 "nbformat_minor": 5
}
