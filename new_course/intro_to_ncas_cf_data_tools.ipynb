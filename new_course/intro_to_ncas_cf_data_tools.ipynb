{
 "cells": [
  {
   "cell_type": "markdown",
   "id": "0cd6019e-c5b3-4dc6-bf86-6fcf10b06851",
   "metadata": {},
   "source": [
    "# Introduction to the NCAS CF Data Tools, `cf-python` and `cf-plot`"
   ]
  },
  {
   "cell_type": "markdown",
   "id": "c4378ad0-8448-44ef-80e2-cd6e67346a1b",
   "metadata": {},
   "source": [
    "## Context and learning objectives\n",
    "\n",
    "**What are the NCAS CF Data Tools and why do they all have 'cf' in the name?**\n",
    "\n",
    "The NCAS CF Data Tools are a suite of Python libraries which are designed to facilitate working with data for research in the earth sciences and aligned domains. The two that are of most relevance to the average user, and those wanting to process, analyse and visualise atmospheric data, are cf-python (https://ncas-cms.github.io/cf-python/) and cf-plot (https://ncas-cms.github.io/cf-plot/build/). We will be focusing on use of cf-python and cf-plot today.\n",
    "\n",
    "The 'cf' in the names of the NCAS CF Data Tools corresponds to the CF Conventions, a metadata standard, because they are built around this standard in the form of using the CF Data Model, which as well as performance is considered a 'unique selling point' of the tools.\n",
    "\n",
    "\n",
    "**What are the CF Conventions?**\n",
    "\n",
    "The CF Conventions are a metadata standard which is becoming the de-facto convention across geoscience to cover the description of data so that sharing and intercomparison is simpler. See https://cfconventions.org/ for more information.\n",
    "\n",
    "\n",
    "**What are we going to learn in this session?**\n",
    "\n",
    "Our learning aim is to be able to use the NCAS CF Data Tools Python libraries, namely cf-python and cf-plot to process, analyse and visualise netCDF and PP datasets, whilst appreciating the context and 'unique selling point' of the libraries as being built to use the CF Conventions, a metadata standard for earth science data, to make it simpler to do what you want to do with the datasets, by working on top of a Data Model for CF.\n",
    "\n",
    "We have six distinct objectives, matching the sections in this notebook (except one section we split into two so we can introduce plotting earlier on). By the end of this lesson you should be familiar and have practiced:\n",
    "\n",
    "* Using cf-python to read dataset(s) and view the (meta)data at different detail levels;\n",
    "* Using cf-python to edit the data and write out the edited data to file;\n",
    "* Reducing datasets using cf-python: subspacing and collapsing (part 1, basic, and part 2, more advanced);\n",
    "* Visualising datasets using cf-plot: contour and vector plots;\n",
    "* Data analysis using cf-python and cf-plot: arithmetic, statistics and plots of trends;\n",
    "* Changing the underlying grid of data using cf-python: regridding.\n"
   ]
  },
  {
   "cell_type": "markdown",
   "id": "1c3beb87-7b0d-44ad-9da3-fa32494b795c",
   "metadata": {},
   "source": [
    "***"
   ]
  },
  {
   "cell_type": "markdown",
   "id": "196e9e0a-83d1-464c-b53c-a6fc2e0c19ff",
   "metadata": {},
   "source": [
    "## Setting up\n",
    "\n",
    "**In this section we set up this Notebook, import the libraries and check the data we will work with, ready to use the libraries within this notebook.**"
   ]
  },
  {
   "cell_type": "markdown",
   "id": "6cfa3e24-6400-4de0-b155-aab85f701441",
   "metadata": {},
   "source": [
    "* Set up notebook for nice outputs in this Jupyter Notebook (not required in interactive Python or a script)"
   ]
  },
  {
   "cell_type": "code",
   "execution_count": 4,
   "id": "aadf1e3e-382f-47c5-aeee-b52f3cd2868d",
   "metadata": {},
   "outputs": [],
   "source": [
    "%matplotlib inline\n",
    "\n",
    "import warnings\n",
    "warnings.filterwarnings('ignore')"
   ]
  },
  {
   "cell_type": "markdown",
   "id": "d073760a-6734-4a1d-9832-a70a8e0dd089",
   "metadata": {},
   "source": [
    "* Import cf-python and cf-plot and inspect the versions"
   ]
  },
  {
   "cell_type": "code",
   "execution_count": 5,
   "id": "b4b0c984-1adc-4515-b192-19da265e1f9a",
   "metadata": {},
   "outputs": [],
   "source": [
    "import cfplot as cfp\n",
    "import cf"
   ]
  },
  {
   "cell_type": "code",
   "execution_count": 6,
   "id": "ea75b1b6-ba78-428d-b9b2-ca29a8cf6f0d",
   "metadata": {},
   "outputs": [
    {
     "name": "stdout",
     "output_type": "stream",
     "text": [
      "cf-python version is 3.17.0\n",
      "cf-plot version is 3.3.0\n",
      "CF Conventions version is 1.11\n"
     ]
    }
   ],
   "source": [
    "print(\"cf-python version is\", cf.__version__)\n",
    "print(\"cf-plot version is\", cfp.__version__)\n",
    "print(\"CF Conventions version is\", cf.CF())"
   ]
  },
  {
   "cell_type": "markdown",
   "id": "8135f5c6-3d3e-45b6-a84a-3dcea754372f",
   "metadata": {},
   "source": [
    "* See what datasets we have to explore"
   ]
  },
  {
   "cell_type": "code",
   "execution_count": 10,
   "id": "a45afce7-abd8-4edd-b14c-eb033566bd52",
   "metadata": {},
   "outputs": [
    {
     "name": "stdout",
     "output_type": "stream",
     "text": [
      "aaaaoa.pmh8dec.pp\n",
      "alpine_precip_DJF_means.nc\n",
      "data1.nc\n",
      "data2.nc\n",
      "data3.nc\n",
      "data5.nc\n",
      "IPSL-CM5A-LR_r1i1p1_tas_n96_rcp45_mnth.nc\n",
      "land.nc\n",
      "model_precip_DJF_means_low_res.nc\n",
      "model_precip_DJF_means.nc\n",
      "precip_1D_monthly.nc\n",
      "precip_1D_yearly.nc\n",
      "precip_2010.nc\n",
      "precip_DJF_means.nc\n",
      "qbo.nc\n",
      "regions.nc\n",
      "ta.nc\n",
      "tripolar.nc\n",
      "ua.nc\n",
      "u_n216.nc\n",
      "u_n96.nc\n",
      "vaAMIPlcd_DJF.nc\n",
      "va.nc\n",
      "wapAMIPlcd_DJF.nc\n"
     ]
    }
   ],
   "source": [
    "# Note that in IPython ! preceeeds a shell command\n",
    "!ls -1 ../ncas_data"
   ]
  },
  {
   "cell_type": "markdown",
   "id": "e7640cdb-0d6f-4933-86d7-e86e7b9acbe4",
   "metadata": {},
   "source": [
    "***"
   ]
  },
  {
   "cell_type": "markdown",
   "id": "3b7a3c0a-262d-4ac4-8c10-6fa3a42ae73a",
   "metadata": {},
   "source": [
    "## Using cf-python to read dataset(s) and view the (meta)data at different detail levels\n",
    "\n",
    "**In this section we look at the basic use of cf-python, reading in one or more datasets from file and inspecting the data and the metadata at different levels of detail to suit the amount of information you want to see.**"
   ]
  },
  {
   "cell_type": "code",
   "execution_count": 14,
   "id": "67b1cd25-dedb-409b-8a57-3fff5de333dd",
   "metadata": {},
   "outputs": [],
   "source": [
    "# Read a chosen data file\n",
    "fieldlist = cf.read('../ncas_data/data1.nc')"
   ]
  },
  {
   "cell_type": "code",
   "execution_count": 15,
   "id": "70dfc26a-3163-4b56-948d-98a27472dce4",
   "metadata": {},
   "outputs": [
    {
     "data": {
      "text/plain": [
       "[<CF Field: long_name=Potential vorticity(time(1), pressure(23), latitude(160), longitude(320)) K m**2 kg**-1 s**-1>,\n",
       " <CF Field: air_temperature(time(1), pressure(23), latitude(160), longitude(320)) K>,\n",
       " <CF Field: eastward_wind(time(1), pressure(23), latitude(160), longitude(320)) m s**-1>,\n",
       " <CF Field: northward_wind(time(1), pressure(23), latitude(160), longitude(320)) m s**-1>]"
      ]
     },
     "execution_count": 15,
     "metadata": {},
     "output_type": "execute_result"
    }
   ],
   "source": [
    "# See the 'fieldlist' that cf-python interprets from the data read in\n",
    "fieldlist"
   ]
  },
  {
   "cell_type": "code",
   "execution_count": 20,
   "id": "269896a7-4f55-4792-b9be-fcbc7d931edc",
   "metadata": {},
   "outputs": [
    {
     "data": {
      "text/plain": [
       "<CF Field: long_name=Potential vorticity(time(1), pressure(23), latitude(160), longitude(320)) K m**2 kg**-1 s**-1>"
      ]
     },
     "execution_count": 20,
     "metadata": {},
     "output_type": "execute_result"
    }
   ],
   "source": [
    "# Select a particular field from the fieldlist of interest [TODO explain 'field' concept as cell, with diagram?]\n",
    "fieldlist[0]"
   ]
  },
  {
   "cell_type": "code",
   "execution_count": 21,
   "id": "cb5813f7-5594-4f9f-998e-c026dbe76f6d",
   "metadata": {},
   "outputs": [],
   "source": [
    "f = fieldlist[0]"
   ]
  },
  {
   "cell_type": "code",
   "execution_count": 22,
   "id": "84ab31d2-814d-41a7-8da6-50ab6f9a0969",
   "metadata": {},
   "outputs": [
    {
     "data": {
      "text/plain": [
       "<CF Field: long_name=Potential vorticity(time(1), pressure(23), latitude(160), longitude(320)) K m**2 kg**-1 s**-1>"
      ]
     },
     "execution_count": 22,
     "metadata": {},
     "output_type": "execute_result"
    }
   ],
   "source": [
    "# Minimal detail\n",
    "f"
   ]
  },
  {
   "cell_type": "code",
   "execution_count": 25,
   "id": "01618a8c-928a-4250-ba3c-4fef28bfa19e",
   "metadata": {},
   "outputs": [
    {
     "name": "stdout",
     "output_type": "stream",
     "text": [
      "Field: long_name=Potential vorticity (ncvar%PV)\n",
      "-----------------------------------------------\n",
      "Data            : long_name=Potential vorticity(time(1), pressure(23), latitude(160), longitude(320)) K m**2 kg**-1 s**-1\n",
      "Dimension coords: time(1) = [1964-01-21 00:00:00]\n",
      "                : pressure(23) = [1000.0, ..., 1.0] mbar\n",
      "                : latitude(160) = [89.14151763916016, ..., -89.14151763916016] degrees_north\n",
      "                : longitude(320) = [0.0, ..., 358.875] degrees_east\n"
     ]
    }
   ],
   "source": [
    "# Medium level of detail with 'print'\n",
    "print(f)"
   ]
  },
  {
   "cell_type": "code",
   "execution_count": 26,
   "id": "cb1170b2-dd14-4ebf-8bc4-7e0559c8a4a0",
   "metadata": {},
   "outputs": [
    {
     "name": "stdout",
     "output_type": "stream",
     "text": [
      "-----------------------------------------------\n",
      "Field: long_name=Potential vorticity (ncvar%PV)\n",
      "-----------------------------------------------\n",
      "Conventions = 'CF-1.7'\n",
      "_FillValue = 2e+20\n",
      "date = '21/01/64'\n",
      "history = 'Sun Sep 16 11:26:16 BST 2012 - CONVSH V1.92 16-February-2006'\n",
      "long_name = 'Potential vorticity'\n",
      "missing_value = 2e+20\n",
      "name = 'PV'\n",
      "source = 'GRIB data'\n",
      "time = '00:00'\n",
      "title = 'Potential vorticity'\n",
      "units = 'K m**2 kg**-1 s**-1'\n",
      "valid_max = 0.018913519\n",
      "valid_min = -0.008174051\n",
      "\n",
      "Data(time(1), pressure(23), latitude(160), longitude(320)) = [[[[1.3371172826737165e-06, ..., -0.0072057610377669334]]]] K m**2 kg**-1 s**-1\n",
      "\n",
      "Domain Axis: latitude(160)\n",
      "Domain Axis: longitude(320)\n",
      "Domain Axis: pressure(23)\n",
      "Domain Axis: time(1)\n",
      "\n",
      "Dimension coordinate: time\n",
      "    long_name = 't'\n",
      "    standard_name = 'time'\n",
      "    time_origin = '21-JAN-1964:00:00:00'\n",
      "    units = 'days since 1964-01-21 00:00:00'\n",
      "    Data(time(1)) = [1964-01-21 00:00:00]\n",
      "\n",
      "Dimension coordinate: pressure\n",
      "    long_name = 'p'\n",
      "    positive = 'down'\n",
      "    standard_name = 'pressure'\n",
      "    units = 'mbar'\n",
      "    Data(pressure(23)) = [1000.0, ..., 1.0] mbar\n",
      "\n",
      "Dimension coordinate: latitude\n",
      "    long_name = 'latitude'\n",
      "    standard_name = 'latitude'\n",
      "    units = 'degrees_north'\n",
      "    Data(latitude(160)) = [89.14151763916016, ..., -89.14151763916016] degrees_north\n",
      "\n",
      "Dimension coordinate: longitude\n",
      "    long_name = 'longitude'\n",
      "    modulo = ' '\n",
      "    point_spacing = 'even'\n",
      "    standard_name = 'longitude'\n",
      "    units = 'degrees_east'\n",
      "    Data(longitude(320)) = [0.0, ..., 358.875] degrees_east\n",
      "\n"
     ]
    }
   ],
   "source": [
    "# Maximal detail using 'dump()'\n",
    "f.dump()"
   ]
  },
  {
   "cell_type": "code",
   "execution_count": 29,
   "id": "2d907740-67af-4c28-a13d-6a2a707cc531",
   "metadata": {},
   "outputs": [],
   "source": [
    "# If we want to look at a particular metadata aspect, say latitude\n",
    "l = f.construct(\"latitude\")"
   ]
  },
  {
   "cell_type": "code",
   "execution_count": 30,
   "id": "307259f7-8528-4fe9-8587-449a70836461",
   "metadata": {},
   "outputs": [
    {
     "name": "stdout",
     "output_type": "stream",
     "text": [
      "latitude(160) degrees_north\n"
     ]
    }
   ],
   "source": [
    "print(l)"
   ]
  },
  {
   "cell_type": "code",
   "execution_count": 31,
   "id": "7e342afb-519f-42c6-889a-aecfb1e1ced6",
   "metadata": {},
   "outputs": [
    {
     "name": "stdout",
     "output_type": "stream",
     "text": [
      "Dimension coordinate: latitude\n",
      "    long_name = 'latitude'\n",
      "    standard_name = 'latitude'\n",
      "    units = 'degrees_north'\n",
      "    Data(160) = [89.14151763916016, ..., -89.14151763916016] degrees_north\n"
     ]
    }
   ],
   "source": [
    "l.dump()"
   ]
  },
  {
   "cell_type": "code",
   "execution_count": 33,
   "id": "562b2a02-e61a-472e-85e2-7020f704e0cb",
   "metadata": {},
   "outputs": [],
   "source": [
    "# Inspecting data\n",
    "d = f.data"
   ]
  },
  {
   "cell_type": "code",
   "execution_count": 34,
   "id": "e650fb5e-319a-41a1-bae9-b9d7e99a43c9",
   "metadata": {},
   "outputs": [
    {
     "data": {
      "text/plain": [
       "<CF Data(1, 23, 160, 320): [[[[1.3371172826737165e-06, ..., -0.0072057610377669334]]]] K m**2 kg**-1 s**-1>"
      ]
     },
     "execution_count": 34,
     "metadata": {},
     "output_type": "execute_result"
    }
   ],
   "source": [
    "d"
   ]
  },
  {
   "cell_type": "code",
   "execution_count": 35,
   "id": "e07f7420-37d1-4ba4-8cd8-f068425301bd",
   "metadata": {},
   "outputs": [
    {
     "name": "stdout",
     "output_type": "stream",
     "text": [
      "[[[[1.3371172826737165e-06, ..., -0.0072057610377669334]]]] K m**2 kg**-1 s**-1\n"
     ]
    }
   ],
   "source": [
    "print(d)"
   ]
  },
  {
   "cell_type": "code",
   "execution_count": 36,
   "id": "0147639e-56a4-4a50-9580-02ba0b557493",
   "metadata": {},
   "outputs": [
    {
     "name": "stdout",
     "output_type": "stream",
     "text": [
      "Data.shape = (1, 23, 160, 320)\n",
      "Data.first_datum = 1.3371172826737165e-06\n",
      "Data.last_datum  = -0.0072057610377669334\n",
      "Data.fill_value = 2e+20\n",
      "Data.Units = <Units: K m**2 kg**-1 s**-1>\n"
     ]
    }
   ],
   "source": [
    "d.dump()"
   ]
  },
  {
   "cell_type": "markdown",
   "id": "09d04ff2-8998-48fb-a0a6-bc5deafe8fc6",
   "metadata": {},
   "source": [
    "***"
   ]
  },
  {
   "cell_type": "markdown",
   "id": "932d2d38-b8d7-46cc-848f-b6f50b877310",
   "metadata": {},
   "source": [
    "## Using cf-python to edit the data and write out the edited data to file\n",
    "\n",
    "**In this section we demonstrate how to change the data that has been read-in from file, both in terms of the data arrays and the metadata that describes it, and then how to write data back out to file with a chosen name, so that you can see how cf-python can be used to edit data or to make new data.**"
   ]
  },
  {
   "cell_type": "code",
   "execution_count": null,
   "id": "7af83b82-0258-4ba2-bb3e-7c0c0ae6e929",
   "metadata": {},
   "outputs": [],
   "source": []
  },
  {
   "cell_type": "code",
   "execution_count": null,
   "id": "c3983e97-ffc8-4799-9a29-fa88e036a169",
   "metadata": {},
   "outputs": [],
   "source": []
  },
  {
   "cell_type": "code",
   "execution_count": null,
   "id": "4f81cbe5-5d1d-4d30-9388-2750cc81d613",
   "metadata": {},
   "outputs": [],
   "source": []
  },
  {
   "cell_type": "code",
   "execution_count": null,
   "id": "2fbbdb05-94e4-432b-b54e-2675901e6d75",
   "metadata": {},
   "outputs": [],
   "source": []
  },
  {
   "cell_type": "code",
   "execution_count": null,
   "id": "c2e55b76-f9e7-41cc-b11f-995c0bc0f2eb",
   "metadata": {},
   "outputs": [],
   "source": []
  },
  {
   "cell_type": "code",
   "execution_count": null,
   "id": "f0f6b8a5-ab63-42b9-8b59-1dfe68d48294",
   "metadata": {},
   "outputs": [],
   "source": []
  },
  {
   "cell_type": "code",
   "execution_count": null,
   "id": "35d51c76-7c36-4b7b-98c6-85df363259da",
   "metadata": {},
   "outputs": [],
   "source": []
  },
  {
   "cell_type": "code",
   "execution_count": null,
   "id": "e697f71b-3f6c-45ba-b4bc-547d26e1e8e8",
   "metadata": {},
   "outputs": [],
   "source": []
  },
  {
   "cell_type": "code",
   "execution_count": null,
   "id": "e2fa9715-2ac2-4d22-aaec-23edb764708c",
   "metadata": {},
   "outputs": [],
   "source": []
  },
  {
   "cell_type": "code",
   "execution_count": null,
   "id": "5ef24395-3a11-45d5-b91e-a742e82d80fb",
   "metadata": {},
   "outputs": [],
   "source": []
  },
  {
   "cell_type": "code",
   "execution_count": null,
   "id": "ac357e9f-85e1-4139-9a22-30c5cc0427da",
   "metadata": {},
   "outputs": [],
   "source": []
  },
  {
   "cell_type": "code",
   "execution_count": null,
   "id": "d08cff69-4bc8-4862-bfc2-06acce62ac19",
   "metadata": {},
   "outputs": [],
   "source": []
  },
  {
   "cell_type": "code",
   "execution_count": null,
   "id": "b24e2ed6-6f1e-4c76-bdfa-a0fedd50febf",
   "metadata": {},
   "outputs": [],
   "source": []
  },
  {
   "cell_type": "markdown",
   "id": "9dd6be4b-60d3-4ca8-8108-fcda62bb7d95",
   "metadata": {},
   "source": [
    "***"
   ]
  },
  {
   "cell_type": "markdown",
   "id": "4ccfd6a0-567d-43f3-9f06-15bb21afae6a",
   "metadata": {},
   "source": [
    "## Reducing datasets using cf-python (part 1): basic subspacing and collapsing\n",
    "\n",
    "**In this section we show how multi-dimensional data can be tamed using cf-python so that you can get a reduced form that can be analysed or plotted, by reducing the dimensions by selecting a subset of point(s) along the axes or collapsing down according to some statistic such as the mean or an extrema.**"
   ]
  },
  {
   "cell_type": "code",
   "execution_count": null,
   "id": "a71db8e6-d3a7-4bef-b580-143fff2ffe88",
   "metadata": {},
   "outputs": [],
   "source": []
  },
  {
   "cell_type": "code",
   "execution_count": null,
   "id": "481c51b9-40cc-4949-bfa6-e77d2a7962c0",
   "metadata": {},
   "outputs": [],
   "source": []
  },
  {
   "cell_type": "code",
   "execution_count": null,
   "id": "60cdd349-a7df-4788-8332-5fee2cbe3598",
   "metadata": {},
   "outputs": [],
   "source": []
  },
  {
   "cell_type": "code",
   "execution_count": null,
   "id": "57d21990-e813-41c5-b686-9c90deba307e",
   "metadata": {},
   "outputs": [],
   "source": []
  },
  {
   "cell_type": "code",
   "execution_count": null,
   "id": "d4b98910-09ef-4948-93c7-f85d112ce33b",
   "metadata": {},
   "outputs": [],
   "source": []
  },
  {
   "cell_type": "code",
   "execution_count": null,
   "id": "f6745c82-b11d-4cca-a0f7-4dd825f446cb",
   "metadata": {},
   "outputs": [],
   "source": []
  },
  {
   "cell_type": "code",
   "execution_count": null,
   "id": "1e650cc2-455b-462b-b078-ab8c99b0413e",
   "metadata": {},
   "outputs": [],
   "source": []
  },
  {
   "cell_type": "code",
   "execution_count": null,
   "id": "84caa2f2-1e13-493e-aeb8-5a3c7bd7c763",
   "metadata": {},
   "outputs": [],
   "source": []
  },
  {
   "cell_type": "code",
   "execution_count": null,
   "id": "d78dad0b-5b37-4992-b8fa-d73bbf6800af",
   "metadata": {},
   "outputs": [],
   "source": []
  },
  {
   "cell_type": "code",
   "execution_count": null,
   "id": "c8a61839-4fa2-4d22-b76b-4f3660dfd88b",
   "metadata": {},
   "outputs": [],
   "source": []
  },
  {
   "cell_type": "code",
   "execution_count": null,
   "id": "d8026f3d-c3bd-43ce-9483-b0f64d23fb26",
   "metadata": {},
   "outputs": [],
   "source": []
  },
  {
   "cell_type": "markdown",
   "id": "59b69a9d-a94c-464c-aa3c-482c699bc404",
   "metadata": {},
   "source": [
    "***"
   ]
  },
  {
   "cell_type": "markdown",
   "id": "80edfa76-7f87-42b9-8cef-058304ca902a",
   "metadata": {},
   "source": [
    "## Visualising datasets using cf-plot: contour and vector plots\n",
    "\n",
    "**In this section we demonstrate how to plot using cf-plot the data we have read and then processed and/or analysed using cf-python, notably showing how to create contour plots and vector plots as examples of some of the options possible with cf-plot.**"
   ]
  },
  {
   "cell_type": "code",
   "execution_count": null,
   "id": "3236057a-f133-4e53-b19f-f4c78848c18b",
   "metadata": {},
   "outputs": [],
   "source": []
  },
  {
   "cell_type": "code",
   "execution_count": null,
   "id": "3e9b510f-0acc-4e48-ad2b-cc8b4e56fa13",
   "metadata": {},
   "outputs": [],
   "source": []
  },
  {
   "cell_type": "code",
   "execution_count": null,
   "id": "18589adf-83eb-4ffb-a43c-ca4a19c1a6d8",
   "metadata": {},
   "outputs": [],
   "source": []
  },
  {
   "cell_type": "code",
   "execution_count": null,
   "id": "ece996ff-6da0-42be-8d45-02de998756b9",
   "metadata": {},
   "outputs": [],
   "source": []
  },
  {
   "cell_type": "code",
   "execution_count": null,
   "id": "fba81794-1652-44cb-bed1-f152cc068a84",
   "metadata": {},
   "outputs": [],
   "source": []
  },
  {
   "cell_type": "code",
   "execution_count": null,
   "id": "620e55cc-b300-4400-b6e8-859420a2b6c4",
   "metadata": {},
   "outputs": [],
   "source": []
  },
  {
   "cell_type": "code",
   "execution_count": null,
   "id": "f9e08f06-969d-4019-a82e-210dabe28470",
   "metadata": {},
   "outputs": [],
   "source": []
  },
  {
   "cell_type": "code",
   "execution_count": null,
   "id": "ffe229db-b678-465a-9f13-f06e0d00b120",
   "metadata": {},
   "outputs": [],
   "source": []
  },
  {
   "cell_type": "code",
   "execution_count": null,
   "id": "d493bb8a-f031-4231-90bd-fa2a08d0400a",
   "metadata": {},
   "outputs": [],
   "source": []
  },
  {
   "cell_type": "code",
   "execution_count": null,
   "id": "86b9143d-47b1-41e5-9f73-1f2ae529a82e",
   "metadata": {},
   "outputs": [],
   "source": []
  },
  {
   "cell_type": "markdown",
   "id": "b191c8b2-a038-4601-b046-997a4566c2f6",
   "metadata": {},
   "source": [
    "***"
   ]
  },
  {
   "cell_type": "markdown",
   "id": "72524bb7-a643-4753-ad8b-f419656883fa",
   "metadata": {},
   "source": [
    "## Data analysis using cf-python and cf-plot: arithmetic, statistics and plots of trends\n",
    "\n",
    "**In this section we demonstrate how to do some data analysis including performing arithmetic and statistical calculations on the data, showing how cf-python's CF Conventions metadata awareness means that the metadata is automatically updated to account for the operations that are performed.**"
   ]
  },
  {
   "cell_type": "code",
   "execution_count": null,
   "id": "7a9f7560-a07a-46df-9a4a-55783560b441",
   "metadata": {},
   "outputs": [],
   "source": []
  },
  {
   "cell_type": "code",
   "execution_count": null,
   "id": "53ecf0e8-a0a5-46a2-9b50-df6ea0f2a346",
   "metadata": {},
   "outputs": [],
   "source": []
  },
  {
   "cell_type": "code",
   "execution_count": null,
   "id": "ccd2db42-6dae-48f6-b786-2deb15ec064b",
   "metadata": {},
   "outputs": [],
   "source": []
  },
  {
   "cell_type": "code",
   "execution_count": null,
   "id": "17cd833d-eaf5-4701-9390-aae1750b6d6e",
   "metadata": {},
   "outputs": [],
   "source": []
  },
  {
   "cell_type": "code",
   "execution_count": null,
   "id": "75c53609-a668-4f14-91f6-5b033e5af493",
   "metadata": {},
   "outputs": [],
   "source": []
  },
  {
   "cell_type": "code",
   "execution_count": null,
   "id": "ab014aaa-d778-4c15-abea-fcbe3d1f141c",
   "metadata": {},
   "outputs": [],
   "source": []
  },
  {
   "cell_type": "code",
   "execution_count": null,
   "id": "c15c3068-d84f-4719-9529-d856024267ff",
   "metadata": {},
   "outputs": [],
   "source": []
  },
  {
   "cell_type": "code",
   "execution_count": null,
   "id": "eca6c20d-c39d-42db-bc3b-8b676232623a",
   "metadata": {},
   "outputs": [],
   "source": []
  },
  {
   "cell_type": "code",
   "execution_count": null,
   "id": "7fd95f11-90d9-42f8-b459-1d672d91be81",
   "metadata": {},
   "outputs": [],
   "source": []
  },
  {
   "cell_type": "code",
   "execution_count": null,
   "id": "098f995c-ef89-4b00-87da-8844036e6d06",
   "metadata": {},
   "outputs": [],
   "source": []
  },
  {
   "cell_type": "markdown",
   "id": "74b85380-eb05-4131-92cb-7468d836fb51",
   "metadata": {},
   "source": [
    "***"
   ]
  },
  {
   "cell_type": "markdown",
   "id": "aba27538-1130-4a3d-be22-f6632e297892",
   "metadata": {},
   "source": [
    "## Reducing datasets using cf-python (part 2): more options for subspacing and collapsing\n",
    "\n",
    "**In this section we continue our study of means for reduction of multi-dimensional data by subspacing and collapsing, this time using more compound or advanced subspaces such as grouped and weighted collapses and datetime subspacing.**"
   ]
  },
  {
   "cell_type": "code",
   "execution_count": null,
   "id": "1bb2727c-e593-454e-8605-a2274034014c",
   "metadata": {},
   "outputs": [],
   "source": []
  },
  {
   "cell_type": "code",
   "execution_count": null,
   "id": "71ad855c-4b61-43bd-a664-d639fc326ca9",
   "metadata": {},
   "outputs": [],
   "source": []
  },
  {
   "cell_type": "code",
   "execution_count": null,
   "id": "70b8d55c-0ef0-4079-b1f7-6fc847ffd244",
   "metadata": {},
   "outputs": [],
   "source": []
  },
  {
   "cell_type": "code",
   "execution_count": null,
   "id": "53af679f-b95d-4bc1-ac3b-eed2a203d0b5",
   "metadata": {},
   "outputs": [],
   "source": []
  },
  {
   "cell_type": "code",
   "execution_count": null,
   "id": "e1a5f53a-615e-4fd3-8e57-5525f7f278e2",
   "metadata": {},
   "outputs": [],
   "source": []
  },
  {
   "cell_type": "code",
   "execution_count": null,
   "id": "fcd42d99-9b3d-4a2b-b384-5966251a341b",
   "metadata": {},
   "outputs": [],
   "source": []
  },
  {
   "cell_type": "code",
   "execution_count": null,
   "id": "e81f193c-ca92-4e59-b555-8b8caef56e6d",
   "metadata": {},
   "outputs": [],
   "source": []
  },
  {
   "cell_type": "code",
   "execution_count": null,
   "id": "313fcfe1-0017-44d6-b16c-5b6bca5ab0a0",
   "metadata": {},
   "outputs": [],
   "source": []
  },
  {
   "cell_type": "code",
   "execution_count": null,
   "id": "4bf646eb-1a67-4dd0-b17c-2ccf7a7a4932",
   "metadata": {},
   "outputs": [],
   "source": []
  },
  {
   "cell_type": "code",
   "execution_count": null,
   "id": "2d82369e-a140-41c0-a7bd-fb7e3b25463b",
   "metadata": {},
   "outputs": [],
   "source": []
  },
  {
   "cell_type": "markdown",
   "id": "3b746f6b-ef82-4aa9-8d39-ca179f15db62",
   "metadata": {},
   "source": [
    "***"
   ]
  },
  {
   "cell_type": "markdown",
   "id": "2e4c72ef-8631-4749-b4fd-6c79c8d6e455",
   "metadata": {},
   "source": [
    "## Changing the underlying grid of data using cf-python: regridding\n",
    "\n",
    "**In this section we demonstrate how to change the underlying grid of the data to another grid which could be a higher- or lower- resolution one, or a completely different grid, which is called regridding or interpolation, and indicate various options cf-python supports for doing this.**"
   ]
  },
  {
   "cell_type": "code",
   "execution_count": null,
   "id": "5f4bb94e-4531-4ef6-a7e7-fd46ea06b7fd",
   "metadata": {},
   "outputs": [],
   "source": []
  },
  {
   "cell_type": "code",
   "execution_count": null,
   "id": "67e544cd-44e0-48e8-8484-3fc9a6348801",
   "metadata": {},
   "outputs": [],
   "source": []
  },
  {
   "cell_type": "code",
   "execution_count": null,
   "id": "0dd58b04-f3e6-4cfe-890b-204bd67a3878",
   "metadata": {},
   "outputs": [],
   "source": []
  },
  {
   "cell_type": "code",
   "execution_count": null,
   "id": "f27a6f45-6212-4547-9a92-0337fdd0a6a6",
   "metadata": {},
   "outputs": [],
   "source": []
  },
  {
   "cell_type": "code",
   "execution_count": null,
   "id": "fa74611d-1168-4cdc-becb-8ad7d480c5e9",
   "metadata": {},
   "outputs": [],
   "source": []
  },
  {
   "cell_type": "code",
   "execution_count": null,
   "id": "1847882c-0c17-4857-8f92-2da66c11e945",
   "metadata": {},
   "outputs": [],
   "source": []
  },
  {
   "cell_type": "code",
   "execution_count": null,
   "id": "bbb865cc-415c-4e8f-80e9-d2f50e21beaa",
   "metadata": {},
   "outputs": [],
   "source": []
  },
  {
   "cell_type": "code",
   "execution_count": null,
   "id": "2bc9fa76-96e6-4ae3-ac1d-95db3d76c95f",
   "metadata": {},
   "outputs": [],
   "source": []
  },
  {
   "cell_type": "code",
   "execution_count": null,
   "id": "b8a0ecd3-335b-4b11-9195-4adf62f70974",
   "metadata": {},
   "outputs": [],
   "source": []
  },
  {
   "cell_type": "markdown",
   "id": "6e48ef2e-68bd-434d-99cb-a6c972f24132",
   "metadata": {},
   "source": [
    "***"
   ]
  },
  {
   "cell_type": "markdown",
   "id": "07c4f4f5-296c-42f1-9885-214577dccab8",
   "metadata": {},
   "source": [
    "## Conclusion and recap of learning objectives\n",
    "\n",
    "The NCAS CF Data Tools are a suite of Python libraries which are designed to facilitate working with data for research in the earth sciences and aligned domains. We learnt today about the cf-python (https://ncas-cms.github.io/cf-python/) and cf-plot (https://ncas-cms.github.io/cf-plot/build/). The 'cf' in the names of the NCAS CF Data Tools corresponds to the CF Conventions, a metadata standard becoming the de-facto convention across geoscience to cover the description of data so that sharing and intercomparison is simpler.\n",
    "\n",
    "Our learning aim was to be able to use the NCAS CF Data Tools Python libraries, namely cf-python and cf-plot to process, analyse and visualise netCDF and PP datasets, whilst appreciating the context and 'unique selling point' of the libraries as being built to use the CF Conventions, a metadata standard for earth science data, to make it simpler to do what you want to do with the datasets, by working on top of a Data Model for CF. We practiced:\n",
    "\n",
    "* Using cf-python to read dataset(s) and view the (meta)data at different detail levels;\n",
    "* Using cf-python to edit the data and write out the edited data to file;\n",
    "* Reducing datasets using cf-python: subspacing and collapsing (part 1, basic, and part 2, more advanced);\n",
    "* Visualising datasets using cf-plot: contour and vector plots;\n",
    "* Data analysis using cf-python and cf-plot: arithmetic, statistics and plots of trends;\n",
    "* Changing the underlying grid of data using cf-python: regridding.\n"
   ]
  },
  {
   "cell_type": "markdown",
   "id": "8bcb9631-0732-43dd-9fe4-23f891f0d10c",
   "metadata": {},
   "source": [
    "***"
   ]
  },
  {
   "cell_type": "markdown",
   "id": "e2e0cfb4-8203-48d7-8029-7bfda9ce5be9",
   "metadata": {},
   "source": [
    "## Where to find more information and resources on the NCAS CF Data Tools\n",
    "\n",
    "Useful links relating to this training:\n",
    "\n",
    "* cf-python code home (GitHub), including Issue Tracker to report queries or questions: https://github.com/NCAS-CMS/cf-python\n",
    "* cf-python documentation: https://ncas-cms.github.io/cf-python/\n",
    "* cf-plot code home (GitHub), including Issue Tracker to report queries or questions: https://github.com/NCAS-CMS/cf-plot\n",
    "* cf-plot documentation: https://ncas-cms.github.io/cf-plot/build/\n",
    "* Technical presentation about the NCAS CF Data Tools: https://hps.vi4io.org/_media/events/2020/summer-school-cfnetcdf.pdf\n",
    "* CF Conventions homepage: https://cfconventions.org/\n",
    "* CF Conventions training homepage: https://cfconventions.org/Training/\n",
    "* This training is hosted at: https://github.com/NCAS-CMS/cf-tools-training\n",
    "* [ TODO add link to ISC course page ]\n",
    "\n",
    "If you have any questions later, either use the Issue Trackers above or you can email me at: sadie.bartholomew@ncas.ac.uk."
   ]
  },
  {
   "cell_type": "markdown",
   "id": "08fa89e2-6c21-4118-9cf9-21958bdfa00e",
   "metadata": {},
   "source": [
    "***"
   ]
  }
 ],
 "metadata": {
  "kernelspec": {
   "display_name": "Python 3 (ipykernel)",
   "language": "python",
   "name": "python3"
  },
  "language_info": {
   "codemirror_mode": {
    "name": "ipython",
    "version": 3
   },
   "file_extension": ".py",
   "mimetype": "text/x-python",
   "name": "python",
   "nbconvert_exporter": "python",
   "pygments_lexer": "ipython3",
   "version": "3.12.0"
  }
 },
 "nbformat": 4,
 "nbformat_minor": 5
}
