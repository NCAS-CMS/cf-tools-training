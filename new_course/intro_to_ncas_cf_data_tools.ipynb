{
 "cells": [
  {
   "cell_type": "markdown",
   "id": "0cd6019e-c5b3-4dc6-bf86-6fcf10b06851",
   "metadata": {},
   "source": [
    "# Introduction to the NCAS CF Data Tools, `cf-python` and `cf-plot`"
   ]
  },
  {
   "cell_type": "markdown",
   "id": "c4378ad0-8448-44ef-80e2-cd6e67346a1b",
   "metadata": {},
   "source": [
    "## Context and learning objectives\n",
    "\n",
    "**What are the NCAS CF Data Tools and why do they all have 'cf' in the name?**\n",
    "\n",
    "The NCAS CF Data Tools are a suite of Python libraries which are designed to facilitate working with data for research in the earth sciences and aligned domains. The two that are of most relevance to the average user, and those wanting to process, analyse and visualise atmospheric data, are cf-python (https://ncas-cms.github.io/cf-python/) and cf-plot (https://ncas-cms.github.io/cf-plot/build/). We will be focusing on use of cf-python and cf-plot today.\n",
    "\n",
    "The 'cf' in the names of the NCAS CF Data Tools corresponds to the CF Conventions, a metadata standard, because they are built around this standard in the form of using the CF Data Model, which as well as performance is considered a 'unique selling point' of the tools.\n",
    "\n",
    "\n",
    "**What are the CF Conventions?**\n",
    "\n",
    "The CF Conventions are a metadata standard which is becoming the de-facto convention across geoscience to cover the description of data so that sharing and intercomparison is simpler. See https://cfconventions.org/ for more information.\n",
    "\n",
    "\n",
    "**What are we going to learn in this session?**\n",
    "\n",
    "Our learning aim is to be able to use the NCAS CF Data Tools Python libraries, namely cf-python and cf-plot to process, analyse and visualise netCDF and PP datasets, whilst appreciating the context and 'unique selling point' of the libraries as being built to use the CF Conventions, a metadata standard for earth science data, to make it simpler to do what you want to do with the datasets, by working on top of a Data Model for CF.\n",
    "\n",
    "We have six distinct objectives, matching the sections in this notebook (except one section we split into two so we can introduce plotting earlier on). By the end of this lesson you should be familiar and have practiced:\n",
    "\n",
    "* Using cf-python to read dataset(s) and view the (meta)data at different detail levels;\n",
    "* Using cf-python to edit the data and write out the edited data to file;\n",
    "* Reducing datasets using cf-python: subspacing and collapsing (part 1, basic, and part 2, more advanced);\n",
    "* Visualising datasets using cf-plot: contour and vector plots;\n",
    "* Data analysis using cf-python and cf-plot: arithmetic, statistics and plots of trends;\n",
    "* Changing the underlying grid of data using cf-python: regridding.\n"
   ]
  },
  {
   "cell_type": "markdown",
   "id": "1c3beb87-7b0d-44ad-9da3-fa32494b795c",
   "metadata": {},
   "source": [
    "***"
   ]
  },
  {
   "cell_type": "markdown",
   "id": "196e9e0a-83d1-464c-b53c-a6fc2e0c19ff",
   "metadata": {},
   "source": [
    "## Setting up\n",
    "\n",
    "**In this section we set up this Notebook, import the libraries and check the data we will work with, ready to use the libraries within this notebook.**"
   ]
  },
  {
   "cell_type": "markdown",
   "id": "6cfa3e24-6400-4de0-b155-aab85f701441",
   "metadata": {},
   "source": [
    "* Set up notebook for nice outputs in this Jupyter Notebook (not required in interactive Python or a script)"
   ]
  },
  {
   "cell_type": "code",
   "execution_count": 4,
   "id": "aadf1e3e-382f-47c5-aeee-b52f3cd2868d",
   "metadata": {},
   "outputs": [],
   "source": [
    "%matplotlib inline\n",
    "\n",
    "import warnings\n",
    "warnings.filterwarnings('ignore')"
   ]
  },
  {
   "cell_type": "markdown",
   "id": "d073760a-6734-4a1d-9832-a70a8e0dd089",
   "metadata": {},
   "source": [
    "* Import cf-python and cf-plot and inspect the versions"
   ]
  },
  {
   "cell_type": "code",
   "execution_count": 5,
   "id": "b4b0c984-1adc-4515-b192-19da265e1f9a",
   "metadata": {},
   "outputs": [],
   "source": [
    "import cfplot as cfp\n",
    "import cf"
   ]
  },
  {
   "cell_type": "code",
   "execution_count": 6,
   "id": "ea75b1b6-ba78-428d-b9b2-ca29a8cf6f0d",
   "metadata": {},
   "outputs": [
    {
     "name": "stdout",
     "output_type": "stream",
     "text": [
      "cf-python version is 3.17.0\n",
      "cf-plot version is 3.3.0\n",
      "CF Conventions version is 1.11\n"
     ]
    }
   ],
   "source": [
    "print(\"cf-python version is\", cf.__version__)\n",
    "print(\"cf-plot version is\", cfp.__version__)\n",
    "print(\"CF Conventions version is\", cf.CF())"
   ]
  },
  {
   "cell_type": "markdown",
   "id": "e7640cdb-0d6f-4933-86d7-e86e7b9acbe4",
   "metadata": {},
   "source": [
    "***"
   ]
  },
  {
   "cell_type": "markdown",
   "id": "3b7a3c0a-262d-4ac4-8c10-6fa3a42ae73a",
   "metadata": {},
   "source": [
    "## Using cf-python to read dataset(s) and view the (meta)data at different detail levels\n",
    "\n",
    "**In this section we look at the basic use of cf-python, reading in one or more datasets from file and inspecting the data and the metadata at different levels of detail to suit the amount of information you want to see.**"
   ]
  },
  {
   "cell_type": "markdown",
   "id": "09d04ff2-8998-48fb-a0a6-bc5deafe8fc6",
   "metadata": {},
   "source": [
    "***"
   ]
  },
  {
   "cell_type": "markdown",
   "id": "932d2d38-b8d7-46cc-848f-b6f50b877310",
   "metadata": {},
   "source": [
    "## Using cf-python to edit the data and write out the edited data to file\n",
    "\n",
    "**In this section we demonstrate how to change the data that has been read-in from file, both in terms of the data arrays and the metadata that describes it, and then how to write data back out to file with a chosen name, so that you can see how cf-python can be used to edit data or to make new data.**"
   ]
  },
  {
   "cell_type": "markdown",
   "id": "9dd6be4b-60d3-4ca8-8108-fcda62bb7d95",
   "metadata": {},
   "source": [
    "***"
   ]
  },
  {
   "cell_type": "markdown",
   "id": "4ccfd6a0-567d-43f3-9f06-15bb21afae6a",
   "metadata": {},
   "source": [
    "## Reducing datasets using cf-python (part 1): basic subspacing and collapsing\n",
    "\n",
    "**In this section we show how multi-dimensional data can be tamed using cf-python so that you can get a reduced form that can be analysed or plotted, by reducing the dimensions by selecting a subset of point(s) along the axes or collapsing down according to some statistic such as the mean or an extrema.**"
   ]
  },
  {
   "cell_type": "markdown",
   "id": "59b69a9d-a94c-464c-aa3c-482c699bc404",
   "metadata": {},
   "source": [
    "***"
   ]
  },
  {
   "cell_type": "markdown",
   "id": "80edfa76-7f87-42b9-8cef-058304ca902a",
   "metadata": {},
   "source": [
    "## Visualising datasets using cf-plot: contour and vector plots\n",
    "\n",
    "**In this section we demonstrate how to plot using cf-plot the data we have read and then processed and/or analysed using cf-python, notably showing how to create contour plots and vector plots as examples of some of the options possible with cf-plot.**"
   ]
  },
  {
   "cell_type": "markdown",
   "id": "b191c8b2-a038-4601-b046-997a4566c2f6",
   "metadata": {},
   "source": [
    "***"
   ]
  },
  {
   "cell_type": "markdown",
   "id": "72524bb7-a643-4753-ad8b-f419656883fa",
   "metadata": {},
   "source": [
    "## Data analysis using cf-python and cf-plot: arithmetic, statistics and plots of trends\n",
    "\n",
    "**In this section we demonstrate how to do some data analysis including performing arithmetic and statistical calculations on the data, showing how cf-python's CF Conventions metadata awareness means that the metadata is automatically updated to account for the operations that are performed.**"
   ]
  },
  {
   "cell_type": "markdown",
   "id": "74b85380-eb05-4131-92cb-7468d836fb51",
   "metadata": {},
   "source": [
    "***"
   ]
  },
  {
   "cell_type": "markdown",
   "id": "aba27538-1130-4a3d-be22-f6632e297892",
   "metadata": {},
   "source": [
    "## Reducing datasets using cf-python (part 2): more options for subspacing and collapsing\n",
    "\n",
    "**In this section we continue our study of means for reduction of multi-dimensional data by subspacing and collapsing, this time using more compound or advanced subspaces such as grouped and weighted collapses and datetime subspacing.**"
   ]
  },
  {
   "cell_type": "markdown",
   "id": "3b746f6b-ef82-4aa9-8d39-ca179f15db62",
   "metadata": {},
   "source": [
    "***"
   ]
  },
  {
   "cell_type": "markdown",
   "id": "2e4c72ef-8631-4749-b4fd-6c79c8d6e455",
   "metadata": {},
   "source": [
    "## Changing the underlying grid of data using cf-python: regridding\n",
    "\n",
    "**In this section we demonstrate how to change the underlying grid of the data to another grid which could be a higher- or lower- resolution one, or a completely different grid, which is called regridding or interpolation, and indicate various options cf-python supports for doing this.**"
   ]
  },
  {
   "cell_type": "markdown",
   "id": "6e48ef2e-68bd-434d-99cb-a6c972f24132",
   "metadata": {},
   "source": [
    "***"
   ]
  },
  {
   "cell_type": "markdown",
   "id": "07c4f4f5-296c-42f1-9885-214577dccab8",
   "metadata": {},
   "source": [
    "## Conclusion and recap of learning objectives\n",
    "\n",
    "The NCAS CF Data Tools are a suite of Python libraries which are designed to facilitate working with data for research in the earth sciences and aligned domains. We learnt today about the cf-python (https://ncas-cms.github.io/cf-python/) and cf-plot (https://ncas-cms.github.io/cf-plot/build/). The 'cf' in the names of the NCAS CF Data Tools corresponds to the CF Conventions, a metadata standard becoming the de-facto convention across geoscience to cover the description of data so that sharing and intercomparison is simpler.\n",
    "\n",
    "Our learning aim was to be able to use the NCAS CF Data Tools Python libraries, namely cf-python and cf-plot to process, analyse and visualise netCDF and PP datasets, whilst appreciating the context and 'unique selling point' of the libraries as being built to use the CF Conventions, a metadata standard for earth science data, to make it simpler to do what you want to do with the datasets, by working on top of a Data Model for CF. We practiced:\n",
    "\n",
    "* Using cf-python to read dataset(s) and view the (meta)data at different detail levels;\n",
    "* Using cf-python to edit the data and write out the edited data to file;\n",
    "* Reducing datasets using cf-python: subspacing and collapsing (part 1, basic, and part 2, more advanced);\n",
    "* Visualising datasets using cf-plot: contour and vector plots;\n",
    "* Data analysis using cf-python and cf-plot: arithmetic, statistics and plots of trends;\n",
    "* Changing the underlying grid of data using cf-python: regridding.\n"
   ]
  },
  {
   "cell_type": "markdown",
   "id": "8bcb9631-0732-43dd-9fe4-23f891f0d10c",
   "metadata": {},
   "source": [
    "***"
   ]
  },
  {
   "cell_type": "markdown",
   "id": "e2e0cfb4-8203-48d7-8029-7bfda9ce5be9",
   "metadata": {},
   "source": [
    "## Where to find more information and resources on the NCAS CF Data Tools\n",
    "\n",
    "Useful links relating to this training:\n",
    "\n",
    "* cf-python code home (GitHub), including Issue Tracker to report queries or questions: https://github.com/NCAS-CMS/cf-python\n",
    "* cf-python documentation: https://ncas-cms.github.io/cf-python/\n",
    "* cf-plot code home (GitHub), including Issue Tracker to report queries or questions: https://github.com/NCAS-CMS/cf-plot\n",
    "* cf-plot documentation: https://ncas-cms.github.io/cf-plot/build/\n",
    "* Technical presentation about the NCAS CF Data Tools: https://hps.vi4io.org/_media/events/2020/summer-school-cfnetcdf.pdf\n",
    "* CF Conventions homepage: https://cfconventions.org/\n",
    "* CF Conventions training homepage: https://cfconventions.org/Training/\n",
    "* This training is hosted at: https://github.com/NCAS-CMS/cf-tools-training\n",
    "* [ TODO add link to ISC course page ]\n",
    "\n",
    "If you have any questions later, either use the Issue Trackers above or you can email me at: sadie.bartholomew@ncas.ac.uk."
   ]
  },
  {
   "cell_type": "markdown",
   "id": "08fa89e2-6c21-4118-9cf9-21958bdfa00e",
   "metadata": {},
   "source": [
    "***"
   ]
  }
 ],
 "metadata": {
  "kernelspec": {
   "display_name": "Python 3 (ipykernel)",
   "language": "python",
   "name": "python3"
  },
  "language_info": {
   "codemirror_mode": {
    "name": "ipython",
    "version": 3
   },
   "file_extension": ".py",
   "mimetype": "text/x-python",
   "name": "python",
   "nbconvert_exporter": "python",
   "pygments_lexer": "ipython3",
   "version": "3.12.0"
  }
 },
 "nbformat": 4,
 "nbformat_minor": 5
}
