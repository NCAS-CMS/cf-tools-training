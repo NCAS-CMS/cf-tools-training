{
 "cells": [
  {
   "cell_type": "markdown",
   "id": "0cd6019e-c5b3-4dc6-bf86-6fcf10b06851",
   "metadata": {},
   "source": [
    "# T4. Visualising datasets as contour and vector plots\n",
    "\n",
    "## Teaching Notebook 4 (of 6) for *Intro to the NCAS CF Data Tools, cf-python and cf-plot*\n",
    "\n",
    "**In this section we demonstrate how to plot using cf-plot the data we have read and then processed and/or analysed using cf-python, notably showing how to create contour plots and vector plots as examples of some of the available plot types.**"
   ]
  },
  {
   "cell_type": "markdown",
   "id": "1c3beb87-7b0d-44ad-9da3-fa32494b795c",
   "metadata": {},
   "source": [
    "***"
   ]
  },
  {
   "cell_type": "markdown",
   "id": "18e31280-ee6a-4d52-91ec-50badf721b77",
   "metadata": {},
   "source": [
    "## Setting up\n",
    "\n",
    "**In this short prelude we set up this Notebook, import the libraries and check the data we will work with, ready to use the libraries and the data (exactly as per the first Notebook setup but in one cell only for quick execution).**"
   ]
  },
  {
   "cell_type": "code",
   "execution_count": null,
   "id": "d7020230-1828-417a-b2dc-70b07f901806",
   "metadata": {},
   "outputs": [],
   "source": [
    "# Set up for inline plots - only needed inside a Notebook environment - and to ignore some repeating warnings\n",
    "%matplotlib inline\n",
    "\n",
    "import warnings\n",
    "warnings.filterwarnings(\"ignore\")\n",
    "\n",
    "# Import the two CF Data Tools libraries and inspect the versions\n",
    "import cfplot as cfp\n",
    "import cf\n",
    "print(\"--- Version report: ---\")\n",
    "print(\"cf-python version is:\", cf.__version__)\n",
    "print(\"cf-plot version is:\", cfp.__version__)\n",
    "print(\"CF Conventions version is:\", cf.CF())\n",
    "\n",
    "# See what datasets we have to explore within the data directory we use throughout this course\n",
    "print(\"--- Datasets available from the path '../ncas_data': ---\")\n",
    "# Note that in a Jupyter Notebook, '!' precedes a shell command - so this is a command, not Python\n",
    "!ls ../ncas_data"
   ]
  },
  {
   "cell_type": "markdown",
   "id": "e7640cdb-0d6f-4933-86d7-e86e7b9acbe4",
   "metadata": {},
   "source": [
    "***"
   ]
  },
  {
   "cell_type": "markdown",
   "id": "80edfa76-7f87-42b9-8cef-058304ca902a",
   "metadata": {},
   "source": [
    "## 4. Visualising datasets as contour and vector plots"
   ]
  },
  {
   "cell_type": "markdown",
   "id": "079820ff-aa40-48c6-8775-46d6b12aec69",
   "metadata": {},
   "source": [
    "For this section let's use other fields within the fieldlist we read in for section one, where we investigated the first of the four fields (index 0) in that section:"
   ]
  },
  {
   "cell_type": "code",
   "execution_count": null,
   "id": "a71db8e6-d3a7-4bef-b580-143fff2ffe88",
   "metadata": {},
   "outputs": [],
   "source": [
    "# Required from Step 1\n",
    "fieldlist = cf.read(\"../ncas_data/data1.nc\")\n",
    "print(\"Field List is:\", fieldlist)"
   ]
  },
  {
   "cell_type": "markdown",
   "id": "e227e533-3651-4d92-8c99-c89a8258c310",
   "metadata": {},
   "source": [
    "This time let's investigate the other (final) three fields. First we unpack these to variables to save us applying the indexing multiple times (note we assign variable names `fieldN` to a number `N` incremented with fields read and assigned to variable names from the start of the Notebook, not with numbers corresponding to the index position):"
   ]
  },
  {
   "cell_type": "code",
   "execution_count": null,
   "id": "481c51b9-40cc-4949-bfa6-e77d2a7962c0",
   "metadata": {},
   "outputs": [],
   "source": [
    "temp_field = fieldlist[1]\n",
    "wind_u_field = fieldlist[2]\n",
    "wind_v_field = fieldlist[3]"
   ]
  },
  {
   "cell_type": "markdown",
   "id": "e400727a-e49e-4d51-84b5-c263594b41f9",
   "metadata": {},
   "source": [
    "Now let's see what the fields are like, with medium detail, using a new-line separated print to break up the outputs:"
   ]
  },
  {
   "cell_type": "code",
   "execution_count": null,
   "id": "60cdd349-a7df-4788-8332-5fee2cbe3598",
   "metadata": {},
   "outputs": [],
   "source": [
    "print(\"'temp_field' is:\", temp_field, \"\\n\")\n",
    "print(\"'wind_u_field' is:\", wind_u_field, \"\\n\")\n",
    "print(\"'wind_v_field' is:\", wind_v_field, \"\\n\")"
   ]
  },
  {
   "cell_type": "markdown",
   "id": "794c4940-43fd-45a3-ba9a-69084c0e5ccd",
   "metadata": {},
   "source": [
    "### a) Making a contour plot"
   ]
  },
  {
   "cell_type": "markdown",
   "id": "3389b8d4-a3ff-415f-9507-cf3baa82c5a1",
   "metadata": {},
   "source": [
    "All of these fields, as we can see from the latitude and longitude value ranges, span the whole globe in extent. Another quick way to gauge this, and plenty of other information about a field notably the data itself and its form and pattern(s), is to plot it.\n",
    "\n",
    "To make a contour (level) plot of a field, use the `con` function of cf-plot. It requires as its one positional argument a field with only two axes which are greater than size one in order to have an effective 2D field, often a 'slice' i.e. subspace or collapse of a higher-dimensional field, it can plot.\n",
    "\n",
    "For example, for our fields above we need to reduce one axis down to achieve this, so for example we can reduce the `pressure` coordinate. Let's take a subspace at a given pressure (we take 1000 mbar, the highest in the field), and plot it:"
   ]
  },
  {
   "cell_type": "code",
   "execution_count": null,
   "id": "3e9b510f-0acc-4e48-ad2b-cc8b4e56fa13",
   "metadata": {},
   "outputs": [],
   "source": [
    "cfp.con(temp_field.subspace(pressure=1000.0))"
   ]
  },
  {
   "cell_type": "markdown",
   "id": "9e2e7348-0df5-4c97-aab5-73e73a3bca0f",
   "metadata": {},
   "source": [
    "Let's see what the equivalent plot would be for the subspace over a different pressure, this time the lowest 1 mbar:"
   ]
  },
  {
   "cell_type": "code",
   "execution_count": null,
   "id": "18589adf-83eb-4ffb-a43c-ca4a19c1a6d8",
   "metadata": {},
   "outputs": [],
   "source": [
    "cfp.con(temp_field.subspace(pressure=1.0))"
   ]
  },
  {
   "cell_type": "markdown",
   "id": "b19186dc-3480-47d1-a859-79008841bd58",
   "metadata": {},
   "source": [
    "### b) Customising the (contour) plot"
   ]
  },
  {
   "cell_type": "markdown",
   "id": "3f9f60bb-a492-447c-b5ba-d248eec9fe38",
   "metadata": {},
   "source": [
    "cf-plot provides numerous ways to customise a specific plot such as those above. We demonstrate just a small number here.\n",
    "\n",
    "The second plot from the previous sub-section, in particular, has contour lines which are so dense they obscure the world map and data pattern so let's hide those which you do by specifying `lines=False` to the `con` call:"
   ]
  },
  {
   "cell_type": "code",
   "execution_count": null,
   "id": "ece996ff-6da0-42be-8d45-02de998756b9",
   "metadata": {},
   "outputs": [],
   "source": [
    "cfp.con(temp_field.subspace(pressure=1.0), lines=False)"
   ]
  },
  {
   "cell_type": "markdown",
   "id": "6285497e-e579-48cf-a10a-032ddf4d944f",
   "metadata": {},
   "source": [
    "Let's also do some further customisation of the plot above, as follows:\n",
    "\n",
    "- use a different map projection;\n",
    "- set a different colour map for the data;\n",
    "- move the colour bar to be vertical not horizontal;\n",
    "- add a title:"
   ]
  },
  {
   "cell_type": "code",
   "execution_count": null,
   "id": "fba81794-1652-44cb-bed1-f152cc068a84",
   "metadata": {},
   "outputs": [],
   "source": [
    "cfp.mapset(proj=\"robin\") # changes the projection\n",
    "cfp.cscale(\"plasma\")  # changes the colour scale/map\n",
    "cfp.con(\n",
    "    temp_field.subspace(pressure=1.0),\n",
    "    lines=False,\n",
    "    colorbar_orientation=\"vertical\",  # tells cf-plot to make a vertical colour bar (horizontal is the default)\n",
    "    title=\"Air temperaure field\"  # adds the specified title\n",
    ")"
   ]
  },
  {
   "cell_type": "markdown",
   "id": "306d0813-dc38-44ff-8b38-705245be209c",
   "metadata": {},
   "source": [
    "We might want to view a smaller section of the data, say over Australia only. We can do this in two ways:\n",
    "\n",
    "1. by reducing the data further; or\n",
    "2. by specifying to cf-plot to only show a smaller window on the data.\n",
    "\n",
    "For (1), instead of a subspace on just pressure, we also suspace on X and Y i.e. longitude and latitude, to reduce those axes. We can use `cf.wi` which specifies a 'within' condition. First, define the extrema of both of these we want to view, for example these are those longitudes and latitudes which provide a view centered around Australia:"
   ]
  },
  {
   "cell_type": "code",
   "execution_count": null,
   "id": "f9e08f06-969d-4019-a82e-210dabe28470",
   "metadata": {},
   "outputs": [],
   "source": [
    "cfp.mapset() # resets the projection\n",
    "lonmin = 110\n",
    "lonmax = 155\n",
    "latmin = -45\n",
    "latmax = -5"
   ]
  },
  {
   "cell_type": "markdown",
   "id": "46721929-6a3a-4ad5-8388-fc183d1bd7d1",
   "metadata": {},
   "source": [
    "Now do method (1) from above, via a subspace on three axes, pressure (as before) as well as longitude and latitude (new). Note we could do each subspace via a separate call, but they can also be done together in one call like so:"
   ]
  },
  {
   "cell_type": "code",
   "execution_count": null,
   "id": "fab363a9-53b5-4338-8572-2fea2fd01029",
   "metadata": {},
   "outputs": [],
   "source": [
    "# Do further subspacing to reduce the latitude and longitude with cf-python\n",
    "fsub_all = temp_field.subspace(\n",
    "    pressure=1.0,\n",
    "    longitude=cf.wi(lonmin, lonmax),\n",
    "    latitude=cf.wi(latmin, latmax)\n",
    ")\n",
    "\n",
    "# Plot the above\n",
    "cfp.con(fsub_all, lines=False)"
   ]
  },
  {
   "cell_type": "markdown",
   "id": "2620c019-4e45-4d37-a788-cf5eb76c1915",
   "metadata": {},
   "source": [
    "Method (2) can be achieved by setting the keyword arguments to the cf-plot `mapset` method like so:"
   ]
  },
  {
   "cell_type": "code",
   "execution_count": null,
   "id": "ffe229db-b678-465a-9f13-f06e0d00b120",
   "metadata": {},
   "outputs": [],
   "source": [
    "cfp.mapset(lonmin=lonmin, lonmax=lonmax, latmin=latmin, latmax=latmax)\n",
    "cfp.con(temp_field.subspace(pressure=1.0), lines=False)"
   ]
  },
  {
   "cell_type": "markdown",
   "id": "290bdc79-069f-49e1-a997-81413f35c398",
   "metadata": {},
   "source": [
    "Note the differences in colour shades between the two plots from the different approaches are because in approach (2) cf-plot normalises the colour map extent of the data to only account for the area shown."
   ]
  },
  {
   "cell_type": "markdown",
   "id": "6964260d-84fb-41d9-a1b9-a74e85a79c20",
   "metadata": {},
   "source": [
    "### c) Making a vector plot with basic customisation"
   ]
  },
  {
   "cell_type": "markdown",
   "id": "8688ff02-0aa0-42ba-a38c-abcf6e3494ea",
   "metadata": {},
   "source": [
    "Finally let's make some vector plots. Notice our final two fields from the read-in fieldlist are in eastward and northward components, therefore can be combined into vectors from these vector components:"
   ]
  },
  {
   "cell_type": "code",
   "execution_count": null,
   "id": "d493bb8a-f031-4231-90bd-fa2a08d0400a",
   "metadata": {},
   "outputs": [],
   "source": [
    "print(wind_u_field)\n",
    "print(wind_v_field)"
   ]
  },
  {
   "cell_type": "markdown",
   "id": "e58a7017-a0d3-4191-b85d-d4e72c251298",
   "metadata": {},
   "source": [
    "Again we need to subspace in pressure so that we have an effective 2D not 4D space that can be visualised as a contour plot.\n",
    "This time let's take our subspace at 500 mbar pressure:"
   ]
  },
  {
   "cell_type": "code",
   "execution_count": null,
   "id": "0cce64a8-2b29-4ac1-9034-f9d82e501827",
   "metadata": {},
   "outputs": [],
   "source": [
    "u = wind_u_field.subspace(pressure=500.0)\n",
    "v = wind_v_field.subspace(pressure=500.0)"
   ]
  },
  {
   "cell_type": "markdown",
   "id": "7f7ebfb0-73a9-492b-9e5e-614e26333ac6",
   "metadata": {},
   "source": [
    "To make a vector plot using cf-plot, use the `vect` function:"
   ]
  },
  {
   "cell_type": "code",
   "execution_count": null,
   "id": "6639ea78-4d27-4c82-81c6-cfee0587dc04",
   "metadata": {},
   "outputs": [],
   "source": [
    "cfp.mapset()  # reset the mapping settings, including map projection\n",
    "cfp.vect(u=u, v=v)"
   ]
  },
  {
   "cell_type": "markdown",
   "id": "fd721190-98da-4770-9842-fcd006bbe3b0",
   "metadata": {},
   "source": [
    "We can mostly just see black here! This is expected and because we need to customise the vector spacing. There are clearly too many vectors shown they overwhelm the plot area, so use the `scale` and `stride` keyword arguments to `vect` to edit the size and spacing of the vector arrows respectively:"
   ]
  },
  {
   "cell_type": "code",
   "execution_count": null,
   "id": "72527e5d-cf24-4beb-9e19-eb90995af0c7",
   "metadata": {},
   "outputs": [],
   "source": [
    "cfp.vect(u=u, v=v, scale=100, stride=4)  # much better - found these values after playing around with values"
   ]
  },
  {
   "cell_type": "markdown",
   "id": "3df50206-c6df-4ab0-bbd0-4c09976994b8",
   "metadata": {},
   "source": [
    "Like for contour plotting, we can focus in on specific areas of the data in space via the two methods covered there. In the vector plot case, note we may need to adjust the vector spacing and size again for optimal viewing."
   ]
  },
  {
   "cell_type": "code",
   "execution_count": null,
   "id": "5f6b8d5c-5c14-4e08-b539-b256a65046e4",
   "metadata": {},
   "outputs": [],
   "source": [
    "cfp.mapset(lonmin=lonmin, lonmax=lonmax, latmin=latmin, latmax=latmax) # also resets the projection to the default 'cyl'\n",
    "cfp.vect(u=u, v=v)"
   ]
  },
  {
   "cell_type": "markdown",
   "id": "330207a2-dd98-480d-b828-7ed34b73f39d",
   "metadata": {},
   "source": [
    "Trial and error for vector size and spacing gives a nicer result for the above plot with:"
   ]
  },
  {
   "cell_type": "code",
   "execution_count": null,
   "id": "5575b4c9-6b78-4c1f-a157-40df44f028bd",
   "metadata": {},
   "outputs": [],
   "source": [
    "cfp.vect(u=u, v=v, scale=50, stride=1)  # better than the above!"
   ]
  },
  {
   "cell_type": "markdown",
   "id": "b191c8b2-a038-4601-b046-997a4566c2f6",
   "metadata": {},
   "source": [
    "***"
   ]
  }
 ],
 "metadata": {
  "kernelspec": {
   "display_name": "Python 3 (ipykernel)",
   "language": "python",
   "name": "python3"
  },
  "language_info": {
   "codemirror_mode": {
    "name": "ipython",
    "version": 3
   },
   "file_extension": ".py",
   "mimetype": "text/x-python",
   "name": "python",
   "nbconvert_exporter": "python",
   "pygments_lexer": "ipython3",
   "version": "3.12.0"
  }
 },
 "nbformat": 4,
 "nbformat_minor": 5
}
