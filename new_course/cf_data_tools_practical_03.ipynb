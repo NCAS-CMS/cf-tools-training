{
 "cells": [
  {
   "cell_type": "markdown",
   "id": "0cd6019e-c5b3-4dc6-bf86-6fcf10b06851",
   "metadata": {},
   "source": [
    "# Practical for 'introduction to the NCAS CF Data Tools, cf-python and cf-plot'"
   ]
  },
  {
   "cell_type": "markdown",
   "id": "1e8d7e64-fd9a-4e9b-a369-61d5635cbb62",
   "metadata": {},
   "source": [
    "<div class=\"alert alert-block alert-success\">\n",
    "<i>Practical instructions:</i> these green boxes provide instructions and tips about doing this practical (blue boxes are the same as in the teaching notebook and provide useful information). As guidance and for reference, the following are provided below before the practical material starts:\n",
    "<ul>\n",
    "    <li>the context and learning objectives from the main/presented Notebook below - you are advised to re-read this as a reminder;</li>\n",
    "    <li>a copy of the final section from the main Notebook which provides links to further information - you might find the documentation links especially useful here;</li>\n",
    "    <li>the note on terminology from section one is included also in the reminder as a guide to terms used throughout - read this if useful.</li>\n",
    "</ul>\n",
    "</div>\n",
    "</div>"
   ]
  },
  {
   "cell_type": "markdown",
   "id": "c4378ad0-8448-44ef-80e2-cd6e67346a1b",
   "metadata": {},
   "source": [
    "## A reminder: context, learning objectives and guidance links\n",
    "\n",
    "### What are the NCAS CF Data Tools and why do they all have 'cf' in the name?\n",
    "\n",
    "The _NCAS CF Data Tools_ are a suite of complementary Python libraries which are designed to facilitate working with data for research in the earth sciences and aligned domains. The two that are of most relevance to the average user, and those wanting to process, analyse and visualise atmospheric data, are *cf-python* (https://ncas-cms.github.io/cf-python/) and *cf-plot* (https://ncas-cms.github.io/cf-plot/build/). We will be focusing on use of cf-python and cf-plot today.\n",
    "\n",
    "The 'cf' in the names of the NCAS CF Data Tools corresponds to the _CF Conventions_, a metadata standard, because they are built around this standard in the form of using the CF Data Model, which as well as performance is considered a 'unique selling point' of the tools.\n",
    "\n",
    "\n",
    "### What are the CF Conventions?\n",
    "\n",
    "The _CF Conventions_, usually referred to in this way but also know by the full name of the **C**limate and **F**orecast (CF) metadata conventions, are a metadata standard which is becoming the de-facto convention to cover the description of geoscientific data so that sharing and intercomparison is simpler. See https://cfconventions.org/ for more information.\n",
    "\n",
    "\n",
    "### What are we going to learn in this session?\n",
    "\n",
    "Our **learning aim** is to be able to use the NCAS CF Data Tools Python libraries, namely cf-python and cf-plot to process, analyse and visualise netCDF and PP datasets, whilst appreciating the context and 'unique selling point' of the libraries as being built to use the CF Conventions, a metadata standard for earth science data, to make it simpler to do what you want to do with the datasets, by working on top of a Data Model for CF.\n",
    "\n",
    "We have **six distinct objectives**, matching the sections in this notebook and in the practical notebook you will work through. By the end of this lesson you should be familiar and have practiced using cf-python and cf-plot to:\n",
    "\n",
    "1. read dataset(s) and view the (meta)data at different detail levels;\n",
    "2. edit the (meta)data and write out the edited version to file;\n",
    "3. reduce datasets by subspacing and collapsing;\n",
    "4. visualise datasets as contour and vector plots;\n",
    "5. analyse data: applying mathematical and statistical operations and plotting trends;\n",
    "6. change the underlying grid of data through regridding."
   ]
  },
  {
   "cell_type": "markdown",
   "id": "26aa2a28-22ce-4e9f-bc1e-6b0d76ab807c",
   "metadata": {},
   "source": [
    "### Guidance: where to find more information and resources on the NCAS CF Data Tools\n",
    "\n",
    "Here are some links relating to the NCAS CF Data Tools and this training.\n",
    "\n",
    "* This training, with further material, is hosted online and there are instructions for setting up the environment so you can work through it in your own time: https://github.com/NCAS-CMS/cf-tools-training.\n",
    "* **The cf-python documentation lives at https://ncas-cms.github.io/cf-python/.**\n",
    "* The cf-python code lives on GitHub at https://github.com/NCAS-CMS/cf-python. There is an Issue Tracker to report queries or questions at https://github.com/NCAS-CMS/cf-python/issues.\n",
    "* **The cf-plot documentation lives at https://ncas-cms.github.io/cf-plot/build/.**\n",
    "* The cf-plot code lives on GitHub at https://github.com/NCAS-CMS/cf-plot. There is an Issue Tracker to report queries or questions at https://github.com/NCAS-CMS/cf-plot/issues.\n",
    "* There is a technical presentation about the NCAS CF Data Tools avaialble from https://hps.vi4io.org/_media/events/2020/summer-school-cfnetcdf.pdf.\n",
    "* The website of the CF Conventions can be found at https://cfconventions.org/.\n",
    "* The landing page for training into the CF Conventions is found here within the website above: https://cfconventions.org/Training/.\n",
    "\n",
    "If you have any queries after this course, please either use the Issue Trackers linked above or you can email me at: sadie.bartholomew@ncas.ac.uk."
   ]
  },
  {
   "cell_type": "markdown",
   "id": "7ca3e79a-e39f-4a04-9dc5-3b56036bef5e",
   "metadata": {},
   "source": [
    "<div class=\"alert alert-block alert-info\">\n",
    "<i>Note:</i> In cf-python and when discussing related code and datasets, we use terminology from the CF Data Model (for more detail see: <a href=\"url\">https://ncas-cms.github.io/cf-python/cf_data_model.html</a>). For example cf-python methods are named in relation to concepts from this data model. We don't have time to cover this in detail but for this session it is useful to know the following terms:\n",
    "\n",
    "<ul>\n",
    "    <li><b>field</b>: a self-contained cf-python object corresponding to a netCDF data variable with all of its (CF) metadata attached;</li>\n",
    "    <li><b>field list</b>: a list of lields (see above), stored as its own cf-python object 'FieldList' which is similar to a Python list;</li>\n",
    "    <li><b>coordinate</b>: a (CF) metadata concept which corresponds to netCDF coordinate variables. One or more coordinates are defined on every field as either 'dimension' or 'auxiliary' coordinate objects in cf-python.</li>\n",
    "</ul>\n",
    "</div>"
   ]
  },
  {
   "cell_type": "markdown",
   "id": "1c3beb87-7b0d-44ad-9da3-fa32494b795c",
   "metadata": {},
   "source": [
    "***"
   ]
  },
  {
   "cell_type": "markdown",
   "id": "df666543-52ee-402a-8fa4-cb4d8389f3a8",
   "metadata": {},
   "source": [
    "<div class=\"alert alert-block alert-success\">\n",
    "<i>Practical instructions:</i> run all of the cells in this section to do the set up.\n",
    "</div>"
   ]
  },
  {
   "cell_type": "markdown",
   "id": "196e9e0a-83d1-464c-b53c-a6fc2e0c19ff",
   "metadata": {},
   "source": [
    "## Setting up\n",
    "\n",
    "**In this section we set up this Notebook, import the libraries and check the data we will work with, ready to use the libraries within this notebook.**"
   ]
  },
  {
   "cell_type": "markdown",
   "id": "6cfa3e24-6400-4de0-b155-aab85f701441",
   "metadata": {},
   "source": [
    "Run some set up for nice outputs in this Jupyter Notebook (not required in interactive Python or a script):"
   ]
  },
  {
   "cell_type": "code",
   "execution_count": null,
   "id": "aadf1e3e-382f-47c5-aeee-b52f3cd2868d",
   "metadata": {},
   "outputs": [],
   "source": [
    "%matplotlib inline\n",
    "\n",
    "import warnings\n",
    "warnings.filterwarnings('ignore')"
   ]
  },
  {
   "cell_type": "markdown",
   "id": "d073760a-6734-4a1d-9832-a70a8e0dd089",
   "metadata": {},
   "source": [
    "Import cf-python and cf-plot:"
   ]
  },
  {
   "cell_type": "code",
   "execution_count": null,
   "id": "b4b0c984-1adc-4515-b192-19da265e1f9a",
   "metadata": {},
   "outputs": [],
   "source": [
    "import cfplot as cfp\n",
    "import cf"
   ]
  },
  {
   "cell_type": "markdown",
   "id": "7b00d47b-4497-4540-b1bd-6fa8fa8e3226",
   "metadata": {},
   "source": [
    "Inspect the versions of cf-python and cf-plot and the version of the CF Conventions those are matched to:"
   ]
  },
  {
   "cell_type": "code",
   "execution_count": null,
   "id": "ea75b1b6-ba78-428d-b9b2-ca29a8cf6f0d",
   "metadata": {},
   "outputs": [],
   "source": [
    "print(\"cf-python version is:\", cf.__version__)\n",
    "print(\"cf-plot version is:\", cfp.__version__)\n",
    "print(\"CF Conventions version is:\", cf.CF())"
   ]
  },
  {
   "cell_type": "markdown",
   "id": "628af6cc-24f1-4e85-bf8b-654268e72bd3",
   "metadata": {},
   "source": [
    "<div class=\"alert alert-block alert-info\">\n",
    "<i>Note:</i> you can work with data compliant by any other version of the CF Conventions, or without (much) compliance, but the CF Conventions version gives the maximum version that these versions of the tools understand the features of.\n",
    "</div>"
   ]
  },
  {
   "cell_type": "markdown",
   "id": "8135f5c6-3d3e-45b6-a84a-3dcea754372f",
   "metadata": {},
   "source": [
    "Finally, see what datasets we have to explore:"
   ]
  },
  {
   "cell_type": "markdown",
   "id": "cfab63fe-088d-4ca8-ab95-40f61f0c2fd3",
   "metadata": {},
   "source": [
    "<div class=\"alert alert-block alert-info\">\n",
    "<i>Note:</i> in a Jupyter Notebook, '!' preceeeds a shell command, so this is a terminal command and not Python\n",
    "</div>"
   ]
  },
  {
   "cell_type": "code",
   "execution_count": null,
   "id": "a45afce7-abd8-4edd-b14c-eb033566bd52",
   "metadata": {
    "scrolled": true
   },
   "outputs": [],
   "source": [
    "!ls ../ncas_data"
   ]
  },
  {
   "cell_type": "markdown",
   "id": "e7640cdb-0d6f-4933-86d7-e86e7b9acbe4",
   "metadata": {},
   "source": [
    "***"
   ]
  },
  {
   "cell_type": "markdown",
   "id": "ef80e6de-8e62-468b-93c8-b41ac768375a",
   "metadata": {},
   "source": [
    "<div class=\"alert alert-block alert-success\">\n",
    "<i>Practical instructions:</i> now we can start the practical. We will follow the same sectioning as in the teaching notebook, so please consult the notes there in the matching section for guidance and you can also consult the cf-python and cf-plot documentation linked above.\n",
    "</div>"
   ]
  },
  {
   "cell_type": "markdown",
   "id": "9da08bf9-a15b-4d65-8c8e-632897daec0b",
   "metadata": {},
   "source": [
    "### a) Reading in data and extracting the _field_ of interest"
   ]
  },
  {
   "cell_type": "markdown",
   "id": "45be7d09-fe3e-46b3-b35b-dec82b32cc01",
   "metadata": {},
   "source": [
    "**1.a.1)** Use `cf` to read in the netCDF dataset `qbo.nc` which is found (as shown at the end of the section above) under the directory `../ncas_data`, assigning it to a variable called 'fieldlist'.\n"
   ]
  },
  {
   "cell_type": "code",
   "execution_count": null,
   "id": "d0a43e35-8627-4a08-ae1e-4fa9ec4f400d",
   "metadata": {},
   "outputs": [],
   "source": [
    "fieldlist = cf.read(\"../ncas_data/qbo.nc\")"
   ]
  },
  {
   "cell_type": "markdown",
   "id": "674d8543-fb55-4b2e-bd26-5a006dc9181d",
   "metadata": {},
   "source": [
    "**1.a.2)** Use the standard Python function `len` to see how long the read-in fieldlist is."
   ]
  },
  {
   "cell_type": "code",
   "execution_count": null,
   "id": "0e59c1a6-53ea-43c2-bf57-a405d1f64be9",
   "metadata": {},
   "outputs": [],
   "source": [
    "len(fieldlist)"
   ]
  },
  {
   "cell_type": "markdown",
   "id": "9dfdb8c4-ac20-4b0c-87b6-5bc3829dee61",
   "metadata": {},
   "source": [
    "**1.a.3)** Access the first field in the fieldlist and assign it to the variable name 'field'."
   ]
  },
  {
   "cell_type": "code",
   "execution_count": null,
   "id": "d92286c4-e62e-4e35-a934-809bc1afe02d",
   "metadata": {},
   "outputs": [],
   "source": [
    "field = fieldlist[0]"
   ]
  },
  {
   "cell_type": "markdown",
   "id": "d4ed8112-fc35-496c-84ae-e8a05334c33c",
   "metadata": {},
   "source": [
    "### b) Inspecting the _field_ of interest with different amounts of detail"
   ]
  },
  {
   "cell_type": "markdown",
   "id": "9e3ad7d7-2657-43d4-95a4-601429b16575",
   "metadata": {},
   "source": [
    "**1.b.1)** View the field from (1.a.3) above in minimal detail."
   ]
  },
  {
   "cell_type": "code",
   "execution_count": null,
   "id": "41528fdd-7f56-4801-95b9-c92b910e3a7d",
   "metadata": {},
   "outputs": [],
   "source": [
    "field"
   ]
  },
  {
   "cell_type": "markdown",
   "id": "8a158a41-03f8-47f9-a84e-fd2eaac8a132",
   "metadata": {},
   "source": [
    "**1.b.2)** Now try viewing the field from (1.a.3) above at a medium detail level."
   ]
  },
  {
   "cell_type": "code",
   "execution_count": null,
   "id": "0916e895-c503-47b8-a280-62404bb4d4a1",
   "metadata": {},
   "outputs": [],
   "source": [
    "print(field)"
   ]
  },
  {
   "cell_type": "markdown",
   "id": "4653be8e-e953-4a75-a343-93413cee09a6",
   "metadata": {},
   "source": [
    "**1.b.3)** OK, finally let's see it in its full glory - with maximal detail. Take a minute or two to compare these outputs and familiarise yourself with the formats of the different views and how they present the metadata (and preview of the data) of a field."
   ]
  },
  {
   "cell_type": "code",
   "execution_count": null,
   "id": "b07e729d-3ecd-4c1e-b26b-9ff61fc04a70",
   "metadata": {},
   "outputs": [],
   "source": [
    "field.dump()"
   ]
  },
  {
   "cell_type": "markdown",
   "id": "0af01357-b0b2-4581-a830-437337565d0d",
   "metadata": {},
   "source": [
    "### c) Inspecting a metadata _construct_ e.g. _coordinate_ from the _field_ of interest"
   ]
  },
  {
   "cell_type": "markdown",
   "id": "03ce0882-35c1-4f41-9280-33d8b633572b",
   "metadata": {},
   "source": [
    "**1.c.1)** Let's assume we want to know about a specific metadata construct, in this case we are intereted in the pressure. Assign to a new variable called 'pressure' the pressure coordinate of the field stored in the variable 'field' from section (1a) as just inspected in section (1b)."
   ]
  },
  {
   "cell_type": "code",
   "execution_count": null,
   "id": "99b9db17-713f-47c9-82a6-ec9af2213212",
   "metadata": {},
   "outputs": [],
   "source": [
    "pressure = field.coordinate(\"pressure\")"
   ]
  },
  {
   "cell_type": "markdown",
   "id": "bf10ee1b-d4eb-43ac-839f-1f8066e703ae",
   "metadata": {},
   "source": [
    "**1.c.2)** View this coordinate with minimal detail level."
   ]
  },
  {
   "cell_type": "code",
   "execution_count": null,
   "id": "753ff7ac-2de7-49c7-b501-aee40ddb9090",
   "metadata": {},
   "outputs": [],
   "source": [
    "pressure"
   ]
  },
  {
   "cell_type": "markdown",
   "id": "23fe4e99-326b-4209-b905-8ca211582b08",
   "metadata": {},
   "source": [
    "**1.c.3)** Now use the standard approach to view it with medium detail level."
   ]
  },
  {
   "cell_type": "code",
   "execution_count": null,
   "id": "ef442fa1-bfe4-4b5c-bfc7-4453c0d32e08",
   "metadata": {},
   "outputs": [],
   "source": [
    "print(pressure)"
   ]
  },
  {
   "cell_type": "markdown",
   "id": "9b03ffb4-62d7-4e08-a1e5-28591c3fb602",
   "metadata": {},
   "source": [
    "**1.c.4)** Finally, let's use the approach for full detail level and see everything about this coordinate."
   ]
  },
  {
   "cell_type": "code",
   "execution_count": null,
   "id": "ee0cb3a0-5129-456e-8e9e-5f24a598d34d",
   "metadata": {},
   "outputs": [],
   "source": [
    "pressure.dump()"
   ]
  },
  {
   "cell_type": "markdown",
   "id": "bd7fd831-8362-49eb-a03a-281d75596309",
   "metadata": {},
   "source": [
    "### d) Inspecting a data array of interest"
   ]
  },
  {
   "cell_type": "markdown",
   "id": "16b595ee-6e54-40ec-ba3f-cc28f710eab1",
   "metadata": {},
   "source": [
    "**1.d.1)** Access the underlying data of the pressure coordinate from the previous sub-section, (1c), assigning it to a variable called 'pressure_data'."
   ]
  },
  {
   "cell_type": "code",
   "execution_count": null,
   "id": "f2f748b5-09c3-4382-a6d6-e50a31fca61f",
   "metadata": {},
   "outputs": [],
   "source": [
    "pressure_data = pressure.data"
   ]
  },
  {
   "cell_type": "markdown",
   "id": "d7855240-2667-4883-a3fd-8d8b1759122a",
   "metadata": {},
   "source": [
    "**1.d.2)** Inspect the pressure coordinate data with minimal detail, noticing the units."
   ]
  },
  {
   "cell_type": "code",
   "execution_count": null,
   "id": "539107da-25fe-4259-9fb2-0f6419954424",
   "metadata": {},
   "outputs": [],
   "source": [
    "pressure_data"
   ]
  },
  {
   "cell_type": "markdown",
   "id": "7288c197-fd6e-405e-b49a-6740bc41992e",
   "metadata": {},
   "source": [
    "**1.d.3)** Access the data array of the pressure coordinate. Note that, because it is small, it is not computationally expensive to access this and similarly with other metadata data arrays, but accessing the underlying data array of the whole field (i.e. its main stored variable) could be intensive because for datasets in real usage the data can be very large and/or multi-dimensional."
   ]
  },
  {
   "cell_type": "code",
   "execution_count": null,
   "id": "e25482db-8342-49aa-bdc1-0911e842759d",
   "metadata": {},
   "outputs": [],
   "source": [
    "pressure_array = pressure_data.array"
   ]
  },
  {
   "cell_type": "markdown",
   "id": "2e2a3d9a-31ec-4f70-964c-212deb4709cc",
   "metadata": {},
   "source": [
    "**1.d.4)** Use the standard Python `print` function to view the pressure array."
   ]
  },
  {
   "cell_type": "code",
   "execution_count": null,
   "id": "aba215ff-f5a7-4b97-9bdb-5a80961cd38f",
   "metadata": {},
   "outputs": [],
   "source": [
    "print(pressure_array)"
   ]
  },
  {
   "cell_type": "markdown",
   "id": "09d04ff2-8998-48fb-a0a6-bc5deafe8fc6",
   "metadata": {},
   "source": [
    "***"
   ]
  },
  {
   "cell_type": "markdown",
   "id": "bc7c654e-38e5-4b06-a7c0-01828701d92f",
   "metadata": {},
   "source": [
    "### a) Changing the underlying data"
   ]
  },
  {
   "cell_type": "markdown",
   "id": "1d6b6412-42b4-4d70-9df2-1fd6b0349a56",
   "metadata": {},
   "source": [
    "**2.a.1)** Access the data (*not* the data array of the data) of the full field and assign it to a variable called 'data'."
   ]
  },
  {
   "cell_type": "code",
   "execution_count": null,
   "id": "ad3da187-8515-4a84-95e4-a9c1190dd08d",
   "metadata": {},
   "outputs": [],
   "source": [
    "data = field.data"
   ]
  },
  {
   "cell_type": "markdown",
   "id": "b625ea77-a1db-4598-b1c4-6bba6319d1e0",
   "metadata": {},
   "source": [
    "**2.a.2)** Inspect the field data with medium detail use the `size` method on it to see its shape."
   ]
  },
  {
   "cell_type": "code",
   "execution_count": null,
   "id": "4b6e33da-fad2-49a8-86e2-e94331e7e8dd",
   "metadata": {},
   "outputs": [],
   "source": [
    "print(data)\n",
    "data.shape"
   ]
  },
  {
   "cell_type": "markdown",
   "id": "86474dfe-a2ac-4b52-a962-eda937b0f58d",
   "metadata": {},
   "source": [
    "**2.a.3)** Use the `size` method on it to see how many items (in this case, numbers) there are in it. Can you see how this relates to the `shape` above, and to the structure of the coordinates from the field inspection in (1.b.2)?"
   ]
  },
  {
   "cell_type": "code",
   "execution_count": null,
   "id": "caaf9db2-c33d-434b-a3fe-ad91e9fc681e",
   "metadata": {},
   "outputs": [],
   "source": [
    "data.size"
   ]
  },
  {
   "cell_type": "markdown",
   "id": "cf00a0cd-ab33-4c08-94d0-a7c25a2df606",
   "metadata": {},
   "source": [
    "**2.a.4)**"
   ]
  },
  {
   "cell_type": "code",
   "execution_count": null,
   "id": "394dc1e4-3e88-4370-b568-27f031fe1d5d",
   "metadata": {},
   "outputs": [],
   "source": [
    "first_time_subarray = data[0, :, :, :]\n",
    "first_time_subarray"
   ]
  },
  {
   "cell_type": "markdown",
   "id": "8a97f4ab-dfba-4879-ac78-9c0edb36cf2d",
   "metadata": {},
   "source": [
    "**2.a.5)** Change all of the values in the first time subarray to the value '-50.0'."
   ]
  },
  {
   "cell_type": "code",
   "execution_count": null,
   "id": "c167273d-16b2-4ea8-bc74-be8ac28d9820",
   "metadata": {},
   "outputs": [],
   "source": [
    "first_time_subarray[0] = -50\n",
    "first_time_subarray"
   ]
  },
  {
   "cell_type": "markdown",
   "id": "5693c393-4c96-4841-8e4c-f336f9bfebb6",
   "metadata": {},
   "source": [
    "**2.a.6)** Access the index item `[1, :, 0, 0]` of the full data array from (2.a.1) and assign it to a variable called 'a_subarray'. Then check what shape it is and try to understand the size that emerges for that sub-array given that specific index."
   ]
  },
  {
   "cell_type": "code",
   "execution_count": null,
   "id": "beb5f4b6-5b5e-4761-8c66-2096edc8bfde",
   "metadata": {},
   "outputs": [],
   "source": [
    "a_subarray = data[1, 0, :, 0]\n",
    "a_subarray.shape"
   ]
  },
  {
   "cell_type": "markdown",
   "id": "b9f9e1b8-1951-4545-94c1-9d567a0722d5",
   "metadata": {},
   "source": [
    "**2.a.7)** Change the values for this sub-array item to all ones i.e. `1.0`. Note to create an array populated all with the value one of the required shape to match the shape of the subarray from (2.a.6), you can use `numpy.ones(<desired shape>)` (you will need to import `numpy` first, and let's call the module `np` i.e. use `import numpy as np`)."
   ]
  },
  {
   "cell_type": "code",
   "execution_count": null,
   "id": "cd65f487-c6b0-45e0-b093-1ac39f11b2d7",
   "metadata": {},
   "outputs": [],
   "source": [
    "import numpy as np\n",
    "np.ones((1, 1, 2, 1))\n",
    "data[1, 0, :, 0] = np.ones((1, 1, 2, 1))"
   ]
  },
  {
   "cell_type": "markdown",
   "id": "fe2fe7a5-73b8-4021-8748-e88b3b0d6e5c",
   "metadata": {},
   "source": [
    "**2.a.8)** Inspect 'a_subarray' again to confirm it has been set with values of all one."
   ]
  },
  {
   "cell_type": "code",
   "execution_count": null,
   "id": "5629a7f3-5fd8-4bfd-a6d7-eb141951a2c7",
   "metadata": {},
   "outputs": [],
   "source": [
    "a_subarray"
   ]
  },
  {
   "cell_type": "markdown",
   "id": "0f2d2721-58c2-44d9-b422-3dd81ee8b333",
   "metadata": {},
   "source": [
    "### b) Changing some metadata"
   ]
  },
  {
   "cell_type": "markdown",
   "id": "ad17957e-9d70-4fcb-9954-e0ff331ac689",
   "metadata": {},
   "source": [
    "**2.b.1)** Take the 'pressure' variable coordinate we created in (1.c) and inspected in full detail in (1.c.4). Let's say we want to reverse the direction of this axes, so that the pressures increase in value along it (in order) rather than decreases. In `cf` we can do this using the `flip` method, which will adjust the data accordingly so that it is flipped in the corresponding way to match up to the new direction of the pressure axis.\n",
    "\n",
    "Reassign `pressure` to itself with the `flip` method applied (note you can, alternatively and equivalently, call the method `flip` with the argument `inplace=True` set without re-assignment because that argument tells `cf` to adjust the variable in-place)."
   ]
  },
  {
   "cell_type": "code",
   "execution_count": null,
   "id": "f08327b2-51a1-404b-97fa-e753255eb252",
   "metadata": {},
   "outputs": [],
   "source": [
    "pressure = pressure.flip()\n",
    "# Or: pressure.flip(inplace=True)"
   ]
  },
  {
   "cell_type": "markdown",
   "id": "f240a543-5676-439e-b53e-4384ee5d9171",
   "metadata": {},
   "source": [
    "**2.b.2)** Now full inspect the pressure coordinate again with full detail to confirm that the flip of axis direction happened."
   ]
  },
  {
   "cell_type": "code",
   "execution_count": null,
   "id": "d4311a56-3252-4b10-9b92-01f00c7e1cdb",
   "metadata": {},
   "outputs": [],
   "source": [
    "pressure.dump()"
   ]
  },
  {
   "cell_type": "markdown",
   "id": "20031178-9faa-4501-b00f-70b0d1c1ae64",
   "metadata": {},
   "source": [
    "**2.b.3)** Notice the `standard_name`, which is a CF attribute used to identify the physical quantity in question, that must be one from the thousands of controlled options available in the CF Standard Name table (see https://cfconventions.org/Data/cf-standard-names/current/build/cf-standard-name-table.html, you are encouraged to spend some minutes exploring this resource). At the moment the value in the field is not a valid standard name and it is also not specific enough to identify the variable well. \n",
    "\n",
    "Let's change it to the more descriptive valid CF Standard Name of 'air_pressure'. To do this, access the `standard_name` attribute of the pressure coordinate and re-set it to the string value desired."
   ]
  },
  {
   "cell_type": "code",
   "execution_count": null,
   "id": "a6bfddb6-223a-46b0-8adf-725361fe1c64",
   "metadata": {},
   "outputs": [],
   "source": [
    "pressure.standard_name = \"air_pressure\""
   ]
  },
  {
   "cell_type": "markdown",
   "id": "d0e0d297-4e71-4a73-a194-f9b151f7a4a3",
   "metadata": {},
   "source": [
    "**2.b.4)** Once again view the pressure coordinate with maximal detail to see the two changes we made in this section. Also view the overall field in medium detail to see that these changes propagate through to the field object by Python object rules."
   ]
  },
  {
   "cell_type": "code",
   "execution_count": null,
   "id": "155bf824-7ebc-4178-9377-7be91b03393f",
   "metadata": {},
   "outputs": [],
   "source": [
    "pressure.dump()"
   ]
  },
  {
   "cell_type": "markdown",
   "id": "cf7cf826-2d23-40cd-bfca-648de59fd02c",
   "metadata": {},
   "source": [
    "### c) Writing a (list of) fields out to a file"
   ]
  },
  {
   "cell_type": "markdown",
   "id": "f375ce40-ba55-45cd-83d2-9c5f58df3506",
   "metadata": {},
   "source": [
    "**2.c.1)** Let's write out a few fields to disk. We'll write our field from the previous sections as well as a new field all into the same file.\n",
    "\n",
    "First let's get a new field. We could read in another file to access some new fields, but let's use one of the cf-python ready-made 'example fields', which are designed for exploring cf-python capability without the need for real (and large/memory-intensive) data. Run `cf.example_field()` with any integer from 0 to 11 inclusive to get an example field, assigning it to the variable called 'new_field'."
   ]
  },
  {
   "cell_type": "code",
   "execution_count": null,
   "id": "5fb3f0c6-6638-4535-8729-b50d1f70fc29",
   "metadata": {},
   "outputs": [],
   "source": [
    "new_field = cf.example_field(1)  # Or: any integer from 0 to 11 works fine as the argument"
   ]
  },
  {
   "cell_type": "markdown",
   "id": "3e061bbd-836c-44fb-9614-358585b4c1bf",
   "metadata": {},
   "source": [
    "**2.c.2)** Inspect this new field with medium level of detail."
   ]
  },
  {
   "cell_type": "code",
   "execution_count": null,
   "id": "4b199ddb-00c6-456e-bb51-58117037c50b",
   "metadata": {},
   "outputs": [],
   "source": [
    "print(new_field)"
   ]
  },
  {
   "cell_type": "markdown",
   "id": "19c295d5-9e45-49a8-bc53-fd9a139aacf8",
   "metadata": {},
   "source": [
    "**2.c.3)** Create a two-field FieldList called 'new_fieldlist' containing the field from (1.a.3) that we have been exploring in the previous sections (1.a) and (1.b) along with this new 'new_field' from (2.c.2). You can use the `cf` function `cf.FieldList` with the fields it should contain in a normal Python list as an arugment to set this up."
   ]
  },
  {
   "cell_type": "code",
   "execution_count": null,
   "id": "a55c4a55-10bd-4269-a232-32e0d3737a94",
   "metadata": {},
   "outputs": [],
   "source": [
    "new_fieldlist = cf.FieldList([field, new_field])"
   ]
  },
  {
   "cell_type": "markdown",
   "id": "c155c131-5367-497f-8590-16bbfdc7c124",
   "metadata": {},
   "source": [
    "**2.c.4)** Call `print` with this new fieldlist as an argument to view it in medium detail."
   ]
  },
  {
   "cell_type": "code",
   "execution_count": null,
   "id": "d2c71af9-a032-458a-b091-39d776c11025",
   "metadata": {},
   "outputs": [],
   "source": [
    "print(new_fieldlist)"
   ]
  },
  {
   "cell_type": "markdown",
   "id": "aee0230d-681c-476e-800e-fa2f83b419ea",
   "metadata": {},
   "source": [
    "**2.c.4)** Now we have constructed our desired FieldList, we can write it out to file. Use `cf`'s `write` function to write it to a file called `two_fields.nc` in the `../ncas_data` directory."
   ]
  },
  {
   "cell_type": "code",
   "execution_count": null,
   "id": "c9775ffb-6830-4102-b3b0-eb11403ad806",
   "metadata": {},
   "outputs": [],
   "source": [
    "cf.write(new_fieldlist, \"../ncas_data/two_fields.nc\")"
   ]
  },
  {
   "cell_type": "markdown",
   "id": "fb5aabd2-6e6d-4e28-8e9f-3da1537d981a",
   "metadata": {},
   "source": [
    "**2.c.5)** Use the shell command `!ls ../ncas_data` to see the contents of that directory to confirm that the file was written there."
   ]
  },
  {
   "cell_type": "code",
   "execution_count": null,
   "id": "9f535282-e936-4254-9bc5-fc096bf69e6b",
   "metadata": {
    "scrolled": true
   },
   "outputs": [],
   "source": [
    "!ls ../ncas_data"
   ]
  },
  {
   "cell_type": "markdown",
   "id": "9dd6be4b-60d3-4ca8-8108-fcda62bb7d95",
   "metadata": {},
   "source": [
    "***"
   ]
  },
  {
   "cell_type": "markdown",
   "id": "4ccfd6a0-567d-43f3-9f06-15bb21afae6a",
   "metadata": {},
   "source": [
    "## 3. Reducing datasets by subspacing and collapsing\n",
    "\n",
    "**In this section we show how multi-dimensional data can be tamed using cf-python so that you can get a reduced form that can be analysed or plotted, by reducing the dimensions by selecting a subset of point(s) along the axes or collapsing down according to some statistic such as the mean or an extrema.**"
   ]
  },
  {
   "cell_type": "markdown",
   "id": "410ac6d4-cd8f-43ed-a3f5-eaf8d1d8755a",
   "metadata": {},
   "source": [
    "### a) Subspacing using metadata conditions"
   ]
  },
  {
   "cell_type": "markdown",
   "id": "cec90546-f200-42b3-af27-6508f367d305",
   "metadata": {},
   "source": [
    "**3.a.1)** Read in the file `ggas2014121200_00-18.nc` which is under `../ncas_data` and save the corresponding FieldList to a variable called `fieldlist_3`. Inspect it with medium level of detail."
   ]
  },
  {
   "cell_type": "code",
   "execution_count": null,
   "id": "a4af5c1c-cdc4-441d-8d2c-17d9cfd6b746",
   "metadata": {},
   "outputs": [],
   "source": [
    "fieldlist_3 = cf.read(\"../ncas_data/ggas2014121200_00-18.nc\")\n",
    "print(fieldlist_3)"
   ]
  },
  {
   "cell_type": "markdown",
   "id": "3077b7a8-6f93-4a95-ad6d-58e8b3fc15ec",
   "metadata": {},
   "source": [
    "**3.a.2)** Extract the field representing the `cloud_area_fraction` to a variable which we will call `cloud_field`. Inspect that also with medium level of detail."
   ]
  },
  {
   "cell_type": "code",
   "execution_count": null,
   "id": "91818c63-a229-491b-aee2-8882ff554746",
   "metadata": {},
   "outputs": [],
   "source": [
    "cloud_field = fieldlist_3[4]\n",
    "print(cloud_field)"
   ]
  },
  {
   "cell_type": "markdown",
   "id": "df537a09-9cc3-43c0-9e6a-7d8d7902344c",
   "metadata": {},
   "source": [
    "**3.a.3)** Save the data of the `cloud_field` to a new variable we will call `cloud_field_data`. Do a `print` on the `shape` method of this to confirm the shape of the data, and compare this to the insepction report from the previous cell to see the same information represented in different ways."
   ]
  },
  {
   "cell_type": "code",
   "execution_count": null,
   "id": "d54f5edd-abc3-40e7-a2c1-971fb52e12ca",
   "metadata": {},
   "outputs": [],
   "source": [
    "cloud_field_data = cloud_field.data\n",
    "print(cloud_field_data.shape)"
   ]
  },
  {
   "cell_type": "markdown",
   "id": "862a5eb4-6a63-4c11-a188-f048c3d27926",
   "metadata": {},
   "source": [
    "**3.a.4)** Make a subspace of the `cloud_field` from the cells above to subspace on the *first* time point in order. Note: doing date-time subspaces requires an extra step due to the nature of specifying dates and times which can be ambiguous otherwise: you need to wrap a quoted datetime string in the call `cf.dt()` to notify cf-python that you are providing a valid datetime string, e.g. `field1.subspace(time=cf.dt(\"2020-01-01 12:15:00\"))`.\n",
    "\n",
    "Assign the subspace operation resulting field to a variable `cloud_field_subspace1` and inspect it with medium detail.\n",
    "\n",
    "*Extra task, for those who have studied section 4 before doing this practical**: make a contour plot of this subspace of the field to see what it looks like.*"
   ]
  },
  {
   "cell_type": "code",
   "execution_count": null,
   "id": "e0cdd409-e75d-43bb-96fd-c79b1f5e575b",
   "metadata": {},
   "outputs": [],
   "source": [
    "cloud_field_subspace1 = cloud_field.subspace(time=cf.dt(\"2014-12-12 00:00:00\"))\n",
    "print(cloud_field_subspace1)\n",
    "print(cloud_field_subspace1.data.shape)\n",
    "# Extra part: cfp.con(cloud_field_subspace1)"
   ]
  },
  {
   "cell_type": "markdown",
   "id": "58adbc35-a63a-4c8a-973d-c28fea109ed3",
   "metadata": {},
   "source": [
    "**3.a.5** Make a subspace of the `cloud_field` from the cells above to subspace on the *last* point on the latitude axis.\n",
    "\n",
    "Assign the subspace operation resulting field to a variable `cloud_field_subspace2` and inspect it with medium detail.\n",
    "\n",
    "*Extra task, for those who have studied section 4 before doing this practical: make a contour plot of this subspace of the field to see what it looks like.*"
   ]
  },
  {
   "cell_type": "code",
   "execution_count": null,
   "id": "6db795e1-8eb4-42b8-a6d2-4ad554f7fbb7",
   "metadata": {},
   "outputs": [],
   "source": [
    "cloud_field_subspace2 = cloud_field.subspace(latitude=-89.46282196044922)\n",
    "print(cloud_field_subspace2)\n",
    "print(cloud_field_subspace2.data.shape)\n",
    "# Extra part: cfp.con(cloud_field_subspace2)"
   ]
  },
  {
   "cell_type": "markdown",
   "id": "bb1db98b-27b3-4c8a-bf63-f67f83dd2bb8",
   "metadata": {},
   "source": [
    "### b) Subspacing using indexing, including equivalency to the above"
   ]
  },
  {
   "cell_type": "markdown",
   "id": "3d95810b-eb02-4862-938e-91e6634bb2b9",
   "metadata": {},
   "source": [
    "**3.b.1)** Take the cloud field from (3.a.2) which we have been subspacing in the previous cells and make a subspace which takes the first time point, leaving all other axes unchanged, but this time do it using indexing. Use the `equals` method of a field to check that the result is the same as that derived from the 'subspacing by metadata' approach in section (3.a.4).\n",
    "\n",
    "TODO FIX UP UNITS TO EQUALS BECOMES TRUE, WEIRD UNITS CONFUSE CFUNITS"
   ]
  },
  {
   "cell_type": "code",
   "execution_count": null,
   "id": "7d6ccf81-0a51-44f4-948c-95a243c751cd",
   "metadata": {},
   "outputs": [],
   "source": [
    "cloud_field_subspace1_by_index = cloud_field[0, :, :, :]\n",
    "print(cloud_field_subspace1_by_index)\n",
    "cloud_field_subspace1_by_index.equals(cloud_field_subspace1)\n",
    "# or with the fields swapped i.e. cloud_field_subspace1.equals(cloud_field_subspace1_by_index) is also correct"
   ]
  },
  {
   "cell_type": "markdown",
   "id": "4e2cc4bf-2520-4136-82af-48ac6f974043",
   "metadata": {},
   "source": [
    "**3.b.2)** Now make a subspace on the original `cloud_field`, leaving all other axes unchanged, to subspace on the *last* point on the latitude axis, like before, but this time use subspacing by indexing. Use the `equals` method of a field to check that the result is the same as that derived from the 'subspacing by metadata' approach in section (3.a.4)."
   ]
  },
  {
   "cell_type": "code",
   "execution_count": null,
   "id": "f15ef080-2d79-4686-8f67-00baee8a98f2",
   "metadata": {},
   "outputs": [],
   "source": [
    "cloud_field_subspace2_by_index = cloud_field[:, :, -1, :]\n",
    "print(cloud_field_subspace2_by_index)\n",
    "cloud_field_subspace2_by_index.equals(cloud_field_subspace2)\n",
    "# or with the fields swapped i.e. cloud_field_subspace2.equals(cloud_field_subspace2_by_index) is also correct"
   ]
  },
  {
   "cell_type": "markdown",
   "id": "e65d7951-2d10-40d3-8858-87b7210079a8",
   "metadata": {},
   "source": [
    "**3.b.3)** Using indexing, do both of the subspaces from the previous sub-questions in one call on the original cloud field.\n",
    "\n",
    "Extra: do the same operation using the 'subspace by metadata' approach and use the `equals` method to show that the results are the same."
   ]
  },
  {
   "cell_type": "code",
   "execution_count": null,
   "id": "0b83671d-442f-41c4-981a-764581a358ec",
   "metadata": {},
   "outputs": [],
   "source": [
    "cloud_field_subspace2_by_index = cloud_field[0, :, -1, :]\n",
    "print(cloud_field_subspace2_by_index)\n",
    "cloud_field_subspace2_by_index.equals(cloud_field_subspace2)"
   ]
  },
  {
   "cell_type": "markdown",
   "id": "f5e05393-4c31-4505-8b80-4b8b2bdeba5d",
   "metadata": {},
   "source": [
    "**3.b.4)** Do a single subspace on the original cloud field that takes the first 100 latitude and the first 200 longitude values. Use whichever method (subspacing by metadata, or indexing) you prefer, in order to do so."
   ]
  },
  {
   "cell_type": "code",
   "execution_count": null,
   "id": "dd33a050-117c-4327-931c-ea8dd2372a70",
   "metadata": {},
   "outputs": [],
   "source": [
    "cloud_field[:, :, :100, :200]"
   ]
  },
  {
   "cell_type": "markdown",
   "id": "b870563e-6f45-46ca-9dad-6d8a5cb69ec5",
   "metadata": {},
   "source": [
    "### c) Statistical collapses"
   ]
  },
  {
   "cell_type": "markdown",
   "id": "05d9602f-744d-4ce7-a4a0-1880a30db393",
   "metadata": {},
   "source": [
    "**3.c.1)** Take the original `cloud_field` from (3.a.2) and do a collapse over the time axis to reduce it down to the minimum value. Assign that to the variable name `cloud_field_collapse1`."
   ]
  },
  {
   "cell_type": "code",
   "execution_count": null,
   "id": "843d1148-25e1-4cc2-91e3-28085b0ac7f3",
   "metadata": {},
   "outputs": [],
   "source": [
    "cloud_field_collapse1 = cloud_field.collapse(\"time: minimum\")\n",
    "print(cloud_field_collapse1)"
   ]
  },
  {
   "cell_type": "markdown",
   "id": "1527c1bc-12e3-4708-a544-39fef8d0062b",
   "metadata": {},
   "source": [
    "**3.c.2)** Take the original `cloud_field` from (3.a.2) and do a collapse over the latitude axis to reduce it down to the mean value. Assign that to the variable name `cloud_field_collapse2`."
   ]
  },
  {
   "cell_type": "code",
   "execution_count": null,
   "id": "f44e6b5e-c3bf-48bf-81b4-d082a437d3c2",
   "metadata": {},
   "outputs": [],
   "source": [
    "cloud_field_collapse2 = cloud_field.collapse(\"latitude: mean\")\n",
    "print(cloud_field_collapse2)"
   ]
  },
  {
   "cell_type": "markdown",
   "id": "592f58a8-77a3-4cc2-beb3-f6247f5f0310",
   "metadata": {},
   "source": [
    "**3.c.3)** Take the original `cloud_field` from (3.a.2) and do a collapse over the longitude axis to reduce it down to the maximum value. Assign that to the variable name `cloud_field_collapse3`."
   ]
  },
  {
   "cell_type": "code",
   "execution_count": null,
   "id": "62c236eb-c360-47b2-ac20-6d1250ed7a78",
   "metadata": {},
   "outputs": [],
   "source": [
    "cloud_field_collapse3 = cloud_field.collapse(\"longitude: maximum\")\n",
    "print(cloud_field_collapse3)"
   ]
  },
  {
   "cell_type": "markdown",
   "id": "22357974-11e2-4820-b0d6-90273cbc4646",
   "metadata": {},
   "source": [
    "**3.c.4)** Finally, take the original `cloud_field` from (3.a.2) again and do a collapse over all horizontal space via the pair of horizontal spatial axes, latitude and longitude, to reduce them down to the standard deviation value. Assign that to the variable name `cloud_field_collapse4`."
   ]
  },
  {
   "cell_type": "code",
   "execution_count": null,
   "id": "532ae8bf-09a1-4a2c-8800-2802fe186202",
   "metadata": {},
   "outputs": [],
   "source": [
    "cloud_field_collapse4 = cloud_field.collapse(\"longitude: latitude: standard_deviation\")\n",
    "print(cloud_field_collapse4)"
   ]
  },
  {
   "cell_type": "markdown",
   "id": "59b69a9d-a94c-464c-aa3c-482c699bc404",
   "metadata": {},
   "source": [
    "***"
   ]
  }
 ],
 "metadata": {
  "kernelspec": {
   "display_name": "Python 3 (ipykernel)",
   "language": "python",
   "name": "python3"
  },
  "language_info": {
   "codemirror_mode": {
    "name": "ipython",
    "version": 3
   },
   "file_extension": ".py",
   "mimetype": "text/x-python",
   "name": "python",
   "nbconvert_exporter": "python",
   "pygments_lexer": "ipython3",
   "version": "3.12.0"
  }
 },
 "nbformat": 4,
 "nbformat_minor": 5
}
