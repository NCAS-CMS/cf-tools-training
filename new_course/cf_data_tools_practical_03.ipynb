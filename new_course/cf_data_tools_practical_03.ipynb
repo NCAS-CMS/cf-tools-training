{
 "cells": [
  {
   "cell_type": "markdown",
   "id": "0cd6019e-c5b3-4dc6-bf86-6fcf10b06851",
   "metadata": {},
   "source": [
    "# P3. Reducing datasets by subspacing and collapsing\n",
    "\n",
    "## Practical Notebook 3 (of 6) for *Intro to the NCAS CF Data Tools, cf-python and cf-plot*\n",
    "\n",
    "**In this section we show how multi-dimensional data can be tamed using cf-python so that you can get a reduced form that can be analysed or plotted, by reducing the dimensions by selecting a subset of point(s) along the axes or collapsing down according to some statistic such as the mean or an extrema.**"
   ]
  },
  {
   "cell_type": "markdown",
   "id": "1c3beb87-7b0d-44ad-9da3-fa32494b795c",
   "metadata": {},
   "source": [
    "***"
   ]
  },
  {
   "cell_type": "markdown",
   "id": "df666543-52ee-402a-8fa4-cb4d8389f3a8",
   "metadata": {},
   "source": [
    "<div class=\"alert alert-block alert-success\">\n",
    "<i>Practical instructions:</i> run all of the cells in this section to do the set up.\n",
    "</div>"
   ]
  },
  {
   "cell_type": "markdown",
   "id": "09e9da0d-4a56-4eee-b1bd-36cf2624b8cb",
   "metadata": {},
   "source": [
    "## Setting up\n",
    "\n",
    "**In this short prelude we set up this Notebook, import the libraries and check the data we will work with, ready to use the libraries and the data (exactly as per the first Notebook setup but in one cell only for quick execution).**"
   ]
  },
  {
   "cell_type": "code",
   "execution_count": 2,
   "id": "0f271ed1-8bd4-4d43-a3cd-e884d424525e",
   "metadata": {},
   "outputs": [
    {
     "name": "stdout",
     "output_type": "stream",
     "text": [
      "--- Version report: ---\n",
      "cf-python version is: 3.18.1\n",
      "cf-plot version is: 3.4.0\n",
      "CF Conventions version is: 1.12\n",
      "--- Datasets available from the path '../ncas_data': ---\n",
      "160by320griddata.nc\t\t\t   precip_2010.nc\n",
      "aaaaoa.pmh8dec.pp\t\t\t   precip_DJF_means.nc\n",
      "alpine_precip_DJF_means.nc\t\t   qbo.nc\n",
      "data1.nc\t\t\t\t   regions.nc\n",
      "data1-updated.nc\t\t\t   rgp.nc\n",
      "data2.nc\t\t\t\t   sea_currents_backup.nc\n",
      "data3.nc\t\t\t\t   sea_currents.nc\n",
      "data5.nc\t\t\t\t   ta.nc\n",
      "ggas2014121200_00-18.nc\t\t\t   tripolar.nc\n",
      "IPSL-CM5A-LR_r1i1p1_tas_n96_rcp45_mnth.nc  two_fields.nc\n",
      "land.nc\t\t\t\t\t   ua.nc\n",
      "model_precip_DJF_means_low_res.nc\t   u_n216.nc\n",
      "model_precip_DJF_means.nc\t\t   u_n96.nc\n",
      "n2o_emissions.nc\t\t\t   vaAMIPlcd_DJF.nc\n",
      "POLCOMS_WAM_ZUV_01_16012006.nc\t\t   va.nc\n",
      "precip_1D_monthly.nc\t\t\t   wapAMIPlcd_DJF.nc\n",
      "precip_1D_yearly.nc\n"
     ]
    }
   ],
   "source": [
    "# Set up for inline plots - only needed inside a Notebook environment - and to ignore some repeating warnings\n",
    "%matplotlib inline\n",
    "\n",
    "import warnings\n",
    "warnings.filterwarnings(\"ignore\")\n",
    "\n",
    "# Import the two CF Data Tools libraries and inspect the versions\n",
    "import cfplot as cfp\n",
    "import cf\n",
    "print(\"--- Version report: ---\")\n",
    "print(\"cf-python version is:\", cf.__version__)\n",
    "print(\"cf-plot version is:\", cfp.__version__)\n",
    "print(\"CF Conventions version is:\", cf.CF())\n",
    "\n",
    "# See what datasets we have to explore within the data directory we use throughout this course\n",
    "print(\"--- Datasets available from the path '../ncas_data': ---\")\n",
    "# Note that in a Jupyter Notebook, '!' precedes a shell command - so this is a command, not Python\n",
    "!ls ../ncas_data"
   ]
  },
  {
   "cell_type": "markdown",
   "id": "3562ed76-24a9-424e-813c-9f3589908c50",
   "metadata": {},
   "source": [
    "***"
   ]
  },
  {
   "cell_type": "markdown",
   "id": "6cfa3e24-6400-4de0-b155-aab85f701441",
   "metadata": {},
   "source": [
    "Run some set up for nice outputs in this Jupyter Notebook (not required in interactive Python or a script):"
   ]
  },
  {
   "cell_type": "code",
   "execution_count": 1,
   "id": "aadf1e3e-382f-47c5-aeee-b52f3cd2868d",
   "metadata": {},
   "outputs": [],
   "source": [
    "%matplotlib inline\n",
    "\n",
    "import warnings\n",
    "warnings.filterwarnings('ignore')"
   ]
  },
  {
   "cell_type": "markdown",
   "id": "d073760a-6734-4a1d-9832-a70a8e0dd089",
   "metadata": {},
   "source": [
    "Import cf-python and cf-plot:"
   ]
  },
  {
   "cell_type": "code",
   "execution_count": 2,
   "id": "b4b0c984-1adc-4515-b192-19da265e1f9a",
   "metadata": {},
   "outputs": [],
   "source": [
    "import cfplot as cfp\n",
    "import cf"
   ]
  },
  {
   "cell_type": "markdown",
   "id": "7b00d47b-4497-4540-b1bd-6fa8fa8e3226",
   "metadata": {},
   "source": [
    "Inspect the versions of cf-python and cf-plot and the version of the CF Conventions those are matched to:"
   ]
  },
  {
   "cell_type": "code",
   "execution_count": 3,
   "id": "ea75b1b6-ba78-428d-b9b2-ca29a8cf6f0d",
   "metadata": {},
   "outputs": [
    {
     "name": "stdout",
     "output_type": "stream",
     "text": [
      "cf-python version is: 3.18.1\n",
      "cf-plot version is: 3.4.0\n",
      "CF Conventions version is: 1.12\n"
     ]
    }
   ],
   "source": [
    "print(\"cf-python version is:\", cf.__version__)\n",
    "print(\"cf-plot version is:\", cfp.__version__)\n",
    "print(\"CF Conventions version is:\", cf.CF())"
   ]
  },
  {
   "cell_type": "markdown",
   "id": "628af6cc-24f1-4e85-bf8b-654268e72bd3",
   "metadata": {},
   "source": [
    "<div class=\"alert alert-block alert-info\">\n",
    "<i>Note:</i> you can work with data compliant by any other version of the CF Conventions, or without (much) compliance, but the CF Conventions version gives the maximum version that these versions of the tools understand the features of.\n",
    "</div>"
   ]
  },
  {
   "cell_type": "markdown",
   "id": "8135f5c6-3d3e-45b6-a84a-3dcea754372f",
   "metadata": {},
   "source": [
    "Finally, see what datasets we have to explore:"
   ]
  },
  {
   "cell_type": "markdown",
   "id": "cfab63fe-088d-4ca8-ab95-40f61f0c2fd3",
   "metadata": {},
   "source": [
    "<div class=\"alert alert-block alert-info\">\n",
    "<i>Note:</i> in a Jupyter Notebook, '!' preceeeds a shell command, so this is a terminal command and not Python\n",
    "</div>"
   ]
  },
  {
   "cell_type": "code",
   "execution_count": 4,
   "id": "a45afce7-abd8-4edd-b14c-eb033566bd52",
   "metadata": {
    "scrolled": true
   },
   "outputs": [
    {
     "name": "stdout",
     "output_type": "stream",
     "text": [
      "160by320griddata.nc\t\t\t   precip_2010.nc\n",
      "aaaaoa.pmh8dec.pp\t\t\t   precip_DJF_means.nc\n",
      "alpine_precip_DJF_means.nc\t\t   qbo.nc\n",
      "data1.nc\t\t\t\t   regions.nc\n",
      "data1-updated.nc\t\t\t   rgp.nc\n",
      "data2.nc\t\t\t\t   sea_currents_backup.nc\n",
      "data3.nc\t\t\t\t   sea_currents.nc\n",
      "data5.nc\t\t\t\t   ta.nc\n",
      "ggas2014121200_00-18.nc\t\t\t   tripolar.nc\n",
      "IPSL-CM5A-LR_r1i1p1_tas_n96_rcp45_mnth.nc  two_fields.nc\n",
      "land.nc\t\t\t\t\t   ua.nc\n",
      "model_precip_DJF_means_low_res.nc\t   u_n216.nc\n",
      "model_precip_DJF_means.nc\t\t   u_n96.nc\n",
      "n2o_emissions.nc\t\t\t   vaAMIPlcd_DJF.nc\n",
      "POLCOMS_WAM_ZUV_01_16012006.nc\t\t   va.nc\n",
      "precip_1D_monthly.nc\t\t\t   wapAMIPlcd_DJF.nc\n",
      "precip_1D_yearly.nc\n"
     ]
    }
   ],
   "source": [
    "!ls ../ncas_data"
   ]
  },
  {
   "cell_type": "markdown",
   "id": "e7640cdb-0d6f-4933-86d7-e86e7b9acbe4",
   "metadata": {},
   "source": [
    "***"
   ]
  },
  {
   "cell_type": "markdown",
   "id": "ef80e6de-8e62-468b-93c8-b41ac768375a",
   "metadata": {},
   "source": [
    "<div class=\"alert alert-block alert-success\">\n",
    "<i>Practical instructions:</i> now we can start the practical. We will follow the same sectioning as in the teaching notebook, so please consult the notes there in the matching section for guidance and you can also consult the cf-python and cf-plot documentation linked above.\n",
    "</div>"
   ]
  },
  {
   "cell_type": "markdown",
   "id": "b9026bb4-40f3-4f27-9825-7e3dd89d2621",
   "metadata": {},
   "source": [
    "<div class=\"alert alert-block alert-success\">\n",
    "<i>Practical instructions:</i> now we can start the practical. We will follow the same sectioning as in the teaching notebook, so please consult the notes there in the matching section for guidance and you can also consult the cf-python and cf-plot documentation linked above.\n",
    "</div>"
   ]
  },
  {
   "cell_type": "markdown",
   "id": "4ccfd6a0-567d-43f3-9f06-15bb21afae6a",
   "metadata": {},
   "source": [
    "## 3. Reducing datasets by subspacing and collapsing"
   ]
  },
  {
   "cell_type": "markdown",
   "id": "410ac6d4-cd8f-43ed-a3f5-eaf8d1d8755a",
   "metadata": {},
   "source": [
    "### a) Subspacing using metadata conditions"
   ]
  },
  {
   "cell_type": "markdown",
   "id": "cec90546-f200-42b3-af27-6508f367d305",
   "metadata": {},
   "source": [
    "**3.a.1)** Read in the file `ggas2014121200_00-18.nc` which is under `../ncas_data` and save the corresponding FieldList to a variable called `fieldlist_3`. Inspect it with medium level of detail."
   ]
  },
  {
   "cell_type": "code",
   "execution_count": 5,
   "id": "a4af5c1c-cdc4-441d-8d2c-17d9cfd6b746",
   "metadata": {},
   "outputs": [
    {
     "name": "stdout",
     "output_type": "stream",
     "text": [
      "[<CF Field: long_name=Sea-ice cover(time(4), axis=Z(1), latitude(256), longitude(512)) (0 - 1)>,\n",
      " <CF Field: air_pressure_at_sea_level(time(4), axis=Z(1), latitude(256), longitude(512)) Pa>,\n",
      " <CF Field: long_name=Skin temperature(time(4), axis=Z(1), latitude(256), longitude(512)) K>,\n",
      " <CF Field: long_name=Sea surface temperature(time(4), axis=Z(1), latitude(256), longitude(512)) K>,\n",
      " <CF Field: cloud_area_fraction(time(4), axis=Z(1), latitude(256), longitude(512)) (0 - 1)>,\n",
      " <CF Field: eastward_wind(time(4), axis=Z(1), latitude(256), longitude(512)) m s**-1>,\n",
      " <CF Field: northward_wind(time(4), axis=Z(1), latitude(256), longitude(512)) m s**-1>]\n"
     ]
    }
   ],
   "source": [
    "fieldlist_3 = cf.read(\"../ncas_data/ggas2014121200_00-18.nc\")\n",
    "print(fieldlist_3)"
   ]
  },
  {
   "cell_type": "markdown",
   "id": "3077b7a8-6f93-4a95-ad6d-58e8b3fc15ec",
   "metadata": {},
   "source": [
    "**3.a.2)** Extract the field representing the `cloud_area_fraction` to a variable which we will call `cloud_field`. Inspect that also with medium level of detail."
   ]
  },
  {
   "cell_type": "code",
   "execution_count": 6,
   "id": "91818c63-a229-491b-aee2-8882ff554746",
   "metadata": {},
   "outputs": [
    {
     "name": "stdout",
     "output_type": "stream",
     "text": [
      "Field: cloud_area_fraction (ncvar%TCC)\n",
      "--------------------------------------\n",
      "Data            : cloud_area_fraction(time(4), axis=Z(1), latitude(256), longitude(512)) (0 - 1)\n",
      "Dimension coords: time(4) = [2014-12-12 00:00:00, ..., 2014-12-12 18:00:00] standard\n",
      "                : axis=Z(1) = [0.0] level\n",
      "                : latitude(256) = [89.46282196044922, ..., -89.46282196044922] degrees_north\n",
      "                : longitude(512) = [0.0, ..., 359.296875] degrees_east\n"
     ]
    }
   ],
   "source": [
    "cloud_field = fieldlist_3[4]\n",
    "print(cloud_field)"
   ]
  },
  {
   "cell_type": "markdown",
   "id": "df537a09-9cc3-43c0-9e6a-7d8d7902344c",
   "metadata": {},
   "source": [
    "**3.a.3)** Save the data of the `cloud_field` to a new variable we will call `cloud_field_data`. Do a `print` on the `shape` method of this to confirm the shape of the data, and compare this to the insepction report from the previous cell to see the same information represented in different ways."
   ]
  },
  {
   "cell_type": "code",
   "execution_count": 7,
   "id": "d54f5edd-abc3-40e7-a2c1-971fb52e12ca",
   "metadata": {},
   "outputs": [
    {
     "name": "stdout",
     "output_type": "stream",
     "text": [
      "(4, 1, 256, 512)\n"
     ]
    }
   ],
   "source": [
    "cloud_field_data = cloud_field.data\n",
    "print(cloud_field_data.shape)"
   ]
  },
  {
   "cell_type": "markdown",
   "id": "862a5eb4-6a63-4c11-a188-f048c3d27926",
   "metadata": {},
   "source": [
    "**3.a.4)** Make a subspace of the `cloud_field` from the cells above to subspace on the *first* time point in order. Note: doing date-time subspaces requires an extra step due to the nature of specifying dates and times which can be ambiguous otherwise: you need to wrap a quoted datetime string in the call `cf.dt()` to notify cf-python that you are providing a valid datetime string, e.g. `field1.subspace(time=cf.dt(\"2020-01-01 12:15:00\"))`.\n",
    "\n",
    "Assign the subspace operation resulting field to a variable `cloud_field_subspace1` and inspect it with medium detail.\n",
    "\n",
    "*Extra task, for those who have studied section 4 before doing this practical**: make a contour plot of this subspace of the field to see what it looks like.*"
   ]
  },
  {
   "cell_type": "code",
   "execution_count": 8,
   "id": "e0cdd409-e75d-43bb-96fd-c79b1f5e575b",
   "metadata": {},
   "outputs": [
    {
     "name": "stdout",
     "output_type": "stream",
     "text": [
      "Field: cloud_area_fraction (ncvar%TCC)\n",
      "--------------------------------------\n",
      "Data            : cloud_area_fraction(time(1), axis=Z(1), latitude(256), longitude(512)) (0 - 1)\n",
      "Dimension coords: time(1) = [2014-12-12 00:00:00] standard\n",
      "                : axis=Z(1) = [0.0] level\n",
      "                : latitude(256) = [89.46282196044922, ..., -89.46282196044922] degrees_north\n",
      "                : longitude(512) = [0.0, ..., 359.296875] degrees_east\n",
      "(1, 1, 256, 512)\n"
     ]
    }
   ],
   "source": [
    "cloud_field_subspace1 = cloud_field.subspace(time=cf.dt(\"2014-12-12 00:00:00\"))\n",
    "print(cloud_field_subspace1)\n",
    "print(cloud_field_subspace1.data.shape)\n",
    "# Extra part: cfp.con(cloud_field_subspace1)"
   ]
  },
  {
   "cell_type": "markdown",
   "id": "58adbc35-a63a-4c8a-973d-c28fea109ed3",
   "metadata": {},
   "source": [
    "**3.a.5** Make a subspace of the `cloud_field` from the cells above to subspace on the *last* point on the latitude axis.\n",
    "\n",
    "Assign the subspace operation resulting field to a variable `cloud_field_subspace2` and inspect it with medium detail.\n",
    "\n",
    "*Extra task, for those who have studied section 4 before doing this practical: make a contour plot of this subspace of the field to see what it looks like.*"
   ]
  },
  {
   "cell_type": "code",
   "execution_count": 9,
   "id": "6db795e1-8eb4-42b8-a6d2-4ad554f7fbb7",
   "metadata": {},
   "outputs": [
    {
     "name": "stdout",
     "output_type": "stream",
     "text": [
      "Field: cloud_area_fraction (ncvar%TCC)\n",
      "--------------------------------------\n",
      "Data            : cloud_area_fraction(time(4), axis=Z(1), latitude(1), longitude(512)) (0 - 1)\n",
      "Dimension coords: time(4) = [2014-12-12 00:00:00, ..., 2014-12-12 18:00:00] standard\n",
      "                : axis=Z(1) = [0.0] level\n",
      "                : latitude(1) = [-89.46282196044922] degrees_north\n",
      "                : longitude(512) = [0.0, ..., 359.296875] degrees_east\n",
      "(4, 1, 1, 512)\n"
     ]
    }
   ],
   "source": [
    "cloud_field_subspace2 = cloud_field.subspace(latitude=-89.46282196044922)\n",
    "print(cloud_field_subspace2)\n",
    "print(cloud_field_subspace2.data.shape)\n",
    "# Extra part: cfp.con(cloud_field_subspace2)"
   ]
  },
  {
   "cell_type": "markdown",
   "id": "bb1db98b-27b3-4c8a-bf63-f67f83dd2bb8",
   "metadata": {},
   "source": [
    "### b) Subspacing using indexing, including equivalency to the above"
   ]
  },
  {
   "cell_type": "markdown",
   "id": "3d95810b-eb02-4862-938e-91e6634bb2b9",
   "metadata": {},
   "source": [
    "**3.b.1)** Take the cloud field from (3.a.2) which we have been subspacing in the previous cells and make a subspace which takes the first time point, leaving all other axes unchanged, but this time do it using indexing. Use the `equals` method of a field to check that the result is the same as that derived from the 'subspacing by metadata' approach in section (3.a.4).\n",
    "\n",
    "TODO FIX UP UNITS TO EQUALS BECOMES TRUE, WEIRD UNITS CONFUSE CFUNITS"
   ]
  },
  {
   "cell_type": "code",
   "execution_count": 10,
   "id": "7d6ccf81-0a51-44f4-948c-95a243c751cd",
   "metadata": {},
   "outputs": [
    {
     "name": "stdout",
     "output_type": "stream",
     "text": [
      "Field: cloud_area_fraction (ncvar%TCC)\n",
      "--------------------------------------\n",
      "Data            : cloud_area_fraction(time(1), axis=Z(1), latitude(256), longitude(512)) (0 - 1)\n",
      "Dimension coords: time(1) = [2014-12-12 00:00:00] standard\n",
      "                : axis=Z(1) = [0.0] level\n",
      "                : latitude(256) = [89.46282196044922, ..., -89.46282196044922] degrees_north\n",
      "                : longitude(512) = [0.0, ..., 359.296875] degrees_east\n"
     ]
    },
    {
     "data": {
      "text/plain": [
       "False"
      ]
     },
     "execution_count": 10,
     "metadata": {},
     "output_type": "execute_result"
    }
   ],
   "source": [
    "cloud_field_subspace1_by_index = cloud_field[0, :, :, :]\n",
    "print(cloud_field_subspace1_by_index)\n",
    "cloud_field_subspace1_by_index.equals(cloud_field_subspace1)\n",
    "# or with the fields swapped i.e. cloud_field_subspace1.equals(cloud_field_subspace1_by_index) is also correct"
   ]
  },
  {
   "cell_type": "markdown",
   "id": "4e2cc4bf-2520-4136-82af-48ac6f974043",
   "metadata": {},
   "source": [
    "**3.b.2)** Now make a subspace on the original `cloud_field`, leaving all other axes unchanged, to subspace on the *last* point on the latitude axis, like before, but this time use subspacing by indexing. Use the `equals` method of a field to check that the result is the same as that derived from the 'subspacing by metadata' approach in section (3.a.4)."
   ]
  },
  {
   "cell_type": "code",
   "execution_count": 11,
   "id": "f15ef080-2d79-4686-8f67-00baee8a98f2",
   "metadata": {},
   "outputs": [
    {
     "name": "stdout",
     "output_type": "stream",
     "text": [
      "Field: cloud_area_fraction (ncvar%TCC)\n",
      "--------------------------------------\n",
      "Data            : cloud_area_fraction(time(4), axis=Z(1), latitude(1), longitude(512)) (0 - 1)\n",
      "Dimension coords: time(4) = [2014-12-12 00:00:00, ..., 2014-12-12 18:00:00] standard\n",
      "                : axis=Z(1) = [0.0] level\n",
      "                : latitude(1) = [-89.46282196044922] degrees_north\n",
      "                : longitude(512) = [0.0, ..., 359.296875] degrees_east\n"
     ]
    },
    {
     "data": {
      "text/plain": [
       "False"
      ]
     },
     "execution_count": 11,
     "metadata": {},
     "output_type": "execute_result"
    }
   ],
   "source": [
    "cloud_field_subspace2_by_index = cloud_field[:, :, -1, :]\n",
    "print(cloud_field_subspace2_by_index)\n",
    "cloud_field_subspace2_by_index.equals(cloud_field_subspace2)\n",
    "# or with the fields swapped i.e. cloud_field_subspace2.equals(cloud_field_subspace2_by_index) is also correct"
   ]
  },
  {
   "cell_type": "markdown",
   "id": "e65d7951-2d10-40d3-8858-87b7210079a8",
   "metadata": {},
   "source": [
    "**3.b.3)** Using indexing, do both of the subspaces from the previous sub-questions in one call on the original cloud field.\n",
    "\n",
    "Extra: do the same operation using the 'subspace by metadata' approach and use the `equals` method to show that the results are the same."
   ]
  },
  {
   "cell_type": "code",
   "execution_count": 12,
   "id": "0b83671d-442f-41c4-981a-764581a358ec",
   "metadata": {},
   "outputs": [
    {
     "name": "stdout",
     "output_type": "stream",
     "text": [
      "Field: cloud_area_fraction (ncvar%TCC)\n",
      "--------------------------------------\n",
      "Data            : cloud_area_fraction(time(1), axis=Z(1), latitude(1), longitude(512)) (0 - 1)\n",
      "Dimension coords: time(1) = [2014-12-12 00:00:00] standard\n",
      "                : axis=Z(1) = [0.0] level\n",
      "                : latitude(1) = [-89.46282196044922] degrees_north\n",
      "                : longitude(512) = [0.0, ..., 359.296875] degrees_east\n"
     ]
    },
    {
     "data": {
      "text/plain": [
       "False"
      ]
     },
     "execution_count": 12,
     "metadata": {},
     "output_type": "execute_result"
    }
   ],
   "source": [
    "cloud_field_subspace2_by_index = cloud_field[0, :, -1, :]\n",
    "print(cloud_field_subspace2_by_index)\n",
    "cloud_field_subspace2_by_index.equals(cloud_field_subspace2)"
   ]
  },
  {
   "cell_type": "markdown",
   "id": "f5e05393-4c31-4505-8b80-4b8b2bdeba5d",
   "metadata": {},
   "source": [
    "**3.b.4)** Do a single subspace on the original cloud field that takes the first 100 latitude and the first 200 longitude values. Use whichever method (subspacing by metadata, or indexing) you prefer, in order to do so."
   ]
  },
  {
   "cell_type": "code",
   "execution_count": 13,
   "id": "dd33a050-117c-4327-931c-ea8dd2372a70",
   "metadata": {},
   "outputs": [
    {
     "data": {
      "text/plain": [
       "<CF Field: cloud_area_fraction(time(4), axis=Z(1), latitude(100), longitude(200)) (0 - 1)>"
      ]
     },
     "execution_count": 13,
     "metadata": {},
     "output_type": "execute_result"
    }
   ],
   "source": [
    "cloud_field[:, :, :100, :200]"
   ]
  },
  {
   "cell_type": "markdown",
   "id": "b870563e-6f45-46ca-9dad-6d8a5cb69ec5",
   "metadata": {},
   "source": [
    "### c) Statistical collapses"
   ]
  },
  {
   "cell_type": "markdown",
   "id": "05d9602f-744d-4ce7-a4a0-1880a30db393",
   "metadata": {},
   "source": [
    "**3.c.1)** Take the original `cloud_field` from (3.a.2) and do a collapse over the time axis to reduce it down to the minimum value. Assign that to the variable name `cloud_field_collapse1`."
   ]
  },
  {
   "cell_type": "code",
   "execution_count": 14,
   "id": "843d1148-25e1-4cc2-91e3-28085b0ac7f3",
   "metadata": {},
   "outputs": [
    {
     "name": "stdout",
     "output_type": "stream",
     "text": [
      "Field: cloud_area_fraction (ncvar%TCC)\n",
      "--------------------------------------\n",
      "Data            : cloud_area_fraction(time(1), axis=Z(1), latitude(256), longitude(512)) (0 - 1)\n",
      "Cell methods    : time(1): minimum\n",
      "Dimension coords: time(1) = [2014-12-12 09:00:00] standard\n",
      "                : axis=Z(1) = [0.0] level\n",
      "                : latitude(256) = [89.46282196044922, ..., -89.46282196044922] degrees_north\n",
      "                : longitude(512) = [0.0, ..., 359.296875] degrees_east\n"
     ]
    }
   ],
   "source": [
    "cloud_field_collapse1 = cloud_field.collapse(\"time: minimum\")\n",
    "print(cloud_field_collapse1)"
   ]
  },
  {
   "cell_type": "markdown",
   "id": "1527c1bc-12e3-4708-a544-39fef8d0062b",
   "metadata": {},
   "source": [
    "**3.c.2)** Take the original `cloud_field` from (3.a.2) and do a collapse over the latitude axis to reduce it down to the mean value. Assign that to the variable name `cloud_field_collapse2`."
   ]
  },
  {
   "cell_type": "code",
   "execution_count": 15,
   "id": "f44e6b5e-c3bf-48bf-81b4-d082a437d3c2",
   "metadata": {},
   "outputs": [
    {
     "name": "stdout",
     "output_type": "stream",
     "text": [
      "Field: cloud_area_fraction (ncvar%TCC)\n",
      "--------------------------------------\n",
      "Data            : cloud_area_fraction(time(4), axis=Z(1), latitude(1), longitude(512)) (0 - 1)\n",
      "Cell methods    : latitude(1): mean\n",
      "Dimension coords: time(4) = [2014-12-12 00:00:00, ..., 2014-12-12 18:00:00] standard\n",
      "                : axis=Z(1) = [0.0] level\n",
      "                : latitude(1) = [0.0] degrees_north\n",
      "                : longitude(512) = [0.0, ..., 359.296875] degrees_east\n"
     ]
    }
   ],
   "source": [
    "cloud_field_collapse2 = cloud_field.collapse(\"latitude: mean\")\n",
    "print(cloud_field_collapse2)"
   ]
  },
  {
   "cell_type": "markdown",
   "id": "592f58a8-77a3-4cc2-beb3-f6247f5f0310",
   "metadata": {},
   "source": [
    "**3.c.3)** Take the original `cloud_field` from (3.a.2) and do a collapse over the longitude axis to reduce it down to the maximum value. Assign that to the variable name `cloud_field_collapse3`."
   ]
  },
  {
   "cell_type": "code",
   "execution_count": 16,
   "id": "62c236eb-c360-47b2-ac20-6d1250ed7a78",
   "metadata": {},
   "outputs": [
    {
     "name": "stdout",
     "output_type": "stream",
     "text": [
      "Field: cloud_area_fraction (ncvar%TCC)\n",
      "--------------------------------------\n",
      "Data            : cloud_area_fraction(time(4), axis=Z(1), latitude(256), longitude(1)) (0 - 1)\n",
      "Cell methods    : longitude(1): maximum\n",
      "Dimension coords: time(4) = [2014-12-12 00:00:00, ..., 2014-12-12 18:00:00] standard\n",
      "                : axis=Z(1) = [0.0] level\n",
      "                : latitude(256) = [89.46282196044922, ..., -89.46282196044922] degrees_north\n",
      "                : longitude(1) = [179.6484375] degrees_east\n"
     ]
    }
   ],
   "source": [
    "cloud_field_collapse3 = cloud_field.collapse(\"longitude: maximum\")\n",
    "print(cloud_field_collapse3)"
   ]
  },
  {
   "cell_type": "markdown",
   "id": "22357974-11e2-4820-b0d6-90273cbc4646",
   "metadata": {},
   "source": [
    "**3.c.4)** Finally, take the original `cloud_field` from (3.a.2) again and do a collapse over all horizontal space via the pair of horizontal spatial axes, latitude and longitude, to reduce them down to the standard deviation value. Assign that to the variable name `cloud_field_collapse4`."
   ]
  },
  {
   "cell_type": "code",
   "execution_count": 17,
   "id": "532ae8bf-09a1-4a2c-8800-2802fe186202",
   "metadata": {
    "scrolled": true
   },
   "outputs": [
    {
     "name": "stdout",
     "output_type": "stream",
     "text": [
      "Field: cloud_area_fraction (ncvar%TCC)\n",
      "--------------------------------------\n",
      "Data            : cloud_area_fraction(time(4), axis=Z(1), latitude(1), longitude(1)) (0 - 1)\n",
      "Cell methods    : latitude(1): longitude(1): standard_deviation\n",
      "Dimension coords: time(4) = [2014-12-12 00:00:00, ..., 2014-12-12 18:00:00] standard\n",
      "                : axis=Z(1) = [0.0] level\n",
      "                : latitude(1) = [0.0] degrees_north\n",
      "                : longitude(1) = [179.6484375] degrees_east\n"
     ]
    }
   ],
   "source": [
    "cloud_field_collapse4 = cloud_field.collapse(\"longitude: latitude: standard_deviation\")\n",
    "print(cloud_field_collapse4)"
   ]
  },
  {
   "cell_type": "markdown",
   "id": "f1a9360f-13bf-45e0-8442-43c74fb7c14e",
   "metadata": {},
   "source": [
    "<div class=\"alert alert-block alert-success\">\n",
    "<i>Practical instructions:</i> this is the end of the section. Please check your work, review the material and then move on to Practical 4 (see the Notebook 'cf_data_tools_practical_04.ipynb').\n",
    "</div>"
   ]
  },
  {
   "cell_type": "markdown",
   "id": "59b69a9d-a94c-464c-aa3c-482c699bc404",
   "metadata": {},
   "source": [
    "***"
   ]
  }
 ],
 "metadata": {
  "kernelspec": {
   "display_name": "Python 3 (ipykernel)",
   "language": "python",
   "name": "python3"
  },
  "language_info": {
   "codemirror_mode": {
    "name": "ipython",
    "version": 3
   },
   "file_extension": ".py",
   "mimetype": "text/x-python",
   "name": "python",
   "nbconvert_exporter": "python",
   "pygments_lexer": "ipython3",
   "version": "3.12.0"
  }
 },
 "nbformat": 4,
 "nbformat_minor": 5
}
