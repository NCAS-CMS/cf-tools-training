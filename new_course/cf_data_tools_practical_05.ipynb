{
 "cells": [
  {
   "cell_type": "markdown",
   "id": "0cd6019e-c5b3-4dc6-bf86-6fcf10b06851",
   "metadata": {},
   "source": [
    "# P5. Analysing data: applying operations and plotting trends\n",
    "## Practical Notebook 5 (of 6) for *Intro to the NCAS CF Data Tools, cf-python and cf-plot*\n",
    "\n",
    "**In this section we demonstrate how to do some data analysis including performing arithmetic and statistical calculations on the data, showing how cf-python's CF Conventions metadata awareness means that the metadata is automatically updated to account for the operations that are performed.**"
   ]
  },
  {
   "cell_type": "markdown",
   "id": "1c3beb87-7b0d-44ad-9da3-fa32494b795c",
   "metadata": {},
   "source": [
    "***"
   ]
  },
  {
   "cell_type": "markdown",
   "id": "df666543-52ee-402a-8fa4-cb4d8389f3a8",
   "metadata": {},
   "source": [
    "<div class=\"alert alert-block alert-success\">\n",
    "<i>Practical instructions:</i> run the cell in this section to do the set up, which is not part of the practical proper.\n",
    "</div>"
   ]
  },
  {
   "cell_type": "markdown",
   "id": "60685d98-e0c9-40dc-af7b-a66e7d73ebda",
   "metadata": {},
   "source": [
    "## Setting up\n",
    "\n",
    "**In this short prelude we set up this Notebook, import the libraries and check the data we will work with, ready to use the libraries and the data (exactly as per the first Notebook setup but in one cell only for quick execution).**"
   ]
  },
  {
   "cell_type": "code",
   "execution_count": 1,
   "id": "caa841fa-3e8f-4c22-b418-cc1386f32dbf",
   "metadata": {},
   "outputs": [
    {
     "name": "stdout",
     "output_type": "stream",
     "text": [
      "--- Version report: ---\n",
      "cf-python version is: 3.18.1\n",
      "cf-plot version is: 3.4.0\n",
      "CF Conventions version is: 1.12\n",
      "--- Datasets available from the path '../ncas_data': ---\n",
      "160by320griddata.nc\t\t\t   precip_2010.nc\n",
      "aaaaoa.pmh8dec.pp\t\t\t   precip_DJF_means.nc\n",
      "alpine_precip_DJF_means.nc\t\t   qbo.nc\n",
      "data1.nc\t\t\t\t   regions.nc\n",
      "data1-updated.nc\t\t\t   rgp.nc\n",
      "data2.nc\t\t\t\t   sea_currents_backup.nc\n",
      "data3.nc\t\t\t\t   sea_currents.nc\n",
      "data5.nc\t\t\t\t   ta.nc\n",
      "ggas2014121200_00-18.nc\t\t\t   tripolar.nc\n",
      "IPSL-CM5A-LR_r1i1p1_tas_n96_rcp45_mnth.nc  two_fields.nc\n",
      "land.nc\t\t\t\t\t   ua.nc\n",
      "model_precip_DJF_means_low_res.nc\t   u_n216.nc\n",
      "model_precip_DJF_means.nc\t\t   u_n96.nc\n",
      "n2o_emissions.nc\t\t\t   vaAMIPlcd_DJF.nc\n",
      "POLCOMS_WAM_ZUV_01_16012006.nc\t\t   va.nc\n",
      "precip_1D_monthly.nc\t\t\t   wapAMIPlcd_DJF.nc\n",
      "precip_1D_yearly.nc\n"
     ]
    }
   ],
   "source": [
    "# Set up for inline plots - only needed inside a Notebook environment - and to ignore some repeating warnings\n",
    "%matplotlib inline\n",
    "\n",
    "import warnings\n",
    "warnings.filterwarnings(\"ignore\")\n",
    "\n",
    "# Import the two CF Data Tools libraries and inspect the versions\n",
    "import cfplot as cfp\n",
    "import cf\n",
    "print(\"--- Version report: ---\")\n",
    "print(\"cf-python version is:\", cf.__version__)\n",
    "print(\"cf-plot version is:\", cfp.__version__)\n",
    "print(\"CF Conventions version is:\", cf.CF())\n",
    "\n",
    "# See what datasets we have to explore within the data directory we use throughout this course\n",
    "print(\"--- Datasets available from the path '../ncas_data': ---\")\n",
    "# Note that in a Jupyter Notebook, '!' precedes a shell command - so this is a command, not Python\n",
    "!ls ../ncas_data"
   ]
  },
  {
   "cell_type": "markdown",
   "id": "e7640cdb-0d6f-4933-86d7-e86e7b9acbe4",
   "metadata": {},
   "source": [
    "***"
   ]
  },
  {
   "cell_type": "markdown",
   "id": "ef80e6de-8e62-468b-93c8-b41ac768375a",
   "metadata": {},
   "source": [
    "<div class=\"alert alert-block alert-success\">\n",
    "<i>Practical instructions:</i> now we can start the practical. We will follow the same sectioning as in the teaching notebook, so please consult the notes there in the matching section for guidance and you can also consult the cf-python and cf-plot documentation linked above.\n",
    "</div>"
   ]
  },
  {
   "cell_type": "markdown",
   "id": "72524bb7-a643-4753-ad8b-f419656883fa",
   "metadata": {},
   "source": [
    "## 5. Analysing data: applying mathematical and statistical operations and plotting trends"
   ]
  },
  {
   "cell_type": "markdown",
   "id": "59637071-edcb-40fe-970a-1d89e0209aa7",
   "metadata": {},
   "source": [
    "### a) Applying mathematics e.g. arithmetic and trigonometry on fields"
   ]
  },
  {
   "cell_type": "markdown",
   "id": "3ce63f35-c0a3-4c5b-a58c-98856f26ce25",
   "metadata": {},
   "source": [
    "**5.a.1)** Read in the dataset 'ggas2014121200_00-18.nc' from the usual data directory 'ncas_data' (note this is the`fieldlist` we explored in section 3, but this time, we'll work with a different field within it). Take the *fourth* field in order and assign it to a variable called `field`. Inspect it with medium detail."
   ]
  },
  {
   "cell_type": "code",
   "execution_count": null,
   "id": "8846ce13-3ac6-4586-9318-bcf96abe2b97",
   "metadata": {},
   "outputs": [],
   "source": []
  },
  {
   "cell_type": "markdown",
   "id": "dfdf903e-1a4b-46e2-9ba5-4118307329c7",
   "metadata": {},
   "source": [
    "**5.a.2)** Take a subspace of the first time point, assigning it to a new variable called `field_subspace`, and plot it on a contour plot to see what the underlying data is like. Making a plot with cf-plot early on in this way is, for example, a good way to get a quick look at a new dataset to get a feel for the overall scope and patterns."
   ]
  },
  {
   "cell_type": "code",
   "execution_count": null,
   "id": "9c7be26b-51d7-4f43-aaa5-ce916b97a468",
   "metadata": {},
   "outputs": [],
   "source": []
  },
  {
   "cell_type": "markdown",
   "id": "3d0733cc-b6fa-4889-87ba-c0161b29d8eb",
   "metadata": {},
   "source": [
    "**5.a.3)** To normalise data representing a variable `x`, there is the general formula `normalized_x = (x - minimum_x) / x-range`. Use the cf-python methods available on a field, namely `minimum()` and `range()`, to normalise the data in the subspace of `field` we defined as `field_subspace` from the previous step. Call this result `norm_field` as a new Python variable. Hint: you can apply these methods directly on the field which knows to apply them to its underlying data, and the whole data array will be operated on at once, as with array operations in NumPy and similar Python array libraries.\n",
    "\n",
    "Finally, re-plot the contour plot at the subspace on the first time point to see that the data has been normalised appropriately: the colour bar range should go from 0 to 1 now but the data plot itself (contour pattern and colours) should not have changed because the normalisation adjusts all values to the 0 to 1 range but preserves the relative magnitudes between them."
   ]
  },
  {
   "cell_type": "code",
   "execution_count": null,
   "id": "e770cba8-88db-44ac-a143-51e369b9695b",
   "metadata": {},
   "outputs": [],
   "source": []
  },
  {
   "cell_type": "markdown",
   "id": "3636fd39-4aa6-4b86-8eaf-0154b285fc2d",
   "metadata": {},
   "source": [
    "**5.a.4)** Finally, to explore basic field arithmetic and see the influence on the data via a plot, multiply `field_subspace` by negative one and plot this result as a contour plot. Describe in a sentence comment the difference in the plot to the original from ."
   ]
  },
  {
   "cell_type": "code",
   "execution_count": null,
   "id": "aed0f47d-cad3-4a80-8ef6-2878ec963fd8",
   "metadata": {},
   "outputs": [],
   "source": []
  },
  {
   "cell_type": "markdown",
   "id": "561caf84-0824-4b69-8ad9-82ce28d5bfd1",
   "metadata": {},
   "source": [
    "### b) Line plotting"
   ]
  },
  {
   "cell_type": "markdown",
   "id": "a42040e2-0bc1-4e25-9168-5dc474e97ab2",
   "metadata": {},
   "source": [
    "**5.b.1)** Let's make some line plots. To set this up, read in the file `IPSL-CM5A-LR_r1i1p1_tas_n96_rcp45_mnth.nc` under the usual directory `../ncas_data` and assign the *first* field in that FieldList to a variable called `monthly_field`. Inspect it with medium detail."
   ]
  },
  {
   "cell_type": "code",
   "execution_count": null,
   "id": "274d1d90-5be7-46ff-8532-5de882998187",
   "metadata": {},
   "outputs": [],
   "source": []
  },
  {
   "cell_type": "markdown",
   "id": "5de191f4-d755-43f7-8718-e04a8376b647",
   "metadata": {},
   "source": [
    "**5.b.2)** Notice that the `monthly_field` is three-dimensional (3D) with axes sizes all over one for each of the three dimensions. In order to do a lineplot, we need a one-dimensional series, so we need to reduce the field down to size one in two of the dimensions to make a line plot.\n",
    "\n",
    "Let's do a collapse to reduce the two spatial axes, latitude and longitude, at once. Do a collapse to the maximum over those two axes, assigning it to a variable we'll call `spatial_max_monthly_field`. You can specify both of those axes by name, or you can use `\"area\"` as a shorthand string which means both latitude and longitude at once."
   ]
  },
  {
   "cell_type": "code",
   "execution_count": null,
   "id": "34f9b25c-c249-4868-b262-ecadf69367b8",
   "metadata": {},
   "outputs": [],
   "source": []
  },
  {
   "cell_type": "markdown",
   "id": "f0e10b7f-b3b5-4dd3-b79b-1d8b6e1bb190",
   "metadata": {},
   "source": [
    "**5.b.3)** Use cf-plot to make a line plot of the collapsed field `spatial_max_monthly_field` from the cell above."
   ]
  },
  {
   "cell_type": "code",
   "execution_count": null,
   "id": "537ec534-e25e-4dc6-88b6-57e7797a1273",
   "metadata": {},
   "outputs": [],
   "source": []
  },
  {
   "cell_type": "markdown",
   "id": "682335b3-5eba-416c-bbd2-182f5915df7d",
   "metadata": {},
   "source": [
    "### c) Calculating seasonal trends"
   ]
  },
  {
   "cell_type": "markdown",
   "id": "9799e66c-0107-4dd0-8652-5a851a795c8f",
   "metadata": {},
   "source": [
    "**5.c.1)** Define a new variable `get_mam_season` and set it to the cf-python function `mam()` which represents a specific collapse over the months of March, April and May, just like `cf.djf()` represents a collapse over December, January and February etc. - there are four such methods to cover each trio of months closely aligned with the seasons, two of which were demonstrated in the teaching Notebook."
   ]
  },
  {
   "cell_type": "code",
   "execution_count": null,
   "id": "9f483867-c35f-456b-8314-7c9c006b163a",
   "metadata": {},
   "outputs": [],
   "source": []
  },
  {
   "cell_type": "markdown",
   "id": "6cbc9cf7-cfd7-49fc-8244-91612c006cdb",
   "metadata": {},
   "source": [
    "**5.c.2)** Do a grouped collapse over the months of March, April and May only using the `group` argument set to `get_mam_season`, for a *maximum* collapse over the *time* axis on the `spatial_max_monthly_field`. Make a line plot of this collapsed field."
   ]
  },
  {
   "cell_type": "code",
   "execution_count": null,
   "id": "8763a854-82cf-4fc5-80b5-c0214310fae9",
   "metadata": {},
   "outputs": [],
   "source": []
  },
  {
   "cell_type": "markdown",
   "id": "fcb98f04-a03d-4c1c-b0cd-ea153daf6f16",
   "metadata": {},
   "source": [
    "**5.c.3)** Define three more variables representing specific collapse over the DJF, JJA and SON trio of months using the appropriate cf-python methods to complete the set across the calendar year (`cf.son()` is for the SON months and use the teaching Notebook for guidance on the other two methods if required but their names follow the same pattern so you can possibly guess them), assigning them to variables `get_djf_season`, `get_jja_season` and `get_son_season` respectively.\n",
    "\n",
    "Then, using those three variables one-by-one, define three grouped collapses, also for a *maximum* collapse over the *time* axis as above, on the `spatial_max_monthly_field` field using these as the `group`, calling them `djf_season_max`, `jja_season_max` and `son_season_max` corresponding to the collapses in order above."
   ]
  },
  {
   "cell_type": "code",
   "execution_count": null,
   "id": "ea2e67a9-1ec6-4d3b-a673-2f06c9f7ae11",
   "metadata": {},
   "outputs": [],
   "source": []
  },
  {
   "cell_type": "markdown",
   "id": "b094573f-f690-48da-a8e9-93481ead73fb",
   "metadata": {},
   "source": [
    "### d) Plotting the seasonal trends on one (line)plot"
   ]
  },
  {
   "cell_type": "markdown",
   "id": "428b074b-d2af-4804-9131-2985d69bf4d9",
   "metadata": {},
   "source": [
    "**5.d.1)** Let's make a line plot which shows all of the fields above: the four season maximum trends `djf_season_max`, `mam_season_max`, `jja_season_max` and `son_season_max`, along with the `spatial_max_monthly_field`. Use the code block from the teaching Notebook as a guide, or otherwise: you will need to wrap all of the calls to `lineplot` within `cfp.gopen()` and `cfp.gclose()` so they are plotted on the same canvas. You do not need to set positions."
   ]
  },
  {
   "cell_type": "code",
   "execution_count": null,
   "id": "83a29404-cc39-47eb-9909-b2af9b1ab7e9",
   "metadata": {},
   "outputs": [],
   "source": []
  },
  {
   "cell_type": "markdown",
   "id": "422daf4c-731d-48db-812e-53298d8d80a7",
   "metadata": {},
   "source": [
    "**5.d.2)** Finally, copy your code from the previous cell and use the `label` argument to `lineplot` to assign labels to your individual line plot calls, which will result in a legend emerging on the final plot with the labels to identify each line."
   ]
  },
  {
   "cell_type": "code",
   "execution_count": null,
   "id": "a6396957-b64b-4c79-9fcd-067463457842",
   "metadata": {},
   "outputs": [],
   "source": []
  },
  {
   "cell_type": "markdown",
   "id": "7da70230-821f-408c-9b02-e32cec5a8f0d",
   "metadata": {},
   "source": [
    "<div class=\"alert alert-block alert-success\">\n",
    "<i>Practical instructions:</i> this is the end of the section. Please check your work, review the material and then move on to Practical 6 (see the Notebook 'cf_data_tools_practical_06.ipynb').\n",
    "</div>"
   ]
  },
  {
   "cell_type": "markdown",
   "id": "3b746f6b-ef82-4aa9-8d39-ca179f15db62",
   "metadata": {},
   "source": [
    "***"
   ]
  }
 ],
 "metadata": {
  "kernelspec": {
   "display_name": "Python 3 (ipykernel)",
   "language": "python",
   "name": "python3"
  },
  "language_info": {
   "codemirror_mode": {
    "name": "ipython",
    "version": 3
   },
   "file_extension": ".py",
   "mimetype": "text/x-python",
   "name": "python",
   "nbconvert_exporter": "python",
   "pygments_lexer": "ipython3",
   "version": "3.12.0"
  }
 },
 "nbformat": 4,
 "nbformat_minor": 5
}
