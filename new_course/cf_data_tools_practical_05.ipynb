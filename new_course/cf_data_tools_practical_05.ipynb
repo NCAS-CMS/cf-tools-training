{
 "cells": [
  {
   "cell_type": "markdown",
   "id": "0cd6019e-c5b3-4dc6-bf86-6fcf10b06851",
   "metadata": {},
   "source": [
    "# Practical for 'introduction to the NCAS CF Data Tools, cf-python and cf-plot'"
   ]
  },
  {
   "cell_type": "markdown",
   "id": "1e8d7e64-fd9a-4e9b-a369-61d5635cbb62",
   "metadata": {},
   "source": [
    "<div class=\"alert alert-block alert-success\">\n",
    "<i>Practical instructions:</i> these green boxes provide instructions and tips about doing this practical (blue boxes are the same as in the teaching notebook and provide useful information). As guidance and for reference, the following are provided below before the practical material starts:\n",
    "<ul>\n",
    "    <li>the context and learning objectives from the main/presented Notebook below - you are advised to re-read this as a reminder;</li>\n",
    "    <li>a copy of the final section from the main Notebook which provides links to further information - you might find the documentation links especially useful here;</li>\n",
    "    <li>the note on terminology from section one is included also in the reminder as a guide to terms used throughout - read this if useful.</li>\n",
    "</ul>\n",
    "</div>\n",
    "</div>"
   ]
  },
  {
   "cell_type": "markdown",
   "id": "c4378ad0-8448-44ef-80e2-cd6e67346a1b",
   "metadata": {},
   "source": [
    "## A reminder: context, learning objectives and guidance links\n",
    "\n",
    "### What are the NCAS CF Data Tools and why do they all have 'cf' in the name?\n",
    "\n",
    "The _NCAS CF Data Tools_ are a suite of complementary Python libraries which are designed to facilitate working with data for research in the earth sciences and aligned domains. The two that are of most relevance to the average user, and those wanting to process, analyse and visualise atmospheric data, are *cf-python* (https://ncas-cms.github.io/cf-python/) and *cf-plot* (https://ncas-cms.github.io/cf-plot/build/). We will be focusing on use of cf-python and cf-plot today.\n",
    "\n",
    "The 'cf' in the names of the NCAS CF Data Tools corresponds to the _CF Conventions_, a metadata standard, because they are built around this standard in the form of using the CF Data Model, which as well as performance is considered a 'unique selling point' of the tools.\n",
    "\n",
    "\n",
    "### What are the CF Conventions?\n",
    "\n",
    "The _CF Conventions_, usually referred to in this way but also know by the full name of the **C**limate and **F**orecast (CF) metadata conventions, are a metadata standard which is becoming the de-facto convention to cover the description of geoscientific data so that sharing and intercomparison is simpler. See https://cfconventions.org/ for more information.\n",
    "\n",
    "\n",
    "### What are we going to learn in this session?\n",
    "\n",
    "Our **learning aim** is to be able to use the NCAS CF Data Tools Python libraries, namely cf-python and cf-plot to process, analyse and visualise netCDF and PP datasets, whilst appreciating the context and 'unique selling point' of the libraries as being built to use the CF Conventions, a metadata standard for earth science data, to make it simpler to do what you want to do with the datasets, by working on top of a Data Model for CF.\n",
    "\n",
    "We have **six distinct objectives**, matching the sections in this notebook and in the practical notebook you will work through. By the end of this lesson you should be familiar and have practiced using cf-python and cf-plot to:\n",
    "\n",
    "1. read dataset(s) and view the (meta)data at different detail levels;\n",
    "2. edit the (meta)data and write out the edited version to file;\n",
    "3. reduce datasets by subspacing and collapsing;\n",
    "4. visualise datasets as contour and vector plots;\n",
    "5. analyse data: applying mathematical and statistical operations and plotting trends;\n",
    "6. change the underlying grid of data through regridding."
   ]
  },
  {
   "cell_type": "markdown",
   "id": "26aa2a28-22ce-4e9f-bc1e-6b0d76ab807c",
   "metadata": {},
   "source": [
    "### Guidance: where to find more information and resources on the NCAS CF Data Tools\n",
    "\n",
    "Here are some links relating to the NCAS CF Data Tools and this training.\n",
    "\n",
    "* This training, with further material, is hosted online and there are instructions for setting up the environment so you can work through it in your own time: https://github.com/NCAS-CMS/cf-tools-training.\n",
    "* **The cf-python documentation lives at https://ncas-cms.github.io/cf-python/.**\n",
    "* The cf-python code lives on GitHub at https://github.com/NCAS-CMS/cf-python. There is an Issue Tracker to report queries or questions at https://github.com/NCAS-CMS/cf-python/issues.\n",
    "* **The cf-plot documentation lives at https://ncas-cms.github.io/cf-plot/build/.**\n",
    "* The cf-plot code lives on GitHub at https://github.com/NCAS-CMS/cf-plot. There is an Issue Tracker to report queries or questions at https://github.com/NCAS-CMS/cf-plot/issues.\n",
    "* There is a technical presentation about the NCAS CF Data Tools avaialble from https://hps.vi4io.org/_media/events/2020/summer-school-cfnetcdf.pdf.\n",
    "* The website of the CF Conventions can be found at https://cfconventions.org/.\n",
    "* The landing page for training into the CF Conventions is found here within the website above: https://cfconventions.org/Training/.\n",
    "\n",
    "If you have any queries after this course, please either use the Issue Trackers linked above or you can email me at: sadie.bartholomew@ncas.ac.uk."
   ]
  },
  {
   "cell_type": "markdown",
   "id": "7ca3e79a-e39f-4a04-9dc5-3b56036bef5e",
   "metadata": {},
   "source": [
    "<div class=\"alert alert-block alert-info\">\n",
    "<i>Note:</i> In cf-python and when discussing related code and datasets, we use terminology from the CF Data Model (for more detail see: <a href=\"url\">https://ncas-cms.github.io/cf-python/cf_data_model.html</a>). For example cf-python methods are named in relation to concepts from this data model. We don't have time to cover this in detail but for this session it is useful to know the following terms:\n",
    "\n",
    "<ul>\n",
    "    <li><b>field</b>: a self-contained cf-python object corresponding to a netCDF data variable with all of its (CF) metadata attached;</li>\n",
    "    <li><b>field list</b>: a list of lields (see above), stored as its own cf-python object 'FieldList' which is similar to a Python list;</li>\n",
    "    <li><b>coordinate</b>: a (CF) metadata concept which corresponds to netCDF coordinate variables. One or more coordinates are defined on every field as either 'dimension' or 'auxiliary' coordinate objects in cf-python.</li>\n",
    "</ul>\n",
    "</div>"
   ]
  },
  {
   "cell_type": "markdown",
   "id": "1c3beb87-7b0d-44ad-9da3-fa32494b795c",
   "metadata": {},
   "source": [
    "***"
   ]
  },
  {
   "cell_type": "markdown",
   "id": "df666543-52ee-402a-8fa4-cb4d8389f3a8",
   "metadata": {},
   "source": [
    "<div class=\"alert alert-block alert-success\">\n",
    "<i>Practical instructions:</i> run all of the cells in this section to do the set up.\n",
    "</div>"
   ]
  },
  {
   "cell_type": "markdown",
   "id": "196e9e0a-83d1-464c-b53c-a6fc2e0c19ff",
   "metadata": {},
   "source": [
    "## Setting up\n",
    "\n",
    "**In this section we set up this Notebook, import the libraries and check the data we will work with, ready to use the libraries within this notebook.**"
   ]
  },
  {
   "cell_type": "markdown",
   "id": "6cfa3e24-6400-4de0-b155-aab85f701441",
   "metadata": {},
   "source": [
    "Run some set up for nice outputs in this Jupyter Notebook (not required in interactive Python or a script):"
   ]
  },
  {
   "cell_type": "code",
   "execution_count": null,
   "id": "aadf1e3e-382f-47c5-aeee-b52f3cd2868d",
   "metadata": {},
   "outputs": [],
   "source": [
    "%matplotlib inline\n",
    "\n",
    "import warnings\n",
    "warnings.filterwarnings('ignore')"
   ]
  },
  {
   "cell_type": "markdown",
   "id": "d073760a-6734-4a1d-9832-a70a8e0dd089",
   "metadata": {},
   "source": [
    "Import cf-python and cf-plot:"
   ]
  },
  {
   "cell_type": "code",
   "execution_count": null,
   "id": "b4b0c984-1adc-4515-b192-19da265e1f9a",
   "metadata": {},
   "outputs": [],
   "source": [
    "import cfplot as cfp\n",
    "import cf"
   ]
  },
  {
   "cell_type": "markdown",
   "id": "7b00d47b-4497-4540-b1bd-6fa8fa8e3226",
   "metadata": {},
   "source": [
    "Inspect the versions of cf-python and cf-plot and the version of the CF Conventions those are matched to:"
   ]
  },
  {
   "cell_type": "code",
   "execution_count": null,
   "id": "ea75b1b6-ba78-428d-b9b2-ca29a8cf6f0d",
   "metadata": {},
   "outputs": [],
   "source": [
    "print(\"cf-python version is:\", cf.__version__)\n",
    "print(\"cf-plot version is:\", cfp.__version__)\n",
    "print(\"CF Conventions version is:\", cf.CF())"
   ]
  },
  {
   "cell_type": "markdown",
   "id": "628af6cc-24f1-4e85-bf8b-654268e72bd3",
   "metadata": {},
   "source": [
    "<div class=\"alert alert-block alert-info\">\n",
    "<i>Note:</i> you can work with data compliant by any other version of the CF Conventions, or without (much) compliance, but the CF Conventions version gives the maximum version that these versions of the tools understand the features of.\n",
    "</div>"
   ]
  },
  {
   "cell_type": "markdown",
   "id": "8135f5c6-3d3e-45b6-a84a-3dcea754372f",
   "metadata": {},
   "source": [
    "Finally, see what datasets we have to explore:"
   ]
  },
  {
   "cell_type": "markdown",
   "id": "cfab63fe-088d-4ca8-ab95-40f61f0c2fd3",
   "metadata": {},
   "source": [
    "<div class=\"alert alert-block alert-info\">\n",
    "<i>Note:</i> in a Jupyter Notebook, '!' preceeeds a shell command, so this is a terminal command and not Python\n",
    "</div>"
   ]
  },
  {
   "cell_type": "code",
   "execution_count": null,
   "id": "a45afce7-abd8-4edd-b14c-eb033566bd52",
   "metadata": {
    "scrolled": true
   },
   "outputs": [],
   "source": [
    "!ls ../ncas_data"
   ]
  },
  {
   "cell_type": "markdown",
   "id": "e7640cdb-0d6f-4933-86d7-e86e7b9acbe4",
   "metadata": {},
   "source": [
    "***"
   ]
  },
  {
   "cell_type": "markdown",
   "id": "ef80e6de-8e62-468b-93c8-b41ac768375a",
   "metadata": {},
   "source": [
    "<div class=\"alert alert-block alert-success\">\n",
    "<i>Practical instructions:</i> now we can start the practical. We will follow the same sectioning as in the teaching notebook, so please consult the notes there in the matching section for guidance and you can also consult the cf-python and cf-plot documentation linked above.\n",
    "</div>"
   ]
  },
  {
   "cell_type": "markdown",
   "id": "72524bb7-a643-4753-ad8b-f419656883fa",
   "metadata": {},
   "source": [
    "## 5. Analysing data: applying mathematical and statistical operations and plotting trends\n",
    "\n",
    "**In this section we demonstrate how to do some data analysis including performing arithmetic and statistical calculations on the data, showing how cf-python's CF Conventions metadata awareness means that the metadata is automatically updated to account for the operations that are performed.**"
   ]
  },
  {
   "cell_type": "markdown",
   "id": "59637071-edcb-40fe-970a-1d89e0209aa7",
   "metadata": {},
   "source": [
    "### a) Applying mathematics e.g. arithmetic and trigonometry on fields"
   ]
  },
  {
   "cell_type": "markdown",
   "id": "3ce63f35-c0a3-4c5b-a58c-98856f26ce25",
   "metadata": {},
   "source": [
    "**5.a.1)** Take the `fieldlist_3` we have already defined in (3.a.1). This time, we'll work with the *fourth* field in order in the list. Extract this field to a variable called `field_5` and inspect it with medium detail."
   ]
  },
  {
   "cell_type": "code",
   "execution_count": null,
   "id": "8846ce13-3ac6-4586-9318-bcf96abe2b97",
   "metadata": {},
   "outputs": [],
   "source": [
    "field_5 = fieldlist_3[3]\n",
    "print(field_5)"
   ]
  },
  {
   "cell_type": "markdown",
   "id": "dfdf903e-1a4b-46e2-9ba5-4118307329c7",
   "metadata": {},
   "source": [
    "**5.a.2)** Take a subspace of the first time point, assigning it to a new variable called 'field_5_subspace', and plot it on a contour plot to see what the underlying data is like. Making a plot with cf-plot early on in this way is, for example, a good way to get a quick look at a new dataset to get a feel for the overall scope and patterns."
   ]
  },
  {
   "cell_type": "code",
   "execution_count": null,
   "id": "9c7be26b-51d7-4f43-aaa5-ce916b97a468",
   "metadata": {},
   "outputs": [],
   "source": [
    "field_5_subspace = field_5[0, :, :, :]\n",
    "cfp.con(field_5_subspace)"
   ]
  },
  {
   "cell_type": "markdown",
   "id": "3d0733cc-b6fa-4889-87ba-c0161b29d8eb",
   "metadata": {},
   "source": [
    "**5.a.3)** To normalise data representing a variable `x`, there is the general formula `normalized_x = (x - minimum_x) / x-range`. Use the cf-python methods available on a field, namely `minimum()` and `range()`, to normalise the data in the subspace of `field_5` we defined as `field_5_subspace` from the previous step. Call this result `norm_field_5` as a new Python variable. Hint: you can apply these methods directly on the field which knows to apply them to its underlying data, and the whole data array will be operated on at once, as with array operations in NumPy and similar Python array libraries.\n",
    "\n",
    "Finally, re-plot the contour plot at the subspace on the first time point to see that the data has been normalised appropriately: the colour bar range should go from 0 to 1 now but the data plot itself (contour pattern and colours) should not have changed because the normalisation adjusts all values to the 0 to 1 range but preserves the relative magnitudes between them."
   ]
  },
  {
   "cell_type": "code",
   "execution_count": null,
   "id": "e770cba8-88db-44ac-a143-51e369b9695b",
   "metadata": {},
   "outputs": [],
   "source": [
    "norm_field_5 = (field_5_subspace - field_5_subspace.minimum()) / field_5_subspace.range()\n",
    "print(norm_field_5)\n",
    "cfp.con(norm_field_5)"
   ]
  },
  {
   "cell_type": "markdown",
   "id": "3636fd39-4aa6-4b86-8eaf-0154b285fc2d",
   "metadata": {},
   "source": [
    "**5.a.4)** Finally, to explore basic field arithmetic and see the influence on the data via a plot, multiply `field_5_subspace` by negative one and plot this result as a contour plot. Describe in a sentence comment the difference in the plot to the original from ."
   ]
  },
  {
   "cell_type": "code",
   "execution_count": null,
   "id": "aed0f47d-cad3-4a80-8ef6-2878ec963fd8",
   "metadata": {},
   "outputs": [],
   "source": [
    "field_5_reversed = -1 * field_5_subspace\n",
    "cfp.con(field_5_reversed)"
   ]
  },
  {
   "cell_type": "markdown",
   "id": "561caf84-0824-4b69-8ad9-82ce28d5bfd1",
   "metadata": {},
   "source": [
    "### b) Line plotting"
   ]
  },
  {
   "cell_type": "markdown",
   "id": "a42040e2-0bc1-4e25-9168-5dc474e97ab2",
   "metadata": {},
   "source": [
    "**5.b.1)** Let's make some line plots. To set this up, read in the file `IPSL-CM5A-LR_r1i1p1_tas_n96_rcp45_mnth.nc` under the usual directory `../ncas_data` and assign the *first* field in that FieldList to a variable called `monthly_field`. Inspect it with medium detail."
   ]
  },
  {
   "cell_type": "code",
   "execution_count": null,
   "id": "274d1d90-5be7-46ff-8532-5de882998187",
   "metadata": {},
   "outputs": [],
   "source": [
    "monthly_field = cf.read(\"../ncas_data/IPSL-CM5A-LR_r1i1p1_tas_n96_rcp45_mnth.nc\")[0]\n",
    "print(monthly_field)"
   ]
  },
  {
   "cell_type": "markdown",
   "id": "5de191f4-d755-43f7-8718-e04a8376b647",
   "metadata": {},
   "source": [
    "**5.b.2)** Notice that the `monthly_field` is three-dimensional (3D) with axes sizes all over one for each of the three dimensions. In order to do a lineplot, we need a one-dimensional series, so we need to reduce the field down to size one in two of the dimensions to make a line plot.\n",
    "\n",
    "Let's do a collapse to reduce the two spatial axes, latitude and longitude, at once. Do a collapse to the maximum over those two axes, assigning it to a variable we'll call `spatial_max_monthly_field`. You can specify both of those axes by name, or you can use `\"area\"` as a shorthand string which means both latitude and longitude at once."
   ]
  },
  {
   "cell_type": "code",
   "execution_count": null,
   "id": "34f9b25c-c249-4868-b262-ecadf69367b8",
   "metadata": {},
   "outputs": [],
   "source": [
    "spatial_max_monthly_field = monthly_field.collapse(\"area: maximum\")"
   ]
  },
  {
   "cell_type": "markdown",
   "id": "f0e10b7f-b3b5-4dd3-b79b-1d8b6e1bb190",
   "metadata": {},
   "source": [
    "**5.b.3)** Use cf-plot to make a line plot of the collapsed field `spatial_max_monthly_field` from the cell above."
   ]
  },
  {
   "cell_type": "code",
   "execution_count": null,
   "id": "537ec534-e25e-4dc6-88b6-57e7797a1273",
   "metadata": {},
   "outputs": [],
   "source": [
    "cfp.lineplot(spatial_max_monthly_field)"
   ]
  },
  {
   "cell_type": "markdown",
   "id": "682335b3-5eba-416c-bbd2-182f5915df7d",
   "metadata": {},
   "source": [
    "### c) Calculating seasonal trends"
   ]
  },
  {
   "cell_type": "markdown",
   "id": "9799e66c-0107-4dd0-8652-5a851a795c8f",
   "metadata": {},
   "source": [
    "**5.c.1)** Define a new variable `get_mam_season` and set it to the cf-python function `mam()` which represents a specific collapse over the months of March, April and May, just like `cf.djf()` represents a collapse over December, January and February etc. - there are four such methods to cover each trio of months closely aligned with the seasons, two of which were demonstrated in the teaching Notebook."
   ]
  },
  {
   "cell_type": "code",
   "execution_count": null,
   "id": "9f483867-c35f-456b-8314-7c9c006b163a",
   "metadata": {},
   "outputs": [],
   "source": [
    "get_mam_season = cf.mam()"
   ]
  },
  {
   "cell_type": "markdown",
   "id": "6cbc9cf7-cfd7-49fc-8244-91612c006cdb",
   "metadata": {},
   "source": [
    "**5.c.2)** Do a grouped collapse over the months of March, April and May only using the `group` argument set to `get_mam_season`, for a *maximum* collapse over the *time* axis on the `spatial_max_monthly_field`. Make a line plot of this collapsed field."
   ]
  },
  {
   "cell_type": "code",
   "execution_count": null,
   "id": "8763a854-82cf-4fc5-80b5-c0214310fae9",
   "metadata": {},
   "outputs": [],
   "source": [
    "mam_season_max = spatial_max_monthly_field.collapse(\"T: maximum\", group=get_mam_season)\n",
    "cfp.lineplot(mam_season_max)"
   ]
  },
  {
   "cell_type": "markdown",
   "id": "fcb98f04-a03d-4c1c-b0cd-ea153daf6f16",
   "metadata": {},
   "source": [
    "**5.c.3)** Define three more variables representing specific collapse over the DJF, JJA and SON trio of months using the appropriate cf-python methods to complete the set across the calendar year (`cf.son()` is for the SON months and use the teaching Notebook for guidance on the other two methods if required but their names follow the same pattern so you can possibly guess them), assigning them to variables `get_djf_season`, `get_jja_season` and `get_son_season` respectively.\n",
    "\n",
    "Then, using those three variables one-by-one, define three grouped collapses, also for a *maximum* collapse over the *time* axis as above, on the `spatial_max_monthly_field` field using these as the `group`, calling them `djf_season_max`, `jja_season_max` and `son_season_max` corresponding to the collapses in order above."
   ]
  },
  {
   "cell_type": "code",
   "execution_count": null,
   "id": "ea2e67a9-1ec6-4d3b-a673-2f06c9f7ae11",
   "metadata": {},
   "outputs": [],
   "source": [
    "get_djf_season = cf.djf()\n",
    "get_jja_season = cf.jja()\n",
    "get_son_season = cf.son()\n",
    "djf_season_max = spatial_max_monthly_field.collapse(\"T: maximum\", group=get_djf_season)\n",
    "jja_season_max = spatial_max_monthly_field.collapse(\"T: maximum\", group=get_jja_season)\n",
    "son_season_max = spatial_max_monthly_field.collapse(\"T: maximum\", group=get_son_season)"
   ]
  },
  {
   "cell_type": "markdown",
   "id": "b094573f-f690-48da-a8e9-93481ead73fb",
   "metadata": {},
   "source": [
    "### d) Plotting the seasonal trends on one (line)plot"
   ]
  },
  {
   "cell_type": "markdown",
   "id": "428b074b-d2af-4804-9131-2985d69bf4d9",
   "metadata": {},
   "source": [
    "**5.d.1)** Let's make a line plot which shows all of the fields above: the four season maximum trends `djf_season_max`, `mam_season_max`, `jja_season_max` and `son_season_max`, along with the `spatial_max_monthly_field`. Use the code block from the teaching Notebook as a guide, or otherwise: you will need to wrap all of the calls to `lineplot` within `cfp.gopen()` and `cfp.gclose()` so they are plotted on the same canvas. You do not need to set positions."
   ]
  },
  {
   "cell_type": "code",
   "execution_count": null,
   "id": "83a29404-cc39-47eb-9909-b2af9b1ab7e9",
   "metadata": {},
   "outputs": [],
   "source": [
    "cfp.gopen()\n",
    "cfp.lineplot(spatial_max_monthly_field)\n",
    "cfp.lineplot(djf_season_max)\n",
    "cfp.lineplot(mam_season_max)\n",
    "cfp.lineplot(jja_season_max)\n",
    "cfp.lineplot(son_season_max)\n",
    "cfp.gclose()"
   ]
  },
  {
   "cell_type": "markdown",
   "id": "422daf4c-731d-48db-812e-53298d8d80a7",
   "metadata": {},
   "source": [
    "**5.d.2)** Finally, copy your code from the previous cell and use the `label` argument to `lineplot` to assign labels to your individual line plot calls, which will result in a legend emerging on the final plot with the labels to identify each line."
   ]
  },
  {
   "cell_type": "code",
   "execution_count": null,
   "id": "a6396957-b64b-4c79-9fcd-067463457842",
   "metadata": {},
   "outputs": [],
   "source": [
    "cfp.gopen()\n",
    "cfp.lineplot(spatial_max_monthly_field, label=\"Original monthly data (spatial mean)\")\n",
    "cfp.lineplot(djf_season_max, label=\"Maximum over the DJF months of the original spatial maximum\")\n",
    "cfp.lineplot(mam_season_max, label=\"Maximum over the MAM months of the original spatial maximum\")\n",
    "cfp.lineplot(jja_season_max, label=\"Maximum over the JJA months of the original spatial maximum\")\n",
    "cfp.lineplot(son_season_max, label=\"Maximum over the SON months of the original spatial maximum\")\n",
    "cfp.gclose()"
   ]
  },
  {
   "cell_type": "markdown",
   "id": "3b746f6b-ef82-4aa9-8d39-ca179f15db62",
   "metadata": {},
   "source": [
    "***"
   ]
  },
  {
   "cell_type": "markdown",
   "id": "e2196667-b7dd-4548-89e0-5194aa6170a5",
   "metadata": {},
   "source": [
    "**6.d.1)** Use cf-plot to make a plot with *two separate line plots* on one canvas (in either separate rows or columns, your choice), one of the first original field `yearly_field` and the linearly-regridded version of it, `linear_regridded_field`, so we can compare the original (un-regridded) and regridded result.\n",
    "\n",
    "Use the code block from the teaching Notebook section (6b) as a guide, or otherwise: you will need to wrap all of the calls to `lineplot` within `cfp.gopen()` and `cfp.gclose()` so they are plotted on the same canvas and call `cfp.gpos(N)` with an integer starting at `N=1` to tell cf-plot to move on to the next position in the plot before making a `lineplot` call."
   ]
  },
  {
   "cell_type": "code",
   "execution_count": null,
   "id": "910689b2-26d4-4973-bb4e-97cf1cfeb10a",
   "metadata": {},
   "outputs": [],
   "source": [
    "cfp.gopen(rows=1, columns=2)  # or could use rows=2, columns=1 for one column instead\n",
    "cfp.gpos(1)\n",
    "cfp.lineplot(\n",
    "    yearly_field, marker=\"o\", color=\"red\", title=\"Original time series... before regridding\")\n",
    "cfp.gpos(2)\n",
    "cfp.lineplot(linear_regridded_field, marker=\"o\", color=\"blue\", title=\"... and after regridding\")\n",
    "cfp.gclose()"
   ]
  },
  {
   "cell_type": "markdown",
   "id": "7561067c-b9a0-45a8-9c37-87318528d39b",
   "metadata": {},
   "source": [
    "**6.d.2)** This time, use cf-plot to make a plot with *multiple line plots plotted together on the same (x- and y-) axes*. Plot both original fields along with the two regridded `inverse_*_regridded_field`, this time, and plot them in different colours of your choosing with sensible descriptive labels:\n",
    "1. `monthly_field`\n",
    "2. `yearly_field`\n",
    "3. `inverse_linear_regridded_field`\n",
    "4. `inverse_nearest_stod_regridded_field`\n",
    "\n",
    "Use the code block from the teaching Notebook section (5d) as a guide, or otherwise: you will need to wrap all of the calls to `lineplot` within `cfp.gopen()` and `cfp.gclose()` and by, not calling `cfp.gpos()` with position integers in the last question, all of the lines will be plotted onto the same canvas to share axes"
   ]
  },
  {
   "cell_type": "code",
   "execution_count": null,
   "id": "9e80586f-08a7-44e9-bdde-8898f0a68650",
   "metadata": {},
   "outputs": [],
   "source": [
    "cfp.gopen()\n",
    "cfp.lineplot(monthly_field, marker=\"o\", color=\"black\", label=\"Before regridding - source field\")\n",
    "cfp.lineplot(yearly_field, marker=\"o\", color=\"red\", label=\"Regridding to - destination field\")\n",
    "cfp.lineplot(inverse_linear_regridded_field, marker=\"o\", color=\"blue\", label=\"Linearly regridded\")\n",
    "cfp.lineplot(\n",
    "    inverse_nearest_stod_regridded_field, marker=\"o\", color=\"green\", label=\"Nearest source to destination method regridded\")\n",
    "cfp.gclose()"
   ]
  },
  {
   "cell_type": "markdown",
   "id": "877fa655-484a-4d24-a31d-b36d93a96ad8",
   "metadata": {},
   "source": [
    "**6.d.3)** Finally, study the two compound plots created in this section, in particular paying attention to the marker spacings representing the time data point sampling i.e. resolution which forms our grid in this context, to help you to ensure you understand the process of regridding.\n",
    "\n",
    "Also, look back to the horizontal spatial regridding example plot in (6d) of the teaching Notebook and pay particular attention to the cell block sizes from before and after regridding, to remind yourself the output from a spatial regridding operation.\n",
    "\n",
    "We've practiced regridding of fields in two contexts: spherical regridding in a 2D spatial context and Cartesian regridding in a 1D time series context. Hopefully these two examples have allowed you to understand what regridding does, but at least how cf-python can enable you to do it."
   ]
  },
  {
   "cell_type": "markdown",
   "id": "08fa89e2-6c21-4118-9cf9-21958bdfa00e",
   "metadata": {},
   "source": [
    "***"
   ]
  }
 ],
 "metadata": {
  "kernelspec": {
   "display_name": "Python 3 (ipykernel)",
   "language": "python",
   "name": "python3"
  },
  "language_info": {
   "codemirror_mode": {
    "name": "ipython",
    "version": 3
   },
   "file_extension": ".py",
   "mimetype": "text/x-python",
   "name": "python",
   "nbconvert_exporter": "python",
   "pygments_lexer": "ipython3",
   "version": "3.12.0"
  }
 },
 "nbformat": 4,
 "nbformat_minor": 5
}
