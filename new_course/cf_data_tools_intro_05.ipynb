{
 "cells": [
  {
   "cell_type": "markdown",
   "id": "0cd6019e-c5b3-4dc6-bf86-6fcf10b06851",
   "metadata": {},
   "source": [
    "# T5. Analysing data: applying operations and plotting trends\n",
    "\n",
    "## Teaching Notebook 5 (of 6) for *Intro to the NCAS CF Data Tools, cf-python and cf-plot*\n",
    "\n",
    "**In this section we demonstrate how to do some data analysis including performing arithmetic and statistical calculations on the data, showing how cf-python's CF Conventions metadata awareness means that the metadata is automatically updated to account for the operations that are performed.**"
   ]
  },
  {
   "cell_type": "markdown",
   "id": "1c3beb87-7b0d-44ad-9da3-fa32494b795c",
   "metadata": {},
   "source": [
    "***"
   ]
  },
  {
   "cell_type": "markdown",
   "id": "0c8ea2b3-812c-4e70-9c9e-5bdbb86a249b",
   "metadata": {},
   "source": [
    "## Setting up\n",
    "\n",
    "**In this short prelude we set up this Notebook, import the libraries and check the data we will work with, ready to use the libraries and the data (exactly as per the first Notebook setup but in one cell only for quick execution).**"
   ]
  },
  {
   "cell_type": "code",
   "execution_count": null,
   "id": "501aec9b-f11f-4507-90d5-d222307ca4ee",
   "metadata": {},
   "outputs": [],
   "source": [
    "# Set up for inline plots - only needed inside a Notebook environment - and to ignore some repeating warnings\n",
    "%matplotlib inline\n",
    "\n",
    "import warnings\n",
    "warnings.filterwarnings(\"ignore\")\n",
    "\n",
    "# Import the two CF Data Tools libraries and inspect the versions\n",
    "import cfplot as cfp\n",
    "import cf\n",
    "print(\"--- Version report: ---\")\n",
    "print(\"cf-python version is:\", cf.__version__)\n",
    "print(\"cf-plot version is:\", cfp.__version__)\n",
    "print(\"CF Conventions version is:\", cf.CF())\n",
    "\n",
    "# See what datasets we have to explore within the data directory we use throughout this course\n",
    "print(\"--- Datasets available from the path '../ncas_data': ---\")\n",
    "# Note that in a Jupyter Notebook, '!' precedes a shell command - so this is a command, not Python\n",
    "!ls ../ncas_data"
   ]
  },
  {
   "cell_type": "markdown",
   "id": "e7640cdb-0d6f-4933-86d7-e86e7b9acbe4",
   "metadata": {},
   "source": [
    "***"
   ]
  },
  {
   "cell_type": "markdown",
   "id": "b191c8b2-a038-4601-b046-997a4566c2f6",
   "metadata": {},
   "source": [
    "***"
   ]
  },
  {
   "cell_type": "markdown",
   "id": "72524bb7-a643-4753-ad8b-f419656883fa",
   "metadata": {},
   "source": [
    "## 5. Analysing data: applying mathematical and statistical operations and plotting trends"
   ]
  },
  {
   "cell_type": "markdown",
   "id": "c7378c40-8398-4e3c-9906-d37f7f036ca7",
   "metadata": {},
   "source": [
    "As well as the statistics you can calculate and explore from collapsing fields in section (3c), you can ..."
   ]
  },
  {
   "cell_type": "markdown",
   "id": "59637071-edcb-40fe-970a-1d89e0209aa7",
   "metadata": {},
   "source": [
    "### a) Applying mathematics e.g. arithmetic and trigonometry on fields"
   ]
  },
  {
   "cell_type": "markdown",
   "id": "f1eb2eac-2a20-4eae-ba82-1cb3504d497a",
   "metadata": {},
   "source": [
    "We will use another dataset to demonstrate this, to remind of the `read` function and fieldlist unpacking from section one:"
   ]
  },
  {
   "cell_type": "code",
   "execution_count": null,
   "id": "53ecf0e8-a0a5-46a2-9b50-df6ea0f2a346",
   "metadata": {},
   "outputs": [],
   "source": [
    "monthly_field = cf.read(\"../ncas_data/IPSL-CM5A-LR_r1i1p1_tas_n96_rcp45_mnth.nc\")[0]\n",
    "print(monthly_field)\n",
    "print(monthly_field.data)"
   ]
  },
  {
   "cell_type": "markdown",
   "id": "7139b32e-c39f-4387-8bec-76e290d70f1c",
   "metadata": {},
   "source": [
    "You can perform arithmetical operations on fields using the usual operators, e.g. let's multiply the field's underlying data by 2 and subtract 10 from it to illustrate:"
   ]
  },
  {
   "cell_type": "code",
   "execution_count": null,
   "id": "ccd2db42-6dae-48f6-b786-2deb15ec064b",
   "metadata": {},
   "outputs": [],
   "source": [
    "double_minus_ten_monthly_field = 2 * monthly_field - 10\n",
    "print(double_minus_ten_monthly_field)\n",
    "print(double_minus_ten_monthly_field.data)"
   ]
  },
  {
   "cell_type": "markdown",
   "id": "77db331e-2d98-4094-ab2e-646ccdfb9b3d",
   "metadata": {},
   "source": [
    "You can apply mathematical operations too via various available methods. Let's try some rounding and trigonometry as an illustration:"
   ]
  },
  {
   "cell_type": "code",
   "execution_count": null,
   "id": "75c53609-a668-4f14-91f6-5b033e5af493",
   "metadata": {},
   "outputs": [],
   "source": [
    "round_monthly_field = monthly_field.round()\n",
    "print(round_monthly_field.data)"
   ]
  },
  {
   "cell_type": "code",
   "execution_count": null,
   "id": "ab014aaa-d778-4c15-abea-fcbe3d1f141c",
   "metadata": {},
   "outputs": [],
   "source": [
    "cosine_monthly_field = monthly_field.cos()\n",
    "print(cosine_monthly_field.data)"
   ]
  },
  {
   "cell_type": "markdown",
   "id": "a1dddf74-b55a-46d5-bb75-17bac0a29747",
   "metadata": {},
   "source": [
    "Note the units change appropriately with some operations, again showcasing cf-python's metadata awareness."
   ]
  },
  {
   "cell_type": "markdown",
   "id": "561caf84-0824-4b69-8ad9-82ce28d5bfd1",
   "metadata": {},
   "source": [
    "### b) Line plotting"
   ]
  },
  {
   "cell_type": "markdown",
   "id": "e81d7d20-1e49-4183-838c-5e03993e19bc",
   "metadata": {},
   "source": [
    "Often we want to pick out statistical trends from a subspace of the data. cf-python has season-selecting and season-collapsing methods to help you determine information on a per-season basis (as well as month-selecting methods to do the same for specific months, though we don't try any of those here).\n",
    "\n",
    "Firstly, let's show a line plot of our data averaged across the whole spatial area, so we can see the overall pattern. You can produce a line plot with cf-plot using the `lineplot` function, where the argument should be a field with a 1D series (ignoring any 1D axes such as latitude and longitude in our case which after the collapse become 1D):"
   ]
  },
  {
   "cell_type": "code",
   "execution_count": null,
   "id": "c15c3068-d84f-4719-9529-d856024267ff",
   "metadata": {},
   "outputs": [],
   "source": [
    "spatial_mean_monthly_field = monthly_field.collapse(\"area: mean\")\n",
    "print(spatial_mean_monthly_field)\n",
    "\n",
    "cfp.lineplot(spatial_mean_monthly_field)"
   ]
  },
  {
   "cell_type": "markdown",
   "id": "682335b3-5eba-416c-bbd2-182f5915df7d",
   "metadata": {},
   "source": [
    "### c) Calculating seasonal trends"
   ]
  },
  {
   "cell_type": "markdown",
   "id": "e7a55b54-c513-4b5a-8e9c-677c051fcf04",
   "metadata": {},
   "source": [
    "This data looks like it has trends on different time scales e.g. due to seasons. Let's pick some of those out using cf-python. We select two of the four seasons, using the `djf` and `jja` methods like so:"
   ]
  },
  {
   "cell_type": "code",
   "execution_count": null,
   "id": "eca6c20d-c39d-42db-bc3b-8b676232623a",
   "metadata": {},
   "outputs": [],
   "source": [
    "get_djf_season = cf.djf()  # specific collapse type for the months of December, January, February\n",
    "get_jja_season = cf.jja()  # specific collapse type for the months of June, July, August"
   ]
  },
  {
   "cell_type": "markdown",
   "id": "2a7a2bab-d6a6-4a3d-8793-aee95bfea6f9",
   "metadata": {},
   "source": [
    "Then we collapse on these only using the `group` keyword argument to the `collapse` method, which we call a 'grouped collapse':"
   ]
  },
  {
   "cell_type": "code",
   "execution_count": null,
   "id": "7fd95f11-90d9-42f8-b459-1d672d91be81",
   "metadata": {},
   "outputs": [],
   "source": [
    "djf_season_mean = spatial_mean_monthly_field.collapse(\"T: mean\", group=get_djf_season)  # mean across DJF season\n",
    "cfp.lineplot(djf_season_mean)"
   ]
  },
  {
   "cell_type": "code",
   "execution_count": null,
   "id": "098f995c-ef89-4b00-87da-8844036e6d06",
   "metadata": {},
   "outputs": [],
   "source": [
    "jja_season_mean = spatial_mean_monthly_field.collapse(\"T: mean\", group=get_jja_season)  # mean across JJA season\n",
    "cfp.lineplot(jja_season_mean)"
   ]
  },
  {
   "cell_type": "markdown",
   "id": "b094573f-f690-48da-a8e9-93481ead73fb",
   "metadata": {},
   "source": [
    "### d) Plotting the seasonal trends on one (line)plot"
   ]
  },
  {
   "cell_type": "markdown",
   "id": "b183d71f-437f-405e-b43d-5680ae0a18f3",
   "metadata": {},
   "source": [
    "To put those seasonal averages into context from the original data, it would be nice to plot them on top of the original line plot. We can do that using cf-plot, as an example of some more advanced cf-plot plotting capability. If you want to plot multiple aspects on one plot in this way, wrap the calls to the functions to plot such as `con` or `vect` or `lineplot` with the opening and closing functions `gopen` and `gclose`, like so:"
   ]
  },
  {
   "cell_type": "code",
   "execution_count": null,
   "id": "f834d38e-bb8d-43c3-a92b-0c68fb573b08",
   "metadata": {},
   "outputs": [],
   "source": [
    "cfp.gopen()\n",
    "# By adding the 'label' argument, we allow labels for the corresponding line on the plot legend\n",
    "cfp.lineplot(spatial_mean_monthly_field, label=\"Original monthly data (spatial mean)\")\n",
    "cfp.lineplot(djf_season_mean, label=\"Mean over the DJF months of the original spatial mean\")\n",
    "cfp.lineplot(jja_season_mean, label=\"Mean over the JJA months of the original spatial mean\")\n",
    "cfp.gclose()"
   ]
  },
  {
   "cell_type": "markdown",
   "id": "3b746f6b-ef82-4aa9-8d39-ca179f15db62",
   "metadata": {},
   "source": [
    "***"
   ]
  }
 ],
 "metadata": {
  "kernelspec": {
   "display_name": "Python 3 (ipykernel)",
   "language": "python",
   "name": "python3"
  },
  "language_info": {
   "codemirror_mode": {
    "name": "ipython",
    "version": 3
   },
   "file_extension": ".py",
   "mimetype": "text/x-python",
   "name": "python",
   "nbconvert_exporter": "python",
   "pygments_lexer": "ipython3",
   "version": "3.12.0"
  }
 },
 "nbformat": 4,
 "nbformat_minor": 5
}
