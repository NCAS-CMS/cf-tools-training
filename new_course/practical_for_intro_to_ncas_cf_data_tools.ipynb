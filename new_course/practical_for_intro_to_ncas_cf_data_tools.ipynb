{
 "cells": [
  {
   "cell_type": "markdown",
   "id": "0cd6019e-c5b3-4dc6-bf86-6fcf10b06851",
   "metadata": {},
   "source": [
    "# Practical for 'introduction to the NCAS CF Data Tools, cf-python and cf-plot'"
   ]
  },
  {
   "cell_type": "markdown",
   "id": "1e8d7e64-fd9a-4e9b-a369-61d5635cbb62",
   "metadata": {},
   "source": [
    "<div class=\"alert alert-block alert-success\">\n",
    "<i>Practical instructions:</i> these green boxes provide instructions and tips about doing this practical (blue boxes are the same as in the teaching notebook and provide useful information). First of all, there is a copy of the context and learning objectives from the main/presented Notebook below - you are advised to re-read this as a reminder. There is also a copy of the final section from the main Notebook which provides links to further information - you might find the documentation links especially useful here, so they are highlighted in bold.\n",
    "</div>"
   ]
  },
  {
   "cell_type": "markdown",
   "id": "c4378ad0-8448-44ef-80e2-cd6e67346a1b",
   "metadata": {},
   "source": [
    "## A reminder: context, learning objectives and guidance links\n",
    "\n",
    "### What are the NCAS CF Data Tools and why do they all have 'cf' in the name?\n",
    "\n",
    "The _NCAS CF Data Tools_ are a suite of complementary Python libraries which are designed to facilitate working with data for research in the earth sciences and aligned domains. The two that are of most relevance to the average user, and those wanting to process, analyse and visualise atmospheric data, are *cf-python* (https://ncas-cms.github.io/cf-python/) and *cf-plot* (https://ncas-cms.github.io/cf-plot/build/). We will be focusing on use of cf-python and cf-plot today.\n",
    "\n",
    "The 'cf' in the names of the NCAS CF Data Tools corresponds to the _CF Conventions_, a metadata standard, because they are built around this standard in the form of using the CF Data Model, which as well as performance is considered a 'unique selling point' of the tools.\n",
    "\n",
    "\n",
    "### What are the CF Conventions?\n",
    "\n",
    "The _CF Conventions_, usually referred to in this way but also know by the full name of the **C**limate and **F**orecast (CF) metadata conventions, are a metadata standard which is becoming the de-facto convention to cover the description of geoscientific data so that sharing and intercomparison is simpler. See https://cfconventions.org/ for more information.\n",
    "\n",
    "\n",
    "### What are we going to learn in this session?\n",
    "\n",
    "Our **learning aim** is to be able to use the NCAS CF Data Tools Python libraries, namely cf-python and cf-plot to process, analyse and visualise netCDF and PP datasets, whilst appreciating the context and 'unique selling point' of the libraries as being built to use the CF Conventions, a metadata standard for earth science data, to make it simpler to do what you want to do with the datasets, by working on top of a Data Model for CF.\n",
    "\n",
    "We have **six distinct objectives**, matching the sections in this notebook and in the practical notebook you will work through. By the end of this lesson you should be familiar and have practiced using cf-python and cf-plot to:\n",
    "\n",
    "1. read dataset(s) and view the (meta)data at different detail levels;\n",
    "2. edit the (meta)data and write out the edited version to file;\n",
    "3. reduce datasets by subspacing and collapsing;\n",
    "4. visualise datasets as contour and vector plots;\n",
    "5. analyse data: applying mathematical and statistical operations and plotting trends;\n",
    "6. change the underlying grid of data through regridding."
   ]
  },
  {
   "cell_type": "markdown",
   "id": "26aa2a28-22ce-4e9f-bc1e-6b0d76ab807c",
   "metadata": {},
   "source": [
    "### Guidance: where to find more information and resources on the NCAS CF Data Tools\n",
    "\n",
    "Here are some links relating to the NCAS CF Data Tools and this training.\n",
    "\n",
    "* This training, with further material, is hosted online and there are instructions for setting up the environment so you can work through it in your own time: https://github.com/NCAS-CMS/cf-tools-training.\n",
    "* **The cf-python documentation lives at https://ncas-cms.github.io/cf-python/.**\n",
    "* The cf-python code lives on GitHub at https://github.com/NCAS-CMS/cf-python. There is an Issue Tracker to report queries or questions at https://github.com/NCAS-CMS/cf-python/issues.\n",
    "* **The cf-plot documentation lives at https://ncas-cms.github.io/cf-plot/build/.**\n",
    "* The cf-plot code lives on GitHub at https://github.com/NCAS-CMS/cf-plot. There is an Issue Tracker to report queries or questions at https://github.com/NCAS-CMS/cf-plot/issues.\n",
    "* There is a technical presentation about the NCAS CF Data Tools avaialble from https://hps.vi4io.org/_media/events/2020/summer-school-cfnetcdf.pdf.\n",
    "* The website of the CF Conventions can be found at https://cfconventions.org/.\n",
    "* The landing page for training into the CF Conventions is found here within the website above: https://cfconventions.org/Training/.\n",
    "\n",
    "If you have any queries after this course, please either use the Issue Trackers linked above or you can email me at: sadie.bartholomew@ncas.ac.uk."
   ]
  },
  {
   "cell_type": "markdown",
   "id": "1c3beb87-7b0d-44ad-9da3-fa32494b795c",
   "metadata": {},
   "source": [
    "***"
   ]
  },
  {
   "cell_type": "markdown",
   "id": "df666543-52ee-402a-8fa4-cb4d8389f3a8",
   "metadata": {},
   "source": [
    "<div class=\"alert alert-block alert-success\">\n",
    "<i>Practical instructions:</i> run all of the cells in this section to do the set up.\n",
    "</div>"
   ]
  },
  {
   "cell_type": "markdown",
   "id": "196e9e0a-83d1-464c-b53c-a6fc2e0c19ff",
   "metadata": {},
   "source": [
    "## Setting up\n",
    "\n",
    "**In this section we set up this Notebook, import the libraries and check the data we will work with, ready to use the libraries within this notebook.**"
   ]
  },
  {
   "cell_type": "markdown",
   "id": "6cfa3e24-6400-4de0-b155-aab85f701441",
   "metadata": {},
   "source": [
    "Run some set up for nice outputs in this Jupyter Notebook (not required in interactive Python or a script):"
   ]
  },
  {
   "cell_type": "code",
   "execution_count": 1,
   "id": "aadf1e3e-382f-47c5-aeee-b52f3cd2868d",
   "metadata": {},
   "outputs": [],
   "source": [
    "%matplotlib inline\n",
    "\n",
    "import warnings\n",
    "warnings.filterwarnings('ignore')"
   ]
  },
  {
   "cell_type": "markdown",
   "id": "d073760a-6734-4a1d-9832-a70a8e0dd089",
   "metadata": {},
   "source": [
    "Import cf-python and cf-plot:"
   ]
  },
  {
   "cell_type": "code",
   "execution_count": 2,
   "id": "b4b0c984-1adc-4515-b192-19da265e1f9a",
   "metadata": {},
   "outputs": [],
   "source": [
    "import cfplot as cfp\n",
    "import cf"
   ]
  },
  {
   "cell_type": "markdown",
   "id": "7b00d47b-4497-4540-b1bd-6fa8fa8e3226",
   "metadata": {},
   "source": [
    "Inspect the versions of cf-python and cf-plot and the version of the CF Conventions those are matched to:"
   ]
  },
  {
   "cell_type": "code",
   "execution_count": 3,
   "id": "ea75b1b6-ba78-428d-b9b2-ca29a8cf6f0d",
   "metadata": {},
   "outputs": [
    {
     "name": "stdout",
     "output_type": "stream",
     "text": [
      "cf-python version is: 3.17.0\n",
      "cf-plot version is: 3.3.0\n",
      "CF Conventions version is: 1.11\n"
     ]
    }
   ],
   "source": [
    "print(\"cf-python version is:\", cf.__version__)\n",
    "print(\"cf-plot version is:\", cfp.__version__)\n",
    "print(\"CF Conventions version is:\", cf.CF())"
   ]
  },
  {
   "cell_type": "markdown",
   "id": "628af6cc-24f1-4e85-bf8b-654268e72bd3",
   "metadata": {},
   "source": [
    "<div class=\"alert alert-block alert-info\">\n",
    "<i>Note:</i> you can work with data compliant by any other version of the CF Conventions, or without (much) compliance, but the CF Conventions version gives the maximum version that these versions of the tools understand the features of.\n",
    "</div>"
   ]
  },
  {
   "cell_type": "markdown",
   "id": "8135f5c6-3d3e-45b6-a84a-3dcea754372f",
   "metadata": {},
   "source": [
    "Finally, see what datasets we have to explore:"
   ]
  },
  {
   "cell_type": "markdown",
   "id": "cfab63fe-088d-4ca8-ab95-40f61f0c2fd3",
   "metadata": {},
   "source": [
    "<div class=\"alert alert-block alert-info\">\n",
    "<i>Note:</i> in a Jupyter Notebook, '!' preceeeds a shell command, so this is a terminal command and not Python\n",
    "</div>"
   ]
  },
  {
   "cell_type": "code",
   "execution_count": 4,
   "id": "a45afce7-abd8-4edd-b14c-eb033566bd52",
   "metadata": {
    "scrolled": true
   },
   "outputs": [
    {
     "name": "stdout",
     "output_type": "stream",
     "text": [
      "aaaaoa.pmh8dec.pp\t\t\t   precip_2010.nc\n",
      "alpine_precip_DJF_means.nc\t\t   precip_DJF_means.nc\n",
      "data1.nc\t\t\t\t   qbo.nc\n",
      "data1-updated.nc\t\t\t   regions.nc\n",
      "data2.nc\t\t\t\t   ta.nc\n",
      "data3.nc\t\t\t\t   tripolar.nc\n",
      "data5.nc\t\t\t\t   ua.nc\n",
      "IPSL-CM5A-LR_r1i1p1_tas_n96_rcp45_mnth.nc  u_n216.nc\n",
      "land.nc\t\t\t\t\t   u_n96.nc\n",
      "model_precip_DJF_means_low_res.nc\t   vaAMIPlcd_DJF.nc\n",
      "model_precip_DJF_means.nc\t\t   va.nc\n",
      "precip_1D_monthly.nc\t\t\t   wapAMIPlcd_DJF.nc\n",
      "precip_1D_yearly.nc\n"
     ]
    }
   ],
   "source": [
    "!ls ../ncas_data"
   ]
  },
  {
   "cell_type": "markdown",
   "id": "e7640cdb-0d6f-4933-86d7-e86e7b9acbe4",
   "metadata": {},
   "source": [
    "***"
   ]
  },
  {
   "cell_type": "markdown",
   "id": "ef80e6de-8e62-468b-93c8-b41ac768375a",
   "metadata": {},
   "source": [
    "<div class=\"alert alert-block alert-success\">\n",
    "<i>Practical instructions:</i> now we can start the practical. We will follow the same sectioning as in the teaching notebook, so please consult the notes there in the matching section for guidance and you can also consult the cf-python and cf-plot documentation linked above.\n",
    "</div>"
   ]
  },
  {
   "cell_type": "markdown",
   "id": "3b7a3c0a-262d-4ac4-8c10-6fa3a42ae73a",
   "metadata": {},
   "source": [
    "## 1. Reading dataset(s) and viewing the (meta)data at different detail levels\n",
    "\n",
    "**In this section we look at the basic use of cf-python, reading in one or more datasets from file and inspecting the data and the metadata at different levels of detail to suit the amount of information you want to see.**"
   ]
  },
  {
   "cell_type": "markdown",
   "id": "9da08bf9-a15b-4d65-8c8e-632897daec0b",
   "metadata": {},
   "source": [
    "### a) Reading in data and extracting the _field_ of interest"
   ]
  },
  {
   "cell_type": "markdown",
   "id": "45be7d09-fe3e-46b3-b35b-dec82b32cc01",
   "metadata": {},
   "source": [
    "**1.a.1)** Use `cf` to read in the netCDF dataset `qbo.nc` which is found (as shown at the end of the section above) under the directory `../ncas_data`, assigning it to a variable called `fieldlist`.\n"
   ]
  },
  {
   "cell_type": "code",
   "execution_count": 5,
   "id": "d0a43e35-8627-4a08-ae1e-4fa9ec4f400d",
   "metadata": {},
   "outputs": [],
   "source": [
    "fieldlist = cf.read(\"../ncas_data/qbo.nc\")"
   ]
  },
  {
   "cell_type": "markdown",
   "id": "674d8543-fb55-4b2e-bd26-5a006dc9181d",
   "metadata": {},
   "source": [
    "**1.a.2)** Use the standard Python function `len` to see how long the read-in fieldlist is."
   ]
  },
  {
   "cell_type": "code",
   "execution_count": 6,
   "id": "0e59c1a6-53ea-43c2-bf57-a405d1f64be9",
   "metadata": {},
   "outputs": [
    {
     "data": {
      "text/plain": [
       "1"
      ]
     },
     "execution_count": 6,
     "metadata": {},
     "output_type": "execute_result"
    }
   ],
   "source": [
    "len(fieldlist)"
   ]
  },
  {
   "cell_type": "markdown",
   "id": "9dfdb8c4-ac20-4b0c-87b6-5bc3829dee61",
   "metadata": {},
   "source": [
    "**1.a.3)** Access the first field in the fieldlist and assign it to the variable name `field`."
   ]
  },
  {
   "cell_type": "code",
   "execution_count": 7,
   "id": "d92286c4-e62e-4e35-a934-809bc1afe02d",
   "metadata": {},
   "outputs": [],
   "source": [
    "field = fieldlist[0]"
   ]
  },
  {
   "cell_type": "markdown",
   "id": "d4ed8112-fc35-496c-84ae-e8a05334c33c",
   "metadata": {},
   "source": [
    "### b) Inspecting the _field_ of interest with different amounts of detail"
   ]
  },
  {
   "cell_type": "markdown",
   "id": "9e3ad7d7-2657-43d4-95a4-601429b16575",
   "metadata": {},
   "source": [
    "**1.b.1)** View the field from (1.a.3) above in minimal detail."
   ]
  },
  {
   "cell_type": "code",
   "execution_count": 8,
   "id": "41528fdd-7f56-4801-95b9-c92b910e3a7d",
   "metadata": {},
   "outputs": [
    {
     "data": {
      "text/plain": [
       "<CF Field: eastward_wind(time(398), pressure(37), latitude(2), longitude(48)) m s**-1>"
      ]
     },
     "execution_count": 8,
     "metadata": {},
     "output_type": "execute_result"
    }
   ],
   "source": [
    "field"
   ]
  },
  {
   "cell_type": "markdown",
   "id": "8a158a41-03f8-47f9-a84e-fd2eaac8a132",
   "metadata": {},
   "source": [
    "**1.b.2)** Now try viewing the field from (1.a.3) above at a medium detail level."
   ]
  },
  {
   "cell_type": "code",
   "execution_count": 9,
   "id": "0916e895-c503-47b8-a280-62404bb4d4a1",
   "metadata": {},
   "outputs": [
    {
     "name": "stdout",
     "output_type": "stream",
     "text": [
      "Field: eastward_wind (ncvar%U)\n",
      "------------------------------\n",
      "Data            : eastward_wind(time(398), pressure(37), latitude(2), longitude(48)) m s**-1\n",
      "Dimension coords: time(398) = [1979-01-16 09:00:00, ..., 2012-02-15 09:00:00] gregorian\n",
      "                : pressure(37) = [1000.0, ..., 1.0] mbar\n",
      "                : latitude(2) = [30.0, 0.0] degrees_north\n",
      "                : longitude(48) = [0.0, ..., 352.5] degrees_east\n"
     ]
    }
   ],
   "source": [
    "print(field)"
   ]
  },
  {
   "cell_type": "markdown",
   "id": "4653be8e-e953-4a75-a343-93413cee09a6",
   "metadata": {},
   "source": [
    "**1.b.3)** OK, finally let's see it in its full glory - with maximal detail. Take a minute or two to compare these outputs and familiarise yourself with the formats of the different views and how they present the metadata (and preview of the data) of a field."
   ]
  },
  {
   "cell_type": "code",
   "execution_count": 10,
   "id": "b07e729d-3ecd-4c1e-b26b-9ff61fc04a70",
   "metadata": {},
   "outputs": [
    {
     "name": "stdout",
     "output_type": "stream",
     "text": [
      "------------------------------\n",
      "Field: eastward_wind (ncvar%U)\n",
      "------------------------------\n",
      "Conventions = 'CF-1.7'\n",
      "_FillValue = 2.0000000400817547e+20\n",
      "long_name = 'U velocity'\n",
      "missing_value = 2.0000000400817547e+20\n",
      "name = 'U'\n",
      "standard_name = 'eastward_wind'\n",
      "time = '00:00'\n",
      "title = 'U velocity'\n",
      "units = 'm s**-1'\n",
      "\n",
      "Data(time(398), pressure(37), latitude(2), longitude(48)) = [[[[0.48084383185078244, ..., 8.244485042555938]]]] m s**-1\n",
      "\n",
      "Domain Axis: latitude(2)\n",
      "Domain Axis: longitude(48)\n",
      "Domain Axis: pressure(37)\n",
      "Domain Axis: time(398)\n",
      "\n",
      "Dimension coordinate: time\n",
      "    calendar = 'gregorian'\n",
      "    long_name = 't'\n",
      "    standard_name = 'time'\n",
      "    time_origin = '01-JAN-1979:00:00:00'\n",
      "    units = 'days since 1979-01-01 00:00:00'\n",
      "    Data(time(398)) = [1979-01-16 09:00:00, ..., 2012-02-15 09:00:00] gregorian\n",
      "\n",
      "Dimension coordinate: pressure\n",
      "    long_name = 'p'\n",
      "    positive = 'down'\n",
      "    standard_name = 'pressure'\n",
      "    units = 'mbar'\n",
      "    Data(pressure(37)) = [1000.0, ..., 1.0] mbar\n",
      "\n",
      "Dimension coordinate: latitude\n",
      "    point_spacing = 'even'\n",
      "    standard_name = 'latitude'\n",
      "    units = 'degrees_north'\n",
      "    Data(latitude(2)) = [30.0, 0.0] degrees_north\n",
      "\n",
      "Dimension coordinate: longitude\n",
      "    modulo = ' '\n",
      "    point_spacing = 'even'\n",
      "    standard_name = 'longitude'\n",
      "    units = 'degrees_east'\n",
      "    Data(longitude(48)) = [0.0, ..., 352.5] degrees_east\n",
      "\n"
     ]
    }
   ],
   "source": [
    "field.dump()"
   ]
  },
  {
   "cell_type": "markdown",
   "id": "0af01357-b0b2-4581-a830-437337565d0d",
   "metadata": {},
   "source": [
    "### c) Inspecting a metadata _construct_ e.g. _coordinate_ from the _field_ of interest"
   ]
  },
  {
   "cell_type": "markdown",
   "id": "03ce0882-35c1-4f41-9280-33d8b633572b",
   "metadata": {},
   "source": [
    "**1.c.1)** Let's assume we want to know about a specific metadata construct, in this case we are intereted in the pressure. Assign to a new variable called 'pressure' the pressure coordinate of the field stored in the variable 'field' from section (1a) as just inspected in section (1b)."
   ]
  },
  {
   "cell_type": "code",
   "execution_count": 11,
   "id": "99b9db17-713f-47c9-82a6-ec9af2213212",
   "metadata": {},
   "outputs": [],
   "source": [
    "pressure = field.coordinate(\"pressure\")"
   ]
  },
  {
   "cell_type": "markdown",
   "id": "bf10ee1b-d4eb-43ac-839f-1f8066e703ae",
   "metadata": {},
   "source": [
    "**1.c.2)** View this coordinate with minimal detail level."
   ]
  },
  {
   "cell_type": "code",
   "execution_count": 12,
   "id": "753ff7ac-2de7-49c7-b501-aee40ddb9090",
   "metadata": {},
   "outputs": [
    {
     "data": {
      "text/plain": [
       "<CF DimensionCoordinate: pressure(37) mbar>"
      ]
     },
     "execution_count": 12,
     "metadata": {},
     "output_type": "execute_result"
    }
   ],
   "source": [
    "pressure"
   ]
  },
  {
   "cell_type": "markdown",
   "id": "23fe4e99-326b-4209-b905-8ca211582b08",
   "metadata": {},
   "source": [
    "**1.c.3)** Now use the standard approach to view it with medium detail level."
   ]
  },
  {
   "cell_type": "code",
   "execution_count": 13,
   "id": "ef442fa1-bfe4-4b5c-bfc7-4453c0d32e08",
   "metadata": {},
   "outputs": [
    {
     "name": "stdout",
     "output_type": "stream",
     "text": [
      "pressure(37) mbar\n"
     ]
    }
   ],
   "source": [
    "print(pressure)"
   ]
  },
  {
   "cell_type": "markdown",
   "id": "9b03ffb4-62d7-4e08-a1e5-28591c3fb602",
   "metadata": {},
   "source": [
    "**1.c.4)** Finally, let's use the approach for full detail level and see everything about this coordinate."
   ]
  },
  {
   "cell_type": "code",
   "execution_count": 14,
   "id": "ee0cb3a0-5129-456e-8e9e-5f24a598d34d",
   "metadata": {},
   "outputs": [
    {
     "name": "stdout",
     "output_type": "stream",
     "text": [
      "Dimension coordinate: pressure\n",
      "    long_name = 'p'\n",
      "    positive = 'down'\n",
      "    standard_name = 'pressure'\n",
      "    units = 'mbar'\n",
      "    Data(37) = [1000.0, ..., 1.0] mbar\n"
     ]
    }
   ],
   "source": [
    "pressure.dump()"
   ]
  },
  {
   "cell_type": "markdown",
   "id": "bd7fd831-8362-49eb-a03a-281d75596309",
   "metadata": {},
   "source": [
    "### d) Inspecting a data array of interest"
   ]
  },
  {
   "cell_type": "markdown",
   "id": "16b595ee-6e54-40ec-ba3f-cc28f710eab1",
   "metadata": {},
   "source": [
    "**1.d.1)** Access the underlying data of the pressure coordinate from the previous sub-section, (1c), assigning it to a variable called 'pressure_data'."
   ]
  },
  {
   "cell_type": "code",
   "execution_count": 15,
   "id": "f2f748b5-09c3-4382-a6d6-e50a31fca61f",
   "metadata": {},
   "outputs": [],
   "source": [
    "pressure_data = pressure.data"
   ]
  },
  {
   "cell_type": "markdown",
   "id": "d7855240-2667-4883-a3fd-8d8b1759122a",
   "metadata": {},
   "source": [
    "**1.d.2)** Inspect the pressure coordinate data with minimal detail, noticing the units."
   ]
  },
  {
   "cell_type": "code",
   "execution_count": 16,
   "id": "539107da-25fe-4259-9fb2-0f6419954424",
   "metadata": {},
   "outputs": [
    {
     "data": {
      "text/plain": [
       "<CF Data(37): [1000.0, ..., 1.0] mbar>"
      ]
     },
     "execution_count": 16,
     "metadata": {},
     "output_type": "execute_result"
    }
   ],
   "source": [
    "pressure_data"
   ]
  },
  {
   "cell_type": "markdown",
   "id": "7288c197-fd6e-405e-b49a-6740bc41992e",
   "metadata": {},
   "source": [
    "**1.d.3)** Access the data array of the pressure coordinate. Note that, because it is small, it is not computationally expensive to access this and similarly with other metadata data arrays, but accessing the underlying data array of the whole field (i.e. its main stored variable) could be intensive because for datasets in real usage the data can be very large and/or multi-dimensional."
   ]
  },
  {
   "cell_type": "code",
   "execution_count": 19,
   "id": "e25482db-8342-49aa-bdc1-0911e842759d",
   "metadata": {},
   "outputs": [],
   "source": [
    "pressure_array = pressure_data.array"
   ]
  },
  {
   "cell_type": "markdown",
   "id": "2e2a3d9a-31ec-4f70-964c-212deb4709cc",
   "metadata": {},
   "source": [
    "**1.d.4)** Use the standard Python `print` function to view the pressure array."
   ]
  },
  {
   "cell_type": "code",
   "execution_count": 18,
   "id": "aba215ff-f5a7-4b97-9bdb-5a80961cd38f",
   "metadata": {},
   "outputs": [
    {
     "name": "stdout",
     "output_type": "stream",
     "text": [
      "[1000.  975.  950.  925.  900.  875.  850.  825.  800.  775.  750.  700.\n",
      "  650.  600.  550.  500.  450.  400.  350.  300.  250.  225.  200.  175.\n",
      "  150.  125.  100.   70.   50.   30.   20.   10.    7.    5.    3.    2.\n",
      "    1.]\n"
     ]
    }
   ],
   "source": [
    "print(pressure_array)"
   ]
  },
  {
   "cell_type": "markdown",
   "id": "09d04ff2-8998-48fb-a0a6-bc5deafe8fc6",
   "metadata": {},
   "source": [
    "***"
   ]
  },
  {
   "cell_type": "markdown",
   "id": "932d2d38-b8d7-46cc-848f-b6f50b877310",
   "metadata": {},
   "source": [
    "## 2. Editing the (meta)data and writing out the edited version to file\n",
    "\n",
    "**In this section we demonstrate how to change the data that has been read-in from file, both in terms of the data arrays and the metadata that describes it, and then how to write data back out to file with a chosen name, so that you can see how cf-python can be used to edit data or to make new data.**"
   ]
  },
  {
   "cell_type": "markdown",
   "id": "bc7c654e-38e5-4b06-a7c0-01828701d92f",
   "metadata": {},
   "source": [
    "### a) Changing the underlying data"
   ]
  },
  {
   "cell_type": "markdown",
   "id": "1d6b6412-42b4-4d70-9df2-1fd6b0349a56",
   "metadata": {},
   "source": [
    "**2.a.1)**"
   ]
  },
  {
   "cell_type": "code",
   "execution_count": null,
   "id": "ad3da187-8515-4a84-95e4-a9c1190dd08d",
   "metadata": {},
   "outputs": [],
   "source": []
  },
  {
   "cell_type": "markdown",
   "id": "b625ea77-a1db-4598-b1c4-6bba6319d1e0",
   "metadata": {},
   "source": [
    "**2.a.2)**"
   ]
  },
  {
   "cell_type": "code",
   "execution_count": null,
   "id": "4b6e33da-fad2-49a8-86e2-e94331e7e8dd",
   "metadata": {},
   "outputs": [],
   "source": []
  },
  {
   "cell_type": "markdown",
   "id": "86474dfe-a2ac-4b52-a962-eda937b0f58d",
   "metadata": {},
   "source": [
    "**2.a.3)**"
   ]
  },
  {
   "cell_type": "code",
   "execution_count": null,
   "id": "caaf9db2-c33d-434b-a3fe-ad91e9fc681e",
   "metadata": {},
   "outputs": [],
   "source": []
  },
  {
   "cell_type": "markdown",
   "id": "cf00a0cd-ab33-4c08-94d0-a7c25a2df606",
   "metadata": {},
   "source": [
    "**2.a.4)**"
   ]
  },
  {
   "cell_type": "code",
   "execution_count": null,
   "id": "a18a05f8-f52f-4d1a-90e6-0c2dea2fa6d9",
   "metadata": {},
   "outputs": [],
   "source": []
  },
  {
   "cell_type": "markdown",
   "id": "0f2d2721-58c2-44d9-b422-3dd81ee8b333",
   "metadata": {},
   "source": [
    "### b) Changing some metadata"
   ]
  },
  {
   "cell_type": "markdown",
   "id": "ad17957e-9d70-4fcb-9954-e0ff331ac689",
   "metadata": {},
   "source": [
    "**2.b.1)**"
   ]
  },
  {
   "cell_type": "code",
   "execution_count": null,
   "id": "d4311a56-3252-4b10-9b92-01f00c7e1cdb",
   "metadata": {},
   "outputs": [],
   "source": []
  },
  {
   "cell_type": "markdown",
   "id": "f240a543-5676-439e-b53e-4384ee5d9171",
   "metadata": {},
   "source": [
    "**2.b.2)**"
   ]
  },
  {
   "cell_type": "code",
   "execution_count": null,
   "id": "f08327b2-51a1-404b-97fa-e753255eb252",
   "metadata": {},
   "outputs": [],
   "source": []
  },
  {
   "cell_type": "markdown",
   "id": "20031178-9faa-4501-b00f-70b0d1c1ae64",
   "metadata": {},
   "source": [
    "**2.b.3)**"
   ]
  },
  {
   "cell_type": "code",
   "execution_count": null,
   "id": "a6bfddb6-223a-46b0-8adf-725361fe1c64",
   "metadata": {},
   "outputs": [],
   "source": []
  },
  {
   "cell_type": "markdown",
   "id": "d0e0d297-4e71-4a73-a194-f9b151f7a4a3",
   "metadata": {},
   "source": [
    "**2.b.4)**"
   ]
  },
  {
   "cell_type": "code",
   "execution_count": null,
   "id": "155bf824-7ebc-4178-9377-7be91b03393f",
   "metadata": {},
   "outputs": [],
   "source": []
  },
  {
   "cell_type": "markdown",
   "id": "cf7cf826-2d23-40cd-bfca-648de59fd02c",
   "metadata": {},
   "source": [
    "### c) Writing a (list of) fields out to a file"
   ]
  },
  {
   "cell_type": "markdown",
   "id": "f375ce40-ba55-45cd-83d2-9c5f58df3506",
   "metadata": {},
   "source": [
    "**2.c.1)**"
   ]
  },
  {
   "cell_type": "code",
   "execution_count": null,
   "id": "5fb3f0c6-6638-4535-8729-b50d1f70fc29",
   "metadata": {},
   "outputs": [],
   "source": []
  },
  {
   "cell_type": "markdown",
   "id": "3e061bbd-836c-44fb-9614-358585b4c1bf",
   "metadata": {},
   "source": [
    "**2.c.2)**"
   ]
  },
  {
   "cell_type": "code",
   "execution_count": null,
   "id": "4b199ddb-00c6-456e-bb51-58117037c50b",
   "metadata": {},
   "outputs": [],
   "source": []
  },
  {
   "cell_type": "markdown",
   "id": "19c295d5-9e45-49a8-bc53-fd9a139aacf8",
   "metadata": {},
   "source": [
    "**2.c.3)**"
   ]
  },
  {
   "cell_type": "code",
   "execution_count": null,
   "id": "a55c4a55-10bd-4269-a232-32e0d3737a94",
   "metadata": {},
   "outputs": [],
   "source": []
  },
  {
   "cell_type": "markdown",
   "id": "c155c131-5367-497f-8590-16bbfdc7c124",
   "metadata": {},
   "source": [
    "**2.c.4)**"
   ]
  },
  {
   "cell_type": "code",
   "execution_count": null,
   "id": "d2c71af9-a032-458a-b091-39d776c11025",
   "metadata": {},
   "outputs": [],
   "source": []
  },
  {
   "cell_type": "markdown",
   "id": "9dd6be4b-60d3-4ca8-8108-fcda62bb7d95",
   "metadata": {},
   "source": [
    "***"
   ]
  },
  {
   "cell_type": "markdown",
   "id": "4ccfd6a0-567d-43f3-9f06-15bb21afae6a",
   "metadata": {},
   "source": [
    "## 3. Reducing datasets by subspacing and collapsing\n",
    "\n",
    "**In this section we show how multi-dimensional data can be tamed using cf-python so that you can get a reduced form that can be analysed or plotted, by reducing the dimensions by selecting a subset of point(s) along the axes or collapsing down according to some statistic such as the mean or an extrema.**"
   ]
  },
  {
   "cell_type": "markdown",
   "id": "410ac6d4-cd8f-43ed-a3f5-eaf8d1d8755a",
   "metadata": {},
   "source": [
    "### a) Subspacing using metadata conditions"
   ]
  },
  {
   "cell_type": "markdown",
   "id": "cec90546-f200-42b3-af27-6508f367d305",
   "metadata": {},
   "source": [
    "**3.a.1)**"
   ]
  },
  {
   "cell_type": "code",
   "execution_count": null,
   "id": "a4af5c1c-cdc4-441d-8d2c-17d9cfd6b746",
   "metadata": {},
   "outputs": [],
   "source": []
  },
  {
   "cell_type": "markdown",
   "id": "3077b7a8-6f93-4a95-ad6d-58e8b3fc15ec",
   "metadata": {},
   "source": [
    "**3.a.2)**"
   ]
  },
  {
   "cell_type": "code",
   "execution_count": null,
   "id": "91818c63-a229-491b-aee2-8882ff554746",
   "metadata": {},
   "outputs": [],
   "source": []
  },
  {
   "cell_type": "markdown",
   "id": "df537a09-9cc3-43c0-9e6a-7d8d7902344c",
   "metadata": {},
   "source": [
    "**3.a.3)**"
   ]
  },
  {
   "cell_type": "code",
   "execution_count": null,
   "id": "e0cdd409-e75d-43bb-96fd-c79b1f5e575b",
   "metadata": {},
   "outputs": [],
   "source": []
  },
  {
   "cell_type": "markdown",
   "id": "862a5eb4-6a63-4c11-a188-f048c3d27926",
   "metadata": {},
   "source": [
    "**3.a.4)**"
   ]
  },
  {
   "cell_type": "code",
   "execution_count": null,
   "id": "6db795e1-8eb4-42b8-a6d2-4ad554f7fbb7",
   "metadata": {},
   "outputs": [],
   "source": []
  },
  {
   "cell_type": "markdown",
   "id": "bb1db98b-27b3-4c8a-bf63-f67f83dd2bb8",
   "metadata": {},
   "source": [
    "### b) Subspacing using indexing, including equivalency to the above"
   ]
  },
  {
   "cell_type": "markdown",
   "id": "3d95810b-eb02-4862-938e-91e6634bb2b9",
   "metadata": {},
   "source": [
    "**3.b.1)**"
   ]
  },
  {
   "cell_type": "code",
   "execution_count": null,
   "id": "7d6ccf81-0a51-44f4-948c-95a243c751cd",
   "metadata": {},
   "outputs": [],
   "source": []
  },
  {
   "cell_type": "markdown",
   "id": "4e2cc4bf-2520-4136-82af-48ac6f974043",
   "metadata": {},
   "source": [
    "**3.b.2)**"
   ]
  },
  {
   "cell_type": "code",
   "execution_count": null,
   "id": "f15ef080-2d79-4686-8f67-00baee8a98f2",
   "metadata": {},
   "outputs": [],
   "source": []
  },
  {
   "cell_type": "markdown",
   "id": "e65d7951-2d10-40d3-8858-87b7210079a8",
   "metadata": {},
   "source": [
    "**3.b.3)**"
   ]
  },
  {
   "cell_type": "code",
   "execution_count": null,
   "id": "0b83671d-442f-41c4-981a-764581a358ec",
   "metadata": {},
   "outputs": [],
   "source": []
  },
  {
   "cell_type": "markdown",
   "id": "f5e05393-4c31-4505-8b80-4b8b2bdeba5d",
   "metadata": {},
   "source": [
    "**3.b.4)**"
   ]
  },
  {
   "cell_type": "code",
   "execution_count": null,
   "id": "dd33a050-117c-4327-931c-ea8dd2372a70",
   "metadata": {},
   "outputs": [],
   "source": []
  },
  {
   "cell_type": "markdown",
   "id": "b870563e-6f45-46ca-9dad-6d8a5cb69ec5",
   "metadata": {},
   "source": [
    "### c) Statistical collapses"
   ]
  },
  {
   "cell_type": "markdown",
   "id": "05d9602f-744d-4ce7-a4a0-1880a30db393",
   "metadata": {},
   "source": [
    "**3.c.1)**"
   ]
  },
  {
   "cell_type": "code",
   "execution_count": null,
   "id": "843d1148-25e1-4cc2-91e3-28085b0ac7f3",
   "metadata": {},
   "outputs": [],
   "source": []
  },
  {
   "cell_type": "markdown",
   "id": "1527c1bc-12e3-4708-a544-39fef8d0062b",
   "metadata": {},
   "source": [
    "**3.c.2)**"
   ]
  },
  {
   "cell_type": "code",
   "execution_count": null,
   "id": "f44e6b5e-c3bf-48bf-81b4-d082a437d3c2",
   "metadata": {},
   "outputs": [],
   "source": []
  },
  {
   "cell_type": "markdown",
   "id": "592f58a8-77a3-4cc2-beb3-f6247f5f0310",
   "metadata": {},
   "source": [
    "**3.c.3)**"
   ]
  },
  {
   "cell_type": "code",
   "execution_count": null,
   "id": "62c236eb-c360-47b2-ac20-6d1250ed7a78",
   "metadata": {},
   "outputs": [],
   "source": []
  },
  {
   "cell_type": "markdown",
   "id": "22357974-11e2-4820-b0d6-90273cbc4646",
   "metadata": {},
   "source": [
    "**3.c.4)**"
   ]
  },
  {
   "cell_type": "code",
   "execution_count": null,
   "id": "532ae8bf-09a1-4a2c-8800-2802fe186202",
   "metadata": {},
   "outputs": [],
   "source": []
  },
  {
   "cell_type": "markdown",
   "id": "59b69a9d-a94c-464c-aa3c-482c699bc404",
   "metadata": {},
   "source": [
    "***"
   ]
  },
  {
   "cell_type": "markdown",
   "id": "80edfa76-7f87-42b9-8cef-058304ca902a",
   "metadata": {},
   "source": [
    "## 4. Visualising datasets as contour and vector plots\n",
    "\n",
    "**In this section we demonstrate how to plot using cf-plot the data we have read and then processed and/or analysed using cf-python, notably showing how to create contour plots and vector plots as examples of some of the available plot types.**"
   ]
  },
  {
   "cell_type": "markdown",
   "id": "794c4940-43fd-45a3-ba9a-69084c0e5ccd",
   "metadata": {},
   "source": [
    "### a) Making a contour plot"
   ]
  },
  {
   "cell_type": "markdown",
   "id": "d8508032-181e-4a04-ba70-0f0dfd24f601",
   "metadata": {},
   "source": [
    "**4.a.1)**"
   ]
  },
  {
   "cell_type": "code",
   "execution_count": null,
   "id": "e3b39603-c768-472b-bd2b-8aec63e525c0",
   "metadata": {},
   "outputs": [],
   "source": []
  },
  {
   "cell_type": "markdown",
   "id": "f780f284-697e-41a3-8984-db53ac970235",
   "metadata": {},
   "source": [
    "**4.a.2)**"
   ]
  },
  {
   "cell_type": "code",
   "execution_count": null,
   "id": "94613743-f648-409e-b7a3-22bbf5849c1c",
   "metadata": {},
   "outputs": [],
   "source": []
  },
  {
   "cell_type": "markdown",
   "id": "b560e933-e521-4417-a364-ce2b4d890e5f",
   "metadata": {},
   "source": [
    "**4.a.3)**"
   ]
  },
  {
   "cell_type": "code",
   "execution_count": null,
   "id": "88c54c9f-cbd7-45dd-a0d0-b917b47d8a79",
   "metadata": {},
   "outputs": [],
   "source": []
  },
  {
   "cell_type": "markdown",
   "id": "ab798d4d-61bf-4fb0-a047-b4042ea0a7c1",
   "metadata": {},
   "source": [
    "**4.a.4)**"
   ]
  },
  {
   "cell_type": "code",
   "execution_count": null,
   "id": "6bfaa16c-919f-4b6b-82e9-464bb777b9b4",
   "metadata": {},
   "outputs": [],
   "source": []
  },
  {
   "cell_type": "markdown",
   "id": "b19186dc-3480-47d1-a859-79008841bd58",
   "metadata": {},
   "source": [
    "### b) Customising the (contour) plot"
   ]
  },
  {
   "cell_type": "markdown",
   "id": "017e176a-67ab-4580-82e3-245bf30cc585",
   "metadata": {},
   "source": [
    "**4.b.1)**"
   ]
  },
  {
   "cell_type": "code",
   "execution_count": null,
   "id": "b4509ae8-c96c-4d9d-9b41-83e3828d03b7",
   "metadata": {},
   "outputs": [],
   "source": []
  },
  {
   "cell_type": "markdown",
   "id": "6b403c8c-5991-44b2-89db-660c58f0abdd",
   "metadata": {},
   "source": [
    "**4.b.2)**"
   ]
  },
  {
   "cell_type": "code",
   "execution_count": null,
   "id": "7945c4ee-53ed-4c26-b468-b4cd6b0edc88",
   "metadata": {},
   "outputs": [],
   "source": []
  },
  {
   "cell_type": "markdown",
   "id": "d01534c9-8c56-4f6f-a550-2e86a5749bed",
   "metadata": {},
   "source": [
    "**4.b.3)**"
   ]
  },
  {
   "cell_type": "code",
   "execution_count": null,
   "id": "70bf4f42-61de-4255-acbc-9235a36f403e",
   "metadata": {},
   "outputs": [],
   "source": []
  },
  {
   "cell_type": "markdown",
   "id": "4ec1d375-c6df-439d-94aa-c70dbf5fd199",
   "metadata": {},
   "source": [
    "**4.b.4)**"
   ]
  },
  {
   "cell_type": "code",
   "execution_count": null,
   "id": "9c67be68-f993-4225-bed2-8aff803935e8",
   "metadata": {},
   "outputs": [],
   "source": []
  },
  {
   "cell_type": "markdown",
   "id": "6964260d-84fb-41d9-a1b9-a74e85a79c20",
   "metadata": {},
   "source": [
    "### c) Making a vector plot with basic customisation"
   ]
  },
  {
   "cell_type": "markdown",
   "id": "5a7610d7-2654-4759-9083-0ae921546f63",
   "metadata": {},
   "source": [
    "**4.c.1)**"
   ]
  },
  {
   "cell_type": "code",
   "execution_count": null,
   "id": "b1ba3732-e318-4e4e-a5e7-8ca17db707b9",
   "metadata": {},
   "outputs": [],
   "source": []
  },
  {
   "cell_type": "markdown",
   "id": "8018e3d9-685b-4a12-93c3-77f3dfcb035e",
   "metadata": {},
   "source": [
    "**4.c.2)**"
   ]
  },
  {
   "cell_type": "code",
   "execution_count": null,
   "id": "f94aaa31-8468-4803-869e-878d542a061e",
   "metadata": {},
   "outputs": [],
   "source": []
  },
  {
   "cell_type": "markdown",
   "id": "920060c3-46e1-420d-a400-f110e9c08b97",
   "metadata": {},
   "source": [
    "**4.c.3)**"
   ]
  },
  {
   "cell_type": "code",
   "execution_count": null,
   "id": "49cd847e-4c92-46d6-9f31-f81b8ec3b4e2",
   "metadata": {},
   "outputs": [],
   "source": []
  },
  {
   "cell_type": "markdown",
   "id": "ade0c1bb-6164-4fb8-be7b-fc5c5dd6bab0",
   "metadata": {},
   "source": [
    "**4.c.4)**"
   ]
  },
  {
   "cell_type": "code",
   "execution_count": null,
   "id": "33efb918-44f1-46cc-9018-d7775a108382",
   "metadata": {},
   "outputs": [],
   "source": []
  },
  {
   "cell_type": "markdown",
   "id": "b191c8b2-a038-4601-b046-997a4566c2f6",
   "metadata": {},
   "source": [
    "***"
   ]
  },
  {
   "cell_type": "markdown",
   "id": "72524bb7-a643-4753-ad8b-f419656883fa",
   "metadata": {},
   "source": [
    "## 5. Analysing data: applying mathematical and statistical operations and plotting trends\n",
    "\n",
    "**In this section we demonstrate how to do some data analysis including performing arithmetic and statistical calculations on the data, showing how cf-python's CF Conventions metadata awareness means that the metadata is automatically updated to account for the operations that are performed.**"
   ]
  },
  {
   "cell_type": "markdown",
   "id": "59637071-edcb-40fe-970a-1d89e0209aa7",
   "metadata": {},
   "source": [
    "### a) Applying mathematics e.g. arithmetic and trigonometry on fields"
   ]
  },
  {
   "cell_type": "markdown",
   "id": "3ce63f35-c0a3-4c5b-a58c-98856f26ce25",
   "metadata": {},
   "source": [
    "**5.a.1)**"
   ]
  },
  {
   "cell_type": "code",
   "execution_count": null,
   "id": "8846ce13-3ac6-4586-9318-bcf96abe2b97",
   "metadata": {},
   "outputs": [],
   "source": []
  },
  {
   "cell_type": "markdown",
   "id": "dfdf903e-1a4b-46e2-9ba5-4118307329c7",
   "metadata": {},
   "source": [
    "**5.a.2)**"
   ]
  },
  {
   "cell_type": "code",
   "execution_count": null,
   "id": "9c7be26b-51d7-4f43-aaa5-ce916b97a468",
   "metadata": {},
   "outputs": [],
   "source": []
  },
  {
   "cell_type": "markdown",
   "id": "3d0733cc-b6fa-4889-87ba-c0161b29d8eb",
   "metadata": {},
   "source": [
    "**5.a.3)**"
   ]
  },
  {
   "cell_type": "code",
   "execution_count": null,
   "id": "e770cba8-88db-44ac-a143-51e369b9695b",
   "metadata": {},
   "outputs": [],
   "source": []
  },
  {
   "cell_type": "markdown",
   "id": "3636fd39-4aa6-4b86-8eaf-0154b285fc2d",
   "metadata": {},
   "source": [
    "**5.a.4)**"
   ]
  },
  {
   "cell_type": "code",
   "execution_count": null,
   "id": "aed0f47d-cad3-4a80-8ef6-2878ec963fd8",
   "metadata": {},
   "outputs": [],
   "source": []
  },
  {
   "cell_type": "markdown",
   "id": "561caf84-0824-4b69-8ad9-82ce28d5bfd1",
   "metadata": {},
   "source": [
    "### b) Line plotting"
   ]
  },
  {
   "cell_type": "markdown",
   "id": "a42040e2-0bc1-4e25-9168-5dc474e97ab2",
   "metadata": {},
   "source": [
    "**5.b.1)**"
   ]
  },
  {
   "cell_type": "code",
   "execution_count": null,
   "id": "274d1d90-5be7-46ff-8532-5de882998187",
   "metadata": {},
   "outputs": [],
   "source": []
  },
  {
   "cell_type": "markdown",
   "id": "5de191f4-d755-43f7-8718-e04a8376b647",
   "metadata": {},
   "source": [
    "**5.b.2)**"
   ]
  },
  {
   "cell_type": "code",
   "execution_count": null,
   "id": "34f9b25c-c249-4868-b262-ecadf69367b8",
   "metadata": {},
   "outputs": [],
   "source": []
  },
  {
   "cell_type": "markdown",
   "id": "2166ebe2-b075-4578-9c43-2f8c6e2b9a02",
   "metadata": {},
   "source": [
    "**5.b.3)**"
   ]
  },
  {
   "cell_type": "code",
   "execution_count": null,
   "id": "b4294b0f-035d-440a-a610-8520825492a8",
   "metadata": {},
   "outputs": [],
   "source": []
  },
  {
   "cell_type": "markdown",
   "id": "5170b927-b7d8-4d4a-9589-1397a6cd9ab6",
   "metadata": {},
   "source": [
    "**5.b.4)**"
   ]
  },
  {
   "cell_type": "code",
   "execution_count": null,
   "id": "fa43b71c-f953-4c99-bf1a-f5f8a7e06147",
   "metadata": {},
   "outputs": [],
   "source": []
  },
  {
   "cell_type": "markdown",
   "id": "682335b3-5eba-416c-bbd2-182f5915df7d",
   "metadata": {},
   "source": [
    "### c) Calculating seasonal means"
   ]
  },
  {
   "cell_type": "markdown",
   "id": "9799e66c-0107-4dd0-8652-5a851a795c8f",
   "metadata": {},
   "source": [
    "**5.c.1)**"
   ]
  },
  {
   "cell_type": "code",
   "execution_count": null,
   "id": "9f483867-c35f-456b-8314-7c9c006b163a",
   "metadata": {},
   "outputs": [],
   "source": []
  },
  {
   "cell_type": "markdown",
   "id": "6cbc9cf7-cfd7-49fc-8244-91612c006cdb",
   "metadata": {},
   "source": [
    "**5.c.2)**"
   ]
  },
  {
   "cell_type": "code",
   "execution_count": null,
   "id": "8763a854-82cf-4fc5-80b5-c0214310fae9",
   "metadata": {},
   "outputs": [],
   "source": []
  },
  {
   "cell_type": "markdown",
   "id": "fcb98f04-a03d-4c1c-b0cd-ea153daf6f16",
   "metadata": {},
   "source": [
    "**5.c.3)**"
   ]
  },
  {
   "cell_type": "code",
   "execution_count": null,
   "id": "ea2e67a9-1ec6-4d3b-a673-2f06c9f7ae11",
   "metadata": {},
   "outputs": [],
   "source": []
  },
  {
   "cell_type": "markdown",
   "id": "990f124a-c257-427e-ab3f-787d13451431",
   "metadata": {},
   "source": [
    "**5.c.4)**"
   ]
  },
  {
   "cell_type": "code",
   "execution_count": null,
   "id": "e01f383b-3295-4025-b1a7-b26703c434b6",
   "metadata": {},
   "outputs": [],
   "source": []
  },
  {
   "cell_type": "markdown",
   "id": "b094573f-f690-48da-a8e9-93481ead73fb",
   "metadata": {},
   "source": [
    "### d) Plotting the seasonal means on one (line)plot"
   ]
  },
  {
   "cell_type": "markdown",
   "id": "428b074b-d2af-4804-9131-2985d69bf4d9",
   "metadata": {},
   "source": [
    "**5.d.1)**"
   ]
  },
  {
   "cell_type": "code",
   "execution_count": null,
   "id": "83a29404-cc39-47eb-9909-b2af9b1ab7e9",
   "metadata": {},
   "outputs": [],
   "source": []
  },
  {
   "cell_type": "markdown",
   "id": "422daf4c-731d-48db-812e-53298d8d80a7",
   "metadata": {},
   "source": [
    "**5.d.2)**"
   ]
  },
  {
   "cell_type": "code",
   "execution_count": null,
   "id": "a6396957-b64b-4c79-9fcd-067463457842",
   "metadata": {},
   "outputs": [],
   "source": []
  },
  {
   "cell_type": "markdown",
   "id": "fbadc353-a26a-43f1-89fa-8a9334058bb9",
   "metadata": {},
   "source": [
    "**5.d.3)**"
   ]
  },
  {
   "cell_type": "code",
   "execution_count": null,
   "id": "bba94e6a-c05c-4e24-b0dc-4409337610d4",
   "metadata": {},
   "outputs": [],
   "source": []
  },
  {
   "cell_type": "markdown",
   "id": "20570785-6ae8-419c-9c26-c1bd8c979a3a",
   "metadata": {},
   "source": [
    "**5.d.4)**"
   ]
  },
  {
   "cell_type": "code",
   "execution_count": null,
   "id": "0224e98a-11be-471b-8bb7-1184d5ab40ed",
   "metadata": {},
   "outputs": [],
   "source": []
  },
  {
   "cell_type": "markdown",
   "id": "3b746f6b-ef82-4aa9-8d39-ca179f15db62",
   "metadata": {},
   "source": [
    "***"
   ]
  },
  {
   "cell_type": "markdown",
   "id": "2e4c72ef-8631-4749-b4fd-6c79c8d6e455",
   "metadata": {},
   "source": [
    "## 6. Changing the underlying grid of data through regridding\n",
    "\n",
    "**In this section we demonstrate how to change the underlying grid of the data to another grid which could be a higher- or lower- resolution one, or a completely different grid, which is called regridding or interpolation, and indicate various options cf-python supports for doing this.**"
   ]
  },
  {
   "cell_type": "markdown",
   "id": "854d7fd4-6d65-4827-b77c-4a89d42da6b0",
   "metadata": {},
   "source": [
    "### a) Getting a _source_ field ready to regrid"
   ]
  },
  {
   "cell_type": "markdown",
   "id": "65ee428b-cf95-423c-b92e-4cd644b7df41",
   "metadata": {},
   "source": [
    "**6.a.1)**"
   ]
  },
  {
   "cell_type": "code",
   "execution_count": null,
   "id": "a6ec5550-61a1-47ff-99f1-339f6dff0fa9",
   "metadata": {},
   "outputs": [],
   "source": []
  },
  {
   "cell_type": "markdown",
   "id": "7955e4b0-a23e-4398-9c09-48375a37e2e2",
   "metadata": {},
   "source": [
    "**6.a.2)**"
   ]
  },
  {
   "cell_type": "code",
   "execution_count": null,
   "id": "17a5908e-ea5a-4b8b-bbf2-980f7bcf0796",
   "metadata": {},
   "outputs": [],
   "source": []
  },
  {
   "cell_type": "markdown",
   "id": "2eebded9-e7ad-400e-9ff8-a1a162a20eef",
   "metadata": {},
   "source": [
    "**6.a.3)**"
   ]
  },
  {
   "cell_type": "code",
   "execution_count": null,
   "id": "c588f683-3847-4dad-b580-c75b55db1412",
   "metadata": {},
   "outputs": [],
   "source": []
  },
  {
   "cell_type": "markdown",
   "id": "0094be21-918b-4f26-a11d-e03c9a1cf12a",
   "metadata": {},
   "source": [
    "**6.a.4)**"
   ]
  },
  {
   "cell_type": "code",
   "execution_count": null,
   "id": "d415694a-6eba-4d1b-af5a-80506afda634",
   "metadata": {},
   "outputs": [],
   "source": []
  },
  {
   "cell_type": "markdown",
   "id": "628e91df-76f0-485e-8288-19ee932a7fb6",
   "metadata": {},
   "source": [
    "### b) Getting the _destination_ field: another field in order to regrid the previous _onto its grid_"
   ]
  },
  {
   "cell_type": "markdown",
   "id": "ff212883-d45d-4b3a-8d60-5f8816c9acce",
   "metadata": {},
   "source": [
    "**6.b.1)**"
   ]
  },
  {
   "cell_type": "code",
   "execution_count": null,
   "id": "7f1f0704-f409-4ae5-b6d1-acadd22790d1",
   "metadata": {},
   "outputs": [],
   "source": []
  },
  {
   "cell_type": "markdown",
   "id": "d9f9d588-5bf4-4911-ba4e-e8e2ece77809",
   "metadata": {},
   "source": [
    "**6.b.2)**"
   ]
  },
  {
   "cell_type": "code",
   "execution_count": null,
   "id": "a414b073-0c90-498e-bd71-62bdbc3cc69d",
   "metadata": {},
   "outputs": [],
   "source": []
  },
  {
   "cell_type": "markdown",
   "id": "c92c3dba-8896-4bb0-a5e4-7f73f6d8366d",
   "metadata": {},
   "source": [
    "**6.b.3)**"
   ]
  },
  {
   "cell_type": "code",
   "execution_count": null,
   "id": "9bcacaa4-dbbd-4cdc-bef0-a14ac72c46f5",
   "metadata": {},
   "outputs": [],
   "source": []
  },
  {
   "cell_type": "markdown",
   "id": "1e0da86e-a13d-4038-a5b8-149f21a12f73",
   "metadata": {},
   "source": [
    "**6.b.4)**"
   ]
  },
  {
   "cell_type": "code",
   "execution_count": null,
   "id": "2a710447-8676-4ca5-886d-8e16e77cc18d",
   "metadata": {},
   "outputs": [],
   "source": []
  },
  {
   "cell_type": "markdown",
   "id": "dde6c34c-37a9-48c9-8e02-a70913411d7a",
   "metadata": {},
   "source": [
    "### c) Performing the regrid operation from the source to the destination fields"
   ]
  },
  {
   "cell_type": "markdown",
   "id": "6ce49aba-e16f-4278-ac9f-4fa3e8d4c8c5",
   "metadata": {},
   "source": [
    "**6.c.1)**"
   ]
  },
  {
   "cell_type": "code",
   "execution_count": null,
   "id": "d428cede-8d0f-4c5e-b921-4ab7eb30d6f1",
   "metadata": {},
   "outputs": [],
   "source": []
  },
  {
   "cell_type": "markdown",
   "id": "bc533850-f32c-4441-9a4f-f14c3206db14",
   "metadata": {},
   "source": [
    "**6.c.2)**"
   ]
  },
  {
   "cell_type": "code",
   "execution_count": null,
   "id": "c7d637a8-bdb9-43ad-9e05-0e2abcb58fb9",
   "metadata": {},
   "outputs": [],
   "source": []
  },
  {
   "cell_type": "markdown",
   "id": "01084a42-6564-40cc-9b96-0a945e03715c",
   "metadata": {},
   "source": [
    "**6.c.3)**"
   ]
  },
  {
   "cell_type": "code",
   "execution_count": null,
   "id": "20e4025c-fe01-4ab4-b92f-74806a30d486",
   "metadata": {},
   "outputs": [],
   "source": []
  },
  {
   "cell_type": "markdown",
   "id": "3b366210-167d-43e6-a2ef-a8c92f7db780",
   "metadata": {},
   "source": [
    "**6.c.4)**"
   ]
  },
  {
   "cell_type": "code",
   "execution_count": null,
   "id": "e27381c2-9e63-4733-8621-870a205f41b7",
   "metadata": {},
   "outputs": [],
   "source": []
  },
  {
   "cell_type": "markdown",
   "id": "1286c96e-02f2-406e-a70d-914ae00389b5",
   "metadata": {},
   "source": [
    "### d) Finally, some more advanced cf-plot plotting to compare the source, destination, and regridded results"
   ]
  },
  {
   "cell_type": "markdown",
   "id": "e2196667-b7dd-4548-89e0-5194aa6170a5",
   "metadata": {},
   "source": [
    "**6.d.1)**"
   ]
  },
  {
   "cell_type": "code",
   "execution_count": null,
   "id": "910689b2-26d4-4973-bb4e-97cf1cfeb10a",
   "metadata": {},
   "outputs": [],
   "source": []
  },
  {
   "cell_type": "markdown",
   "id": "ff068b6f-2f53-4f58-9f9a-2f7533802d0f",
   "metadata": {},
   "source": [
    "**6.d.1)**"
   ]
  },
  {
   "cell_type": "code",
   "execution_count": null,
   "id": "9733ed67-1945-43bc-a077-4aeda871bc2c",
   "metadata": {},
   "outputs": [],
   "source": []
  },
  {
   "cell_type": "markdown",
   "id": "27fc2a7e-bb73-4f66-bab8-acc45f34c1d6",
   "metadata": {},
   "source": [
    "**6.d.3)**"
   ]
  },
  {
   "cell_type": "code",
   "execution_count": null,
   "id": "7bf5bd19-f563-4031-b08b-0fff49821863",
   "metadata": {},
   "outputs": [],
   "source": []
  },
  {
   "cell_type": "markdown",
   "id": "890756ad-e51d-4d87-bdfd-b8fa05237545",
   "metadata": {},
   "source": [
    "**6.d.4)**"
   ]
  },
  {
   "cell_type": "code",
   "execution_count": null,
   "id": "0b6683fd-34aa-468f-ba4e-29e57f44ddfc",
   "metadata": {},
   "outputs": [],
   "source": []
  },
  {
   "cell_type": "markdown",
   "id": "08fa89e2-6c21-4118-9cf9-21958bdfa00e",
   "metadata": {},
   "source": [
    "***"
   ]
  }
 ],
 "metadata": {
  "kernelspec": {
   "display_name": "Python 3 (ipykernel)",
   "language": "python",
   "name": "python3"
  },
  "language_info": {
   "codemirror_mode": {
    "name": "ipython",
    "version": 3
   },
   "file_extension": ".py",
   "mimetype": "text/x-python",
   "name": "python",
   "nbconvert_exporter": "python",
   "pygments_lexer": "ipython3",
   "version": "3.12.0"
  }
 },
 "nbformat": 4,
 "nbformat_minor": 5
}
