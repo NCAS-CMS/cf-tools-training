{
 "cells": [
  {
   "cell_type": "markdown",
   "id": "0cd6019e-c5b3-4dc6-bf86-6fcf10b06851",
   "metadata": {},
   "source": [
    "# Practical for 'introduction to the NCAS CF Data Tools, cf-python and cf-plot'"
   ]
  },
  {
   "cell_type": "markdown",
   "id": "1e8d7e64-fd9a-4e9b-a369-61d5635cbb62",
   "metadata": {},
   "source": [
    "<div class=\"alert alert-block alert-info\">\n",
    "<i>Practical instructions:</i> these blue boxes provide instructions and tips about doing this practical. First of all, there is a copy of the context and learning objectives from the main/presented Notebook below - you are advised to re-read this as a reminder. There is also a copy of the final section from the main Notebook which provides links to further information - you might find the documentation links especially useful here, so they are highlighted in bold.\n",
    "</div>"
   ]
  },
  {
   "cell_type": "markdown",
   "id": "c4378ad0-8448-44ef-80e2-cd6e67346a1b",
   "metadata": {},
   "source": [
    "## A reminder: context, learning objectives and guidance links\n",
    "\n",
    "### What are the NCAS CF Data Tools and why do they all have 'cf' in the name?\n",
    "\n",
    "The _NCAS CF Data Tools_ are a suite of complementary Python libraries which are designed to facilitate working with data for research in the earth sciences and aligned domains. The two that are of most relevance to the average user, and those wanting to process, analyse and visualise atmospheric data, are *cf-python* (https://ncas-cms.github.io/cf-python/) and *cf-plot* (https://ncas-cms.github.io/cf-plot/build/). We will be focusing on use of cf-python and cf-plot today.\n",
    "\n",
    "The 'cf' in the names of the NCAS CF Data Tools corresponds to the _CF Conventions_, a metadata standard, because they are built around this standard in the form of using the CF Data Model, which as well as performance is considered a 'unique selling point' of the tools.\n",
    "\n",
    "\n",
    "### What are the CF Conventions?\n",
    "\n",
    "The _CF Conventions_ are a metadata standard which is becoming the de-facto convention across geoscience to cover the description of data so that sharing and intercomparison is simpler. See https://cfconventions.org/ for more information.\n",
    "\n",
    "\n",
    "### What are we going to learn in this session?\n",
    "\n",
    "Our **learning aim** is to be able to use the NCAS CF Data Tools Python libraries, namely cf-python and cf-plot to process, analyse and visualise netCDF and PP datasets, whilst appreciating the context and 'unique selling point' of the libraries as being built to use the CF Conventions, a metadata standard for earth science data, to make it simpler to do what you want to do with the datasets, by working on top of a Data Model for CF.\n",
    "\n",
    "We have **six distinct objectives**, matching the sections in this notebook and in the practical notebook you will work through. By the end of this lesson you should be familiar and have practiced using cf-python and cf-plot to:\n",
    "\n",
    "1. read dataset(s) and view the (meta)data at different detail levels;\n",
    "2. edit the (meta)data and write out the edited version to file;\n",
    "3. reduce datasets by subspacing and collapsing;\n",
    "4. visualise datasets as contour and vector plots;\n",
    "5. analyse data: applying mathematical and statistical operations and plotting trends;\n",
    "6. change the underlying grid of data through regridding."
   ]
  },
  {
   "cell_type": "markdown",
   "id": "26aa2a28-22ce-4e9f-bc1e-6b0d76ab807c",
   "metadata": {},
   "source": [
    "### Guidance: where to find more information and resources on the NCAS CF Data Tools\n",
    "\n",
    "Here are some links relating to the NCAS CF Data Tools and this training.\n",
    "\n",
    "* This training, with further material, is hosted online and there are instructions for setting up the environment so you can work through it in your own time: https://github.com/NCAS-CMS/cf-tools-training.\n",
    "* **The cf-python documentation lives at https://ncas-cms.github.io/cf-python/.**\n",
    "* The cf-python code lives on GitHub at https://github.com/NCAS-CMS/cf-python. There is an Issue Tracker to report queries or questions at https://github.com/NCAS-CMS/cf-python/issues.\n",
    "* **The cf-plot documentation lives at https://ncas-cms.github.io/cf-plot/build/.**\n",
    "* The cf-plot code lives on GitHub at https://github.com/NCAS-CMS/cf-plot. There is an Issue Tracker to report queries or questions at https://github.com/NCAS-CMS/cf-plot/issues.\n",
    "* There is a technical presentation about the NCAS CF Data Tools avaialble from https://hps.vi4io.org/_media/events/2020/summer-school-cfnetcdf.pdf.\n",
    "* The website of the CF Conventions can be found at https://cfconventions.org/.\n",
    "* The landing page for training into the CF Conventions is found here within the website above: https://cfconventions.org/Training/.\n",
    "\n",
    "If you have any queries after this course, please either use the Issue Trackers linked above or you can email me at: sadie.bartholomew@ncas.ac.uk."
   ]
  },
  {
   "cell_type": "markdown",
   "id": "1c3beb87-7b0d-44ad-9da3-fa32494b795c",
   "metadata": {},
   "source": [
    "***"
   ]
  },
  {
   "cell_type": "markdown",
   "id": "df666543-52ee-402a-8fa4-cb4d8389f3a8",
   "metadata": {},
   "source": [
    "<div class=\"alert alert-block alert-info\">\n",
    "<i>Practical instructions:</i> run all of the cells in this section to do the set up.\n",
    "</div>"
   ]
  },
  {
   "cell_type": "markdown",
   "id": "196e9e0a-83d1-464c-b53c-a6fc2e0c19ff",
   "metadata": {},
   "source": [
    "## Setting up\n",
    "\n",
    "**In this section we set up this Notebook, import the libraries and check the data we will work with, ready to use the libraries within this notebook.**"
   ]
  },
  {
   "cell_type": "markdown",
   "id": "6cfa3e24-6400-4de0-b155-aab85f701441",
   "metadata": {},
   "source": [
    "Run some set up for nice outputs in this Jupyter Notebook (not required in interactive Python or a script):"
   ]
  },
  {
   "cell_type": "code",
   "execution_count": 1,
   "id": "aadf1e3e-382f-47c5-aeee-b52f3cd2868d",
   "metadata": {},
   "outputs": [],
   "source": [
    "%matplotlib inline\n",
    "\n",
    "import warnings\n",
    "warnings.filterwarnings('ignore')"
   ]
  },
  {
   "cell_type": "markdown",
   "id": "d073760a-6734-4a1d-9832-a70a8e0dd089",
   "metadata": {},
   "source": [
    "Import cf-python and cf-plot:"
   ]
  },
  {
   "cell_type": "code",
   "execution_count": 2,
   "id": "b4b0c984-1adc-4515-b192-19da265e1f9a",
   "metadata": {},
   "outputs": [],
   "source": [
    "import cfplot as cfp\n",
    "import cf"
   ]
  },
  {
   "cell_type": "markdown",
   "id": "7b00d47b-4497-4540-b1bd-6fa8fa8e3226",
   "metadata": {},
   "source": [
    "Inspect the versions of cf-python and cf-plot and the version of the CF Conventions those are matched to:"
   ]
  },
  {
   "cell_type": "code",
   "execution_count": 3,
   "id": "ea75b1b6-ba78-428d-b9b2-ca29a8cf6f0d",
   "metadata": {},
   "outputs": [
    {
     "name": "stdout",
     "output_type": "stream",
     "text": [
      "cf-python version is: 3.17.0\n",
      "cf-plot version is: 3.3.0\n",
      "CF Conventions version is: 1.11\n"
     ]
    }
   ],
   "source": [
    "print(\"cf-python version is:\", cf.__version__)\n",
    "print(\"cf-plot version is:\", cfp.__version__)\n",
    "print(\"CF Conventions version is:\", cf.CF())"
   ]
  },
  {
   "cell_type": "markdown",
   "id": "628af6cc-24f1-4e85-bf8b-654268e72bd3",
   "metadata": {},
   "source": [
    "<div class=\"alert alert-block alert-warning\">\n",
    "<i>Note:</i> you can work with data compliant by any other version of the CF Conventions, or without (much) compliance, but the CF Conventions version gives the maximum version that these versions of the tools understand the features of.\n",
    "</div>"
   ]
  },
  {
   "cell_type": "markdown",
   "id": "8135f5c6-3d3e-45b6-a84a-3dcea754372f",
   "metadata": {},
   "source": [
    "Finally, see what datasets we have to explore:"
   ]
  },
  {
   "cell_type": "markdown",
   "id": "cfab63fe-088d-4ca8-ab95-40f61f0c2fd3",
   "metadata": {},
   "source": [
    "<div class=\"alert alert-block alert-warning\">\n",
    "<i>Note:</i> in a Jupyter Notebook, '!' preceeeds a shell command, so this is a terminal command and not Python\n",
    "</div>"
   ]
  },
  {
   "cell_type": "code",
   "execution_count": 4,
   "id": "a45afce7-abd8-4edd-b14c-eb033566bd52",
   "metadata": {
    "scrolled": true
   },
   "outputs": [
    {
     "name": "stdout",
     "output_type": "stream",
     "text": [
      "aaaaoa.pmh8dec.pp\t\t\t   precip_2010.nc\n",
      "alpine_precip_DJF_means.nc\t\t   precip_DJF_means.nc\n",
      "data1.nc\t\t\t\t   qbo.nc\n",
      "data1-updated.nc\t\t\t   regions.nc\n",
      "data2.nc\t\t\t\t   ta.nc\n",
      "data3.nc\t\t\t\t   tripolar.nc\n",
      "data5.nc\t\t\t\t   ua.nc\n",
      "IPSL-CM5A-LR_r1i1p1_tas_n96_rcp45_mnth.nc  u_n216.nc\n",
      "land.nc\t\t\t\t\t   u_n96.nc\n",
      "model_precip_DJF_means_low_res.nc\t   vaAMIPlcd_DJF.nc\n",
      "model_precip_DJF_means.nc\t\t   va.nc\n",
      "precip_1D_monthly.nc\t\t\t   wapAMIPlcd_DJF.nc\n",
      "precip_1D_yearly.nc\n"
     ]
    }
   ],
   "source": [
    "!ls ../ncas_data"
   ]
  },
  {
   "cell_type": "markdown",
   "id": "e7640cdb-0d6f-4933-86d7-e86e7b9acbe4",
   "metadata": {},
   "source": [
    "***"
   ]
  },
  {
   "cell_type": "markdown",
   "id": "ef80e6de-8e62-468b-93c8-b41ac768375a",
   "metadata": {},
   "source": [
    "<div class=\"alert alert-block alert-info\">\n",
    "<i>Practical instructions:</i> now we can start the practical. We will follow the same \n",
    "</div>"
   ]
  },
  {
   "cell_type": "markdown",
   "id": "3b7a3c0a-262d-4ac4-8c10-6fa3a42ae73a",
   "metadata": {},
   "source": [
    "## 1. Reading dataset(s) and viewing the (meta)data at different detail levels\n",
    "\n",
    "**In this section we look at the basic use of cf-python, reading in one or more datasets from file and inspecting the data and the metadata at different levels of detail to suit the amount of information you want to see.**"
   ]
  },
  {
   "cell_type": "markdown",
   "id": "9da08bf9-a15b-4d65-8c8e-632897daec0b",
   "metadata": {},
   "source": [
    "### a) Reading in data and extracting the _field_ of interest"
   ]
  },
  {
   "cell_type": "markdown",
   "id": "d4ed8112-fc35-496c-84ae-e8a05334c33c",
   "metadata": {},
   "source": [
    "### b) Inspecting the _field_ of interest with different amounts of detail"
   ]
  },
  {
   "cell_type": "markdown",
   "id": "0af01357-b0b2-4581-a830-437337565d0d",
   "metadata": {},
   "source": [
    "### c) Inspecting a metadata _construct_ e.g. _coordinate_ from the _field_ of interest"
   ]
  },
  {
   "cell_type": "markdown",
   "id": "bd7fd831-8362-49eb-a03a-281d75596309",
   "metadata": {},
   "source": [
    "### d) Inspecting a data array of interest"
   ]
  },
  {
   "cell_type": "markdown",
   "id": "09d04ff2-8998-48fb-a0a6-bc5deafe8fc6",
   "metadata": {},
   "source": [
    "***"
   ]
  },
  {
   "cell_type": "markdown",
   "id": "932d2d38-b8d7-46cc-848f-b6f50b877310",
   "metadata": {},
   "source": [
    "## 2. Editing the (meta)data and writing out the edited version to file\n",
    "\n",
    "**In this section we demonstrate how to change the data that has been read-in from file, both in terms of the data arrays and the metadata that describes it, and then how to write data back out to file with a chosen name, so that you can see how cf-python can be used to edit data or to make new data.**"
   ]
  },
  {
   "cell_type": "markdown",
   "id": "bc7c654e-38e5-4b06-a7c0-01828701d92f",
   "metadata": {},
   "source": [
    "### a) Changing the underlying data"
   ]
  },
  {
   "cell_type": "markdown",
   "id": "0f2d2721-58c2-44d9-b422-3dd81ee8b333",
   "metadata": {},
   "source": [
    "### b) Changing some metadata"
   ]
  },
  {
   "cell_type": "markdown",
   "id": "cf7cf826-2d23-40cd-bfca-648de59fd02c",
   "metadata": {},
   "source": [
    "### c) Writing a (list of) fields out to a file"
   ]
  },
  {
   "cell_type": "markdown",
   "id": "9dd6be4b-60d3-4ca8-8108-fcda62bb7d95",
   "metadata": {},
   "source": [
    "***"
   ]
  },
  {
   "cell_type": "markdown",
   "id": "4ccfd6a0-567d-43f3-9f06-15bb21afae6a",
   "metadata": {},
   "source": [
    "## 3. Reducing datasets by subspacing and collapsing\n",
    "\n",
    "**In this section we show how multi-dimensional data can be tamed using cf-python so that you can get a reduced form that can be analysed or plotted, by reducing the dimensions by selecting a subset of point(s) along the axes or collapsing down according to some statistic such as the mean or an extrema.**"
   ]
  },
  {
   "cell_type": "markdown",
   "id": "410ac6d4-cd8f-43ed-a3f5-eaf8d1d8755a",
   "metadata": {},
   "source": [
    "### a) Subspacing using metadata conditions"
   ]
  },
  {
   "cell_type": "markdown",
   "id": "bb1db98b-27b3-4c8a-bf63-f67f83dd2bb8",
   "metadata": {},
   "source": [
    "### b) Subspacing using indexing, including equivalency to the above"
   ]
  },
  {
   "cell_type": "markdown",
   "id": "b870563e-6f45-46ca-9dad-6d8a5cb69ec5",
   "metadata": {},
   "source": [
    "### c) Statistical collapses"
   ]
  },
  {
   "cell_type": "markdown",
   "id": "59b69a9d-a94c-464c-aa3c-482c699bc404",
   "metadata": {},
   "source": [
    "***"
   ]
  },
  {
   "cell_type": "markdown",
   "id": "80edfa76-7f87-42b9-8cef-058304ca902a",
   "metadata": {},
   "source": [
    "## 4. Visualising datasets as contour and vector plots\n",
    "\n",
    "**In this section we demonstrate how to plot using cf-plot the data we have read and then processed and/or analysed using cf-python, notably showing how to create contour plots and vector plots as examples of some of the available plot types.**"
   ]
  },
  {
   "cell_type": "markdown",
   "id": "794c4940-43fd-45a3-ba9a-69084c0e5ccd",
   "metadata": {},
   "source": [
    "### a) Making a contour plot"
   ]
  },
  {
   "cell_type": "markdown",
   "id": "b19186dc-3480-47d1-a859-79008841bd58",
   "metadata": {},
   "source": [
    "### b) Customising the (contour) plot"
   ]
  },
  {
   "cell_type": "markdown",
   "id": "6964260d-84fb-41d9-a1b9-a74e85a79c20",
   "metadata": {},
   "source": [
    "### c) Making a vector plot with basic customisation"
   ]
  },
  {
   "cell_type": "markdown",
   "id": "b191c8b2-a038-4601-b046-997a4566c2f6",
   "metadata": {},
   "source": [
    "***"
   ]
  },
  {
   "cell_type": "markdown",
   "id": "72524bb7-a643-4753-ad8b-f419656883fa",
   "metadata": {},
   "source": [
    "## 5. Analysing data: applying mathematical and statistical operations and plotting trends\n",
    "\n",
    "**In this section we demonstrate how to do some data analysis including performing arithmetic and statistical calculations on the data, showing how cf-python's CF Conventions metadata awareness means that the metadata is automatically updated to account for the operations that are performed.**"
   ]
  },
  {
   "cell_type": "markdown",
   "id": "59637071-edcb-40fe-970a-1d89e0209aa7",
   "metadata": {},
   "source": [
    "### a) Applying mathematics e.g. arithmetic and trigonometry on fields"
   ]
  },
  {
   "cell_type": "markdown",
   "id": "561caf84-0824-4b69-8ad9-82ce28d5bfd1",
   "metadata": {},
   "source": [
    "### b) Line plotting"
   ]
  },
  {
   "cell_type": "markdown",
   "id": "682335b3-5eba-416c-bbd2-182f5915df7d",
   "metadata": {},
   "source": [
    "### c) Calculating seasonal means"
   ]
  },
  {
   "cell_type": "markdown",
   "id": "b094573f-f690-48da-a8e9-93481ead73fb",
   "metadata": {},
   "source": [
    "### d) Plotting the seasonal means on one (line)plot"
   ]
  },
  {
   "cell_type": "markdown",
   "id": "3b746f6b-ef82-4aa9-8d39-ca179f15db62",
   "metadata": {},
   "source": [
    "***"
   ]
  },
  {
   "cell_type": "markdown",
   "id": "2e4c72ef-8631-4749-b4fd-6c79c8d6e455",
   "metadata": {},
   "source": [
    "## 6. Changing the underlying grid of data through regridding\n",
    "\n",
    "**In this section we demonstrate how to change the underlying grid of the data to another grid which could be a higher- or lower- resolution one, or a completely different grid, which is called regridding or interpolation, and indicate various options cf-python supports for doing this.**"
   ]
  },
  {
   "cell_type": "markdown",
   "id": "854d7fd4-6d65-4827-b77c-4a89d42da6b0",
   "metadata": {},
   "source": [
    "### a) Getting a _source_ field ready to regrid"
   ]
  },
  {
   "cell_type": "markdown",
   "id": "628e91df-76f0-485e-8288-19ee932a7fb6",
   "metadata": {},
   "source": [
    "### b) Getting the _destination_ field: another field in order to regrid the previous _onto its grid_"
   ]
  },
  {
   "cell_type": "markdown",
   "id": "dde6c34c-37a9-48c9-8e02-a70913411d7a",
   "metadata": {},
   "source": [
    "### c) Performing the regrid operation from the source to the destination fields"
   ]
  },
  {
   "cell_type": "markdown",
   "id": "1286c96e-02f2-406e-a70d-914ae00389b5",
   "metadata": {},
   "source": [
    "### d) Finally, some more advanced cf-plot plotting to compare the source, destination, and regridded results"
   ]
  },
  {
   "cell_type": "markdown",
   "id": "08fa89e2-6c21-4118-9cf9-21958bdfa00e",
   "metadata": {},
   "source": [
    "***"
   ]
  }
 ],
 "metadata": {
  "kernelspec": {
   "display_name": "Python 3 (ipykernel)",
   "language": "python",
   "name": "python3"
  },
  "language_info": {
   "codemirror_mode": {
    "name": "ipython",
    "version": 3
   },
   "file_extension": ".py",
   "mimetype": "text/x-python",
   "name": "python",
   "nbconvert_exporter": "python",
   "pygments_lexer": "ipython3",
   "version": "3.12.0"
  }
 },
 "nbformat": 4,
 "nbformat_minor": 5
}
