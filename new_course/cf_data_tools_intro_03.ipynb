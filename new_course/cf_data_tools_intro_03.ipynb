{
 "cells": [
  {
   "cell_type": "markdown",
   "id": "0cd6019e-c5b3-4dc6-bf86-6fcf10b06851",
   "metadata": {},
   "source": [
    "# T3. Reducing datasets by subspacing and collapsing\n",
    "\n",
    "## Teaching Notebook 3 (of 6) for *Intro to the NCAS CF Data Tools, cf-python and cf-plot*\n",
    "\n",
    "**In this section we show how multi-dimensional data can be tamed using cf-python so that you can get a reduced form that can be analysed or plotted, by reducing the dimensions by selecting a subset of point(s) along the axes or collapsing down according to some statistic such as the mean or an extrema.**"
   ]
  },
  {
   "cell_type": "markdown",
   "id": "1c3beb87-7b0d-44ad-9da3-fa32494b795c",
   "metadata": {},
   "source": [
    "***"
   ]
  },
  {
   "cell_type": "markdown",
   "id": "08c86797-be57-4749-b1f3-9b06e1df991d",
   "metadata": {},
   "source": [
    "## Setting up\n",
    "\n",
    "**In this short prelude we set up this Notebook, import the libraries and check the data we will work with, ready to use the libraries and the data (exactly as per the first Notebook setup but in one cell only for quick execution).**"
   ]
  },
  {
   "cell_type": "code",
   "execution_count": 1,
   "id": "53bc5cda-61bd-4556-92d2-fcfbfdb260d5",
   "metadata": {},
   "outputs": [
    {
     "name": "stdout",
     "output_type": "stream",
     "text": [
      "--- Version report: ---\n",
      "cf-python version is: 3.18.1\n",
      "cf-plot version is: 3.4.0\n",
      "CF Conventions version is: 1.12\n",
      "--- Datasets available from the path '../ncas_data': ---\n",
      "160by320griddata.nc\t\t\t   precip_2010.nc\n",
      "aaaaoa.pmh8dec.pp\t\t\t   precip_DJF_means.nc\n",
      "alpine_precip_DJF_means.nc\t\t   qbo.nc\n",
      "data1.nc\t\t\t\t   regions.nc\n",
      "data1-updated.nc\t\t\t   rgp.nc\n",
      "data2.nc\t\t\t\t   sea_currents_backup.nc\n",
      "data3.nc\t\t\t\t   sea_currents.nc\n",
      "data5.nc\t\t\t\t   ta.nc\n",
      "ggas2014121200_00-18.nc\t\t\t   tripolar.nc\n",
      "IPSL-CM5A-LR_r1i1p1_tas_n96_rcp45_mnth.nc  two_fields.nc\n",
      "land.nc\t\t\t\t\t   ua.nc\n",
      "model_precip_DJF_means_low_res.nc\t   u_n216.nc\n",
      "model_precip_DJF_means.nc\t\t   u_n96.nc\n",
      "n2o_emissions.nc\t\t\t   vaAMIPlcd_DJF.nc\n",
      "POLCOMS_WAM_ZUV_01_16012006.nc\t\t   va.nc\n",
      "precip_1D_monthly.nc\t\t\t   wapAMIPlcd_DJF.nc\n",
      "precip_1D_yearly.nc\n"
     ]
    }
   ],
   "source": [
    "# Set up for inline plots - only needed inside a Notebook environment - and to ignore some repeating warnings\n",
    "%matplotlib inline\n",
    "\n",
    "import warnings\n",
    "warnings.filterwarnings(\"ignore\")\n",
    "\n",
    "# Import the two CF Data Tools libraries and inspect the versions\n",
    "import cfplot as cfp\n",
    "import cf\n",
    "print(\"--- Version report: ---\")\n",
    "print(\"cf-python version is:\", cf.__version__)\n",
    "print(\"cf-plot version is:\", cfp.__version__)\n",
    "print(\"CF Conventions version is:\", cf.CF())\n",
    "\n",
    "# See what datasets we have to explore within the data directory we use throughout this course\n",
    "print(\"--- Datasets available from the path '../ncas_data': ---\")\n",
    "# Note that in a Jupyter Notebook, '!' precedes a shell command - so this is a command, not Python\n",
    "!ls ../ncas_data"
   ]
  },
  {
   "cell_type": "markdown",
   "id": "e7640cdb-0d6f-4933-86d7-e86e7b9acbe4",
   "metadata": {},
   "source": [
    "***"
   ]
  },
  {
   "cell_type": "markdown",
   "id": "4ccfd6a0-567d-43f3-9f06-15bb21afae6a",
   "metadata": {},
   "source": [
    "## 3. Reducing datasets by subspacing and collapsing"
   ]
  },
  {
   "cell_type": "markdown",
   "id": "d6899662-eaaa-480c-8f0a-4a6f069292a8",
   "metadata": {},
   "source": [
    "Often datasets represent highly multi-dimensional data, for example 4D or higher. Usually we want to find a either a sub-space, or a statistical representation (such as an average or extrema), of the full data array in less dimensions, such as in 3D or 2D or even in the form of a 1D time series or 0D statistic.\n",
    "\n",
    "We'll demonstrate this with another dataset and field selected from it. This serves as a reminder on concepts from the first section of the Notebook:"
   ]
  },
  {
   "cell_type": "markdown",
   "id": "e635599e-aa0b-4f48-a49e-28ec8aab9ef7",
   "metadata": {},
   "source": [
    "<div class=\"alert alert-block alert-info\">\n",
    "<i>Note:</i> here we are reading in a file in the 'PP' format, which is a file format originating from the Met Office that can often be encountered in geoscience, like netCDF, hence the file extension '.pp'. You can read and process PP files using cf-python exactly the same way you do for netCDF files, so you do not need to concern yourself with the difference in file format in your code.\n",
    "</div>"
   ]
  },
  {
   "cell_type": "code",
   "execution_count": 2,
   "id": "57d21990-e813-41c5-b686-9c90deba307e",
   "metadata": {},
   "outputs": [
    {
     "name": "stdout",
     "output_type": "stream",
     "text": [
      "Field: relative_humidity (ncvar%UM_m01s16i204_vn405)\n",
      "----------------------------------------------------\n",
      "Data            : relative_humidity(air_pressure(17), grid_latitude(30), grid_longitude(24)) %\n",
      "Cell methods    : time(1): mean\n",
      "Dimension coords: time(1) = [1978-12-16 12:00:00] gregorian\n",
      "                : air_pressure(17) = [1000.0000610351562, ..., 10.0] hPa\n",
      "                : grid_latitude(30) = [7.480000078678131, ..., -5.279999852180481] degrees\n",
      "                : grid_longitude(24) = [-5.720003664493561, ..., 4.399996280670166] degrees\n",
      "Auxiliary coords: latitude(grid_latitude(30), grid_longitude(24)) = [[61.004354306111864, ..., 48.51422609871432]] degrees_north\n",
      "                : longitude(grid_latitude(30), grid_longitude(24)) = [[-13.762685427418687, ..., 4.622216504491947]] degrees_east\n",
      "Coord references: grid_mapping_name:rotated_latitude_longitude\n"
     ]
    }
   ],
   "source": [
    "field = cf.read(\"../ncas_data/aaaaoa.pmh8dec.pp\")[2]\n",
    "print(field)"
   ]
  },
  {
   "cell_type": "markdown",
   "id": "a019f77b-1824-44f8-a534-06445f1ec48f",
   "metadata": {},
   "source": [
    "In this case, see the numbers representing axes sizes on the 'Data' line: we have a 3D field where the axes sizes are 17 for air pressure, 30 for grid latitude and 24 for grid latitude. To reduce this to a 2D form, we need to take one of the non-zero axes and convert it to size 1. This can be done either by **subspacing** or by **statistically collapsing** it."
   ]
  },
  {
   "cell_type": "markdown",
   "id": "410ac6d4-cd8f-43ed-a3f5-eaf8d1d8755a",
   "metadata": {},
   "source": [
    "### a) Subspacing using metadata conditions"
   ]
  },
  {
   "cell_type": "markdown",
   "id": "8ed6a2a2-3b35-40b7-9275-eb339eeae23e",
   "metadata": {},
   "source": [
    "Use the `subspace` method to find a subspace of a field, the output of which is another field reduced down in the way specified by the method arguments:"
   ]
  },
  {
   "cell_type": "code",
   "execution_count": 3,
   "id": "d4b98910-09ef-4948-93c7-f85d112ce33b",
   "metadata": {},
   "outputs": [
    {
     "name": "stdout",
     "output_type": "stream",
     "text": [
      "Field: relative_humidity (ncvar%UM_m01s16i204_vn405)\n",
      "----------------------------------------------------\n",
      "Data            : relative_humidity(air_pressure(1), grid_latitude(30), grid_longitude(24)) %\n",
      "Cell methods    : time(1): mean\n",
      "Dimension coords: time(1) = [1978-12-16 12:00:00] gregorian\n",
      "                : air_pressure(1) = [1000.0000610351562] hPa\n",
      "                : grid_latitude(30) = [7.480000078678131, ..., -5.279999852180481] degrees\n",
      "                : grid_longitude(24) = [-5.720003664493561, ..., 4.399996280670166] degrees\n",
      "Auxiliary coords: latitude(grid_latitude(30), grid_longitude(24)) = [[61.004354306111864, ..., 48.51422609871432]] degrees_north\n",
      "                : longitude(grid_latitude(30), grid_longitude(24)) = [[-13.762685427418687, ..., 4.622216504491947]] degrees_east\n",
      "Coord references: grid_mapping_name:rotated_latitude_longitude\n"
     ]
    }
   ],
   "source": [
    "field_subspace_1 = field.subspace(air_pressure=1000.0000610351562)  # taking first value\n",
    "print(field_subspace_1)"
   ]
  },
  {
   "cell_type": "markdown",
   "id": "19ac33bb-384c-413b-965f-992ba0934a3f",
   "metadata": {},
   "source": [
    "Let's do the same but to subspace to reduce the data along a different axis, this time `grid_latitude`:"
   ]
  },
  {
   "cell_type": "code",
   "execution_count": 4,
   "id": "1e71740d-1e23-4295-adf3-15dcdae740e0",
   "metadata": {},
   "outputs": [
    {
     "name": "stdout",
     "output_type": "stream",
     "text": [
      "Field: relative_humidity (ncvar%UM_m01s16i204_vn405)\n",
      "----------------------------------------------------\n",
      "Data            : relative_humidity(air_pressure(17), grid_latitude(1), grid_longitude(24)) %\n",
      "Cell methods    : time(1): mean\n",
      "Dimension coords: time(1) = [1978-12-16 12:00:00] gregorian\n",
      "                : air_pressure(17) = [1000.0000610351562, ..., 10.0] hPa\n",
      "                : grid_latitude(1) = [-5.279999852180481] degrees\n",
      "                : grid_longitude(24) = [-5.720003664493561, ..., 4.399996280670166] degrees\n",
      "Auxiliary coords: latitude(grid_latitude(1), grid_longitude(24)) = [[48.37284440590812, ..., 48.51422609871432]] degrees_north\n",
      "                : longitude(grid_latitude(1), grid_longitude(24)) = [[-10.592221143094026, ..., 4.622216504491947]] degrees_east\n",
      "Coord references: grid_mapping_name:rotated_latitude_longitude\n"
     ]
    }
   ],
   "source": [
    "field_subspace_2 = field.subspace(grid_latitude=-5.279999852180481)  # taking the last value\n",
    "print(field_subspace_2)"
   ]
  },
  {
   "cell_type": "markdown",
   "id": "bb1db98b-27b3-4c8a-bf63-f67f83dd2bb8",
   "metadata": {},
   "source": [
    "### b) Subspacing using indexing, including equivalency to the above"
   ]
  },
  {
   "cell_type": "markdown",
   "id": "918b145a-0fb1-446a-a003-6e7bb75601d1",
   "metadata": {},
   "source": [
    "We can also use indexing to do a subspace. So, instead of picking out a given value from the printed information,\n",
    "we can use a specific Python index to pick it out.\n",
    "\n",
    "The `air_pressure` coordinate is listed as first in axes order, so you must specify the index at the first position of the three i.e. `[<index>, :, :]` where `:` means to not take a subspace and leave the whole axis as it was. For example, the following takes the first (position 0 in Python indexing) value of the `air_pressure`:"
   ]
  },
  {
   "cell_type": "code",
   "execution_count": 5,
   "id": "abdd7e85-9ae2-4d63-b69b-56a50ca7775b",
   "metadata": {},
   "outputs": [
    {
     "name": "stdout",
     "output_type": "stream",
     "text": [
      "Field: relative_humidity (ncvar%UM_m01s16i204_vn405)\n",
      "----------------------------------------------------\n",
      "Data            : relative_humidity(air_pressure(1), grid_latitude(30), grid_longitude(24)) %\n",
      "Cell methods    : time(1): mean\n",
      "Dimension coords: time(1) = [1978-12-16 12:00:00] gregorian\n",
      "                : air_pressure(1) = [1000.0000610351562] hPa\n",
      "                : grid_latitude(30) = [7.480000078678131, ..., -5.279999852180481] degrees\n",
      "                : grid_longitude(24) = [-5.720003664493561, ..., 4.399996280670166] degrees\n",
      "Auxiliary coords: latitude(grid_latitude(30), grid_longitude(24)) = [[61.004354306111864, ..., 48.51422609871432]] degrees_north\n",
      "                : longitude(grid_latitude(30), grid_longitude(24)) = [[-13.762685427418687, ..., 4.622216504491947]] degrees_east\n",
      "Coord references: grid_mapping_name:rotated_latitude_longitude\n"
     ]
    }
   ],
   "source": [
    "field_subspace_1_by_index = field[0, :, :]  # taking first value from first coordinate\n",
    "print(field_subspace_1_by_index)"
   ]
  },
  {
   "cell_type": "markdown",
   "id": "8571fdd2-4262-4979-8430-e3738327faa6",
   "metadata": {},
   "source": [
    "To prove that this is the same field as we got using the direct `subspace` method from the sub-section above, namely `field_subspace_1`, we can use the `equals` method, which states whether one field is identical to another:"
   ]
  },
  {
   "cell_type": "code",
   "execution_count": 6,
   "id": "37028743-07e5-454c-becb-bbb1f9e5c71f",
   "metadata": {},
   "outputs": [
    {
     "data": {
      "text/plain": [
       "True"
      ]
     },
     "execution_count": 6,
     "metadata": {},
     "output_type": "execute_result"
    }
   ],
   "source": [
    "field_subspace_1_by_index.equals(field_subspace_1)"
   ]
  },
  {
   "cell_type": "markdown",
   "id": "85f044f1-f4e6-4110-a50c-acd58838a3c3",
   "metadata": {},
   "source": [
    "Similarly, the `grid_latitude` coordinate is listed as second in axes order, so you must specify the index at the second position of the three i.e. `[:, <index>, :]`. Let's take the last (position -1 in Python indexing) value from this, like so:"
   ]
  },
  {
   "cell_type": "code",
   "execution_count": 7,
   "id": "d42f36cf-4772-4081-94d9-b03a571fdb00",
   "metadata": {},
   "outputs": [
    {
     "name": "stdout",
     "output_type": "stream",
     "text": [
      "Field: relative_humidity (ncvar%UM_m01s16i204_vn405)\n",
      "----------------------------------------------------\n",
      "Data            : relative_humidity(air_pressure(17), grid_latitude(1), grid_longitude(24)) %\n",
      "Cell methods    : time(1): mean\n",
      "Dimension coords: time(1) = [1978-12-16 12:00:00] gregorian\n",
      "                : air_pressure(17) = [1000.0000610351562, ..., 10.0] hPa\n",
      "                : grid_latitude(1) = [-5.279999852180481] degrees\n",
      "                : grid_longitude(24) = [-5.720003664493561, ..., 4.399996280670166] degrees\n",
      "Auxiliary coords: latitude(grid_latitude(1), grid_longitude(24)) = [[48.37284440590812, ..., 48.51422609871432]] degrees_north\n",
      "                : longitude(grid_latitude(1), grid_longitude(24)) = [[-10.592221143094026, ..., 4.622216504491947]] degrees_east\n",
      "Coord references: grid_mapping_name:rotated_latitude_longitude\n"
     ]
    }
   ],
   "source": [
    "field_subspace_2_by_index = field[:, -1, :]  # taking last value from second coordinate\n",
    "print(field_subspace_2_by_index)"
   ]
  },
  {
   "cell_type": "markdown",
   "id": "40204dfd-a51a-4597-876b-70a0127fdd09",
   "metadata": {},
   "source": [
    "Again, to prove that this is the same field as we got as using the direct `subspace` approach previously with `field_subspace_2`:"
   ]
  },
  {
   "cell_type": "code",
   "execution_count": 8,
   "id": "c30fcf5e-fc93-49bc-9ab1-41406fa76954",
   "metadata": {},
   "outputs": [
    {
     "data": {
      "text/plain": [
       "True"
      ]
     },
     "execution_count": 8,
     "metadata": {},
     "output_type": "execute_result"
    }
   ],
   "source": [
    "field_subspace_2_by_index.equals(field_subspace_2)"
   ]
  },
  {
   "cell_type": "markdown",
   "id": "1883b43f-521e-4653-ac36-1069e62fe25d",
   "metadata": {},
   "source": [
    "You can do multiple subspaces at once via either of the methods above, so for example you can combine the two separate subspaces into one call:"
   ]
  },
  {
   "cell_type": "code",
   "execution_count": 9,
   "id": "f44273de-e39b-406a-bdbc-02d6e23a1412",
   "metadata": {
    "scrolled": true
   },
   "outputs": [],
   "source": [
    "field_subspace_3 = field.subspace(air_pressure=1000.0000610351562, grid_latitude=-5.279999852180481)\n",
    "field_subspace_3_by_index = field[0, -1, :]"
   ]
  },
  {
   "cell_type": "markdown",
   "id": "36b7314b-cabf-4101-8cdc-3f2ec9c468ff",
   "metadata": {},
   "source": [
    "This results in (in both cases):"
   ]
  },
  {
   "cell_type": "code",
   "execution_count": 10,
   "id": "89485fca-8101-4e16-a0c4-13f4f7e38da9",
   "metadata": {},
   "outputs": [
    {
     "name": "stdout",
     "output_type": "stream",
     "text": [
      "Field: relative_humidity (ncvar%UM_m01s16i204_vn405)\n",
      "----------------------------------------------------\n",
      "Data            : relative_humidity(air_pressure(1), grid_latitude(1), grid_longitude(24)) %\n",
      "Cell methods    : time(1): mean\n",
      "Dimension coords: time(1) = [1978-12-16 12:00:00] gregorian\n",
      "                : air_pressure(1) = [1000.0000610351562] hPa\n",
      "                : grid_latitude(1) = [-5.279999852180481] degrees\n",
      "                : grid_longitude(24) = [-5.720003664493561, ..., 4.399996280670166] degrees\n",
      "Auxiliary coords: latitude(grid_latitude(1), grid_longitude(24)) = [[48.37284440590812, ..., 48.51422609871432]] degrees_north\n",
      "                : longitude(grid_latitude(1), grid_longitude(24)) = [[-10.592221143094026, ..., 4.622216504491947]] degrees_east\n",
      "Coord references: grid_mapping_name:rotated_latitude_longitude\n"
     ]
    }
   ],
   "source": [
    "field_subspace_3.equals(field_subspace_3_by_index)\n",
    "print(field_subspace_3)"
   ]
  },
  {
   "cell_type": "markdown",
   "id": "b870563e-6f45-46ca-9dad-6d8a5cb69ec5",
   "metadata": {},
   "source": [
    "### c) Statistical collapses"
   ]
  },
  {
   "cell_type": "markdown",
   "id": "502933e9-f4d9-42d9-bc40-a2b2ffa75958",
   "metadata": {},
   "source": [
    "Instead of extracting the data at a particular value from the `air_pressure` dimension coordinate, we might want to collapse the data down according to a representative statistic covering all of those values, such as an average or extrema value. We do this with the `collapse` method.\n",
    "\n",
    "Say we want to get the _mean_ of all of the air pressure values to reduce that coordinate from having the 17 values to just one mean representation, we would do this as follows:"
   ]
  },
  {
   "cell_type": "code",
   "execution_count": 11,
   "id": "f6745c82-b11d-4cca-a0f7-4dd825f446cb",
   "metadata": {},
   "outputs": [
    {
     "name": "stdout",
     "output_type": "stream",
     "text": [
      "Field: relative_humidity (ncvar%UM_m01s16i204_vn405)\n",
      "----------------------------------------------------\n",
      "Data            : relative_humidity(air_pressure(1), grid_latitude(30), grid_longitude(24)) %\n",
      "Cell methods    : time(1): mean air_pressure(1): mean\n",
      "Dimension coords: time(1) = [1978-12-16 12:00:00] gregorian\n",
      "                : air_pressure(1) = [505.0000305175781] hPa\n",
      "                : grid_latitude(30) = [7.480000078678131, ..., -5.279999852180481] degrees\n",
      "                : grid_longitude(24) = [-5.720003664493561, ..., 4.399996280670166] degrees\n",
      "Auxiliary coords: latitude(grid_latitude(30), grid_longitude(24)) = [[61.004354306111864, ..., 48.51422609871432]] degrees_north\n",
      "                : longitude(grid_latitude(30), grid_longitude(24)) = [[-13.762685427418687, ..., 4.622216504491947]] degrees_east\n",
      "Coord references: grid_mapping_name:rotated_latitude_longitude\n"
     ]
    }
   ],
   "source": [
    "field_collapse_1 = field.collapse(\"air_pressure: mean\")  # taking mean of the 17 values for air pressure\n",
    "print(field_collapse_1)"
   ]
  },
  {
   "cell_type": "markdown",
   "id": "32834e16-5922-4a3d-a466-630ae3791de0",
   "metadata": {},
   "source": [
    "Another example is taking the _minimum_ of all of the values across the grid latitudes:"
   ]
  },
  {
   "cell_type": "code",
   "execution_count": 12,
   "id": "1e650cc2-455b-462b-b078-ab8c99b0413e",
   "metadata": {},
   "outputs": [
    {
     "name": "stdout",
     "output_type": "stream",
     "text": [
      "Field: relative_humidity (ncvar%UM_m01s16i204_vn405)\n",
      "----------------------------------------------------\n",
      "Data            : relative_humidity(air_pressure(17), grid_latitude(1), grid_longitude(24)) %\n",
      "Cell methods    : time(1): mean grid_latitude(1): minimum\n",
      "Dimension coords: time(1) = [1978-12-16 12:00:00] gregorian\n",
      "                : air_pressure(17) = [1000.0000610351562, ..., 10.0] hPa\n",
      "                : grid_latitude(1) = [1.100000113248825] degrees\n",
      "                : grid_longitude(24) = [-5.720003664493561, ..., 4.399996280670166] degrees\n",
      "Coord references: grid_mapping_name:rotated_latitude_longitude\n"
     ]
    }
   ],
   "source": [
    "field_collapse_2 = field.collapse(\"grid_latitude: minimum\")  # taking minimum of the 30 values for the grid latitude\n",
    "print(field_collapse_2)"
   ]
  },
  {
   "cell_type": "markdown",
   "id": "60b3f3a1-3a17-4a6d-bdaa-a225e7feecb3",
   "metadata": {},
   "source": [
    "Equivalently, you can specify the axes via an `axes` argument when the coordinate to collapse along is one of `X`, `Y`, `Z` or `T`. So this `collapse` call will give the same result:"
   ]
  },
  {
   "cell_type": "code",
   "execution_count": 13,
   "id": "84caa2f2-1e13-493e-aeb8-5a3c7bd7c763",
   "metadata": {},
   "outputs": [
    {
     "name": "stdout",
     "output_type": "stream",
     "text": [
      "Field: relative_humidity (ncvar%UM_m01s16i204_vn405)\n",
      "----------------------------------------------------\n",
      "Data            : relative_humidity(air_pressure(17), grid_latitude(1), grid_longitude(24)) %\n",
      "Cell methods    : time(1): mean grid_latitude(1): minimum\n",
      "Dimension coords: time(1) = [1978-12-16 12:00:00] gregorian\n",
      "                : air_pressure(17) = [1000.0000610351562, ..., 10.0] hPa\n",
      "                : grid_latitude(1) = [1.100000113248825] degrees\n",
      "                : grid_longitude(24) = [-5.720003664493561, ..., 4.399996280670166] degrees\n",
      "Coord references: grid_mapping_name:rotated_latitude_longitude\n"
     ]
    }
   ],
   "source": [
    "field_collapse_3 = field.collapse(\"minimum\", axes=\"Y\")  # taking minimum of the 30 values for the grid latitude\n",
    "print(field_collapse_3)"
   ]
  },
  {
   "cell_type": "markdown",
   "id": "08377cd7-54d1-4de6-8a9f-82aff981fccf",
   "metadata": {},
   "source": [
    "Proving that this gives the same result as with the `\"grid_latitude: minimum\"` argument:"
   ]
  },
  {
   "cell_type": "code",
   "execution_count": 14,
   "id": "ff981201-b983-4f18-a230-3b9c7a2ebf07",
   "metadata": {},
   "outputs": [
    {
     "data": {
      "text/plain": [
       "True"
      ]
     },
     "execution_count": 14,
     "metadata": {},
     "output_type": "execute_result"
    }
   ],
   "source": [
    "field_collapse_3.equals(field_collapse_2)"
   ]
  },
  {
   "cell_type": "markdown",
   "id": "8bcb9631-0732-43dd-9fe4-23f891f0d10c",
   "metadata": {},
   "source": [
    "***"
   ]
  }
 ],
 "metadata": {
  "kernelspec": {
   "display_name": "Python 3 (ipykernel)",
   "language": "python",
   "name": "python3"
  },
  "language_info": {
   "codemirror_mode": {
    "name": "ipython",
    "version": 3
   },
   "file_extension": ".py",
   "mimetype": "text/x-python",
   "name": "python",
   "nbconvert_exporter": "python",
   "pygments_lexer": "ipython3",
   "version": "3.12.0"
  }
 },
 "nbformat": 4,
 "nbformat_minor": 5
}
