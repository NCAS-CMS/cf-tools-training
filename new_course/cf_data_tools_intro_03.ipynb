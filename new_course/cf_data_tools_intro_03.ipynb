{
 "cells": [
  {
   "cell_type": "markdown",
   "id": "0cd6019e-c5b3-4dc6-bf86-6fcf10b06851",
   "metadata": {},
   "source": [
    "# Introduction to the NCAS CF Data Tools, cf-python and cf-plot"
   ]
  },
  {
   "cell_type": "markdown",
   "id": "1c3beb87-7b0d-44ad-9da3-fa32494b795c",
   "metadata": {},
   "source": [
    "***"
   ]
  },
  {
   "cell_type": "markdown",
   "id": "196e9e0a-83d1-464c-b53c-a6fc2e0c19ff",
   "metadata": {},
   "source": [
    "## Setting up\n",
    "\n",
    "**In this section we set up this Notebook, import the libraries and check the data we will work with, ready to use the libraries within this notebook.**"
   ]
  },
  {
   "cell_type": "markdown",
   "id": "6cfa3e24-6400-4de0-b155-aab85f701441",
   "metadata": {},
   "source": [
    "Run some set up for nice outputs in this Jupyter Notebook (not required in interactive Python or a script):"
   ]
  },
  {
   "cell_type": "code",
   "execution_count": null,
   "id": "aadf1e3e-382f-47c5-aeee-b52f3cd2868d",
   "metadata": {},
   "outputs": [],
   "source": [
    "%matplotlib inline\n",
    "\n",
    "import warnings\n",
    "warnings.filterwarnings(\"ignore\")"
   ]
  },
  {
   "cell_type": "markdown",
   "id": "d073760a-6734-4a1d-9832-a70a8e0dd089",
   "metadata": {},
   "source": [
    "Import cf-python and cf-plot:"
   ]
  },
  {
   "cell_type": "code",
   "execution_count": null,
   "id": "b4b0c984-1adc-4515-b192-19da265e1f9a",
   "metadata": {},
   "outputs": [],
   "source": [
    "import cfplot as cfp\n",
    "import cf"
   ]
  },
  {
   "cell_type": "markdown",
   "id": "7b00d47b-4497-4540-b1bd-6fa8fa8e3226",
   "metadata": {},
   "source": [
    "Inspect the versions of cf-python and cf-plot and the version of the CF Conventions those are matched to:"
   ]
  },
  {
   "cell_type": "code",
   "execution_count": null,
   "id": "ea75b1b6-ba78-428d-b9b2-ca29a8cf6f0d",
   "metadata": {},
   "outputs": [],
   "source": [
    "print(\"cf-python version is:\", cf.__version__)\n",
    "print(\"cf-plot version is:\", cfp.__version__)\n",
    "print(\"CF Conventions version is:\", cf.CF())"
   ]
  },
  {
   "cell_type": "markdown",
   "id": "628af6cc-24f1-4e85-bf8b-654268e72bd3",
   "metadata": {},
   "source": [
    "<div class=\"alert alert-block alert-info\">\n",
    "<i>Note:</i> you can work with data compliant by any other version of the CF Conventions, or without (much) compliance, but the CF Conventions version gives the maximum version that these versions of the tools understand the features of.\n",
    "</div>"
   ]
  },
  {
   "cell_type": "markdown",
   "id": "8135f5c6-3d3e-45b6-a84a-3dcea754372f",
   "metadata": {},
   "source": [
    "Finally, see what datasets we have to explore:"
   ]
  },
  {
   "cell_type": "markdown",
   "id": "cfab63fe-088d-4ca8-ab95-40f61f0c2fd3",
   "metadata": {},
   "source": [
    "<div class=\"alert alert-block alert-info\">\n",
    "<i>Note:</i> in a Jupyter Notebook, '!' preceeeds a shell command, so this is a terminal command and not Python\n",
    "</div>"
   ]
  },
  {
   "cell_type": "code",
   "execution_count": null,
   "id": "a45afce7-abd8-4edd-b14c-eb033566bd52",
   "metadata": {
    "scrolled": true
   },
   "outputs": [],
   "source": [
    "!ls ../ncas_data"
   ]
  },
  {
   "cell_type": "markdown",
   "id": "e7640cdb-0d6f-4933-86d7-e86e7b9acbe4",
   "metadata": {},
   "source": [
    "***"
   ]
  },
  {
   "cell_type": "markdown",
   "id": "4ccfd6a0-567d-43f3-9f06-15bb21afae6a",
   "metadata": {},
   "source": [
    "## 3. Reducing datasets by subspacing and collapsing\n",
    "\n",
    "**In this section we show how multi-dimensional data can be tamed using cf-python so that you can get a reduced form that can be analysed or plotted, by reducing the dimensions by selecting a subset of point(s) along the axes or collapsing down according to some statistic such as the mean or an extrema.**"
   ]
  },
  {
   "cell_type": "markdown",
   "id": "d6899662-eaaa-480c-8f0a-4a6f069292a8",
   "metadata": {},
   "source": [
    "Often datasets represent highly multi-dimensional data, for example 4D or higher. Usually we want to find a either a sub-space, or a statistical representation (such as an average or extrema), of the full data array in less dimensions, such as in 3D or 2D or even in the form of a 1D time series or 0D statistic.\n",
    "\n",
    "We'll demonstrate this with another dataset and field selected from it. This serves as a reminder on concepts from the first section of the Notebook:"
   ]
  },
  {
   "cell_type": "markdown",
   "id": "e635599e-aa0b-4f48-a49e-28ec8aab9ef7",
   "metadata": {},
   "source": [
    "<div class=\"alert alert-block alert-info\">\n",
    "<i>Note:</i> here we are reading in a file in the 'PP' format, which is a file format originating from the Met Office that can often be encountered in geoscience, like netCDF, hence the file extension '.pp'. You can read and process PP files using cf-python exactly the same way you do for netCDF files, so you do not need to concern yourself with the difference in file format in your code.\n",
    "</div>"
   ]
  },
  {
   "cell_type": "code",
   "execution_count": null,
   "id": "57d21990-e813-41c5-b686-9c90deba307e",
   "metadata": {},
   "outputs": [],
   "source": [
    "field2 = cf.read(\"../ncas_data/aaaaoa.pmh8dec.pp\")[2]\n",
    "print(field2)"
   ]
  },
  {
   "cell_type": "markdown",
   "id": "a019f77b-1824-44f8-a534-06445f1ec48f",
   "metadata": {},
   "source": [
    "In this case, see the numbers representing axes sizes on the 'Data' line: we have a 3D field where the axes sizes are 17 for air pressure, 30 for grid latitude and 24 for grid latitude. To reduce this to a 2D form, we need to take one of the non-zero axes and convert it to size 1. This can be done either by **subspacing** or by **statistically collapsing** it."
   ]
  },
  {
   "cell_type": "markdown",
   "id": "410ac6d4-cd8f-43ed-a3f5-eaf8d1d8755a",
   "metadata": {},
   "source": [
    "### a) Subspacing using metadata conditions"
   ]
  },
  {
   "cell_type": "markdown",
   "id": "8ed6a2a2-3b35-40b7-9275-eb339eeae23e",
   "metadata": {},
   "source": [
    "Use the `subspace` method to find a subspace of a field, the output of which is another field reduced down in the way specified by the method arguments:"
   ]
  },
  {
   "cell_type": "code",
   "execution_count": null,
   "id": "d4b98910-09ef-4948-93c7-f85d112ce33b",
   "metadata": {},
   "outputs": [],
   "source": [
    "field2_subspace1 = field2.subspace(air_pressure=1000.0000610351562)  # taking first value\n",
    "print(field2_subspace1)"
   ]
  },
  {
   "cell_type": "markdown",
   "id": "19ac33bb-384c-413b-965f-992ba0934a3f",
   "metadata": {},
   "source": [
    "Let's do the same but to subspace to reduce the data along a different axis, this time `grid_latitude`:"
   ]
  },
  {
   "cell_type": "code",
   "execution_count": null,
   "id": "1e71740d-1e23-4295-adf3-15dcdae740e0",
   "metadata": {},
   "outputs": [],
   "source": [
    "field2_subspace2 = field2.subspace(grid_latitude=-5.279999852180481)  # taking the last value\n",
    "print(field2_subspace2)"
   ]
  },
  {
   "cell_type": "markdown",
   "id": "bb1db98b-27b3-4c8a-bf63-f67f83dd2bb8",
   "metadata": {},
   "source": [
    "### b) Subspacing using indexing, including equivalency to the above"
   ]
  },
  {
   "cell_type": "markdown",
   "id": "918b145a-0fb1-446a-a003-6e7bb75601d1",
   "metadata": {},
   "source": [
    "We can also use indexing to do a subspace. So, instead of picking out a given value from the printed information,\n",
    "we can use a specific Python index to pick it out.\n",
    "\n",
    "The `air_pressure` coordinate is listed as first in axes order, so you must specify the index at the first position of the three i.e. `[<index>, :, :]` where `:` means to not take a subspace and leave the whole axis as it was. For example, the following takes the first (position 0 in Python indexing) value of the `air_pressure`:"
   ]
  },
  {
   "cell_type": "code",
   "execution_count": null,
   "id": "abdd7e85-9ae2-4d63-b69b-56a50ca7775b",
   "metadata": {},
   "outputs": [],
   "source": [
    "field2_subspace1_by_index = field2[0, :, :]  # taking first value from first coordinate\n",
    "print(field2_subspace1_by_index)"
   ]
  },
  {
   "cell_type": "markdown",
   "id": "8571fdd2-4262-4979-8430-e3738327faa6",
   "metadata": {},
   "source": [
    "To prove that this is the same field as we got using the direct `subspace` method from the sub-section above, namely `h.subspace(air_pressure=1000.0000610351562)`, we can use the `equals` method, which states whether one field is identical to another:"
   ]
  },
  {
   "cell_type": "code",
   "execution_count": null,
   "id": "37028743-07e5-454c-becb-bbb1f9e5c71f",
   "metadata": {},
   "outputs": [],
   "source": [
    "field2_subspace1_by_index.equals(field2_subspace1)"
   ]
  },
  {
   "cell_type": "markdown",
   "id": "85f044f1-f4e6-4110-a50c-acd58838a3c3",
   "metadata": {},
   "source": [
    "Similarly, the `grid_latitude` coordinate is listed as second in axes order, so you must specify the index at the second position of the three i.e. `[:, <index>, :]`. Let's take the last (position -1 in Python indexing) value from this, like so:"
   ]
  },
  {
   "cell_type": "code",
   "execution_count": null,
   "id": "d42f36cf-4772-4081-94d9-b03a571fdb00",
   "metadata": {},
   "outputs": [],
   "source": [
    "field2_subspace2_by_index = field2[:, -1, :]  # taking last value from second coordinate\n",
    "print(field2_subspace2_by_index)"
   ]
  },
  {
   "cell_type": "markdown",
   "id": "40204dfd-a51a-4597-876b-70a0127fdd09",
   "metadata": {},
   "source": [
    "Again, to prove that this is the same field as we got as using the direct `subspace` approach previously with `h.subspace(grid_latitude=-5.279999852180481)`:"
   ]
  },
  {
   "cell_type": "code",
   "execution_count": null,
   "id": "c30fcf5e-fc93-49bc-9ab1-41406fa76954",
   "metadata": {},
   "outputs": [],
   "source": [
    "field2_subspace2_by_index.equals(field2_subspace2)"
   ]
  },
  {
   "cell_type": "markdown",
   "id": "1883b43f-521e-4653-ac36-1069e62fe25d",
   "metadata": {},
   "source": [
    "You can do multiple subspaces at once via either of the methods above, so for example you can combine the two separate subspaces into one call:"
   ]
  },
  {
   "cell_type": "code",
   "execution_count": null,
   "id": "f44273de-e39b-406a-bdbc-02d6e23a1412",
   "metadata": {
    "scrolled": true
   },
   "outputs": [],
   "source": [
    "field2_subspace3 = field2.subspace(air_pressure=1000.0000610351562, grid_latitude=-5.279999852180481)\n",
    "field2_subspace3_by_index = field2[0, -1, :]"
   ]
  },
  {
   "cell_type": "markdown",
   "id": "36b7314b-cabf-4101-8cdc-3f2ec9c468ff",
   "metadata": {},
   "source": [
    "This results in (in both cases):"
   ]
  },
  {
   "cell_type": "code",
   "execution_count": null,
   "id": "89485fca-8101-4e16-a0c4-13f4f7e38da9",
   "metadata": {},
   "outputs": [],
   "source": [
    "field2_subspace3.equals(field2_subspace3_by_index)\n",
    "print(field2_subspace3)"
   ]
  },
  {
   "cell_type": "markdown",
   "id": "b870563e-6f45-46ca-9dad-6d8a5cb69ec5",
   "metadata": {},
   "source": [
    "### c) Statistical collapses"
   ]
  },
  {
   "cell_type": "markdown",
   "id": "502933e9-f4d9-42d9-bc40-a2b2ffa75958",
   "metadata": {},
   "source": [
    "Instead of extracting the data at a particular value from the `air_pressure` dimension coordinate, we might want to collapse the data down according to a representative statistic covering all of those values, such as an average or extrema value. We do this with the `collapse` method.\n",
    "\n",
    "Say we want to get the _mean_ of all of the air pressure values to reduce that coordinate from having the 17 values to just one mean representation, we would do this as follows:"
   ]
  },
  {
   "cell_type": "code",
   "execution_count": null,
   "id": "f6745c82-b11d-4cca-a0f7-4dd825f446cb",
   "metadata": {},
   "outputs": [],
   "source": [
    "field2_collapse1 = field2.collapse(\"air_pressure: mean\")  # taking mean of the 17 values for air pressure\n",
    "print(field2_collapse1)"
   ]
  },
  {
   "cell_type": "markdown",
   "id": "32834e16-5922-4a3d-a466-630ae3791de0",
   "metadata": {},
   "source": [
    "Another example is taking the _minimum_ of all of the values across the grid latitudes:"
   ]
  },
  {
   "cell_type": "code",
   "execution_count": null,
   "id": "1e650cc2-455b-462b-b078-ab8c99b0413e",
   "metadata": {},
   "outputs": [],
   "source": [
    "field2_collapse2 = field2.collapse(\"grid_latitude: minimum\")  # taking minimum of the 30 values for the grid latitude\n",
    "print(field2_collapse2)"
   ]
  },
  {
   "cell_type": "markdown",
   "id": "60b3f3a1-3a17-4a6d-bdaa-a225e7feecb3",
   "metadata": {},
   "source": [
    "Equivalently, you can specify the axes via an `axes` argument when the coordinate to collapse along is one of `X`, `Y`, `Z` or `T`. So this `collapse` call will give the same result:"
   ]
  },
  {
   "cell_type": "code",
   "execution_count": null,
   "id": "84caa2f2-1e13-493e-aeb8-5a3c7bd7c763",
   "metadata": {},
   "outputs": [],
   "source": [
    "field2_collapse3 = field2.collapse(\"minimum\", axes=\"Y\")  # taking minimum of the 30 values for the grid latitude\n",
    "print(field2_collapse3)"
   ]
  },
  {
   "cell_type": "markdown",
   "id": "08377cd7-54d1-4de6-8a9f-82aff981fccf",
   "metadata": {},
   "source": [
    "Proving that this gives the same result as with the `\"grid_latitude: minimum\"` argument:"
   ]
  },
  {
   "cell_type": "code",
   "execution_count": null,
   "id": "ff981201-b983-4f18-a230-3b9c7a2ebf07",
   "metadata": {},
   "outputs": [],
   "source": [
    "field2_collapse3.equals(field2_collapse2)"
   ]
  },
  {
   "cell_type": "markdown",
   "id": "8bcb9631-0732-43dd-9fe4-23f891f0d10c",
   "metadata": {},
   "source": [
    "***"
   ]
  },
  {
   "cell_type": "markdown",
   "id": "e2e0cfb4-8203-48d7-8029-7bfda9ce5be9",
   "metadata": {},
   "source": [
    "## Where to find more information and resources on the NCAS CF Data Tools\n",
    "\n",
    "Here are some links relating to the NCAS CF Data Tools and this training.\n",
    "\n",
    "* This training, with further material, is hosted online and there are instructions for setting up the environment so you can work through it in your own time: https://github.com/NCAS-CMS/cf-tools-training.\n",
    "* The cf-python documentation lives at https://ncas-cms.github.io/cf-python/.\n",
    "* The cf-python code lives on GitHub at https://github.com/NCAS-CMS/cf-python. There is an Issue Tracker to report queries or questions at https://github.com/NCAS-CMS/cf-python/issues.\n",
    "* The cf-plot documentation lives at https://ncas-cms.github.io/cf-plot/build/.\n",
    "* The cf-plot code lives on GitHub at https://github.com/NCAS-CMS/cf-plot. There is an Issue Tracker to report queries or questions at https://github.com/NCAS-CMS/cf-plot/issues.\n",
    "* There is a technical presentation about the NCAS CF Data Tools avaialble from https://hps.vi4io.org/_media/events/2020/summer-school-cfnetcdf.pdf.\n",
    "* The website of the CF Conventions can be found at https://cfconventions.org/.\n",
    "* The landing page for training into the CF Conventions is found here within the website above: https://cfconventions.org/Training/.\n",
    "\n",
    "If you have any queries after this course, please either use the Issue Trackers linked above or you can email me at: sadie.bartholomew@ncas.ac.uk."
   ]
  },
  {
   "cell_type": "markdown",
   "id": "08fa89e2-6c21-4118-9cf9-21958bdfa00e",
   "metadata": {},
   "source": [
    "***"
   ]
  }
 ],
 "metadata": {
  "kernelspec": {
   "display_name": "Python 3 (ipykernel)",
   "language": "python",
   "name": "python3"
  },
  "language_info": {
   "codemirror_mode": {
    "name": "ipython",
    "version": 3
   },
   "file_extension": ".py",
   "mimetype": "text/x-python",
   "name": "python",
   "nbconvert_exporter": "python",
   "pygments_lexer": "ipython3",
   "version": "3.12.0"
  }
 },
 "nbformat": 4,
 "nbformat_minor": 5
}
