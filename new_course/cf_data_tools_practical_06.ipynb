{
 "cells": [
  {
   "cell_type": "markdown",
   "id": "0cd6019e-c5b3-4dc6-bf86-6fcf10b06851",
   "metadata": {},
   "source": [
    "# P6. Changing the underlying grid of data through regridding\n",
    "## Practical Notebook 6 (of 6) for *Intro to the NCAS CF Data Tools, cf-python and cf-plot*\n",
    "\n",
    "**In this section we demonstrate how to change the underlying grid of the data to another grid which could be a higher- or lower- resolution one, or a completely different grid, which is called regridding or interpolation, and indicate various options cf-python supports for doing this.**"
   ]
  },
  {
   "cell_type": "markdown",
   "id": "1c3beb87-7b0d-44ad-9da3-fa32494b795c",
   "metadata": {},
   "source": [
    "***"
   ]
  },
  {
   "cell_type": "markdown",
   "id": "df666543-52ee-402a-8fa4-cb4d8389f3a8",
   "metadata": {},
   "source": [
    "<div class=\"alert alert-block alert-success\">\n",
    "<i>Practical instructions:</i> run the cell in this section to do the set up, which is not part of the practical proper.\n",
    "</div>"
   ]
  },
  {
   "cell_type": "markdown",
   "id": "03df0d59-d1dd-484c-a15c-91384c60d93e",
   "metadata": {},
   "source": [
    "## Setting up\n",
    "\n",
    "**In this short prelude we set up this Notebook, import the libraries and check the data we will work with, ready to use the libraries and the data (exactly as per the first Notebook setup but in one cell only for quick execution).**"
   ]
  },
  {
   "cell_type": "code",
   "execution_count": 1,
   "id": "cf9ee26a-d840-42ec-8ce7-e6dc030c4a21",
   "metadata": {},
   "outputs": [
    {
     "name": "stdout",
     "output_type": "stream",
     "text": [
      "--- Version report: ---\n",
      "cf-python version is: 3.18.1\n",
      "cf-plot version is: 3.4.0\n",
      "CF Conventions version is: 1.12\n",
      "--- Datasets available from the path '../ncas_data': ---\n",
      "160by320griddata.nc\t\t\t   precip_2010.nc\n",
      "aaaaoa.pmh8dec.pp\t\t\t   precip_DJF_means.nc\n",
      "alpine_precip_DJF_means.nc\t\t   qbo.nc\n",
      "data1.nc\t\t\t\t   regions.nc\n",
      "data1-updated.nc\t\t\t   rgp.nc\n",
      "data2.nc\t\t\t\t   sea_currents_backup.nc\n",
      "data3.nc\t\t\t\t   sea_currents.nc\n",
      "data5.nc\t\t\t\t   ta.nc\n",
      "ggas2014121200_00-18.nc\t\t\t   tripolar.nc\n",
      "IPSL-CM5A-LR_r1i1p1_tas_n96_rcp45_mnth.nc  two_fields.nc\n",
      "land.nc\t\t\t\t\t   ua.nc\n",
      "model_precip_DJF_means_low_res.nc\t   u_n216.nc\n",
      "model_precip_DJF_means.nc\t\t   u_n96.nc\n",
      "n2o_emissions.nc\t\t\t   vaAMIPlcd_DJF.nc\n",
      "POLCOMS_WAM_ZUV_01_16012006.nc\t\t   va.nc\n",
      "precip_1D_monthly.nc\t\t\t   wapAMIPlcd_DJF.nc\n",
      "precip_1D_yearly.nc\n"
     ]
    }
   ],
   "source": [
    "# Set up for inline plots - only needed inside a Notebook environment - and to ignore some repeating warnings\n",
    "%matplotlib inline\n",
    "\n",
    "import warnings\n",
    "warnings.filterwarnings(\"ignore\")\n",
    "\n",
    "# Import the two CF Data Tools libraries and inspect the versions\n",
    "import cfplot as cfp\n",
    "import cf\n",
    "print(\"--- Version report: ---\")\n",
    "print(\"cf-python version is:\", cf.__version__)\n",
    "print(\"cf-plot version is:\", cfp.__version__)\n",
    "print(\"CF Conventions version is:\", cf.CF())\n",
    "\n",
    "# See what datasets we have to explore within the data directory we use throughout this course\n",
    "print(\"--- Datasets available from the path '../ncas_data': ---\")\n",
    "# Note that in a Jupyter Notebook, '!' precedes a shell command - so this is a command, not Python\n",
    "!ls ../ncas_data"
   ]
  },
  {
   "cell_type": "markdown",
   "id": "e7640cdb-0d6f-4933-86d7-e86e7b9acbe4",
   "metadata": {},
   "source": [
    "***"
   ]
  },
  {
   "cell_type": "markdown",
   "id": "ef80e6de-8e62-468b-93c8-b41ac768375a",
   "metadata": {},
   "source": [
    "<div class=\"alert alert-block alert-success\">\n",
    "<i>Practical instructions:</i> now we can start the practical. We will follow the same sectioning as in the teaching notebook, so please consult the notes there in the matching section for guidance and you can also consult the cf-python and cf-plot documentation linked above.\n",
    "</div>"
   ]
  },
  {
   "cell_type": "markdown",
   "id": "2e4c72ef-8631-4749-b4fd-6c79c8d6e455",
   "metadata": {},
   "source": [
    "## 6. Changing the underlying grid of data through regridding"
   ]
  },
  {
   "cell_type": "markdown",
   "id": "854d7fd4-6d65-4827-b77c-4a89d42da6b0",
   "metadata": {},
   "source": [
    "### a) Getting a _source_ field ready to regrid"
   ]
  },
  {
   "cell_type": "markdown",
   "id": "65ee428b-cf95-423c-b92e-4cd644b7df41",
   "metadata": {},
   "source": [
    "**6.a.1)** Define a new variable 'yearly_field' set to the first field in the FieldList read-in from the netCDF dataset `precip_1D_yearly.nc` which lives in the usual directory, `../ncas_data`. Inspect it with medium level of detail."
   ]
  },
  {
   "cell_type": "code",
   "execution_count": null,
   "id": "a6ec5550-61a1-47ff-99f1-339f6dff0fa9",
   "metadata": {},
   "outputs": [],
   "source": []
  },
  {
   "cell_type": "markdown",
   "id": "7955e4b0-a23e-4398-9c09-48375a37e2e2",
   "metadata": {},
   "source": [
    "**6.a.2)** This will be our source field for regridding. Note it is a time series, not a dataset defined across different points in space! We can regrid data on any axis or axes, they do not have to represent spatial coordinates, including 1D series. In this case, we have an effectively 1D (3D but with two of the axes size one, hence of size which can be ignored) time series and we are going to regrid it. For a time series, visually this\n",
    "\n",
    "Make a line plot of the time series in `yearly_field` to see it. Add the argument `marker=\"o\"` to the call which plots markers against the individual data points forming the line. With the markers on we can see the discrete sample points that make up the data represented by the continuous line."
   ]
  },
  {
   "cell_type": "code",
   "execution_count": null,
   "id": "17a5908e-ea5a-4b8b-bbf2-980f7bcf0796",
   "metadata": {},
   "outputs": [],
   "source": []
  },
  {
   "cell_type": "markdown",
   "id": "628e91df-76f0-485e-8288-19ee932a7fb6",
   "metadata": {},
   "source": [
    "### b) Getting the _destination_ field: another field in order to regrid the previous _onto its grid_"
   ]
  },
  {
   "cell_type": "markdown",
   "id": "ff212883-d45d-4b3a-8d60-5f8816c9acce",
   "metadata": {},
   "source": [
    "**6.b.1)** Let's get another time series field, but one with a different sampling resolution. The sampling of time points across the axes is the *grid* in this context. For our destination field, we will take a series which is sampled at higher resolution.\n",
    "\n",
    "Define a new variable 'monthly_field' set to the first field in the FieldList read-in from the netCDF dataset `precip_1D_monthly.nc` which lives in the usual directory, `../ncas_data`. Inspect it with medium level of detail."
   ]
  },
  {
   "cell_type": "code",
   "execution_count": null,
   "id": "7f1f0704-f409-4ae5-b6d1-acadd22790d1",
   "metadata": {},
   "outputs": [],
   "source": []
  },
  {
   "cell_type": "markdown",
   "id": "d9f9d588-5bf4-4911-ba4e-e8e2ece77809",
   "metadata": {},
   "source": [
    "**6.b.2)** As the name of the corresponding read-in files suggests, this `dest_field` represents monthly data and the `source_field` represents yearly data, so `dest_field` is around 12 times the resolution of the `source_field`.\n",
    "\n",
    "Make a line plot of the `dest_field` showing the markers for the discrete data points. Compare this line plot to the one above with respect to the time axis (on the x-axis) to confirm the difference in sampling frequencies of around x12. Note we don't care about the values of the data at each point and whether it is different to the data of the source grid we are considering! All we want to extract from this destination field time series is the time point sampling, our destination grid. (Likewise, in the teaching Notebook where we did horizontal spatial grid regridding, the data defined on the destination grid `lower_res_field` did not matter, just the grid points it was defined on.)"
   ]
  },
  {
   "cell_type": "code",
   "execution_count": null,
   "id": "a414b073-0c90-498e-bd71-62bdbc3cc69d",
   "metadata": {},
   "outputs": [],
   "source": []
  },
  {
   "cell_type": "markdown",
   "id": "dde6c34c-37a9-48c9-8e02-a70913411d7a",
   "metadata": {},
   "source": [
    "### c) Performing the regrid operation from the source to the destination fields"
   ]
  },
  {
   "cell_type": "markdown",
   "id": "6ce49aba-e16f-4278-ac9f-4fa3e8d4c8c5",
   "metadata": {},
   "source": [
    "**6.c.1)** Before we do the regridding operation, let's demonstrate briefly how to remove any size one axes from a field. Note this is not necessary in order to do the regridding, but it can 'tidy up' the fields so they don't have size one axes attached, which can be useful in cases like this because it means the axes are both 1D so it is simpler to interpret the regridding we are doing. To remove the size one axes of a field, apply the `squeeze()` method: you can either re-assign the field with `squeeze()` applied to the same variable name, or use the `inplace=True` argument to the method which changes the field in-place i.e. to the variable storing it without the need to re-assign.\n",
    "\n",
    "Apply the `squeeze` method to the `monthly_field` and the `yearly_field` and inspect the results of each with medium level of detail."
   ]
  },
  {
   "cell_type": "code",
   "execution_count": null,
   "id": "c7d637a8-bdb9-43ad-9e05-0e2abcb58fb9",
   "metadata": {},
   "outputs": [],
   "source": []
  },
  {
   "cell_type": "markdown",
   "id": "bc533850-f32c-4441-9a4f-f14c3206db14",
   "metadata": {},
   "source": [
    "**6.c.2)** Now to do the actual regridding operation! (You could call all the field methods such as reading, indexing and squeezing in the same line as the actual regrid operation, but doing so would be harder to interpret and to debug in case something wasn't speciied correctly, or some other issue, so we have worked these out step-by-step as better practice.)\n",
    "\n",
    "In the teaching Notebook we used the `regrids` method which performs *spherical* regridding (`s` for spherical) because longitude and latitude are defined on the Earth's surface which forms a spherical coordinate system (you can read more about spherical regridding if desired here: https://ncas-cms.github.io/cf-python/tutorial.html#spherical-regridding).\n",
    "\n",
    "But that is not appropriate here because we aren't considering coordinates defined on a spherical surface, so we need to use *Cartesian* regridding. We use the `regridc` method of cf-python to do this, where the `c` in the name stands for the 'C' of Cartesian, which is the appropriate type here and in general you should use when considering any axes in Euclidean (ie. flat/non-curved) space (you can read more about Cartesian regridding if desired here: https://ncas-cms.github.io/cf-python/tutorial.html#cartesian-regridding).\n",
    "\n",
    "With that in mind, take the source and destinations fields we set up in the previous sub-sections and apply the cf-python Cartesian regridding operation to regrid `yearly_field` to the grid (i.e. the sampling resolution in this 1D case) of `monthly_field`, assigning the output to a new variable `linear_regridded_field`. Use the `\"linear\"` argument to `method` to use linear interpolation as the regridding method, this time. You will need to set a further argument for Cartesian regridding, namely `axes=\"T\"` to indicate that we want to regrid over the 'time'/'T' axis."
   ]
  },
  {
   "cell_type": "code",
   "execution_count": null,
   "id": "d428cede-8d0f-4c5e-b921-4ab7eb30d6f1",
   "metadata": {},
   "outputs": [],
   "source": []
  },
  {
   "cell_type": "markdown",
   "id": "01084a42-6564-40cc-9b96-0a945e03715c",
   "metadata": {},
   "source": [
    "**6.c.3)** Make a line plot of `linear_regridded_field`, including the argument `marker=\"o\"` so that we can see the discrete points the line is based upon."
   ]
  },
  {
   "cell_type": "code",
   "execution_count": null,
   "id": "20e4025c-fe01-4ab4-b92f-74806a30d486",
   "metadata": {},
   "outputs": [],
   "source": []
  },
  {
   "cell_type": "markdown",
   "id": "7071b0f4-c833-4fe4-a279-55c773979c75",
   "metadata": {},
   "source": [
    "**6.c.4)** This time, regrid the inverse way to before, so that our `yearly_field` this time is our destination field and our `monthly_field` is our source field. Again, use `regridc` with the `\"linear\"` argument to `method` to use linear interpolation as the regridding method, and set `axes=\"T\"` to indicate that we want to regrid over the 'time'/'T' axis.\n",
    "\n",
    "Call this `inverse_linear_regridded_field`. Inspect it with medium detail level and make a line plot of it showing markers."
   ]
  },
  {
   "cell_type": "code",
   "execution_count": null,
   "id": "32cabd25-e5c6-48ae-858e-9495751f70e0",
   "metadata": {},
   "outputs": [],
   "source": []
  },
  {
   "cell_type": "markdown",
   "id": "c3aaa456-411f-437d-92eb-aba7800113d1",
   "metadata": {},
   "source": [
    "**6.c.5)** Regrid the reverse way to before, like in (6.c.4), but this time use the `\"nearest_stod\"` method of `regridc` which stands for 'nearest neighbour source to destination' interpolation. This will do the same regridding but using a different approach to the underlying calculation based upon mapping each destination point to the closest source point.\n",
    "\n",
    "Call this `inverse_nearest_stod_regridded_field`. Inspect it with medium detail level and make a line plot of it showing markers."
   ]
  },
  {
   "cell_type": "code",
   "execution_count": null,
   "id": "f5e67ce3-f7eb-47bf-8c85-f1f9da6f4883",
   "metadata": {},
   "outputs": [],
   "source": []
  },
  {
   "cell_type": "markdown",
   "id": "1286c96e-02f2-406e-a70d-914ae00389b5",
   "metadata": {},
   "source": [
    "### d) Finally, some more advanced cf-plot plotting to compare the source, destination, and regridded results"
   ]
  },
  {
   "cell_type": "markdown",
   "id": "e2196667-b7dd-4548-89e0-5194aa6170a5",
   "metadata": {},
   "source": [
    "**6.d.1)** Use cf-plot to make a plot with *two separate line plots* on one canvas (in either separate rows or columns, your choice), one of the first original field `yearly_field` and the linearly-regridded version of it, `linear_regridded_field`, so we can compare the original (un-regridded) and regridded result.\n",
    "\n",
    "Use the code block from the teaching Notebook section (6b) as a guide, or otherwise: you will need to wrap all of the calls to `lineplot` within `cfp.gopen()` and `cfp.gclose()` so they are plotted on the same canvas and call `cfp.gpos(N)` with an integer starting at `N=1` to tell cf-plot to move on to the next position in the plot before making a `lineplot` call."
   ]
  },
  {
   "cell_type": "code",
   "execution_count": null,
   "id": "910689b2-26d4-4973-bb4e-97cf1cfeb10a",
   "metadata": {},
   "outputs": [],
   "source": []
  },
  {
   "cell_type": "markdown",
   "id": "7561067c-b9a0-45a8-9c37-87318528d39b",
   "metadata": {},
   "source": [
    "**6.d.2)** This time, use cf-plot to make a plot with *multiple line plots plotted together on the same (x- and y-) axes*. Plot both original fields along with the two regridded `inverse_*_regridded_field`, this time, and plot them in different colours of your choosing with sensible descriptive labels:\n",
    "1. `monthly_field`\n",
    "2. `yearly_field`\n",
    "3. `inverse_linear_regridded_field`\n",
    "4. `inverse_nearest_stod_regridded_field`\n",
    "\n",
    "Use the code block from the teaching Notebook section (5d) as a guide, or otherwise: you will need to wrap all of the calls to `lineplot` within `cfp.gopen()` and `cfp.gclose()` and by, not calling `cfp.gpos()` with position integers in the last question, all of the lines will be plotted onto the same canvas to share axes"
   ]
  },
  {
   "cell_type": "code",
   "execution_count": null,
   "id": "9e80586f-08a7-44e9-bdde-8898f0a68650",
   "metadata": {},
   "outputs": [],
   "source": []
  },
  {
   "cell_type": "markdown",
   "id": "877fa655-484a-4d24-a31d-b36d93a96ad8",
   "metadata": {},
   "source": [
    "**6.d.3)** Finally, study the two compound plots created in this section, in particular paying attention to the marker spacings representing the time data point sampling i.e. resolution which forms our grid in this context, to help you to ensure you understand the process of regridding.\n",
    "\n",
    "Also, look back to the horizontal spatial regridding example plot in (6d) of the teaching Notebook and pay particular attention to the cell block sizes from before and after regridding, to remind yourself the output from a spatial regridding operation.\n",
    "\n",
    "We've practiced regridding of fields in two contexts: spherical regridding in a 2D spatial context and Cartesian regridding in a 1D time series context. Hopefully these two examples have allowed you to understand what regridding does, but at least how cf-python can enable you to do it."
   ]
  },
  {
   "cell_type": "markdown",
   "id": "fafca7f4-df03-4b01-b2be-8f5960bf1a73",
   "metadata": {},
   "source": [
    "<div class=\"alert alert-block alert-success\">\n",
    "<i>Practical instructions:</i> this is the end of the section and the whole training course. Please check your work and review the material.\n",
    "</div>"
   ]
  },
  {
   "cell_type": "markdown",
   "id": "08fa89e2-6c21-4118-9cf9-21958bdfa00e",
   "metadata": {},
   "source": [
    "***"
   ]
  }
 ],
 "metadata": {
  "kernelspec": {
   "display_name": "Python 3 (ipykernel)",
   "language": "python",
   "name": "python3"
  },
  "language_info": {
   "codemirror_mode": {
    "name": "ipython",
    "version": 3
   },
   "file_extension": ".py",
   "mimetype": "text/x-python",
   "name": "python",
   "nbconvert_exporter": "python",
   "pygments_lexer": "ipython3",
   "version": "3.12.0"
  }
 },
 "nbformat": 4,
 "nbformat_minor": 5
}
