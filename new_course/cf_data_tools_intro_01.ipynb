{
 "cells": [
  {
   "cell_type": "markdown",
   "id": "0cd6019e-c5b3-4dc6-bf86-6fcf10b06851",
   "metadata": {},
   "source": [
    "# Introduction to the NCAS CF Data Tools, cf-python and cf-plot"
   ]
  },
  {
   "cell_type": "markdown",
   "id": "1c3beb87-7b0d-44ad-9da3-fa32494b795c",
   "metadata": {},
   "source": [
    "***"
   ]
  },
  {
   "cell_type": "markdown",
   "id": "196e9e0a-83d1-464c-b53c-a6fc2e0c19ff",
   "metadata": {},
   "source": [
    "## Setting up\n",
    "\n",
    "**In this section we set up this Notebook, import the libraries and check the data we will work with, ready to use the libraries within this notebook.**"
   ]
  },
  {
   "cell_type": "markdown",
   "id": "6cfa3e24-6400-4de0-b155-aab85f701441",
   "metadata": {},
   "source": [
    "Run some set up for nice outputs in this Jupyter Notebook (not required in interactive Python or a script):"
   ]
  },
  {
   "cell_type": "code",
   "execution_count": null,
   "id": "aadf1e3e-382f-47c5-aeee-b52f3cd2868d",
   "metadata": {},
   "outputs": [],
   "source": [
    "%matplotlib inline\n",
    "\n",
    "import warnings\n",
    "warnings.filterwarnings(\"ignore\")"
   ]
  },
  {
   "cell_type": "markdown",
   "id": "d073760a-6734-4a1d-9832-a70a8e0dd089",
   "metadata": {},
   "source": [
    "Import cf-python and cf-plot:"
   ]
  },
  {
   "cell_type": "code",
   "execution_count": null,
   "id": "b4b0c984-1adc-4515-b192-19da265e1f9a",
   "metadata": {},
   "outputs": [],
   "source": [
    "import cfplot as cfp\n",
    "import cf"
   ]
  },
  {
   "cell_type": "markdown",
   "id": "7b00d47b-4497-4540-b1bd-6fa8fa8e3226",
   "metadata": {},
   "source": [
    "Inspect the versions of cf-python and cf-plot and the version of the CF Conventions those are matched to:"
   ]
  },
  {
   "cell_type": "code",
   "execution_count": null,
   "id": "ea75b1b6-ba78-428d-b9b2-ca29a8cf6f0d",
   "metadata": {},
   "outputs": [],
   "source": [
    "print(\"cf-python version is:\", cf.__version__)\n",
    "print(\"cf-plot version is:\", cfp.__version__)\n",
    "print(\"CF Conventions version is:\", cf.CF())"
   ]
  },
  {
   "cell_type": "markdown",
   "id": "628af6cc-24f1-4e85-bf8b-654268e72bd3",
   "metadata": {},
   "source": [
    "<div class=\"alert alert-block alert-info\">\n",
    "<i>Note:</i> you can work with data compliant by any other version of the CF Conventions, or without (much) compliance, but the CF Conventions version gives the maximum version that these versions of the tools understand the features of.\n",
    "</div>"
   ]
  },
  {
   "cell_type": "markdown",
   "id": "8135f5c6-3d3e-45b6-a84a-3dcea754372f",
   "metadata": {},
   "source": [
    "Finally, see what datasets we have to explore:"
   ]
  },
  {
   "cell_type": "markdown",
   "id": "cfab63fe-088d-4ca8-ab95-40f61f0c2fd3",
   "metadata": {},
   "source": [
    "<div class=\"alert alert-block alert-info\">\n",
    "<i>Note:</i> in a Jupyter Notebook, '!' preceeeds a shell command, so this is a terminal command and not Python\n",
    "</div>"
   ]
  },
  {
   "cell_type": "code",
   "execution_count": null,
   "id": "a45afce7-abd8-4edd-b14c-eb033566bd52",
   "metadata": {
    "scrolled": true
   },
   "outputs": [],
   "source": [
    "!ls ../ncas_data"
   ]
  },
  {
   "cell_type": "markdown",
   "id": "e7640cdb-0d6f-4933-86d7-e86e7b9acbe4",
   "metadata": {},
   "source": [
    "***"
   ]
  },
  {
   "cell_type": "markdown",
   "id": "3b7a3c0a-262d-4ac4-8c10-6fa3a42ae73a",
   "metadata": {},
   "source": [
    "## 1. Reading dataset(s) and viewing the (meta)data at different detail levels\n",
    "\n",
    "**In this section we look at a basic use of cf-python, reading in one or more datasets from file and inspecting the data and the metadata at different levels of detail to suit the amount of information you want to see.**"
   ]
  },
  {
   "cell_type": "markdown",
   "id": "15de8a85-99ae-40a8-a429-34c30a3e1c76",
   "metadata": {},
   "source": [
    "<div class=\"alert alert-block alert-info\">\n",
    "<i>Note:</i> In cf-python and when discussing related code and datasets, we use terminology from the CF Data Model (for more detail see: <a href=\"url\">https://ncas-cms.github.io/cf-python/cf_data_model.html</a>). For example cf-python methods are named in relation to concepts from this data model. We don't have time to cover this in detail but for this session it is useful to know the following terms:\n",
    "\n",
    "<ul>\n",
    "    <li><b>field</b>: a self-contained cf-python object corresponding to a netCDF data variable with all of its (CF) metadata attached;</li>\n",
    "    <li><b>field list</b>: a list of lields (see above), stored as its own cf-python object 'FieldList' which is similar to a Python list;</li>\n",
    "    <li><b>coordinate</b>: a (CF) metadata concept which corresponds to netCDF coordinate variables. One or more coordinates are defined on every field as either 'dimension' or 'auxiliary' coordinate objects in cf-python.</li>\n",
    "</ul>\n",
    "</div>\n",
    "\n",
    "The examples from this section should help you to familiarise yourself with these terms and their practical usage."
   ]
  },
  {
   "cell_type": "markdown",
   "id": "9da08bf9-a15b-4d65-8c8e-632897daec0b",
   "metadata": {},
   "source": [
    "### a) Reading in data and extracting the _field_ of interest"
   ]
  },
  {
   "cell_type": "markdown",
   "id": "60d6c6a4-a3cd-4515-9d7c-e0e5b0fdc1f3",
   "metadata": {},
   "source": [
    "Read a chosen data file. Sometimes datasets have descriptive names but this one doesn't, so let's find out what it is!"
   ]
  },
  {
   "cell_type": "code",
   "execution_count": null,
   "id": "67b1cd25-dedb-409b-8a57-3fff5de333dd",
   "metadata": {},
   "outputs": [],
   "source": [
    "fieldlist = cf.read(\"../ncas_data/data1.nc\")"
   ]
  },
  {
   "cell_type": "markdown",
   "id": "3e49e1f9-3246-4e67-ac94-a322937c2c42",
   "metadata": {},
   "source": [
    "See the 'fieldlist' that cf-python interprets from the data read in:"
   ]
  },
  {
   "cell_type": "code",
   "execution_count": null,
   "id": "70dfc26a-3163-4b56-948d-98a27472dce4",
   "metadata": {},
   "outputs": [],
   "source": [
    "fieldlist"
   ]
  },
  {
   "cell_type": "markdown",
   "id": "b99aa858-bdd3-48d4-b91b-b6fd122fdcb4",
   "metadata": {},
   "source": [
    "Select a particular field from the fieldlist of interest:"
   ]
  },
  {
   "cell_type": "code",
   "execution_count": null,
   "id": "269896a7-4f55-4792-b9be-fcbc7d931edc",
   "metadata": {},
   "outputs": [],
   "source": [
    "field = fieldlist[0]"
   ]
  },
  {
   "cell_type": "markdown",
   "id": "d4ed8112-fc35-496c-84ae-e8a05334c33c",
   "metadata": {},
   "source": [
    "### b) Inspecting the _field_ of interest with different amounts of detail"
   ]
  },
  {
   "cell_type": "markdown",
   "id": "b78cc22c-c52b-4d8d-bcab-15da6752b592",
   "metadata": {},
   "source": [
    "View the field with **minimal detail**, i.e. a one-line summary:"
   ]
  },
  {
   "cell_type": "code",
   "execution_count": null,
   "id": "84ab31d2-814d-41a7-8da6-50ab6f9a0969",
   "metadata": {},
   "outputs": [],
   "source": [
    "field"
   ]
  },
  {
   "cell_type": "markdown",
   "id": "9a9af4ea-270a-49e9-bc49-54c36158bf09",
   "metadata": {},
   "source": [
    "Or you can view it with a **medium level of detail** with the Python built-in `print` function:"
   ]
  },
  {
   "cell_type": "code",
   "execution_count": null,
   "id": "01618a8c-928a-4250-ba3c-4fef28bfa19e",
   "metadata": {},
   "outputs": [],
   "source": [
    "print(field)"
   ]
  },
  {
   "cell_type": "markdown",
   "id": "f8c2af1e-fd8d-415f-b430-d521e68b98ea",
   "metadata": {},
   "source": [
    "A final option is to view it with **maximal detail** using the `dump()` method:"
   ]
  },
  {
   "cell_type": "code",
   "execution_count": null,
   "id": "cb1170b2-dd14-4ebf-8bc4-7e0559c8a4a0",
   "metadata": {
    "scrolled": true
   },
   "outputs": [],
   "source": [
    "field.dump()"
   ]
  },
  {
   "cell_type": "markdown",
   "id": "0af01357-b0b2-4581-a830-437337565d0d",
   "metadata": {},
   "source": [
    "### c) Inspecting a metadata _construct_ e.g. _coordinate_ from the _field_ of interest"
   ]
  },
  {
   "cell_type": "markdown",
   "id": "0f348261-09fe-4193-ab6f-3203cbd36e40",
   "metadata": {},
   "source": [
    "Use the same approach to view a particular metadata aspect, for example the latitude coordinate:"
   ]
  },
  {
   "cell_type": "code",
   "execution_count": null,
   "id": "2d907740-67af-4c28-a13d-6a2a707cc531",
   "metadata": {},
   "outputs": [],
   "source": [
    "lat = field.coordinate(\"latitude\")"
   ]
  },
  {
   "cell_type": "code",
   "execution_count": null,
   "id": "ec72414b-cebd-4bb6-bf8b-b7f13ebf394d",
   "metadata": {},
   "outputs": [],
   "source": [
    "lat"
   ]
  },
  {
   "cell_type": "code",
   "execution_count": null,
   "id": "307259f7-8528-4fe9-8587-449a70836461",
   "metadata": {},
   "outputs": [],
   "source": [
    "print(lat)"
   ]
  },
  {
   "cell_type": "code",
   "execution_count": null,
   "id": "7e342afb-519f-42c6-889a-aecfb1e1ced6",
   "metadata": {},
   "outputs": [],
   "source": [
    "lat.dump()"
   ]
  },
  {
   "cell_type": "markdown",
   "id": "bd7fd831-8362-49eb-a03a-281d75596309",
   "metadata": {},
   "source": [
    "### d) Inspecting a data array of interest"
   ]
  },
  {
   "cell_type": "markdown",
   "id": "fb66c5c4-c535-4710-bfdc-bfb6d0fde827",
   "metadata": {},
   "source": [
    "Likewise, the same approach works to view the data itself in the field (i.e. the underlying arrays). First, grab the data from the field with the `data` attribute:"
   ]
  },
  {
   "cell_type": "code",
   "execution_count": null,
   "id": "562b2a02-e61a-472e-85e2-7020f704e0cb",
   "metadata": {},
   "outputs": [],
   "source": [
    "data = field.data"
   ]
  },
  {
   "cell_type": "markdown",
   "id": "b385616e-a130-4bf1-a197-f0ae8e193948",
   "metadata": {},
   "source": [
    "Then view it in a chosen level of detail as with the above objects:"
   ]
  },
  {
   "cell_type": "code",
   "execution_count": null,
   "id": "e650fb5e-319a-41a1-bae9-b9d7e99a43c9",
   "metadata": {},
   "outputs": [],
   "source": [
    "data"
   ]
  },
  {
   "cell_type": "code",
   "execution_count": null,
   "id": "e07f7420-37d1-4ba4-8cd8-f068425301bd",
   "metadata": {},
   "outputs": [],
   "source": [
    "print(data)"
   ]
  },
  {
   "cell_type": "code",
   "execution_count": null,
   "id": "0147639e-56a4-4a50-9580-02ba0b557493",
   "metadata": {},
   "outputs": [],
   "source": [
    "data.dump()"
   ]
  },
  {
   "cell_type": "markdown",
   "id": "4aa94e2b-7226-4846-be7d-696e3996eb8f",
   "metadata": {},
   "source": [
    "If you want to see more of the data array itself, you can access it with the `array` attribute. Beware, for real-life datasets:\n",
    "\n",
    "* this will be large and Python will likely truncate it so your screen isn't spammed with sub-arrays of values!\n",
    "* it is computationally intensive to access the underlying data array if it is large, especially if it is multi-dimensional, so your computer will often have to work hard to get the array, so use the `array` method sparingly (only when needed)!"
   ]
  },
  {
   "cell_type": "code",
   "execution_count": null,
   "id": "89d5c9f7-423f-4e03-9517-be40143e5aa4",
   "metadata": {
    "scrolled": true
   },
   "outputs": [],
   "source": [
    "data.array"
   ]
  },
  {
   "cell_type": "markdown",
   "id": "8bcb9631-0732-43dd-9fe4-23f891f0d10c",
   "metadata": {},
   "source": [
    "***"
   ]
  },
  {
   "cell_type": "markdown",
   "id": "e2e0cfb4-8203-48d7-8029-7bfda9ce5be9",
   "metadata": {},
   "source": [
    "## Where to find more information and resources on the NCAS CF Data Tools\n",
    "\n",
    "Here are some links relating to the NCAS CF Data Tools and this training.\n",
    "\n",
    "* This training, with further material, is hosted online and there are instructions for setting up the environment so you can work through it in your own time: https://github.com/NCAS-CMS/cf-tools-training.\n",
    "* The cf-python documentation lives at https://ncas-cms.github.io/cf-python/.\n",
    "* The cf-python code lives on GitHub at https://github.com/NCAS-CMS/cf-python. There is an Issue Tracker to report queries or questions at https://github.com/NCAS-CMS/cf-python/issues.\n",
    "* The cf-plot documentation lives at https://ncas-cms.github.io/cf-plot/build/.\n",
    "* The cf-plot code lives on GitHub at https://github.com/NCAS-CMS/cf-plot. There is an Issue Tracker to report queries or questions at https://github.com/NCAS-CMS/cf-plot/issues.\n",
    "* There is a technical presentation about the NCAS CF Data Tools avaialble from https://hps.vi4io.org/_media/events/2020/summer-school-cfnetcdf.pdf.\n",
    "* The website of the CF Conventions can be found at https://cfconventions.org/.\n",
    "* The landing page for training into the CF Conventions is found here within the website above: https://cfconventions.org/Training/.\n",
    "\n",
    "If you have any queries after this course, please either use the Issue Trackers linked above or you can email me at: sadie.bartholomew@ncas.ac.uk."
   ]
  },
  {
   "cell_type": "markdown",
   "id": "08fa89e2-6c21-4118-9cf9-21958bdfa00e",
   "metadata": {},
   "source": [
    "***"
   ]
  }
 ],
 "metadata": {
  "kernelspec": {
   "display_name": "Python 3 (ipykernel)",
   "language": "python",
   "name": "python3"
  },
  "language_info": {
   "codemirror_mode": {
    "name": "ipython",
    "version": 3
   },
   "file_extension": ".py",
   "mimetype": "text/x-python",
   "name": "python",
   "nbconvert_exporter": "python",
   "pygments_lexer": "ipython3",
   "version": "3.12.0"
  }
 },
 "nbformat": 4,
 "nbformat_minor": 5
}
