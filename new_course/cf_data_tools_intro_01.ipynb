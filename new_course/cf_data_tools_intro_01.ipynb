{
 "cells": [
  {
   "cell_type": "markdown",
   "id": "0cd6019e-c5b3-4dc6-bf86-6fcf10b06851",
   "metadata": {},
   "source": [
    "# T1. Reading dataset(s) and viewing the (meta)data at different detail levels\n",
    "\n",
    "## Teaching Notebook 1 (of 6) for *Intro to the NCAS CF Data Tools, cf-python and cf-plot*\n",
    "\n",
    "**In this section we look at a basic use of cf-python, reading in one or more datasets from file and inspecting the data and the metadata at different levels of detail to suit the amount of information you want to see.**"
   ]
  },
  {
   "cell_type": "markdown",
   "id": "59e7c97a-e975-4f90-a892-39beb9f6c3b2",
   "metadata": {},
   "source": [
    "***"
   ]
  },
  {
   "cell_type": "markdown",
   "id": "6563885c-6d08-4534-abb8-dbfe7bdb17da",
   "metadata": {},
   "source": [
    "## Context and learning objectives\n",
    "\n",
    "### What are the NCAS CF Data Tools and why do they all have 'cf' in the name?\n",
    "\n",
    "The _NCAS CF Data Tools_ are a suite of complementary Python libraries which are designed to facilitate working with data for research in the earth sciences and aligned domains. The two that are of most relevance to the average user, and those wanting to process, analyse and visualise atmospheric data, are *cf-python* (https://ncas-cms.github.io/cf-python/) and *cf-plot* (https://ncas-cms.github.io/cf-plot/build/). We will be focusing on use of cf-python and cf-plot today.\n",
    "\n",
    "The 'cf' in the names of the NCAS CF Data Tools corresponds to the _CF Conventions_, a metadata standard, because they are built around this standard in the form of using the CF Data Model, which as well as performance is considered a 'unique selling point' of the tools.\n",
    "\n",
    "\n",
    "### What are the CF Conventions?\n",
    "\n",
    "The _CF Conventions_, usually referred to in this way but also know by the full name of the **C**limate and **F**orecast (CF) metadata conventions, are a metadata standard which is becoming the de-facto convention to cover the description of geoscientific data so that sharing and intercomparison is simpler. See https://cfconventions.org/ for more information.\n",
    "\n",
    "\n",
    "### What are we going to learn in this session?\n",
    "\n",
    "Our **learning aim** is to be able to use the NCAS CF Data Tools Python libraries, namely cf-python and cf-plot to process, analyse and visualise netCDF and PP datasets, whilst appreciating the context and 'unique selling point' of the libraries as being built to use the CF Conventions, a metadata standard for earth science data, to make it simpler to do what you want to do with the datasets, by working on top of a Data Model for CF.\n",
    "\n",
    "We have **six distinct objectives**, matching the sections in this notebook and in the practical notebook you will work through. By the end of this lesson you should be familiar and have practiced using cf-python and cf-plot to:\n",
    "\n",
    "1. read dataset(s) and view the (meta)data at different detail levels;\n",
    "2. edit the (meta)data and write out the edited version to file;\n",
    "3. reduce datasets by subspacing and collapsing;\n",
    "4. visualise datasets as contour and vector plots;\n",
    "5. analyse data: applying mathematical and statistical operations and plotting trends;\n",
    "6. change the underlying grid of data through regridding."
   ]
  },
  {
   "cell_type": "markdown",
   "id": "33c8a499-9319-4615-9620-3fb1438e213c",
   "metadata": {},
   "source": [
    "<div class=\"alert alert-block alert-info\">\n",
    "<i>Note:</i> much of what you can do with cf-python you can do with the xarray library. Use whichever approach, the cf-python/cf-plot way, or the xarray way, works best for you! However, we want to emphasise that the NCAS CF Data Tools are built around the CF Conventions whereas xarray is not, so cf-python and cf-plot offer better metadata awareness to xarray, which could be a core advantage to our approach for users in/from geoscience. (If you have suggestions for how we can improve cf-python and/or cf-plot for you or your work, please let us know through the Issue Trackers linked at the end of this Notebook.)\n",
    "</div>"
   ]
  },
  {
   "cell_type": "markdown",
   "id": "1c3beb87-7b0d-44ad-9da3-fa32494b795c",
   "metadata": {},
   "source": [
    "***"
   ]
  },
  {
   "cell_type": "markdown",
   "id": "2b1abe7c-4a01-4658-8b7b-bb5598eec2a5",
   "metadata": {},
   "source": [
    "## Where to find more information and resources on the NCAS CF Data Tools\n",
    "\n",
    "Here are some links relating to the NCAS CF Data Tools and this training. The **first two are the official documentation pages** which could be useful to consult which doing the practicals, if you would like further information or if you get stuck:\n",
    "\n",
    "* **The cf-python documentation lives at https://ncas-cms.github.io/cf-python/.**\n",
    "* **The cf-plot documentation lives at https://ncas-cms.github.io/cf-plot/build/.**\n",
    "* This training, with further material, is hosted online and there are instructions for setting up the environment so you can work through it in your own time: https://github.com/NCAS-CMS/cf-tools-training.\n",
    "* The cf-python code lives on GitHub at https://github.com/NCAS-CMS/cf-python. There is an Issue Tracker to report queries or questions at https://github.com/NCAS-CMS/cf-python/issues.\n",
    "* The cf-plot code lives on GitHub at https://github.com/NCAS-CMS/cf-plot. There is an Issue Tracker to report queries or questions at https://github.com/NCAS-CMS/cf-plot/issues.\n",
    "* There is a technical presentation about the NCAS CF Data Tools avaialble from https://hps.vi4io.org/_media/events/2020/summer-school-cfnetcdf.pdf.\n",
    "* The website of the CF Conventions can be found at https://cfconventions.org/.\n",
    "* The landing page for training into the CF Conventions is found here within the website above: https://cfconventions.org/Training/.\n",
    "\n",
    "If you have any queries after this course (or during, if not being taught by us in-person where you can ask us questions there and then), please either use the Issue Trackers linked above or you can email Sadie at: sadie.bartholomew@ncas.ac.uk."
   ]
  },
  {
   "cell_type": "markdown",
   "id": "33d8088a-a8e2-42b7-856d-a47b69435c74",
   "metadata": {},
   "source": [
    "***"
   ]
  },
  {
   "cell_type": "markdown",
   "id": "196e9e0a-83d1-464c-b53c-a6fc2e0c19ff",
   "metadata": {},
   "source": [
    "## Setting up\n",
    "\n",
    "**In this section we set up this Notebook, import the libraries and check the data we will work with, ready to use the libraries within this notebook.**"
   ]
  },
  {
   "cell_type": "markdown",
   "id": "6cfa3e24-6400-4de0-b155-aab85f701441",
   "metadata": {},
   "source": [
    "Run some set up for nice outputs in this Jupyter Notebook (not required in interactive Python or a script):"
   ]
  },
  {
   "cell_type": "code",
   "execution_count": null,
   "id": "aadf1e3e-382f-47c5-aeee-b52f3cd2868d",
   "metadata": {},
   "outputs": [],
   "source": [
    "%matplotlib inline\n",
    "\n",
    "import warnings\n",
    "warnings.filterwarnings(\"ignore\")"
   ]
  },
  {
   "cell_type": "markdown",
   "id": "d073760a-6734-4a1d-9832-a70a8e0dd089",
   "metadata": {},
   "source": [
    "Import cf-python and cf-plot:"
   ]
  },
  {
   "cell_type": "code",
   "execution_count": null,
   "id": "b4b0c984-1adc-4515-b192-19da265e1f9a",
   "metadata": {},
   "outputs": [],
   "source": [
    "import cfplot as cfp\n",
    "import cf"
   ]
  },
  {
   "cell_type": "markdown",
   "id": "7b00d47b-4497-4540-b1bd-6fa8fa8e3226",
   "metadata": {},
   "source": [
    "Inspect the versions of cf-python and cf-plot and the version of the CF Conventions those are matched to:"
   ]
  },
  {
   "cell_type": "code",
   "execution_count": null,
   "id": "ea75b1b6-ba78-428d-b9b2-ca29a8cf6f0d",
   "metadata": {},
   "outputs": [],
   "source": [
    "print(\"cf-python version is:\", cf.__version__)\n",
    "print(\"cf-plot version is:\", cfp.__version__)\n",
    "print(\"CF Conventions version is:\", cf.CF())"
   ]
  },
  {
   "cell_type": "markdown",
   "id": "628af6cc-24f1-4e85-bf8b-654268e72bd3",
   "metadata": {},
   "source": [
    "<div class=\"alert alert-block alert-info\">\n",
    "<i>Note:</i> you can work with data compliant by any other version of the CF Conventions, or without (much) compliance, but the CF Conventions version gives the maximum version that these versions of the tools understand the features of.\n",
    "</div>"
   ]
  },
  {
   "cell_type": "markdown",
   "id": "8135f5c6-3d3e-45b6-a84a-3dcea754372f",
   "metadata": {},
   "source": [
    "Finally, see what datasets we have to explore:"
   ]
  },
  {
   "cell_type": "markdown",
   "id": "cfab63fe-088d-4ca8-ab95-40f61f0c2fd3",
   "metadata": {},
   "source": [
    "<div class=\"alert alert-block alert-info\">\n",
    "<i>Note:</i> in a Jupyter Notebook, '!' precedes a shell command, so this is a terminal command and not Python\n",
    "</div>"
   ]
  },
  {
   "cell_type": "code",
   "execution_count": null,
   "id": "a45afce7-abd8-4edd-b14c-eb033566bd52",
   "metadata": {
    "scrolled": true
   },
   "outputs": [],
   "source": [
    "!ls ../ncas_data"
   ]
  },
  {
   "cell_type": "markdown",
   "id": "e7640cdb-0d6f-4933-86d7-e86e7b9acbe4",
   "metadata": {},
   "source": [
    "***"
   ]
  },
  {
   "cell_type": "markdown",
   "id": "3b7a3c0a-262d-4ac4-8c10-6fa3a42ae73a",
   "metadata": {},
   "source": [
    "## 1. Reading dataset(s) and viewing the (meta)data at different detail levels"
   ]
  },
  {
   "cell_type": "markdown",
   "id": "15de8a85-99ae-40a8-a429-34c30a3e1c76",
   "metadata": {},
   "source": [
    "<div class=\"alert alert-block alert-info\">\n",
    "<i>Note:</i> In cf-python and when discussing related code and datasets, we use terminology from the CF Data Model (for more detail see: <a href=\"url\">https://ncas-cms.github.io/cf-python/cf_data_model.html</a>). For example cf-python methods are named in relation to concepts from this data model. We don't have time to cover this in detail but for this session it is useful to know the following terms:\n",
    "\n",
    "<ul>\n",
    "    <li><b>field</b>: a self-contained cf-python object corresponding to a netCDF data variable with all of its (CF) metadata attached;</li>\n",
    "    <li><b>field list</b>: a list of lields (see above), stored as its own cf-python object 'FieldList' which is similar to a Python list;</li>\n",
    "    <li><b>coordinate</b>: a (CF) metadata concept which corresponds to netCDF coordinate variables. One or more coordinates are defined on every field as either 'dimension' or 'auxiliary' coordinate objects in cf-python.</li>\n",
    "</ul>\n",
    "</div>\n",
    "\n",
    "The examples from this section should help you to familiarise yourself with these terms and their practical usage."
   ]
  },
  {
   "cell_type": "markdown",
   "id": "9da08bf9-a15b-4d65-8c8e-632897daec0b",
   "metadata": {},
   "source": [
    "### a) Reading in data and extracting the _field_ of interest"
   ]
  },
  {
   "cell_type": "markdown",
   "id": "60d6c6a4-a3cd-4515-9d7c-e0e5b0fdc1f3",
   "metadata": {},
   "source": [
    "Read a chosen data file. Sometimes datasets have descriptive names but this one doesn't, so let's find out what it is!"
   ]
  },
  {
   "cell_type": "code",
   "execution_count": null,
   "id": "67b1cd25-dedb-409b-8a57-3fff5de333dd",
   "metadata": {},
   "outputs": [],
   "source": [
    "fieldlist = cf.read(\"../ncas_data/data1.nc\")"
   ]
  },
  {
   "cell_type": "markdown",
   "id": "3e49e1f9-3246-4e67-ac94-a322937c2c42",
   "metadata": {},
   "source": [
    "See the 'fieldlist' that cf-python interprets from the data read in:"
   ]
  },
  {
   "cell_type": "code",
   "execution_count": null,
   "id": "70dfc26a-3163-4b56-948d-98a27472dce4",
   "metadata": {},
   "outputs": [],
   "source": [
    "fieldlist"
   ]
  },
  {
   "cell_type": "markdown",
   "id": "b99aa858-bdd3-48d4-b91b-b6fd122fdcb4",
   "metadata": {},
   "source": [
    "Select a particular field from the fieldlist of interest:"
   ]
  },
  {
   "cell_type": "code",
   "execution_count": null,
   "id": "269896a7-4f55-4792-b9be-fcbc7d931edc",
   "metadata": {},
   "outputs": [],
   "source": [
    "field = fieldlist[0]"
   ]
  },
  {
   "cell_type": "markdown",
   "id": "d4ed8112-fc35-496c-84ae-e8a05334c33c",
   "metadata": {},
   "source": [
    "### b) Inspecting the _field_ of interest with different amounts of detail"
   ]
  },
  {
   "cell_type": "markdown",
   "id": "b78cc22c-c52b-4d8d-bcab-15da6752b592",
   "metadata": {},
   "source": [
    "View the field with **minimal detail**, i.e. a one-line summary:"
   ]
  },
  {
   "cell_type": "code",
   "execution_count": null,
   "id": "84ab31d2-814d-41a7-8da6-50ab6f9a0969",
   "metadata": {},
   "outputs": [],
   "source": [
    "field"
   ]
  },
  {
   "cell_type": "markdown",
   "id": "9a9af4ea-270a-49e9-bc49-54c36158bf09",
   "metadata": {},
   "source": [
    "Or you can view it with a **medium level of detail** with the Python built-in `print` function:"
   ]
  },
  {
   "cell_type": "code",
   "execution_count": null,
   "id": "01618a8c-928a-4250-ba3c-4fef28bfa19e",
   "metadata": {},
   "outputs": [],
   "source": [
    "print(field)"
   ]
  },
  {
   "cell_type": "markdown",
   "id": "f8c2af1e-fd8d-415f-b430-d521e68b98ea",
   "metadata": {},
   "source": [
    "A final option is to view it with **maximal detail** using the `dump()` method:"
   ]
  },
  {
   "cell_type": "code",
   "execution_count": null,
   "id": "cb1170b2-dd14-4ebf-8bc4-7e0559c8a4a0",
   "metadata": {
    "scrolled": true
   },
   "outputs": [],
   "source": [
    "field.dump()"
   ]
  },
  {
   "cell_type": "markdown",
   "id": "0af01357-b0b2-4581-a830-437337565d0d",
   "metadata": {},
   "source": [
    "### c) Inspecting a metadata _construct_ e.g. _coordinate_ from the _field_ of interest"
   ]
  },
  {
   "cell_type": "markdown",
   "id": "0f348261-09fe-4193-ab6f-3203cbd36e40",
   "metadata": {},
   "source": [
    "Use the same approach to view a particular metadata aspect, for example the latitude coordinate:"
   ]
  },
  {
   "cell_type": "code",
   "execution_count": null,
   "id": "2d907740-67af-4c28-a13d-6a2a707cc531",
   "metadata": {},
   "outputs": [],
   "source": [
    "lat = field.coordinate(\"latitude\")"
   ]
  },
  {
   "cell_type": "code",
   "execution_count": null,
   "id": "ec72414b-cebd-4bb6-bf8b-b7f13ebf394d",
   "metadata": {},
   "outputs": [],
   "source": [
    "lat"
   ]
  },
  {
   "cell_type": "code",
   "execution_count": null,
   "id": "307259f7-8528-4fe9-8587-449a70836461",
   "metadata": {},
   "outputs": [],
   "source": [
    "print(lat)"
   ]
  },
  {
   "cell_type": "code",
   "execution_count": null,
   "id": "7e342afb-519f-42c6-889a-aecfb1e1ced6",
   "metadata": {},
   "outputs": [],
   "source": [
    "lat.dump()"
   ]
  },
  {
   "cell_type": "markdown",
   "id": "bd7fd831-8362-49eb-a03a-281d75596309",
   "metadata": {},
   "source": [
    "### d) Inspecting a data array of interest"
   ]
  },
  {
   "cell_type": "markdown",
   "id": "fb66c5c4-c535-4710-bfdc-bfb6d0fde827",
   "metadata": {},
   "source": [
    "Likewise, the same approach works to view the data itself in the field (i.e. the underlying arrays). First, grab the data from the field with the `data` attribute:"
   ]
  },
  {
   "cell_type": "code",
   "execution_count": null,
   "id": "562b2a02-e61a-472e-85e2-7020f704e0cb",
   "metadata": {},
   "outputs": [],
   "source": [
    "data = field.data"
   ]
  },
  {
   "cell_type": "markdown",
   "id": "b385616e-a130-4bf1-a197-f0ae8e193948",
   "metadata": {},
   "source": [
    "Then view it in a chosen level of detail as with the above objects:"
   ]
  },
  {
   "cell_type": "code",
   "execution_count": null,
   "id": "e650fb5e-319a-41a1-bae9-b9d7e99a43c9",
   "metadata": {},
   "outputs": [],
   "source": [
    "data"
   ]
  },
  {
   "cell_type": "code",
   "execution_count": null,
   "id": "e07f7420-37d1-4ba4-8cd8-f068425301bd",
   "metadata": {},
   "outputs": [],
   "source": [
    "print(data)"
   ]
  },
  {
   "cell_type": "code",
   "execution_count": null,
   "id": "0147639e-56a4-4a50-9580-02ba0b557493",
   "metadata": {},
   "outputs": [],
   "source": [
    "data.dump()"
   ]
  },
  {
   "cell_type": "markdown",
   "id": "4aa94e2b-7226-4846-be7d-696e3996eb8f",
   "metadata": {},
   "source": [
    "If you want to see more of the data array itself, you can access it with the `array` attribute. Beware, for real-life datasets:\n",
    "\n",
    "* this will be large and Python will likely truncate it so your screen isn't spammed with sub-arrays of values!\n",
    "* it is computationally intensive to access the underlying data array if it is large, especially if it is multi-dimensional, so your computer will often have to work hard to get the array, so use the `array` method sparingly (only when needed)!"
   ]
  },
  {
   "cell_type": "code",
   "execution_count": null,
   "id": "89d5c9f7-423f-4e03-9517-be40143e5aa4",
   "metadata": {
    "scrolled": true
   },
   "outputs": [],
   "source": [
    "data.array"
   ]
  },
  {
   "cell_type": "markdown",
   "id": "08fa89e2-6c21-4118-9cf9-21958bdfa00e",
   "metadata": {},
   "source": [
    "***"
   ]
  }
 ],
 "metadata": {
  "kernelspec": {
   "display_name": "Python 3 (ipykernel)",
   "language": "python",
   "name": "python3"
  },
  "language_info": {
   "codemirror_mode": {
    "name": "ipython",
    "version": 3
   },
   "file_extension": ".py",
   "mimetype": "text/x-python",
   "name": "python",
   "nbconvert_exporter": "python",
   "pygments_lexer": "ipython3",
   "version": "3.12.0"
  }
 },
 "nbformat": 4,
 "nbformat_minor": 5
}
