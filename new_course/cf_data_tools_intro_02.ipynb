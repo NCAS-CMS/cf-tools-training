{
 "cells": [
  {
   "cell_type": "markdown",
   "id": "0cd6019e-c5b3-4dc6-bf86-6fcf10b06851",
   "metadata": {},
   "source": [
    "# Introduction to the NCAS CF Data Tools, cf-python and cf-plot"
   ]
  },
  {
   "cell_type": "markdown",
   "id": "1c3beb87-7b0d-44ad-9da3-fa32494b795c",
   "metadata": {},
   "source": [
    "***"
   ]
  },
  {
   "cell_type": "markdown",
   "id": "196e9e0a-83d1-464c-b53c-a6fc2e0c19ff",
   "metadata": {},
   "source": [
    "## Setting up\n",
    "\n",
    "**In this section we set up this Notebook, import the libraries and check the data we will work with, ready to use the libraries within this notebook.**"
   ]
  },
  {
   "cell_type": "markdown",
   "id": "6cfa3e24-6400-4de0-b155-aab85f701441",
   "metadata": {},
   "source": [
    "Run some set up for nice outputs in this Jupyter Notebook (not required in interactive Python or a script):"
   ]
  },
  {
   "cell_type": "code",
   "execution_count": null,
   "id": "aadf1e3e-382f-47c5-aeee-b52f3cd2868d",
   "metadata": {},
   "outputs": [],
   "source": [
    "%matplotlib inline\n",
    "\n",
    "import warnings\n",
    "warnings.filterwarnings(\"ignore\")"
   ]
  },
  {
   "cell_type": "markdown",
   "id": "d073760a-6734-4a1d-9832-a70a8e0dd089",
   "metadata": {},
   "source": [
    "Import cf-python and cf-plot:"
   ]
  },
  {
   "cell_type": "code",
   "execution_count": null,
   "id": "b4b0c984-1adc-4515-b192-19da265e1f9a",
   "metadata": {},
   "outputs": [],
   "source": [
    "import cfplot as cfp\n",
    "import cf"
   ]
  },
  {
   "cell_type": "markdown",
   "id": "7b00d47b-4497-4540-b1bd-6fa8fa8e3226",
   "metadata": {},
   "source": [
    "Inspect the versions of cf-python and cf-plot and the version of the CF Conventions those are matched to:"
   ]
  },
  {
   "cell_type": "code",
   "execution_count": null,
   "id": "ea75b1b6-ba78-428d-b9b2-ca29a8cf6f0d",
   "metadata": {},
   "outputs": [],
   "source": [
    "print(\"cf-python version is:\", cf.__version__)\n",
    "print(\"cf-plot version is:\", cfp.__version__)\n",
    "print(\"CF Conventions version is:\", cf.CF())"
   ]
  },
  {
   "cell_type": "markdown",
   "id": "628af6cc-24f1-4e85-bf8b-654268e72bd3",
   "metadata": {},
   "source": [
    "<div class=\"alert alert-block alert-info\">\n",
    "<i>Note:</i> you can work with data compliant by any other version of the CF Conventions, or without (much) compliance, but the CF Conventions version gives the maximum version that these versions of the tools understand the features of.\n",
    "</div>"
   ]
  },
  {
   "cell_type": "markdown",
   "id": "8135f5c6-3d3e-45b6-a84a-3dcea754372f",
   "metadata": {},
   "source": [
    "Finally, see what datasets we have to explore:"
   ]
  },
  {
   "cell_type": "markdown",
   "id": "cfab63fe-088d-4ca8-ab95-40f61f0c2fd3",
   "metadata": {},
   "source": [
    "<div class=\"alert alert-block alert-info\">\n",
    "<i>Note:</i> in a Jupyter Notebook, '!' preceeeds a shell command, so this is a terminal command and not Python\n",
    "</div>"
   ]
  },
  {
   "cell_type": "code",
   "execution_count": null,
   "id": "a45afce7-abd8-4edd-b14c-eb033566bd52",
   "metadata": {
    "scrolled": true
   },
   "outputs": [],
   "source": [
    "!ls ../ncas_data"
   ]
  },
  {
   "cell_type": "markdown",
   "id": "e7640cdb-0d6f-4933-86d7-e86e7b9acbe4",
   "metadata": {},
   "source": [
    "***"
   ]
  },
  {
   "cell_type": "markdown",
   "id": "09d04ff2-8998-48fb-a0a6-bc5deafe8fc6",
   "metadata": {},
   "source": [
    "***"
   ]
  },
  {
   "cell_type": "code",
   "execution_count": null,
   "id": "af39be25-9fc1-4ce9-bffa-ce3ae105389c",
   "metadata": {},
   "outputs": [],
   "source": [
    "# Required from Step 1\n",
    "fieldlist = cf.read(\"../ncas_data/data1.nc\")\n",
    "print(\"Field List is:\", fieldlist)\n",
    "field = fieldlist[0]\n",
    "print(\"Field is:\", field)\n",
    "data = field.data\n",
    "print(\"Data is:\", data)"
   ]
  },
  {
   "cell_type": "markdown",
   "id": "932d2d38-b8d7-46cc-848f-b6f50b877310",
   "metadata": {},
   "source": [
    "## 2. Editing the (meta)data and writing out the edited version to file\n",
    "\n",
    "**In this section we demonstrate how to change the data that has been read-in from file, both in terms of the data arrays and the metadata that describes it, and then how to write data back out to file with a chosen name, so that you can see how cf-python can be used to edit data or to make new data.**"
   ]
  },
  {
   "cell_type": "markdown",
   "id": "cf3c9786-528f-49c8-8388-574062112206",
   "metadata": {},
   "source": [
    "Using the same data file from te previous section, let's say we want to change the data and metadata of this. As-is the field and its data are:"
   ]
  },
  {
   "cell_type": "code",
   "execution_count": null,
   "id": "7af83b82-0258-4ba2-bb3e-7c0c0ae6e929",
   "metadata": {},
   "outputs": [],
   "source": [
    "print(\"Field is:\", field, \"Data is:\", data, sep=\"\\n\\n\")"
   ]
  },
  {
   "cell_type": "markdown",
   "id": "bc7c654e-38e5-4b06-a7c0-01828701d92f",
   "metadata": {},
   "source": [
    "### a) Changing the underlying data"
   ]
  },
  {
   "cell_type": "markdown",
   "id": "9acf4da4-881b-46c7-88f3-8fe72972cf1b",
   "metadata": {},
   "source": [
    "To change the data, use assignment to the relavant index or indices. For example, to change all values we can use the special index of an ellipsis like so, in this case changing them all to an identical scalar value:"
   ]
  },
  {
   "cell_type": "code",
   "execution_count": null,
   "id": "c3983e97-ffc8-4799-9a29-fa88e036a169",
   "metadata": {},
   "outputs": [],
   "source": [
    "data[...] = 10.0\n",
    "data"
   ]
  },
  {
   "cell_type": "code",
   "execution_count": null,
   "id": "dc968051-56f8-4814-a79b-be3402e0b285",
   "metadata": {},
   "outputs": [],
   "source": [
    "print(data)"
   ]
  },
  {
   "cell_type": "markdown",
   "id": "06e5ef92-f3ab-4b5f-b004-4e2fa41429e5",
   "metadata": {},
   "source": [
    "Or could change more specifically just one sub-array of these to a different value"
   ]
  },
  {
   "cell_type": "code",
   "execution_count": null,
   "id": "b168b278-0418-4ed0-85cf-de6d0e795638",
   "metadata": {
    "scrolled": true
   },
   "outputs": [],
   "source": [
    "data[0, 0, 0] = 3.0\n",
    "data.array"
   ]
  },
  {
   "cell_type": "markdown",
   "id": "ba4ebc7f-45c4-4c9c-a7e7-4b7cafe2d305",
   "metadata": {},
   "source": [
    "Instead of setting the whole sub-array to one value, you can set the whole array to your precise specification, for example:"
   ]
  },
  {
   "cell_type": "code",
   "execution_count": null,
   "id": "bbe84007-811a-4290-bfbe-9e222bded840",
   "metadata": {
    "scrolled": true
   },
   "outputs": [],
   "source": [
    "data[0, 0, 0] = range(320)\n",
    "data.array"
   ]
  },
  {
   "cell_type": "markdown",
   "id": "0f2d2721-58c2-44d9-b422-3dd81ee8b333",
   "metadata": {},
   "source": [
    "### b) Changing some metadata"
   ]
  },
  {
   "cell_type": "markdown",
   "id": "3286f679-2c8a-40a8-b7d4-b67f34122e7d",
   "metadata": {},
   "source": [
    "To change metadata, first get the metadata you want to change as an object. One of the most flexible ways to do so is to use the `construct` method and as an argument specify the name of the coordinate you are interested in:"
   ]
  },
  {
   "cell_type": "code",
   "execution_count": null,
   "id": "4f81cbe5-5d1d-4d30-9388-2750cc81d613",
   "metadata": {},
   "outputs": [],
   "source": [
    "pressure = field.construct(\"pressure\")"
   ]
  },
  {
   "cell_type": "code",
   "execution_count": null,
   "id": "2fbbdb05-94e4-432b-b54e-2675901e6d75",
   "metadata": {},
   "outputs": [],
   "source": [
    "print(pressure)\n",
    "print(pressure.data)"
   ]
  },
  {
   "cell_type": "markdown",
   "id": "4987c89e-e4c0-4c91-aa2e-fa78ff9f617e",
   "metadata": {},
   "source": [
    "You can inspect the units specifically using the `units` attribute:"
   ]
  },
  {
   "cell_type": "code",
   "execution_count": null,
   "id": "c2e55b76-f9e7-41cc-b11f-995c0bc0f2eb",
   "metadata": {},
   "outputs": [],
   "source": [
    "print(pressure.units)"
   ]
  },
  {
   "cell_type": "markdown",
   "id": "3051327c-e237-4cdf-adb3-74d5c65d28b4",
   "metadata": {},
   "source": [
    "Let's change the units to an equivalent but different unit, the `bar` (out by a factor of 1000), as an example:"
   ]
  },
  {
   "cell_type": "code",
   "execution_count": null,
   "id": "f0f6b8a5-ab63-42b9-8b59-1dfe68d48294",
   "metadata": {},
   "outputs": [],
   "source": [
    "pressure.units = \"bar\"\n",
    "print(pressure.units)"
   ]
  },
  {
   "cell_type": "markdown",
   "id": "8c15baee-fdaf-4015-b265-41920e6c6d5e",
   "metadata": {},
   "source": [
    "Notice how the data has been converted to account for the new units - cf-python's metadata awareness makes contextual changes like this so we don't have to do it manually!"
   ]
  },
  {
   "cell_type": "code",
   "execution_count": null,
   "id": "35d51c76-7c36-4b7b-98c6-85df363259da",
   "metadata": {},
   "outputs": [],
   "source": [
    "print(pressure.data)"
   ]
  },
  {
   "cell_type": "markdown",
   "id": "d3e11a1b-9841-49ff-a74f-5e27e5b08629",
   "metadata": {},
   "source": [
    "Note how the pressure units are changed in the field too, since we edited the same object in a Pythonic sense:"
   ]
  },
  {
   "cell_type": "code",
   "execution_count": null,
   "id": "e2fa9715-2ac2-4d22-aaec-23edb764708c",
   "metadata": {},
   "outputs": [],
   "source": [
    "print(field)"
   ]
  },
  {
   "cell_type": "markdown",
   "id": "cf7cf826-2d23-40cd-bfca-648de59fd02c",
   "metadata": {},
   "source": [
    "### c) Writing a (list of) fields out to a file"
   ]
  },
  {
   "cell_type": "markdown",
   "id": "38de7492-13b0-4983-b943-16e23e7851ed",
   "metadata": {},
   "source": [
    "We changed some metadata (units) and the data itself from our dataset read-in from file. Let's write the new data out\n",
    "as a new file and read it back in to show that it has been changed relative to the original. You write files out to disk using the `write` function with an argument giving the path, including the name (it can _just_ be the name to write a file to the current working directory), you want to create the file to:"
   ]
  },
  {
   "cell_type": "code",
   "execution_count": null,
   "id": "e697f71b-3f6c-45ba-b4bc-547d26e1e8e8",
   "metadata": {},
   "outputs": [],
   "source": [
    "cf.write(field, \"../ncas_data/data1-updated.nc\")"
   ]
  },
  {
   "cell_type": "markdown",
   "id": "86c8650c-23a4-40f7-9a26-a9aba1b8ee6a",
   "metadata": {},
   "source": [
    "See that it was written out to the directory we specified:"
   ]
  },
  {
   "cell_type": "markdown",
   "id": "8ce47770-6ee4-482c-8774-16136e235b50",
   "metadata": {},
   "source": [
    "<div class=\"alert alert-block alert-info\">\n",
    "<i>Note:</i> in a Jupyter Notebook, '!' preceeeds a shell command, so this is a terminal command and not Python\n",
    "</div>"
   ]
  },
  {
   "cell_type": "code",
   "execution_count": null,
   "id": "5ef24395-3a11-45d5-b91e-a742e82d80fb",
   "metadata": {},
   "outputs": [],
   "source": [
    "!ls ../ncas_data"
   ]
  },
  {
   "cell_type": "markdown",
   "id": "8a0f2ed2-51b2-4cf2-9529-4acf7cf1ff15",
   "metadata": {},
   "source": [
    "To check it wrote out the edited version from this Notebook, we can read the file back in and inspect it again:"
   ]
  },
  {
   "cell_type": "code",
   "execution_count": null,
   "id": "ac357e9f-85e1-4139-9a22-30c5cc0427da",
   "metadata": {},
   "outputs": [],
   "source": [
    "updated_fieldlist = cf.read(\"../ncas_data/data1-updated.nc\")\n",
    "reread_field = updated_fieldlist[0]"
   ]
  },
  {
   "cell_type": "markdown",
   "id": "ae8fd9e7-c789-4e7d-8773-074bdbb8c2ce",
   "metadata": {},
   "source": [
    "See what `g` is by medium detail inspection:"
   ]
  },
  {
   "cell_type": "code",
   "execution_count": null,
   "id": "d08cff69-4bc8-4862-bfc2-06acce62ac19",
   "metadata": {
    "scrolled": true
   },
   "outputs": [],
   "source": [
    "print(reread_field)\n",
    "print(reread_field.data)"
   ]
  },
  {
   "cell_type": "markdown",
   "id": "0a4f1a78-6dcc-4a65-b927-54b9c044a55d",
   "metadata": {},
   "source": [
    "Notice the pressure coordinate units are 'bar' as per our change and the first data array item starts with `0.0` and the final one ends with `10.0` as per our change."
   ]
  },
  {
   "cell_type": "markdown",
   "id": "8bcb9631-0732-43dd-9fe4-23f891f0d10c",
   "metadata": {},
   "source": [
    "***"
   ]
  },
  {
   "cell_type": "markdown",
   "id": "e2e0cfb4-8203-48d7-8029-7bfda9ce5be9",
   "metadata": {},
   "source": [
    "## Where to find more information and resources on the NCAS CF Data Tools\n",
    "\n",
    "Here are some links relating to the NCAS CF Data Tools and this training.\n",
    "\n",
    "* This training, with further material, is hosted online and there are instructions for setting up the environment so you can work through it in your own time: https://github.com/NCAS-CMS/cf-tools-training.\n",
    "* The cf-python documentation lives at https://ncas-cms.github.io/cf-python/.\n",
    "* The cf-python code lives on GitHub at https://github.com/NCAS-CMS/cf-python. There is an Issue Tracker to report queries or questions at https://github.com/NCAS-CMS/cf-python/issues.\n",
    "* The cf-plot documentation lives at https://ncas-cms.github.io/cf-plot/build/.\n",
    "* The cf-plot code lives on GitHub at https://github.com/NCAS-CMS/cf-plot. There is an Issue Tracker to report queries or questions at https://github.com/NCAS-CMS/cf-plot/issues.\n",
    "* There is a technical presentation about the NCAS CF Data Tools avaialble from https://hps.vi4io.org/_media/events/2020/summer-school-cfnetcdf.pdf.\n",
    "* The website of the CF Conventions can be found at https://cfconventions.org/.\n",
    "* The landing page for training into the CF Conventions is found here within the website above: https://cfconventions.org/Training/.\n",
    "\n",
    "If you have any queries after this course, please either use the Issue Trackers linked above or you can email me at: sadie.bartholomew@ncas.ac.uk."
   ]
  },
  {
   "cell_type": "markdown",
   "id": "08fa89e2-6c21-4118-9cf9-21958bdfa00e",
   "metadata": {},
   "source": [
    "***"
   ]
  }
 ],
 "metadata": {
  "kernelspec": {
   "display_name": "Python 3 (ipykernel)",
   "language": "python",
   "name": "python3"
  },
  "language_info": {
   "codemirror_mode": {
    "name": "ipython",
    "version": 3
   },
   "file_extension": ".py",
   "mimetype": "text/x-python",
   "name": "python",
   "nbconvert_exporter": "python",
   "pygments_lexer": "ipython3",
   "version": "3.12.0"
  }
 },
 "nbformat": 4,
 "nbformat_minor": 5
}
