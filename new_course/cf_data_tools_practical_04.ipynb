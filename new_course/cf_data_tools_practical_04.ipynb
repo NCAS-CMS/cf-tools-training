{
 "cells": [
  {
   "cell_type": "markdown",
   "id": "0cd6019e-c5b3-4dc6-bf86-6fcf10b06851",
   "metadata": {},
   "source": [
    "# P4. Visualising datasets as contour and vector plots\n",
    "\n",
    "## Practical Notebook 4 (of 6) for *Intro to the NCAS CF Data Tools, cf-python and cf-plot*\n",
    "\n",
    "**In this section we demonstrate how to plot using cf-plot the data we have read and then processed and/or analysed using cf-python, notably showing how to create contour plots and vector plots as examples of some of the available plot types.**"
   ]
  },
  {
   "cell_type": "markdown",
   "id": "1c3beb87-7b0d-44ad-9da3-fa32494b795c",
   "metadata": {},
   "source": [
    "***"
   ]
  },
  {
   "cell_type": "markdown",
   "id": "df666543-52ee-402a-8fa4-cb4d8389f3a8",
   "metadata": {},
   "source": [
    "<div class=\"alert alert-block alert-success\">\n",
    "<i>Practical instructions:</i> run the cell in this section to do the set up, which is not part of the practical proper.\n",
    "</div>"
   ]
  },
  {
   "cell_type": "markdown",
   "id": "0275afcf-51ed-47ab-a167-ecf03f748aed",
   "metadata": {},
   "source": [
    "## Setting up\n",
    "\n",
    "**In this short prelude we set up this Notebook, import the libraries and check the data we will work with, ready to use the libraries and the data (exactly as per the first Notebook setup but in one cell only for quick execution).**"
   ]
  },
  {
   "cell_type": "code",
   "execution_count": 1,
   "id": "06c060fe-d528-41c9-acfe-8b467981f956",
   "metadata": {},
   "outputs": [
    {
     "name": "stdout",
     "output_type": "stream",
     "text": [
      "--- Version report: ---\n",
      "cf-python version is: 3.18.1\n",
      "cf-plot version is: 3.4.0\n",
      "CF Conventions version is: 1.12\n",
      "--- Datasets available from the path '../ncas_data': ---\n",
      "160by320griddata.nc\t\t\t   precip_2010.nc\n",
      "aaaaoa.pmh8dec.pp\t\t\t   precip_DJF_means.nc\n",
      "alpine_precip_DJF_means.nc\t\t   qbo.nc\n",
      "data1.nc\t\t\t\t   regions.nc\n",
      "data1-updated.nc\t\t\t   rgp.nc\n",
      "data2.nc\t\t\t\t   sea_currents_backup.nc\n",
      "data3.nc\t\t\t\t   sea_currents.nc\n",
      "data5.nc\t\t\t\t   ta.nc\n",
      "ggas2014121200_00-18.nc\t\t\t   tripolar.nc\n",
      "IPSL-CM5A-LR_r1i1p1_tas_n96_rcp45_mnth.nc  two_fields.nc\n",
      "land.nc\t\t\t\t\t   ua.nc\n",
      "model_precip_DJF_means_low_res.nc\t   u_n216.nc\n",
      "model_precip_DJF_means.nc\t\t   u_n96.nc\n",
      "n2o_emissions.nc\t\t\t   vaAMIPlcd_DJF.nc\n",
      "POLCOMS_WAM_ZUV_01_16012006.nc\t\t   va.nc\n",
      "precip_1D_monthly.nc\t\t\t   wapAMIPlcd_DJF.nc\n",
      "precip_1D_yearly.nc\n"
     ]
    }
   ],
   "source": [
    "# Set up for inline plots - only needed inside a Notebook environment - and to ignore some repeating warnings\n",
    "%matplotlib inline\n",
    "\n",
    "import warnings\n",
    "warnings.filterwarnings(\"ignore\")\n",
    "\n",
    "# Import the two CF Data Tools libraries and inspect the versions\n",
    "import cfplot as cfp\n",
    "import cf\n",
    "print(\"--- Version report: ---\")\n",
    "print(\"cf-python version is:\", cf.__version__)\n",
    "print(\"cf-plot version is:\", cfp.__version__)\n",
    "print(\"CF Conventions version is:\", cf.CF())\n",
    "\n",
    "# See what datasets we have to explore within the data directory we use throughout this course\n",
    "print(\"--- Datasets available from the path '../ncas_data': ---\")\n",
    "# Note that in a Jupyter Notebook, '!' precedes a shell command - so this is a command, not Python\n",
    "!ls ../ncas_data"
   ]
  },
  {
   "cell_type": "markdown",
   "id": "e7640cdb-0d6f-4933-86d7-e86e7b9acbe4",
   "metadata": {},
   "source": [
    "***"
   ]
  },
  {
   "cell_type": "markdown",
   "id": "ef80e6de-8e62-468b-93c8-b41ac768375a",
   "metadata": {},
   "source": [
    "<div class=\"alert alert-block alert-success\">\n",
    "<i>Practical instructions:</i> now we can start the practical. We will follow the same sectioning as in the teaching notebook, so please consult the notes there in the matching section for guidance and you can also consult the cf-python and cf-plot documentation linked above.\n",
    "</div>"
   ]
  },
  {
   "cell_type": "markdown",
   "id": "80edfa76-7f87-42b9-8cef-058304ca902a",
   "metadata": {},
   "source": [
    "## 4. Visualising datasets as contour and vector plots"
   ]
  },
  {
   "cell_type": "markdown",
   "id": "794c4940-43fd-45a3-ba9a-69084c0e5ccd",
   "metadata": {},
   "source": [
    "### a) Making a contour plot"
   ]
  },
  {
   "cell_type": "markdown",
   "id": "d8508032-181e-4a04-ba70-0f0dfd24f601",
   "metadata": {},
   "source": [
    "**4.a.1)** Read in the file `alpine_precip_DJF_means.nc` which is in the `../ncas_data` directory and assign the first field it contains to a variable called `field`. Inspect that field with medium detail level."
   ]
  },
  {
   "cell_type": "code",
   "execution_count": null,
   "id": "e3b39603-c768-472b-bd2b-8aec63e525c0",
   "metadata": {},
   "outputs": [],
   "source": []
  },
  {
   "cell_type": "markdown",
   "id": "f780f284-697e-41a3-8984-db53ac970235",
   "metadata": {},
   "source": [
    "**4.a.2)** Make a contour plot of the field, noting that because it is already 2D over X and Y axes corresponding to its projection so it can be plotted directly, without any need to reduce via subspacing or collapsing. Just get a plot working - there is no need to customise it yet."
   ]
  },
  {
   "cell_type": "code",
   "execution_count": null,
   "id": "94613743-f648-409e-b7a3-22bbf5849c1c",
   "metadata": {},
   "outputs": [],
   "source": []
  },
  {
   "cell_type": "markdown",
   "id": "b19186dc-3480-47d1-a859-79008841bd58",
   "metadata": {},
   "source": [
    "### b) Customising the (contour) plot"
   ]
  },
  {
   "cell_type": "markdown",
   "id": "017e176a-67ab-4580-82e3-245bf30cc585",
   "metadata": {},
   "source": [
    "**4.b.1)** Customise the contour plot made in section (4a) to remove the contour lines by running the same call with a new argument set appropriately."
   ]
  },
  {
   "cell_type": "code",
   "execution_count": null,
   "id": "b4509ae8-c96c-4d9d-9b41-83e3828d03b7",
   "metadata": {},
   "outputs": [],
   "source": []
  },
  {
   "cell_type": "markdown",
   "id": "6b403c8c-5991-44b2-89db-660c58f0abdd",
   "metadata": {},
   "source": [
    "**4.b.2)** Customise the contour plot further so, as well as having the contour lines removed as applied above, it is shown using a different colour map to the default colour map, 'viridis'. You can use the link https://ncas-cms.github.io/cf-plot/build/colour_scales.html#colour-scales to explore the different options."
   ]
  },
  {
   "cell_type": "code",
   "execution_count": null,
   "id": "3e4e3a79-9e31-4779-9aa3-7cb8d1832819",
   "metadata": {},
   "outputs": [],
   "source": []
  },
  {
   "cell_type": "markdown",
   "id": "422253a2-28ab-4d6a-8841-d9cdb0ea527c",
   "metadata": {},
   "source": [
    "**4.b.3)** Customise the contour plot further so, as well as having the altered colour map as applied above, it is shown in the 'EuroPP' projection, which has a string identifier of 'EuroPP'. Note this is a special Europe-specific projection so it will focus the plot in on the whole European area without us having specified to change the visualised plot area by subspacing down the X and Y coordinates further or by setting plotting limits using `mapset`. Also add the argument and value `resolution=\"10m\"` to the call to `mapset`, which will increase the resolution of the country borders."
   ]
  },
  {
   "cell_type": "code",
   "execution_count": null,
   "id": "7945c4ee-53ed-4c26-b468-b4cd6b0edc88",
   "metadata": {},
   "outputs": [],
   "source": []
  },
  {
   "cell_type": "markdown",
   "id": "d01534c9-8c56-4f6f-a550-2e86a5749bed",
   "metadata": {},
   "source": [
    "**4.b.4)** Customise the contour plot further so that it focuses in on a smaller region over the Alps, specifically from longitude of 5 to 10 degrees east and from latitude of 45 to 47 degrees. Note, a call to `mapset` will reset any of the previous calls, so you will need to re-apply previous arguments to it that you want to preserve for future plots - don't specify the 'EuroPP' projection again else its special X and Y plot limits will override the ones directly set."
   ]
  },
  {
   "cell_type": "code",
   "execution_count": null,
   "id": "70bf4f42-61de-4255-acbc-9235a36f403e",
   "metadata": {},
   "outputs": [],
   "source": []
  },
  {
   "cell_type": "markdown",
   "id": "6964260d-84fb-41d9-a1b9-a74e85a79c20",
   "metadata": {},
   "source": [
    "### c) Making a vector plot with basic customisation"
   ]
  },
  {
   "cell_type": "markdown",
   "id": "5a7610d7-2654-4759-9083-0ae921546f63",
   "metadata": {},
   "source": [
    "**4.c.1)** Read in the netCDF file `sea_currents.nc` stored in the usual directory, `../ncas_data`, assigning it to a variable `irish_sea_fieldlist` and inspect it with medium detail."
   ]
  },
  {
   "cell_type": "code",
   "execution_count": null,
   "id": "b1ba3732-e318-4e4e-a5e7-8ca17db707b9",
   "metadata": {},
   "outputs": [],
   "source": []
  },
  {
   "cell_type": "markdown",
   "id": "920060c3-46e1-420d-a400-f110e9c08b97",
   "metadata": {},
   "source": [
    "**4.c.2)** Note that the first two fieds represent perpendicular components of the same directional variable for sea water velocity. The first field is the eastward and the second field is the northward, component of this.\n",
    "\n",
    "In order to ensure they are compatible to plot together as vectors, we first need to ensure they are defined on the same gridpoints - in cf-python (from CF Data Model) terminology, we say they need to have the same *domain*. Assign to variable names 'eastward_component_field' and 'northward_component_field' the first and second fields respectively, and inspect them with minimal detail as a first step check to see if there is the same number of axes and points along each upon which the data is defined (there are two code blocks here, one for each field since when you inspect ith minimal detail it will only show if it is the final call in the cell)."
   ]
  },
  {
   "cell_type": "code",
   "execution_count": null,
   "id": "b0946df9-087f-4460-8519-4b2b4dea2d6f",
   "metadata": {},
   "outputs": [],
   "source": []
  },
  {
   "cell_type": "code",
   "execution_count": null,
   "id": "49cd847e-4c92-46d6-9f31-f81b8ec3b4e2",
   "metadata": {},
   "outputs": [],
   "source": []
  },
  {
   "cell_type": "markdown",
   "id": "8018e3d9-685b-4a12-93c3-77f3dfcb035e",
   "metadata": {},
   "source": [
    "**4.c.3)** You should be able to see from the metadata that the two fields are perpendicular components of the same wind field. But, for us to be sure these represent components of the same vector field, we need to check that they are defined at the same grid points - else the components are defined at different location points in space and therefore can't be combined into a single vector. In cf-python we call the locations that the data is representative of the *domain*.\n",
    "\n",
    "We can check whether the two fields have the same domain by taking the `domain` attribute of each field and comparing those using the `equals` method, e.g. `field1.domain.equals(field2.domain)` for fields `field1` and `field2`. Do this for the two fields we defined in the pair of cells above."
   ]
  },
  {
   "cell_type": "code",
   "execution_count": null,
   "id": "33efb918-44f1-46cc-9018-d7775a108382",
   "metadata": {},
   "outputs": [],
   "source": []
  },
  {
   "cell_type": "markdown",
   "id": "b170dab7-7a23-47e9-8dc1-04b448c04ab5",
   "metadata": {},
   "source": [
    "**4.c.4)** We know now that the fields are the same variable, with perpendicular northward and eastward components, with the same domain i.e. defined on the same gridpoints. This means they are compatible vector components and can be plotted together to form a vector plot for the variable in question, the sea water velocity. However, we currently have the time coordinate with more than one point, so we need to reduce both fields down in the correpsonding way to get a particular 2D plot.\n",
    "\n",
    "Let's take the final time point in the series of both of these fields to plot. Subspace both fields down in time to that final time axis point, using indexing - using section (3b) for a reminder about subspacing by index if you need guiance."
   ]
  },
  {
   "cell_type": "code",
   "execution_count": null,
   "id": "f94aaa31-8468-4803-869e-878d542a061e",
   "metadata": {},
   "outputs": [],
   "source": []
  },
  {
   "cell_type": "code",
   "execution_count": null,
   "id": "9c1640c3-2174-472d-994a-b6a3d7c54ae2",
   "metadata": {},
   "outputs": [],
   "source": []
  },
  {
   "cell_type": "markdown",
   "id": "90055498-9f1a-463e-aec1-1cf22cd4b333",
   "metadata": {},
   "source": [
    "**4.c.5)** Make a vector plot using the two subspaced component fields you found and defined in the previous section to form the corresponding vectors. Do not worry about customising it yet, just get a plot working even if the vectors are not optimised for readability, however do run `cfp.mapset(resolution=\"10m\")` before you make the call to make the vector plot to reset the X and Y limits we specified in the previous section.\n",
    "\n",
    "Note that the `u` keyword argument is for eastward vector components and the `v` keyword argument is for northward vector components."
   ]
  },
  {
   "cell_type": "code",
   "execution_count": null,
   "id": "c3249180-3c84-4a96-a8f8-f40340769bc2",
   "metadata": {},
   "outputs": [],
   "source": []
  },
  {
   "cell_type": "markdown",
   "id": "f99f557c-a4dd-42e4-8b7d-5d9bcc1d5ad9",
   "metadata": {},
   "source": [
    "**4.c.6)** Customise the plot you just made, in particular so that the vector lines are legible through adjusting the spacing and size at which they are plotted. This usually takes some trial and error - guess some values for the keyword argument values and increase or decrease them until you find a good balance so the vector lines can be distinguished and clearly interpreted."
   ]
  },
  {
   "cell_type": "code",
   "execution_count": null,
   "id": "783e8212-335b-4276-8014-2be54f95ca4b",
   "metadata": {},
   "outputs": [],
   "source": []
  },
  {
   "cell_type": "markdown",
   "id": "1770da46-57af-485e-b2a0-e0f1ca909489",
   "metadata": {},
   "source": [
    "<div class=\"alert alert-block alert-success\">\n",
    "<i>Practical instructions:</i> this is the end of the section. Please check your work, review the material and then move on to Practical 5 (see the Notebook 'cf_data_tools_practical_05.ipynb').\n",
    "</div>"
   ]
  },
  {
   "cell_type": "markdown",
   "id": "b191c8b2-a038-4601-b046-997a4566c2f6",
   "metadata": {},
   "source": [
    "***"
   ]
  }
 ],
 "metadata": {
  "kernelspec": {
   "display_name": "Python 3 (ipykernel)",
   "language": "python",
   "name": "python3"
  },
  "language_info": {
   "codemirror_mode": {
    "name": "ipython",
    "version": 3
   },
   "file_extension": ".py",
   "mimetype": "text/x-python",
   "name": "python",
   "nbconvert_exporter": "python",
   "pygments_lexer": "ipython3",
   "version": "3.12.0"
  }
 },
 "nbformat": 4,
 "nbformat_minor": 5
}
