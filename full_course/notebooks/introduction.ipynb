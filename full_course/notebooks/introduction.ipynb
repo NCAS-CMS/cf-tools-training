{
 "cells": [
  {
   "cell_type": "markdown",
   "metadata": {},
   "source": [
    "# Introduction to cf-python and cf-plot\n",
    "\n",
    "----\n",
    "\n",
    "## The \"cf\" in cf-python and cf-plot are to indicate that they are underpined by CF (Climate and Forecast) Metadata Conventions:\n",
    "\n",
    "## http://cfconventions.org\n",
    "\n",
    "----\n",
    "\n",
    "## cf-python - The Python cf package implements the CF data model for the reading, writing and processing of data and metadata:\n",
    "\n",
    "## https://ncas-cms.github.io/cf-python\n",
    "\n",
    "----\n",
    "\n",
    "## cf-plot - A set of Python routines for making the common contour, vector and line plots that climate researchers use. can also plot NumPy arrays of data:\n",
    "\n",
    "## http://ajheaps.github.io/cf-plot\n",
    "\n",
    "----"
   ]
  },
  {
   "cell_type": "markdown",
   "metadata": {},
   "source": [
    "# Read, select, write example"
   ]
  },
  {
   "cell_type": "code",
   "execution_count": 6,
   "metadata": {},
   "outputs": [],
   "source": [
    "# Inline images in Ipython Notebook - not needed in a terminal Python session.\n",
    "%matplotlib inline"
   ]
  },
  {
   "cell_type": "code",
   "execution_count": 7,
   "metadata": {},
   "outputs": [],
   "source": [
    "# Import cf-python and cf-plot\n",
    "import cf\n",
    "import cfplot as cfp"
   ]
  },
  {
   "cell_type": "code",
   "execution_count": 8,
   "metadata": {
    "scrolled": true
   },
   "outputs": [],
   "source": [
    "# Read a data file\n",
    "fl = cf.read('ncas_data/data1.nc')"
   ]
  },
  {
   "cell_type": "code",
   "execution_count": 9,
   "metadata": {},
   "outputs": [
    {
     "data": {
      "text/plain": [
       "[<CF Field: long_name=Potential vorticity(time(1), pressure(23), latitude(160), longitude(320)) K m**2 kg**-1 s**-1>,\n",
       " <CF Field: air_temperature(time(1), pressure(23), latitude(160), longitude(320)) K>,\n",
       " <CF Field: eastward_wind(time(1), pressure(23), latitude(160), longitude(320)) m s**-1>,\n",
       " <CF Field: northward_wind(time(1), pressure(23), latitude(160), longitude(320)) m s**-1>]"
      ]
     },
     "execution_count": 9,
     "metadata": {},
     "output_type": "execute_result"
    }
   ],
   "source": [
    "# View the contents of the file\n",
    "fl"
   ]
  },
  {
   "cell_type": "code",
   "execution_count": 10,
   "metadata": {},
   "outputs": [
    {
     "data": {
      "text/plain": [
       "<CF Field: air_temperature(time(1), pressure(23), latitude(160), longitude(320)) K>"
      ]
     },
     "execution_count": 10,
     "metadata": {},
     "output_type": "execute_result"
    }
   ],
   "source": [
    "# Select the air temperature\n",
    "temp = fl.select('air_temperature')[0]\n",
    "temp"
   ]
  },
  {
   "cell_type": "code",
   "execution_count": 11,
   "metadata": {},
   "outputs": [
    {
     "data": {
      "text/plain": [
       "<CF Field: air_temperature(time(1), pressure(23), latitude(160), longitude(320)) K>"
      ]
     },
     "execution_count": 11,
     "metadata": {},
     "output_type": "execute_result"
    }
   ],
   "source": [
    "# Select by index\n",
    "temp = fl[1]\n",
    "temp"
   ]
  },
  {
   "cell_type": "code",
   "execution_count": 12,
   "metadata": {},
   "outputs": [
    {
     "name": "stdout",
     "output_type": "stream",
     "text": [
      "Field: air_temperature (ncvar%T)\n",
      "--------------------------------\n",
      "Data            : air_temperature(time(1), pressure(23), latitude(160), longitude(320)) K\n",
      "Dimension coords: time(1) = [1964-01-21 00:00:00]\n",
      "                : pressure(23) = [1000.0, ..., 1.0] mbar\n",
      "                : latitude(160) = [89.14151763916016, ..., -89.14151763916016] degrees_north\n",
      "                : longitude(320) = [0.0, ..., 358.875] degrees_east\n"
     ]
    }
   ],
   "source": [
    "print(temp)"
   ]
  },
  {
   "cell_type": "code",
   "execution_count": 16,
   "metadata": {},
   "outputs": [],
   "source": [
    "# Select by long_name\n",
    "vorticity = fl.select('long_name=Potential vorticity')[0]"
   ]
  },
  {
   "cell_type": "code",
   "execution_count": 17,
   "metadata": {},
   "outputs": [
    {
     "name": "stdout",
     "output_type": "stream",
     "text": [
      "Field: long_name=Potential vorticity (ncvar%PV)\n",
      "-----------------------------------------------\n",
      "Data            : long_name=Potential vorticity(time(1), pressure(23), latitude(160), longitude(320)) K m**2 kg**-1 s**-1\n",
      "Dimension coords: time(1) = [1964-01-21 00:00:00]\n",
      "                : pressure(23) = [1000.0, ..., 1.0] mbar\n",
      "                : latitude(160) = [89.14151763916016, ..., -89.14151763916016] degrees_north\n",
      "                : longitude(320) = [0.0, ..., 358.875] degrees_east\n"
     ]
    }
   ],
   "source": [
    "# See a longer list of field contents\n",
    "print(vorticity)"
   ]
  },
  {
   "cell_type": "code",
   "execution_count": 18,
   "metadata": {},
   "outputs": [
    {
     "name": "stdout",
     "output_type": "stream",
     "text": [
      "Field: ertel_potential_vorticity (ncvar%PV)\n",
      "-------------------------------------------\n",
      "Data            : ertel_potential_vorticity(time(1), pressure(23), latitude(160), longitude(320)) K m**2 kg**-1 s**-1\n",
      "Dimension coords: time(1) = [1964-01-21 00:00:00]\n",
      "                : pressure(23) = [1000.0, ..., 1.0] mbar\n",
      "                : latitude(160) = [89.14151763916016, ..., -89.14151763916016] degrees_north\n",
      "                : longitude(320) = [0.0, ..., 358.875] degrees_east\n"
     ]
    }
   ],
   "source": [
    "# Set the standard_name of the field\n",
    "vorticity.standard_name = 'ertel_potential_vorticity'\n",
    "\n",
    "# Look at field contents\n",
    "print(vorticity)"
   ]
  },
  {
   "cell_type": "code",
   "execution_count": 19,
   "metadata": {},
   "outputs": [],
   "source": [
    "# Write the modified field to a netCDF file\n",
    "cf.write(vorticity, 'newfile.nc')"
   ]
  },
  {
   "cell_type": "markdown",
   "metadata": {},
   "source": [
    "# Contour plots"
   ]
  },
  {
   "cell_type": "code",
   "execution_count": 20,
   "metadata": {},
   "outputs": [
    {
     "name": "stdout",
     "output_type": "stream",
     "text": [
      "Field: air_temperature (ncvar%T)\n",
      "--------------------------------\n",
      "Data            : air_temperature(time(1), pressure(1), latitude(160), longitude(320)) K\n",
      "Dimension coords: time(1) = [1964-01-21 00:00:00]\n",
      "                : pressure(1) = [500.0] mbar\n",
      "                : latitude(160) = [89.14151763916016, ..., -89.14151763916016] degrees_north\n",
      "                : longitude(320) = [0.0, ..., 358.875] degrees_east\n"
     ]
    }
   ],
   "source": [
    "# Use subspace to select the temperature at 500mb\n",
    "t_500 = temp.subspace(pressure=500)\n",
    "print(t_500)"
   ]
  },
  {
   "cell_type": "code",
   "execution_count": null,
   "metadata": {
    "scrolled": false
   },
   "outputs": [],
   "source": [
    "# Make a contour plot of the data\n",
    "cfp.con(t_500)"
   ]
  },
  {
   "cell_type": "code",
   "execution_count": null,
   "metadata": {
    "scrolled": false
   },
   "outputs": [],
   "source": [
    "# Use mapset to select Europe and make a new contour plot\n",
    "cfp.mapset(lonmin=-30, lonmax=30, latmin=20, latmax=70)\n",
    "cfp.con(t_500)"
   ]
  },
  {
   "cell_type": "code",
   "execution_count": null,
   "metadata": {},
   "outputs": [],
   "source": [
    "# Make a Northern Hemiphere polar stereographic plot\n",
    "cfp.mapset(proj='npstere')\n",
    "cfp.con(t_500)"
   ]
  },
  {
   "cell_type": "code",
   "execution_count": null,
   "metadata": {},
   "outputs": [],
   "source": [
    "# Reset mapping\n",
    "cfp.mapset()"
   ]
  },
  {
   "cell_type": "code",
   "execution_count": null,
   "metadata": {},
   "outputs": [],
   "source": [
    "# Select the zonal wind and make a zonal mean of this using the collapse function in cf-python\n",
    "u = fl.select('eastward_wind')[0]\n",
    "u_mean = u.collapse('longitude: mean')\n",
    "print(u_mean)"
   ]
  },
  {
   "cell_type": "code",
   "execution_count": null,
   "metadata": {},
   "outputs": [],
   "source": [
    "# Make a zonal mean zonal wind plot\n",
    "cfp.con(u_mean)"
   ]
  },
  {
   "cell_type": "code",
   "execution_count": null,
   "metadata": {},
   "outputs": [],
   "source": [
    "# Make a log y-axis plot of the zonal mean zonal wind\n",
    "cfp.con(u_mean, ylog=True)"
   ]
  },
  {
   "cell_type": "markdown",
   "metadata": {
    "collapsed": true
   },
   "source": [
    "# Vector plots"
   ]
  },
  {
   "cell_type": "code",
   "execution_count": null,
   "metadata": {},
   "outputs": [],
   "source": [
    "# Select u and v wind components at 500mb and make a vector plot\n",
    "# We use a stride of 4 in plotting the vectors as the points are close together\n",
    "u = fl.select('eastward_wind')[0].subspace(pressure=500)\n",
    "v = fl.select('northward_wind')[0].subspace(pressure=500)\n",
    "cfp.vect(u=u, v=v, key_length=10, scale=100, stride=4)"
   ]
  },
  {
   "cell_type": "markdown",
   "metadata": {},
   "source": [
    "# Line plots"
   ]
  },
  {
   "cell_type": "code",
   "execution_count": null,
   "metadata": {},
   "outputs": [],
   "source": [
    "# Select the zonal mean zonal wind at 100mb\n",
    "u = fl.select('eastward_wind')[0]\n",
    "u_mean = u.collapse('longitude: mean')\n",
    "u_mean_100 = u_mean.subspace(pressure=100)\n",
    "\n",
    "print(u_mean_100)"
   ]
  },
  {
   "cell_type": "code",
   "execution_count": null,
   "metadata": {},
   "outputs": [],
   "source": [
    "cfp.lineplot(u_mean_100, marker='o', color='blue', title='Zonal mean zonal wind at 100mb')"
   ]
  },
  {
   "cell_type": "markdown",
   "metadata": {},
   "source": [
    "# Regridding\n",
    "Regrid some temperature longitude-latitude data to another grid and make a plot of the difference between the two datsets."
   ]
  },
  {
   "cell_type": "code",
   "execution_count": null,
   "metadata": {},
   "outputs": [],
   "source": [
    "# Read in data on two different grids\n",
    "temp_era40 = cf.read('ncas_data/data2.nc')[0]\n",
    "temp_era_in = cf.read('ncas_data/data3.nc')[0]\n",
    "\n",
    "print(temp_era40)\n",
    "print(temp_era_in)"
   ]
  },
  {
   "cell_type": "code",
   "execution_count": null,
   "metadata": {},
   "outputs": [],
   "source": [
    "# Perform the regridding\n",
    "temp_regrid = temp_era_in.regrids(temp_era40, method='bilinear')"
   ]
  },
  {
   "cell_type": "code",
   "execution_count": null,
   "metadata": {},
   "outputs": [],
   "source": [
    "# Make a contour plot of the difference between the two datasets\n",
    "cfp.con(temp_regrid - temp_era40, lines=False, title='era_interim - era40 difference')"
   ]
  },
  {
   "cell_type": "markdown",
   "metadata": {},
   "source": [
    "## cf-plot gallery: http://ajheaps.github.io/cf-plot/gallery.html"
   ]
  },
  {
   "cell_type": "markdown",
   "metadata": {},
   "source": [
    "## cf-python functionality: https://ncas-cms.github.io/cf-python\n",
    "\n",
    "* ### read field constructs from netCDF, CDL, PP and UM datasets,\n",
    "\n",
    "* ### create new field constructs in memory,\n",
    "\n",
    "* ### inspect field constructs,\n",
    "\n",
    "* ### test whether two field constructs are the same,\n",
    "\n",
    "* ### modify field construct metadata and data,\n",
    "\n",
    "* ### create subspaces of field constructs,\n",
    "\n",
    "* ### write field constructs to netCDF datasets on disk,\n",
    "\n",
    "* ### incorporate, and create, metadata stored in external files,\n",
    "\n",
    "* ### read, write, and create data that have been compressed by convention (i.e. ragged or gathered arrays), whilst presenting a view of the data in its uncompressed form,\n",
    "\n",
    "* ### read, write, and create coordinates defined by geometry cells,\n",
    "\n",
    "* ### read netCDF and CDL datasets containing hierarchical groups,\n",
    "\n",
    "* ### combine field constructs arithmetically,\n",
    "\n",
    "* ### manipulate field construct data by arithmetical and trigonometrical operations,\n",
    "\n",
    "* ### perform statistical collapses on field constructs,\n",
    "\n",
    "* ### perform histogram, percentile and binning operations on field constructs,\n",
    "\n",
    "* ### regrid field constructs with (multi-)linear, nearest neighbour, first- and second-order conservative and higher order patch recovery methods,\n",
    "\n",
    "* ### apply convolution filters to field constructs,\n",
    "\n",
    "* ### create moving means from field constructs,\n",
    "\n",
    "* ### calculate derivatives of field constructs,\n",
    "\n",
    "* ### create field constructs to create derived quantities (such as vorticity)."
   ]
  }
 ],
 "metadata": {
  "anaconda-cloud": {},
  "kernelspec": {
   "display_name": "Python 3 (ipykernel)",
   "language": "python",
   "name": "python3"
  },
  "language_info": {
   "codemirror_mode": {
    "name": "ipython",
    "version": 3
   },
   "file_extension": ".py",
   "mimetype": "text/x-python",
   "name": "python",
   "nbconvert_exporter": "python",
   "pygments_lexer": "ipython3",
   "version": "3.9.15"
  }
 },
 "nbformat": 4,
 "nbformat_minor": 1
}
