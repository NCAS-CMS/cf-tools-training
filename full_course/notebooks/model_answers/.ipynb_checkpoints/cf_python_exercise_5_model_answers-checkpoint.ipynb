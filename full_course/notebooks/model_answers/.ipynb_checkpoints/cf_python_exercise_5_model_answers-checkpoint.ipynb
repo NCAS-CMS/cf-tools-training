{
 "cells": [
  {
   "cell_type": "markdown",
   "metadata": {},
   "source": [
    "# cf-python exercises 5\n",
    "----\n",
    "\n",
    "## Grouped collapses and climatological time collapses\n",
    "https://ncas-cms.github.io/cf-python/analysis.html#grouped-collapses\n",
    "\n",
    "https://ncas-cms.github.io/cf-python/analysis.html#climatological-statistics"
   ]
  },
  {
   "cell_type": "code",
   "execution_count": null,
   "metadata": {},
   "outputs": [],
   "source": [
    "# import the cf package\n",
    "import cf"
   ]
  },
  {
   "cell_type": "code",
   "execution_count": null,
   "metadata": {},
   "outputs": [],
   "source": [
    "# Read the field from file ncas_data/IPSL-CM5A-LR_r1i1p1_tas_n96_rcp45_mnth.nc\n",
    "# This contains a monthly timeseries from 1959-12-01 to 1969-12-01\n",
    "f = cf.read('ncas_data/IPSL-CM5A-LR_r1i1p1_tas_n96_rcp45_mnth.nc')[0]\n",
    "f"
   ]
  },
  {
   "cell_type": "markdown",
   "metadata": {},
   "source": [
    "https://ncas-cms.github.io/cf-python/function/cf.seasons.html"
   ]
  },
  {
   "cell_type": "code",
   "execution_count": null,
   "metadata": {},
   "outputs": [],
   "source": [
    "# Create a timeseries of seasonal (DJF, MAM, JJA, SON) means\n",
    "# (set \"group=cf.seasons()\" as a parameter of the collapse method)\n",
    "g = f.collapse('T: mean', group=cf.seasons())\n",
    "print(g)\n",
    "print(g.coordinate('T').bounds.datetime_array[0:2])"
   ]
  },
  {
   "cell_type": "code",
   "execution_count": null,
   "metadata": {},
   "outputs": [],
   "source": [
    "# Create a timeseries of seasonal (JFMA, MJJA, SOND) means\n",
    "# (use the \"n\" and \"start\" parameters of the cf.seasons function)\n",
    "g = f.collapse('T: mean', group=cf.seasons(n=3, start=1))\n",
    "print(g)\n",
    "print(g.coordinate('T').bounds.datetime_array[0:2])"
   ]
  },
  {
   "cell_type": "code",
   "execution_count": null,
   "metadata": {},
   "outputs": [],
   "source": [
    "# Create a timeseries similar to that of the previous cell\n",
    "# (i.e. of seasonal (JFMA, MJJA, SOND) means), but which now\n",
    "# excludes averaging periods of less that 4 months\n",
    "# (set \"group_span=cf.M(4)\" as a parameter of the collapse method)\n",
    "g = f.collapse('T: mean', group=cf.seasons(n=3, start=1), group_span=cf.M(4))\n",
    "print(g)\n",
    "print(g.coordinate('T').bounds.dtarray[0:2])"
   ]
  },
  {
   "cell_type": "code",
   "execution_count": null,
   "metadata": {},
   "outputs": [],
   "source": [
    "# Find the multiannual average of the seasonal (DJF, MAM, JJA, SON) minima and\n",
    "# plot the result for JJA \n",
    "# (use the special argument 'T: minimum within years T: mean over years' to\n",
    "# the field's \"collapse\" method.\n",
    "# This also requires the \"within_years\" parameter to define over which periods\n",
    "# to take the minima within each year. Set this parameter to cf.seasons(), which\n",
    "# will specify the four seasons of DJF, MAM, JJA, SON)\n",
    "g = f.collapse('T: minimum within years T: mean over years', within_years=cf.seasons())\n",
    "print(g)\n",
    "\n",
    "%matplotlib inline\n",
    "import cfplot as cfp\n",
    "\n",
    "cfp.con(g.subspace(T=cf.month(cf.wi(6, 8))), title='JJA 1960 to 1969')"
   ]
  },
  {
   "cell_type": "code",
   "execution_count": null,
   "metadata": {},
   "outputs": [],
   "source": [
    "# Print the values of the time coordiantes and the time coordinate bounds.\n",
    "# Note that the bounds span the full 10 years,\n",
    "# but the coordinate values themselves lie in the season of the first year\n",
    "print(g.coordinate('T').datetime_array)\n",
    "print()\n",
    "print(g.coordinate('T').bounds.datetime_array)"
   ]
  }
 ],
 "metadata": {
  "anaconda-cloud": {},
  "kernelspec": {
   "display_name": "Python 3",
   "language": "python",
   "name": "python3"
  },
  "language_info": {
   "codemirror_mode": {
    "name": "ipython",
    "version": 3
   },
   "file_extension": ".py",
   "mimetype": "text/x-python",
   "name": "python",
   "nbconvert_exporter": "python",
   "pygments_lexer": "ipython3",
   "version": "3.7.4"
  }
 },
 "nbformat": 4,
 "nbformat_minor": 2
}
